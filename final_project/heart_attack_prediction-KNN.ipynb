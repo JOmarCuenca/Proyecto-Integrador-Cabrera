{
 "cells": [
  {
   "cell_type": "code",
   "execution_count": 1,
   "id": "d1ccc7c7",
   "metadata": {
    "colab": {
     "background_save": true
    },
    "executionInfo": {
     "elapsed": 194,
     "status": "ok",
     "timestamp": 1637439380565,
     "user": {
      "displayName": "Alberto Dávila Almaguer",
      "photoUrl": "https://lh3.googleusercontent.com/a/default-user=s64",
      "userId": "13077365919315327856"
     },
     "user_tz": 360
    },
    "id": "f1660e48"
   },
   "outputs": [],
   "source": [
    "# Importing libraries\n",
    "import matplotlib.pyplot as plt\n",
    "import numpy as np\n",
    "import pandas as pd\n",
    "from scipy import stats\n",
    "import seaborn as sns\n",
    "from sklearn.preprocessing import StandardScaler\n",
    "from sklearn.model_selection import train_test_split\n",
    "from sklearn.neighbors import KNeighborsClassifier\n",
    "from sklearn.model_selection import GridSearchCV\n",
    "\n",
    "from sklearn.metrics import confusion_matrix, accuracy_score, roc_curve, auc, RocCurveDisplay\n",
    "\n",
    "%matplotlib inline"
   ]
  },
  {
   "cell_type": "code",
   "execution_count": 2,
   "id": "0383d953",
   "metadata": {
    "executionInfo": {
     "elapsed": 175,
     "status": "ok",
     "timestamp": 1637439381984,
     "user": {
      "displayName": "Alberto Dávila Almaguer",
      "photoUrl": "https://lh3.googleusercontent.com/a/default-user=s64",
      "userId": "13077365919315327856"
     },
     "user_tz": 360
    },
    "id": "75f7f7ce"
   },
   "outputs": [],
   "source": [
    "# Importing data\n",
    "data = pd.read_csv('Heart Attack Data Set.csv')\n",
    "index_dropped_rows=[]"
   ]
  },
  {
   "cell_type": "code",
   "execution_count": 3,
   "id": "1da6f476",
   "metadata": {
    "colab": {
     "base_uri": "https://localhost:8080/",
     "height": 534
    },
    "executionInfo": {
     "elapsed": 21,
     "status": "ok",
     "timestamp": 1637439381986,
     "user": {
      "displayName": "Alberto Dávila Almaguer",
      "photoUrl": "https://lh3.googleusercontent.com/a/default-user=s64",
      "userId": "13077365919315327856"
     },
     "user_tz": 360
    },
    "id": "f461fac9",
    "outputId": "b03ec34e-3871-431c-f56c-461527bdf0d5"
   },
   "outputs": [
    {
     "data": {
      "text/html": [
       "<div>\n",
       "<style scoped>\n",
       "    .dataframe tbody tr th:only-of-type {\n",
       "        vertical-align: middle;\n",
       "    }\n",
       "\n",
       "    .dataframe tbody tr th {\n",
       "        vertical-align: top;\n",
       "    }\n",
       "\n",
       "    .dataframe thead th {\n",
       "        text-align: right;\n",
       "    }\n",
       "</style>\n",
       "<table border=\"1\" class=\"dataframe\">\n",
       "  <thead>\n",
       "    <tr style=\"text-align: right;\">\n",
       "      <th></th>\n",
       "      <th>age</th>\n",
       "      <th>sex</th>\n",
       "      <th>cp</th>\n",
       "      <th>trestbps</th>\n",
       "      <th>chol</th>\n",
       "      <th>fbs</th>\n",
       "      <th>restecg</th>\n",
       "      <th>thalach</th>\n",
       "      <th>exang</th>\n",
       "      <th>oldpeak</th>\n",
       "      <th>slope</th>\n",
       "      <th>ca</th>\n",
       "      <th>thal</th>\n",
       "      <th>target</th>\n",
       "    </tr>\n",
       "  </thead>\n",
       "  <tbody>\n",
       "    <tr>\n",
       "      <th>0</th>\n",
       "      <td>63</td>\n",
       "      <td>1</td>\n",
       "      <td>3</td>\n",
       "      <td>145</td>\n",
       "      <td>233</td>\n",
       "      <td>1</td>\n",
       "      <td>0</td>\n",
       "      <td>150</td>\n",
       "      <td>0</td>\n",
       "      <td>2.3</td>\n",
       "      <td>0</td>\n",
       "      <td>0</td>\n",
       "      <td>1</td>\n",
       "      <td>1</td>\n",
       "    </tr>\n",
       "    <tr>\n",
       "      <th>1</th>\n",
       "      <td>37</td>\n",
       "      <td>1</td>\n",
       "      <td>2</td>\n",
       "      <td>130</td>\n",
       "      <td>250</td>\n",
       "      <td>0</td>\n",
       "      <td>1</td>\n",
       "      <td>187</td>\n",
       "      <td>0</td>\n",
       "      <td>3.5</td>\n",
       "      <td>0</td>\n",
       "      <td>0</td>\n",
       "      <td>2</td>\n",
       "      <td>1</td>\n",
       "    </tr>\n",
       "    <tr>\n",
       "      <th>2</th>\n",
       "      <td>41</td>\n",
       "      <td>0</td>\n",
       "      <td>1</td>\n",
       "      <td>130</td>\n",
       "      <td>204</td>\n",
       "      <td>0</td>\n",
       "      <td>0</td>\n",
       "      <td>172</td>\n",
       "      <td>0</td>\n",
       "      <td>1.4</td>\n",
       "      <td>2</td>\n",
       "      <td>0</td>\n",
       "      <td>2</td>\n",
       "      <td>1</td>\n",
       "    </tr>\n",
       "    <tr>\n",
       "      <th>3</th>\n",
       "      <td>56</td>\n",
       "      <td>1</td>\n",
       "      <td>1</td>\n",
       "      <td>120</td>\n",
       "      <td>236</td>\n",
       "      <td>0</td>\n",
       "      <td>1</td>\n",
       "      <td>178</td>\n",
       "      <td>0</td>\n",
       "      <td>0.8</td>\n",
       "      <td>2</td>\n",
       "      <td>0</td>\n",
       "      <td>2</td>\n",
       "      <td>1</td>\n",
       "    </tr>\n",
       "    <tr>\n",
       "      <th>4</th>\n",
       "      <td>57</td>\n",
       "      <td>0</td>\n",
       "      <td>0</td>\n",
       "      <td>120</td>\n",
       "      <td>354</td>\n",
       "      <td>0</td>\n",
       "      <td>1</td>\n",
       "      <td>163</td>\n",
       "      <td>1</td>\n",
       "      <td>0.6</td>\n",
       "      <td>2</td>\n",
       "      <td>0</td>\n",
       "      <td>2</td>\n",
       "      <td>1</td>\n",
       "    </tr>\n",
       "    <tr>\n",
       "      <th>...</th>\n",
       "      <td>...</td>\n",
       "      <td>...</td>\n",
       "      <td>...</td>\n",
       "      <td>...</td>\n",
       "      <td>...</td>\n",
       "      <td>...</td>\n",
       "      <td>...</td>\n",
       "      <td>...</td>\n",
       "      <td>...</td>\n",
       "      <td>...</td>\n",
       "      <td>...</td>\n",
       "      <td>...</td>\n",
       "      <td>...</td>\n",
       "      <td>...</td>\n",
       "    </tr>\n",
       "    <tr>\n",
       "      <th>298</th>\n",
       "      <td>57</td>\n",
       "      <td>0</td>\n",
       "      <td>0</td>\n",
       "      <td>140</td>\n",
       "      <td>241</td>\n",
       "      <td>0</td>\n",
       "      <td>1</td>\n",
       "      <td>123</td>\n",
       "      <td>1</td>\n",
       "      <td>0.2</td>\n",
       "      <td>1</td>\n",
       "      <td>0</td>\n",
       "      <td>3</td>\n",
       "      <td>0</td>\n",
       "    </tr>\n",
       "    <tr>\n",
       "      <th>299</th>\n",
       "      <td>45</td>\n",
       "      <td>1</td>\n",
       "      <td>3</td>\n",
       "      <td>110</td>\n",
       "      <td>264</td>\n",
       "      <td>0</td>\n",
       "      <td>1</td>\n",
       "      <td>132</td>\n",
       "      <td>0</td>\n",
       "      <td>1.2</td>\n",
       "      <td>1</td>\n",
       "      <td>0</td>\n",
       "      <td>3</td>\n",
       "      <td>0</td>\n",
       "    </tr>\n",
       "    <tr>\n",
       "      <th>300</th>\n",
       "      <td>68</td>\n",
       "      <td>1</td>\n",
       "      <td>0</td>\n",
       "      <td>144</td>\n",
       "      <td>193</td>\n",
       "      <td>1</td>\n",
       "      <td>1</td>\n",
       "      <td>141</td>\n",
       "      <td>0</td>\n",
       "      <td>3.4</td>\n",
       "      <td>1</td>\n",
       "      <td>2</td>\n",
       "      <td>3</td>\n",
       "      <td>0</td>\n",
       "    </tr>\n",
       "    <tr>\n",
       "      <th>301</th>\n",
       "      <td>57</td>\n",
       "      <td>1</td>\n",
       "      <td>0</td>\n",
       "      <td>130</td>\n",
       "      <td>131</td>\n",
       "      <td>0</td>\n",
       "      <td>1</td>\n",
       "      <td>115</td>\n",
       "      <td>1</td>\n",
       "      <td>1.2</td>\n",
       "      <td>1</td>\n",
       "      <td>1</td>\n",
       "      <td>3</td>\n",
       "      <td>0</td>\n",
       "    </tr>\n",
       "    <tr>\n",
       "      <th>302</th>\n",
       "      <td>57</td>\n",
       "      <td>0</td>\n",
       "      <td>1</td>\n",
       "      <td>130</td>\n",
       "      <td>236</td>\n",
       "      <td>0</td>\n",
       "      <td>0</td>\n",
       "      <td>174</td>\n",
       "      <td>0</td>\n",
       "      <td>0.0</td>\n",
       "      <td>1</td>\n",
       "      <td>1</td>\n",
       "      <td>2</td>\n",
       "      <td>0</td>\n",
       "    </tr>\n",
       "  </tbody>\n",
       "</table>\n",
       "<p>303 rows × 14 columns</p>\n",
       "</div>"
      ],
      "text/plain": [
       "     age  sex  cp  trestbps  chol  fbs  restecg  thalach  exang  oldpeak  \\\n",
       "0     63    1   3       145   233    1        0      150      0      2.3   \n",
       "1     37    1   2       130   250    0        1      187      0      3.5   \n",
       "2     41    0   1       130   204    0        0      172      0      1.4   \n",
       "3     56    1   1       120   236    0        1      178      0      0.8   \n",
       "4     57    0   0       120   354    0        1      163      1      0.6   \n",
       "..   ...  ...  ..       ...   ...  ...      ...      ...    ...      ...   \n",
       "298   57    0   0       140   241    0        1      123      1      0.2   \n",
       "299   45    1   3       110   264    0        1      132      0      1.2   \n",
       "300   68    1   0       144   193    1        1      141      0      3.4   \n",
       "301   57    1   0       130   131    0        1      115      1      1.2   \n",
       "302   57    0   1       130   236    0        0      174      0      0.0   \n",
       "\n",
       "     slope  ca  thal  target  \n",
       "0        0   0     1       1  \n",
       "1        0   0     2       1  \n",
       "2        2   0     2       1  \n",
       "3        2   0     2       1  \n",
       "4        2   0     2       1  \n",
       "..     ...  ..   ...     ...  \n",
       "298      1   0     3       0  \n",
       "299      1   0     3       0  \n",
       "300      1   2     3       0  \n",
       "301      1   1     3       0  \n",
       "302      1   1     2       0  \n",
       "\n",
       "[303 rows x 14 columns]"
      ]
     },
     "metadata": {},
     "output_type": "display_data"
    }
   ],
   "source": [
    "display(data)"
   ]
  },
  {
   "cell_type": "code",
   "execution_count": 4,
   "id": "9b4f19fd",
   "metadata": {
    "colab": {
     "base_uri": "https://localhost:8080/"
    },
    "executionInfo": {
     "elapsed": 18,
     "status": "ok",
     "timestamp": 1637439381986,
     "user": {
      "displayName": "Alberto Dávila Almaguer",
      "photoUrl": "https://lh3.googleusercontent.com/a/default-user=s64",
      "userId": "13077365919315327856"
     },
     "user_tz": 360
    },
    "id": "473c0e30",
    "outputId": "1e24ba09-8a5e-4a6b-d4e8-c0dc897ee3a3"
   },
   "outputs": [
    {
     "name": "stdout",
     "output_type": "stream",
     "text": [
      "<class 'pandas.core.frame.DataFrame'>\n",
      "RangeIndex: 303 entries, 0 to 302\n",
      "Data columns (total 14 columns):\n",
      " #   Column    Non-Null Count  Dtype  \n",
      "---  ------    --------------  -----  \n",
      " 0   age       303 non-null    int64  \n",
      " 1   sex       303 non-null    int64  \n",
      " 2   cp        303 non-null    int64  \n",
      " 3   trestbps  303 non-null    int64  \n",
      " 4   chol      303 non-null    int64  \n",
      " 5   fbs       303 non-null    int64  \n",
      " 6   restecg   303 non-null    int64  \n",
      " 7   thalach   303 non-null    int64  \n",
      " 8   exang     303 non-null    int64  \n",
      " 9   oldpeak   303 non-null    float64\n",
      " 10  slope     303 non-null    int64  \n",
      " 11  ca        303 non-null    int64  \n",
      " 12  thal      303 non-null    int64  \n",
      " 13  target    303 non-null    int64  \n",
      "dtypes: float64(1), int64(13)\n",
      "memory usage: 33.3 KB\n"
     ]
    }
   ],
   "source": [
    "data.info()"
   ]
  },
  {
   "cell_type": "markdown",
   "id": "733f7c50",
   "metadata": {
    "id": "b9575d20"
   },
   "source": [
    "# Análisis de Datos"
   ]
  },
  {
   "cell_type": "markdown",
   "id": "9a96890d",
   "metadata": {
    "id": "2441e18d"
   },
   "source": [
    "## Sex"
   ]
  },
  {
   "cell_type": "code",
   "execution_count": 5,
   "id": "95df50f7",
   "metadata": {
    "colab": {
     "base_uri": "https://localhost:8080/",
     "height": 280
    },
    "executionInfo": {
     "elapsed": 124,
     "status": "ok",
     "timestamp": 1637439382103,
     "user": {
      "displayName": "Alberto Dávila Almaguer",
      "photoUrl": "https://lh3.googleusercontent.com/a/default-user=s64",
      "userId": "13077365919315327856"
     },
     "user_tz": 360
    },
    "id": "bfa856c4",
    "outputId": "67acd7b7-d776-476c-9840-f9593626b5aa"
   },
   "outputs": [
    {
     "data": {
      "image/png": "[encoded data removed]",
      "text/plain": [
       "<Figure size 432x288 with 1 Axes>"
      ]
     },
     "metadata": {
      "needs_background": "light"
     },
     "output_type": "display_data"
    }
   ],
   "source": [
    "sns.countplot(data=data,x='sex')\n",
    "plt.show()"
   ]
  },
  {
   "cell_type": "code",
   "execution_count": 6,
   "id": "7cbc4bab",
   "metadata": {
    "colab": {
     "base_uri": "https://localhost:8080/",
     "height": 302
    },
    "executionInfo": {
     "elapsed": 760,
     "status": "ok",
     "timestamp": 1637439382859,
     "user": {
      "displayName": "Alberto Dávila Almaguer",
      "photoUrl": "https://lh3.googleusercontent.com/a/default-user=s64",
      "userId": "13077365919315327856"
     },
     "user_tz": 360
    },
    "id": "be131472",
    "outputId": "c21cda69-eb3d-4e4e-d4c7-b414eeaf6398"
   },
   "outputs": [
    {
     "data": {
      "text/plain": [
       "<AxesSubplot:xlabel='sex', ylabel='count'>"
      ]
     },
     "execution_count": 6,
     "metadata": {},
     "output_type": "execute_result"
    },
    {
     "data": {
      "image/png": "[encoded data removed]",
      "text/plain": [
       "<Figure size 432x288 with 1 Axes>"
      ]
     },
     "metadata": {
      "needs_background": "light"
     },
     "output_type": "display_data"
    }
   ],
   "source": [
    "sns.countplot(data=data,x='sex',hue='target')"
   ]
  },
  {
   "cell_type": "markdown",
   "id": "ba16522e",
   "metadata": {
    "id": "616d4c20"
   },
   "source": [
    "## Age"
   ]
  },
  {
   "cell_type": "code",
   "execution_count": 7,
   "id": "f326195a",
   "metadata": {
    "colab": {
     "base_uri": "https://localhost:8080/",
     "height": 816
    },
    "executionInfo": {
     "elapsed": 199,
     "status": "ok",
     "timestamp": 1637439383053,
     "user": {
      "displayName": "Alberto Dávila Almaguer",
      "photoUrl": "https://lh3.googleusercontent.com/a/default-user=s64",
      "userId": "13077365919315327856"
     },
     "user_tz": 360
    },
    "id": "e15d1545",
    "outputId": "53520078-24ab-4301-8a98-07bb641e0d48"
   },
   "outputs": [
    {
     "data": {
      "text/plain": [
       "<AxesSubplot:xlabel='target', ylabel='age'>"
      ]
     },
     "execution_count": 7,
     "metadata": {},
     "output_type": "execute_result"
    },
    {
     "data": {
      "image/png": "[encoded data removed]",
      "text/plain": [
       "<Figure size 360x360 with 1 Axes>"
      ]
     },
     "metadata": {
      "needs_background": "light"
     },
     "output_type": "display_data"
    },
    {
     "data": {
      "image/png": "[encoded data removed]",
      "text/plain": [
       "<Figure size 1080x504 with 1 Axes>"
      ]
     },
     "metadata": {
      "needs_background": "light"
     },
     "output_type": "display_data"
    }
   ],
   "source": [
    "data['age'].nunique()\n",
    "sns.displot(data['age'])\n",
    "plt.figure(figsize=(15,7))\n",
    "sns.boxplot(data=data,x='target',y='age')"
   ]
  },
  {
   "cell_type": "markdown",
   "id": "007fbf69",
   "metadata": {
    "id": "ce10d62a"
   },
   "source": [
    "## Chest Pain type \n",
    "1: typical angina (all criteria present)\n",
    "2: atypical angina (two of three criteria satisfied)  \n",
    "3: non-anginal pain (less than one criteria satisfied) \n",
    "4: asymptomatic (none of the criteria are satisfied)"
   ]
  },
  {
   "cell_type": "code",
   "execution_count": 8,
   "id": "3336015b",
   "metadata": {
    "colab": {
     "base_uri": "https://localhost:8080/",
     "height": 302
    },
    "executionInfo": {
     "elapsed": 239,
     "status": "ok",
     "timestamp": 1637439383279,
     "user": {
      "displayName": "Alberto Dávila Almaguer",
      "photoUrl": "https://lh3.googleusercontent.com/a/default-user=s64",
      "userId": "13077365919315327856"
     },
     "user_tz": 360
    },
    "id": "f026f988",
    "outputId": "3029fa8c-c383-4151-a3f5-ad7c61e16e9e"
   },
   "outputs": [
    {
     "data": {
      "text/plain": [
       "<AxesSubplot:xlabel='cp', ylabel='count'>"
      ]
     },
     "execution_count": 8,
     "metadata": {},
     "output_type": "execute_result"
    },
    {
     "data": {
      "image/png": "[encoded data removed]",
      "text/plain": [
       "<Figure size 432x288 with 1 Axes>"
      ]
     },
     "metadata": {
      "needs_background": "light"
     },
     "output_type": "display_data"
    }
   ],
   "source": [
    "sns.countplot(data=data,x='cp',hue='target')"
   ]
  },
  {
   "cell_type": "markdown",
   "id": "e9150cf0",
   "metadata": {
    "id": "d05c9093"
   },
   "source": [
    "## Resting Blood pressure \n",
    "(in mmHg, upon admission to the hospital)"
   ]
  },
  {
   "cell_type": "code",
   "execution_count": 9,
   "id": "fd877abb",
   "metadata": {
    "colab": {
     "base_uri": "https://localhost:8080/",
     "height": 816
    },
    "executionInfo": {
     "elapsed": 561,
     "status": "ok",
     "timestamp": 1637439383837,
     "user": {
      "displayName": "Alberto Dávila Almaguer",
      "photoUrl": "https://lh3.googleusercontent.com/a/default-user=s64",
      "userId": "13077365919315327856"
     },
     "user_tz": 360
    },
    "id": "a6ed6b5f",
    "outputId": "8d54f246-b4ef-4ea0-efe7-6b84d020a92e"
   },
   "outputs": [
    {
     "name": "stdout",
     "output_type": "stream",
     "text": [
      "2\n"
     ]
    },
    {
     "data": {
      "image/png": "[encoded data removed]",
      "text/plain": [
       "<Figure size 360x360 with 1 Axes>"
      ]
     },
     "metadata": {
      "needs_background": "light"
     },
     "output_type": "display_data"
    },
    {
     "data": {
      "image/png": "[encoded data removed]",
      "text/plain": [
       "<Figure size 1080x504 with 1 Axes>"
      ]
     },
     "metadata": {
      "needs_background": "light"
     },
     "output_type": "display_data"
    }
   ],
   "source": [
    "data['trestbps'].nunique()\n",
    "sns.displot(data['trestbps'])\n",
    "plt.figure(figsize=(15,7))\n",
    "sns.boxplot(data=data,x='target',y='trestbps')\n",
    "\n",
    "\n",
    "print(len(data[data['trestbps']>180]))"
   ]
  },
  {
   "cell_type": "code",
   "execution_count": 10,
   "id": "5aff528d",
   "metadata": {
    "colab": {
     "base_uri": "https://localhost:8080/",
     "height": 140
    },
    "executionInfo": {
     "elapsed": 20,
     "status": "ok",
     "timestamp": 1637439383838,
     "user": {
      "displayName": "Alberto Dávila Almaguer",
      "photoUrl": "https://lh3.googleusercontent.com/a/default-user=s64",
      "userId": "13077365919315327856"
     },
     "user_tz": 360
    },
    "id": "YlokK8fu1qTO",
    "outputId": "03b87927-cc04-4501-b5a0-68692a01caee"
   },
   "outputs": [
    {
     "data": {
      "text/html": [
       "<div>\n",
       "<style scoped>\n",
       "    .dataframe tbody tr th:only-of-type {\n",
       "        vertical-align: middle;\n",
       "    }\n",
       "\n",
       "    .dataframe tbody tr th {\n",
       "        vertical-align: top;\n",
       "    }\n",
       "\n",
       "    .dataframe thead th {\n",
       "        text-align: right;\n",
       "    }\n",
       "</style>\n",
       "<table border=\"1\" class=\"dataframe\">\n",
       "  <thead>\n",
       "    <tr style=\"text-align: right;\">\n",
       "      <th></th>\n",
       "      <th>age</th>\n",
       "      <th>sex</th>\n",
       "      <th>cp</th>\n",
       "      <th>trestbps</th>\n",
       "      <th>chol</th>\n",
       "      <th>fbs</th>\n",
       "      <th>restecg</th>\n",
       "      <th>thalach</th>\n",
       "      <th>exang</th>\n",
       "      <th>oldpeak</th>\n",
       "      <th>slope</th>\n",
       "      <th>ca</th>\n",
       "      <th>thal</th>\n",
       "      <th>target</th>\n",
       "    </tr>\n",
       "  </thead>\n",
       "  <tbody>\n",
       "    <tr>\n",
       "      <th>223</th>\n",
       "      <td>56</td>\n",
       "      <td>0</td>\n",
       "      <td>0</td>\n",
       "      <td>200</td>\n",
       "      <td>288</td>\n",
       "      <td>1</td>\n",
       "      <td>0</td>\n",
       "      <td>133</td>\n",
       "      <td>1</td>\n",
       "      <td>4.0</td>\n",
       "      <td>0</td>\n",
       "      <td>2</td>\n",
       "      <td>3</td>\n",
       "      <td>0</td>\n",
       "    </tr>\n",
       "    <tr>\n",
       "      <th>248</th>\n",
       "      <td>54</td>\n",
       "      <td>1</td>\n",
       "      <td>1</td>\n",
       "      <td>192</td>\n",
       "      <td>283</td>\n",
       "      <td>0</td>\n",
       "      <td>0</td>\n",
       "      <td>195</td>\n",
       "      <td>0</td>\n",
       "      <td>0.0</td>\n",
       "      <td>2</td>\n",
       "      <td>1</td>\n",
       "      <td>3</td>\n",
       "      <td>0</td>\n",
       "    </tr>\n",
       "  </tbody>\n",
       "</table>\n",
       "</div>"
      ],
      "text/plain": [
       "     age  sex  cp  trestbps  chol  fbs  restecg  thalach  exang  oldpeak  \\\n",
       "223   56    0   0       200   288    1        0      133      1      4.0   \n",
       "248   54    1   1       192   283    0        0      195      0      0.0   \n",
       "\n",
       "     slope  ca  thal  target  \n",
       "223      0   2     3       0  \n",
       "248      2   1     3       0  "
      ]
     },
     "execution_count": 10,
     "metadata": {},
     "output_type": "execute_result"
    }
   ],
   "source": [
    "data[data['trestbps']>180]"
   ]
  },
  {
   "cell_type": "code",
   "execution_count": 11,
   "id": "2329df85",
   "metadata": {
    "colab": {
     "base_uri": "https://localhost:8080/"
    },
    "executionInfo": {
     "elapsed": 18,
     "status": "ok",
     "timestamp": 1637439383839,
     "user": {
      "displayName": "Alberto Dávila Almaguer",
      "photoUrl": "https://lh3.googleusercontent.com/a/default-user=s64",
      "userId": "13077365919315327856"
     },
     "user_tz": 360
    },
    "id": "UM8e3M1AxZWh",
    "outputId": "eae489b6-71b4-4013-f1a0-2d81b22f4c3e"
   },
   "outputs": [
    {
     "data": {
      "text/plain": [
       "[223, 248]"
      ]
     },
     "execution_count": 11,
     "metadata": {},
     "output_type": "execute_result"
    }
   ],
   "source": [
    "remove_data=data.index[data['trestbps']>180].tolist()\n",
    "index_dropped_rows.extend(remove_data)\n",
    "index_dropped_rows"
   ]
  },
  {
   "cell_type": "markdown",
   "id": "da2e78c4",
   "metadata": {
    "id": "7303ef8c"
   },
   "source": [
    "## Cholesterol\n",
    "Serum cholesterol in mg/dL"
   ]
  },
  {
   "cell_type": "code",
   "execution_count": 12,
   "id": "52bfbbe8",
   "metadata": {
    "colab": {
     "base_uri": "https://localhost:8080/",
     "height": 816
    },
    "executionInfo": {
     "elapsed": 593,
     "status": "ok",
     "timestamp": 1637439384424,
     "user": {
      "displayName": "Alberto Dávila Almaguer",
      "photoUrl": "https://lh3.googleusercontent.com/a/default-user=s64",
      "userId": "13077365919315327856"
     },
     "user_tz": 360
    },
    "id": "db00c120",
    "outputId": "98ff0c32-2065-43c1-c9d2-79f0bb243abf"
   },
   "outputs": [
    {
     "data": {
      "text/plain": [
       "<AxesSubplot:xlabel='target', ylabel='chol'>"
      ]
     },
     "execution_count": 12,
     "metadata": {},
     "output_type": "execute_result"
    },
    {
     "data": {
      "image/png": "[encoded data removed]",
      "text/plain": [
       "<Figure size 360x360 with 1 Axes>"
      ]
     },
     "metadata": {
      "needs_background": "light"
     },
     "output_type": "display_data"
    },
    {
     "data": {
      "image/png": "[encoded data removed]",
      "text/plain": [
       "<Figure size 1080x504 with 1 Axes>"
      ]
     },
     "metadata": {
      "needs_background": "light"
     },
     "output_type": "display_data"
    }
   ],
   "source": [
    "data['chol'].nunique()\n",
    "sns.displot(data['chol'])\n",
    "plt.figure(figsize=(15,7))\n",
    "sns.boxplot(data=data,x='target',y='chol')"
   ]
  },
  {
   "cell_type": "code",
   "execution_count": 13,
   "id": "a727b43c",
   "metadata": {
    "colab": {
     "base_uri": "https://localhost:8080/",
     "height": 100
    },
    "executionInfo": {
     "elapsed": 20,
     "status": "ok",
     "timestamp": 1637439384426,
     "user": {
      "displayName": "Alberto Dávila Almaguer",
      "photoUrl": "https://lh3.googleusercontent.com/a/default-user=s64",
      "userId": "13077365919315327856"
     },
     "user_tz": 360
    },
    "id": "AfuBwpJy1k37",
    "outputId": "25f41629-c159-48a4-b786-6d2e8485e060"
   },
   "outputs": [
    {
     "data": {
      "text/html": [
       "<div>\n",
       "<style scoped>\n",
       "    .dataframe tbody tr th:only-of-type {\n",
       "        vertical-align: middle;\n",
       "    }\n",
       "\n",
       "    .dataframe tbody tr th {\n",
       "        vertical-align: top;\n",
       "    }\n",
       "\n",
       "    .dataframe thead th {\n",
       "        text-align: right;\n",
       "    }\n",
       "</style>\n",
       "<table border=\"1\" class=\"dataframe\">\n",
       "  <thead>\n",
       "    <tr style=\"text-align: right;\">\n",
       "      <th></th>\n",
       "      <th>age</th>\n",
       "      <th>sex</th>\n",
       "      <th>cp</th>\n",
       "      <th>trestbps</th>\n",
       "      <th>chol</th>\n",
       "      <th>fbs</th>\n",
       "      <th>restecg</th>\n",
       "      <th>thalach</th>\n",
       "      <th>exang</th>\n",
       "      <th>oldpeak</th>\n",
       "      <th>slope</th>\n",
       "      <th>ca</th>\n",
       "      <th>thal</th>\n",
       "      <th>target</th>\n",
       "    </tr>\n",
       "  </thead>\n",
       "  <tbody>\n",
       "    <tr>\n",
       "      <th>85</th>\n",
       "      <td>67</td>\n",
       "      <td>0</td>\n",
       "      <td>2</td>\n",
       "      <td>115</td>\n",
       "      <td>564</td>\n",
       "      <td>0</td>\n",
       "      <td>0</td>\n",
       "      <td>160</td>\n",
       "      <td>0</td>\n",
       "      <td>1.6</td>\n",
       "      <td>1</td>\n",
       "      <td>0</td>\n",
       "      <td>3</td>\n",
       "      <td>1</td>\n",
       "    </tr>\n",
       "  </tbody>\n",
       "</table>\n",
       "</div>"
      ],
      "text/plain": [
       "    age  sex  cp  trestbps  chol  fbs  restecg  thalach  exang  oldpeak  \\\n",
       "85   67    0   2       115   564    0        0      160      0      1.6   \n",
       "\n",
       "    slope  ca  thal  target  \n",
       "85      1   0     3       1  "
      ]
     },
     "execution_count": 13,
     "metadata": {},
     "output_type": "execute_result"
    }
   ],
   "source": [
    "data[data['chol']>500]"
   ]
  },
  {
   "cell_type": "code",
   "execution_count": 14,
   "id": "93dc3aa1",
   "metadata": {
    "executionInfo": {
     "elapsed": 18,
     "status": "ok",
     "timestamp": 1637439384427,
     "user": {
      "displayName": "Alberto Dávila Almaguer",
      "photoUrl": "https://lh3.googleusercontent.com/a/default-user=s64",
      "userId": "13077365919315327856"
     },
     "user_tz": 360
    },
    "id": "uUMFZkwyvCWn"
   },
   "outputs": [],
   "source": [
    "remove_data=data.index[data['chol']>500].tolist()\n",
    "for i in remove_data:\n",
    "  index_dropped_rows.append(i)"
   ]
  },
  {
   "cell_type": "markdown",
   "id": "f0792f16",
   "metadata": {
    "id": "7fdee61d"
   },
   "source": [
    "## Fasting Blood Sugar \n",
    "Above 120 mg/dL (likely to be diabetic) \n",
    "1 = true; 0 = false"
   ]
  },
  {
   "cell_type": "code",
   "execution_count": 15,
   "id": "457868a9",
   "metadata": {
    "colab": {
     "base_uri": "https://localhost:8080/",
     "height": 302
    },
    "executionInfo": {
     "elapsed": 189,
     "status": "ok",
     "timestamp": 1637439384599,
     "user": {
      "displayName": "Alberto Dávila Almaguer",
      "photoUrl": "https://lh3.googleusercontent.com/a/default-user=s64",
      "userId": "13077365919315327856"
     },
     "user_tz": 360
    },
    "id": "383f8682",
    "outputId": "a6b100e3-36b0-4467-b4a0-352b4d590ca8"
   },
   "outputs": [
    {
     "data": {
      "text/plain": [
       "<AxesSubplot:xlabel='fbs', ylabel='count'>"
      ]
     },
     "execution_count": 15,
     "metadata": {},
     "output_type": "execute_result"
    },
    {
     "data": {
      "image/png": "[encoded data removed]",
      "text/plain": [
       "<Figure size 432x288 with 1 Axes>"
      ]
     },
     "metadata": {
      "needs_background": "light"
     },
     "output_type": "display_data"
    }
   ],
   "source": [
    "sns.countplot(data=data,x='fbs',hue='target')"
   ]
  },
  {
   "cell_type": "markdown",
   "id": "9547617c",
   "metadata": {
    "id": "9c4e1810"
   },
   "source": [
    "## RestECG\n",
    "Resting electrocardiogram results -- \n",
    "Value 0: normal\n",
    "Value 1: having ST-T wave abnormality (T wave inversions and/or ST elevation or depression of > 0.05 mV)\n",
    "Value 2: showing probable or definite left ventricular hypertrophy by Estes' criteria "
   ]
  },
  {
   "cell_type": "code",
   "execution_count": 16,
   "id": "63be258e",
   "metadata": {
    "colab": {
     "base_uri": "https://localhost:8080/",
     "height": 304
    },
    "executionInfo": {
     "elapsed": 271,
     "status": "ok",
     "timestamp": 1637439384859,
     "user": {
      "displayName": "Alberto Dávila Almaguer",
      "photoUrl": "https://lh3.googleusercontent.com/a/default-user=s64",
      "userId": "13077365919315327856"
     },
     "user_tz": 360
    },
    "id": "811bc47d",
    "outputId": "e66a1ec5-87b8-4455-a28c-a1ad265ac8f9"
   },
   "outputs": [
    {
     "data": {
      "text/plain": [
       "<AxesSubplot:xlabel='restecg', ylabel='count'>"
      ]
     },
     "execution_count": 16,
     "metadata": {},
     "output_type": "execute_result"
    },
    {
     "data": {
      "image/png": "[encoded data removed]",
      "text/plain": [
       "<Figure size 432x288 with 1 Axes>"
      ]
     },
     "metadata": {
      "needs_background": "light"
     },
     "output_type": "display_data"
    }
   ],
   "source": [
    "sns.countplot(data=data,x='restecg',hue='target')"
   ]
  },
  {
   "cell_type": "markdown",
   "id": "a89c1f59",
   "metadata": {
    "id": "077919c1"
   },
   "source": [
    "## MaxHR \n",
    "Greatest number of beats per minute your heart can possibly reach during all-out strenuous exercise. "
   ]
  },
  {
   "cell_type": "code",
   "execution_count": 17,
   "id": "82410d1b",
   "metadata": {
    "colab": {
     "base_uri": "https://localhost:8080/",
     "height": 816
    },
    "executionInfo": {
     "elapsed": 596,
     "status": "ok",
     "timestamp": 1637439385451,
     "user": {
      "displayName": "Alberto Dávila Almaguer",
      "photoUrl": "https://lh3.googleusercontent.com/a/default-user=s64",
      "userId": "13077365919315327856"
     },
     "user_tz": 360
    },
    "id": "326d68c5",
    "outputId": "893eaec5-6d5a-41a7-fe52-8addb0d4ce9e"
   },
   "outputs": [
    {
     "data": {
      "text/plain": [
       "<AxesSubplot:xlabel='target', ylabel='thalach'>"
      ]
     },
     "execution_count": 17,
     "metadata": {},
     "output_type": "execute_result"
    },
    {
     "data": {
      "image/png": "[encoded data removed]",
      "text/plain": [
       "<Figure size 360x360 with 1 Axes>"
      ]
     },
     "metadata": {
      "needs_background": "light"
     },
     "output_type": "display_data"
    },
    {
     "data": {
      "image/png": "[encoded data removed]",
      "text/plain": [
       "<Figure size 1080x504 with 1 Axes>"
      ]
     },
     "metadata": {
      "needs_background": "light"
     },
     "output_type": "display_data"
    }
   ],
   "source": [
    "data['thalach'].nunique()\n",
    "sns.displot(data['thalach'])\n",
    "plt.figure(figsize=(15,7))\n",
    "sns.boxplot(data=data,x='target',y='thalach')"
   ]
  },
  {
   "cell_type": "code",
   "execution_count": 18,
   "id": "8ad55130",
   "metadata": {
    "colab": {
     "base_uri": "https://localhost:8080/",
     "height": 100
    },
    "executionInfo": {
     "elapsed": 20,
     "status": "ok",
     "timestamp": 1637439385452,
     "user": {
      "displayName": "Alberto Dávila Almaguer",
      "photoUrl": "https://lh3.googleusercontent.com/a/default-user=s64",
      "userId": "13077365919315327856"
     },
     "user_tz": 360
    },
    "id": "pV4YXrGG1TNx",
    "outputId": "b1e424e3-3eb3-4f3f-8b40-66325ccde0ce"
   },
   "outputs": [
    {
     "data": {
      "text/html": [
       "<div>\n",
       "<style scoped>\n",
       "    .dataframe tbody tr th:only-of-type {\n",
       "        vertical-align: middle;\n",
       "    }\n",
       "\n",
       "    .dataframe tbody tr th {\n",
       "        vertical-align: top;\n",
       "    }\n",
       "\n",
       "    .dataframe thead th {\n",
       "        text-align: right;\n",
       "    }\n",
       "</style>\n",
       "<table border=\"1\" class=\"dataframe\">\n",
       "  <thead>\n",
       "    <tr style=\"text-align: right;\">\n",
       "      <th></th>\n",
       "      <th>age</th>\n",
       "      <th>sex</th>\n",
       "      <th>cp</th>\n",
       "      <th>trestbps</th>\n",
       "      <th>chol</th>\n",
       "      <th>fbs</th>\n",
       "      <th>restecg</th>\n",
       "      <th>thalach</th>\n",
       "      <th>exang</th>\n",
       "      <th>oldpeak</th>\n",
       "      <th>slope</th>\n",
       "      <th>ca</th>\n",
       "      <th>thal</th>\n",
       "      <th>target</th>\n",
       "    </tr>\n",
       "  </thead>\n",
       "  <tbody>\n",
       "    <tr>\n",
       "      <th>272</th>\n",
       "      <td>67</td>\n",
       "      <td>1</td>\n",
       "      <td>0</td>\n",
       "      <td>120</td>\n",
       "      <td>237</td>\n",
       "      <td>0</td>\n",
       "      <td>1</td>\n",
       "      <td>71</td>\n",
       "      <td>0</td>\n",
       "      <td>1.0</td>\n",
       "      <td>1</td>\n",
       "      <td>0</td>\n",
       "      <td>2</td>\n",
       "      <td>0</td>\n",
       "    </tr>\n",
       "  </tbody>\n",
       "</table>\n",
       "</div>"
      ],
      "text/plain": [
       "     age  sex  cp  trestbps  chol  fbs  restecg  thalach  exang  oldpeak  \\\n",
       "272   67    1   0       120   237    0        1       71      0      1.0   \n",
       "\n",
       "     slope  ca  thal  target  \n",
       "272      1   0     2       0  "
      ]
     },
     "execution_count": 18,
     "metadata": {},
     "output_type": "execute_result"
    }
   ],
   "source": [
    "data[data['thalach']<80]"
   ]
  },
  {
   "cell_type": "code",
   "execution_count": 19,
   "id": "e34cdd54",
   "metadata": {
    "colab": {
     "base_uri": "https://localhost:8080/"
    },
    "executionInfo": {
     "elapsed": 18,
     "status": "ok",
     "timestamp": 1637439385453,
     "user": {
      "displayName": "Alberto Dávila Almaguer",
      "photoUrl": "https://lh3.googleusercontent.com/a/default-user=s64",
      "userId": "13077365919315327856"
     },
     "user_tz": 360
    },
    "id": "oD2Uw_oe1Ntr",
    "outputId": "19f3f1bc-f7e6-438a-acaf-f1d5b9c05e93"
   },
   "outputs": [
    {
     "data": {
      "text/plain": [
       "[223, 248, 85, 272]"
      ]
     },
     "execution_count": 19,
     "metadata": {},
     "output_type": "execute_result"
    }
   ],
   "source": [
    "remove_data=data.index[data['thalach']<80].tolist()\n",
    "index_dropped_rows.extend(remove_data)\n",
    "index_dropped_rows"
   ]
  },
  {
   "cell_type": "markdown",
   "id": "572a831b",
   "metadata": {
    "id": "bf5c7672"
   },
   "source": [
    "## Exang: exercise induced angina \n",
    "(1 = yes; 0 = no)  "
   ]
  },
  {
   "cell_type": "code",
   "execution_count": 20,
   "id": "0593aa4c",
   "metadata": {
    "colab": {
     "base_uri": "https://localhost:8080/",
     "height": 302
    },
    "executionInfo": {
     "elapsed": 367,
     "status": "ok",
     "timestamp": 1637439385813,
     "user": {
      "displayName": "Alberto Dávila Almaguer",
      "photoUrl": "https://lh3.googleusercontent.com/a/default-user=s64",
      "userId": "13077365919315327856"
     },
     "user_tz": 360
    },
    "id": "ac740eb4",
    "outputId": "eb0550db-4d2d-4c1a-ef80-ea058926f1fe"
   },
   "outputs": [
    {
     "data": {
      "text/plain": [
       "<AxesSubplot:xlabel='exang', ylabel='count'>"
      ]
     },
     "execution_count": 20,
     "metadata": {},
     "output_type": "execute_result"
    },
    {
     "data": {
      "image/png": "[encoded data removed]",
      "text/plain": [
       "<Figure size 432x288 with 1 Axes>"
      ]
     },
     "metadata": {
      "needs_background": "light"
     },
     "output_type": "display_data"
    }
   ],
   "source": [
    "sns.countplot(data=data,x='exang',hue='target')"
   ]
  },
  {
   "cell_type": "markdown",
   "id": "a8f84222",
   "metadata": {
    "id": "832d90b7"
   },
   "source": [
    "## Oldpeak\n",
    "ST depression induced by exercise relative to rest (in mm, achieved by subtracting the lowest ST segment points during exercise and rest)"
   ]
  },
  {
   "cell_type": "code",
   "execution_count": 21,
   "id": "fbd8e4f5",
   "metadata": {
    "colab": {
     "base_uri": "https://localhost:8080/",
     "height": 816
    },
    "executionInfo": {
     "elapsed": 464,
     "status": "ok",
     "timestamp": 1637439386273,
     "user": {
      "displayName": "Alberto Dávila Almaguer",
      "photoUrl": "https://lh3.googleusercontent.com/a/default-user=s64",
      "userId": "13077365919315327856"
     },
     "user_tz": 360
    },
    "id": "428b1e0d",
    "outputId": "38b319ed-058e-4c14-f03c-976e779ac448"
   },
   "outputs": [
    {
     "data": {
      "text/plain": [
       "<AxesSubplot:xlabel='target', ylabel='oldpeak'>"
      ]
     },
     "execution_count": 21,
     "metadata": {},
     "output_type": "execute_result"
    },
    {
     "data": {
      "image/png": "[encoded data removed]",
      "text/plain": [
       "<Figure size 360x360 with 1 Axes>"
      ]
     },
     "metadata": {
      "needs_background": "light"
     },
     "output_type": "display_data"
    },
    {
     "data": {
      "image/png": "[encoded data removed]",
      "text/plain": [
       "<Figure size 1080x504 with 1 Axes>"
      ]
     },
     "metadata": {
      "needs_background": "light"
     },
     "output_type": "display_data"
    }
   ],
   "source": [
    "data['oldpeak'].nunique()\n",
    "sns.displot(data['oldpeak'])\n",
    "plt.figure(figsize=(15,7))\n",
    "sns.boxplot(data=data,x='target',y='oldpeak')"
   ]
  },
  {
   "cell_type": "code",
   "execution_count": 22,
   "id": "973ca1bd",
   "metadata": {
    "colab": {
     "base_uri": "https://localhost:8080/",
     "height": 140
    },
    "executionInfo": {
     "elapsed": 27,
     "status": "ok",
     "timestamp": 1637439386421,
     "user": {
      "displayName": "Alberto Dávila Almaguer",
      "photoUrl": "https://lh3.googleusercontent.com/a/default-user=s64",
      "userId": "13077365919315327856"
     },
     "user_tz": 360
    },
    "id": "pc7z-L3h0tFr",
    "outputId": "9141e005-0218-419e-975a-4e8df40d7a66"
   },
   "outputs": [
    {
     "data": {
      "text/html": [
       "<div>\n",
       "<style scoped>\n",
       "    .dataframe tbody tr th:only-of-type {\n",
       "        vertical-align: middle;\n",
       "    }\n",
       "\n",
       "    .dataframe tbody tr th {\n",
       "        vertical-align: top;\n",
       "    }\n",
       "\n",
       "    .dataframe thead th {\n",
       "        text-align: right;\n",
       "    }\n",
       "</style>\n",
       "<table border=\"1\" class=\"dataframe\">\n",
       "  <thead>\n",
       "    <tr style=\"text-align: right;\">\n",
       "      <th></th>\n",
       "      <th>age</th>\n",
       "      <th>sex</th>\n",
       "      <th>cp</th>\n",
       "      <th>trestbps</th>\n",
       "      <th>chol</th>\n",
       "      <th>fbs</th>\n",
       "      <th>restecg</th>\n",
       "      <th>thalach</th>\n",
       "      <th>exang</th>\n",
       "      <th>oldpeak</th>\n",
       "      <th>slope</th>\n",
       "      <th>ca</th>\n",
       "      <th>thal</th>\n",
       "      <th>target</th>\n",
       "    </tr>\n",
       "  </thead>\n",
       "  <tbody>\n",
       "    <tr>\n",
       "      <th>204</th>\n",
       "      <td>62</td>\n",
       "      <td>0</td>\n",
       "      <td>0</td>\n",
       "      <td>160</td>\n",
       "      <td>164</td>\n",
       "      <td>0</td>\n",
       "      <td>0</td>\n",
       "      <td>145</td>\n",
       "      <td>0</td>\n",
       "      <td>6.2</td>\n",
       "      <td>0</td>\n",
       "      <td>3</td>\n",
       "      <td>3</td>\n",
       "      <td>0</td>\n",
       "    </tr>\n",
       "    <tr>\n",
       "      <th>221</th>\n",
       "      <td>55</td>\n",
       "      <td>1</td>\n",
       "      <td>0</td>\n",
       "      <td>140</td>\n",
       "      <td>217</td>\n",
       "      <td>0</td>\n",
       "      <td>1</td>\n",
       "      <td>111</td>\n",
       "      <td>1</td>\n",
       "      <td>5.6</td>\n",
       "      <td>0</td>\n",
       "      <td>0</td>\n",
       "      <td>3</td>\n",
       "      <td>0</td>\n",
       "    </tr>\n",
       "  </tbody>\n",
       "</table>\n",
       "</div>"
      ],
      "text/plain": [
       "     age  sex  cp  trestbps  chol  fbs  restecg  thalach  exang  oldpeak  \\\n",
       "204   62    0   0       160   164    0        0      145      0      6.2   \n",
       "221   55    1   0       140   217    0        1      111      1      5.6   \n",
       "\n",
       "     slope  ca  thal  target  \n",
       "204      0   3     3       0  \n",
       "221      0   0     3       0  "
      ]
     },
     "execution_count": 22,
     "metadata": {},
     "output_type": "execute_result"
    }
   ],
   "source": [
    "data[data['oldpeak']>5]"
   ]
  },
  {
   "cell_type": "code",
   "execution_count": 23,
   "id": "ca31613d",
   "metadata": {
    "colab": {
     "base_uri": "https://localhost:8080/"
    },
    "executionInfo": {
     "elapsed": 24,
     "status": "ok",
     "timestamp": 1637439386422,
     "user": {
      "displayName": "Alberto Dávila Almaguer",
      "photoUrl": "https://lh3.googleusercontent.com/a/default-user=s64",
      "userId": "13077365919315327856"
     },
     "user_tz": 360
    },
    "id": "IFdR6o4Y0mlT",
    "outputId": "8e22ecf1-4ff5-4b6e-c4b3-a9c001088c4b"
   },
   "outputs": [
    {
     "data": {
      "text/plain": [
       "[223, 248, 85, 272, 204, 221]"
      ]
     },
     "execution_count": 23,
     "metadata": {},
     "output_type": "execute_result"
    }
   ],
   "source": [
    "remove_data=data.index[data['oldpeak']>5].tolist()\n",
    "index_dropped_rows.extend(remove_data)\n",
    "index_dropped_rows"
   ]
  },
  {
   "cell_type": "markdown",
   "id": "cf92b4dd",
   "metadata": {
    "id": "7b407daf"
   },
   "source": [
    "## Slope\n",
    "The slope of the peak exercise ST segment, ST-T abnormalities are considered to be a crucial indicator for identifying presence of ischaemia \n",
    "Value 1: upsloping \n",
    "Value 2: flat \n",
    "Value 3: downsloping "
   ]
  },
  {
   "cell_type": "code",
   "execution_count": 24,
   "id": "17b0ff9a",
   "metadata": {
    "colab": {
     "base_uri": "https://localhost:8080/",
     "height": 302
    },
    "executionInfo": {
     "elapsed": 191,
     "status": "ok",
     "timestamp": 1637439386598,
     "user": {
      "displayName": "Alberto Dávila Almaguer",
      "photoUrl": "https://lh3.googleusercontent.com/a/default-user=s64",
      "userId": "13077365919315327856"
     },
     "user_tz": 360
    },
    "id": "0a4e8579",
    "outputId": "6a5b111f-bf8d-48fa-b932-1f37aecfc28a"
   },
   "outputs": [
    {
     "data": {
      "text/plain": [
       "<AxesSubplot:xlabel='slope', ylabel='count'>"
      ]
     },
     "execution_count": 24,
     "metadata": {},
     "output_type": "execute_result"
    },
    {
     "data": {
      "image/png": "[encoded data removed]",
      "text/plain": [
       "<Figure size 432x288 with 1 Axes>"
      ]
     },
     "metadata": {
      "needs_background": "light"
     },
     "output_type": "display_data"
    }
   ],
   "source": [
    "sns.countplot(data=data,x='slope',hue='target')"
   ]
  },
  {
   "cell_type": "markdown",
   "id": "c6fdebdd",
   "metadata": {
    "id": "0755b955"
   },
   "source": [
    "## Ca: number of major vessels (0-3) colored by fluoroscopy.\n",
    "Major cardial vessels are as goes: aorta, superior vena cava, inferior vena cava, pulmonary artery (oxygen-poor blood --> lungs), pulmonary veins (oxygen-rich blood --> heart), and coronary arteries (supplies blood to heart tissue)."
   ]
  },
  {
   "cell_type": "code",
   "execution_count": 25,
   "id": "e423fca5",
   "metadata": {
    "colab": {
     "base_uri": "https://localhost:8080/",
     "height": 302
    },
    "executionInfo": {
     "elapsed": 172,
     "status": "ok",
     "timestamp": 1637439386758,
     "user": {
      "displayName": "Alberto Dávila Almaguer",
      "photoUrl": "https://lh3.googleusercontent.com/a/default-user=s64",
      "userId": "13077365919315327856"
     },
     "user_tz": 360
    },
    "id": "d2e474d0",
    "outputId": "448a0e22-9314-418b-8626-02b6cd55d0d8"
   },
   "outputs": [
    {
     "data": {
      "text/plain": [
       "<AxesSubplot:xlabel='ca', ylabel='count'>"
      ]
     },
     "execution_count": 25,
     "metadata": {},
     "output_type": "execute_result"
    },
    {
     "data": {
      "image/png": "[encoded data removed]",
      "text/plain": [
       "<Figure size 432x288 with 1 Axes>"
      ]
     },
     "metadata": {
      "needs_background": "light"
     },
     "output_type": "display_data"
    }
   ],
   "source": [
    "sns.countplot(data=data,x='ca',hue='target')"
   ]
  },
  {
   "cell_type": "markdown",
   "id": "4b2f3e4d",
   "metadata": {
    "id": "0797c573"
   },
   "source": [
    "## AHD:\n",
    "0 = normal; 1 = fixed defect (heart tissue can't absorb thallium both under stress and in rest); 2 = reversible defect (heart tissue is unable to absorb thallium only under the exercise portion of the test) "
   ]
  },
  {
   "cell_type": "code",
   "execution_count": 26,
   "id": "92cc92d0",
   "metadata": {
    "colab": {
     "base_uri": "https://localhost:8080/",
     "height": 302
    },
    "executionInfo": {
     "elapsed": 283,
     "status": "ok",
     "timestamp": 1637439387028,
     "user": {
      "displayName": "Alberto Dávila Almaguer",
      "photoUrl": "https://lh3.googleusercontent.com/a/default-user=s64",
      "userId": "13077365919315327856"
     },
     "user_tz": 360
    },
    "id": "54694a51",
    "outputId": "a56d12c6-7921-4f6c-e502-ed76a1acf707"
   },
   "outputs": [
    {
     "data": {
      "text/plain": [
       "<AxesSubplot:xlabel='thal', ylabel='count'>"
      ]
     },
     "execution_count": 26,
     "metadata": {},
     "output_type": "execute_result"
    },
    {
     "data": {
      "image/png": "[encoded data removed]",
      "text/plain": [
       "<Figure size 432x288 with 1 Axes>"
      ]
     },
     "metadata": {
      "needs_background": "light"
     },
     "output_type": "display_data"
    }
   ],
   "source": [
    "sns.countplot(data=data,x='thal',hue='target')"
   ]
  },
  {
   "cell_type": "markdown",
   "id": "82480ac7",
   "metadata": {
    "id": "bd5926da"
   },
   "source": [
    "# Heatmap"
   ]
  },
  {
   "cell_type": "code",
   "execution_count": 27,
   "id": "d5a47d0d",
   "metadata": {
    "colab": {
     "base_uri": "https://localhost:8080/",
     "height": 596
    },
    "executionInfo": {
     "elapsed": 1292,
     "status": "ok",
     "timestamp": 1637439388315,
     "user": {
      "displayName": "Alberto Dávila Almaguer",
      "photoUrl": "https://lh3.googleusercontent.com/a/default-user=s64",
      "userId": "13077365919315327856"
     },
     "user_tz": 360
    },
    "id": "3be2b69d",
    "outputId": "313ddb6e-bbe4-45e6-ab17-a9ff85651d00"
   },
   "outputs": [
    {
     "data": {
      "image/png": "[encoded data removed]",
      "text/plain": [
       "<Figure size 1080x720 with 2 Axes>"
      ]
     },
     "metadata": {
      "needs_background": "light"
     },
     "output_type": "display_data"
    }
   ],
   "source": [
    "plt.figure(figsize=(15,10))\n",
    "sns.heatmap(data.corr(),annot=True,fmt='.2')\n",
    "plt.show()"
   ]
  },
  {
   "cell_type": "code",
   "execution_count": 28,
   "id": "b944672f",
   "metadata": {
    "colab": {
     "base_uri": "https://localhost:8080/",
     "height": 534
    },
    "executionInfo": {
     "elapsed": 30,
     "status": "ok",
     "timestamp": 1637439388316,
     "user": {
      "displayName": "Alberto Dávila Almaguer",
      "photoUrl": "https://lh3.googleusercontent.com/a/default-user=s64",
      "userId": "13077365919315327856"
     },
     "user_tz": 360
    },
    "id": "60e3a419",
    "outputId": "336641af-3cc9-433b-ce24-ec968ab402c5"
   },
   "outputs": [
    {
     "data": {
      "text/html": [
       "<div>\n",
       "<style scoped>\n",
       "    .dataframe tbody tr th:only-of-type {\n",
       "        vertical-align: middle;\n",
       "    }\n",
       "\n",
       "    .dataframe tbody tr th {\n",
       "        vertical-align: top;\n",
       "    }\n",
       "\n",
       "    .dataframe thead th {\n",
       "        text-align: right;\n",
       "    }\n",
       "</style>\n",
       "<table border=\"1\" class=\"dataframe\">\n",
       "  <thead>\n",
       "    <tr style=\"text-align: right;\">\n",
       "      <th></th>\n",
       "      <th>age</th>\n",
       "      <th>sex</th>\n",
       "      <th>cp</th>\n",
       "      <th>trestbps</th>\n",
       "      <th>chol</th>\n",
       "      <th>fbs</th>\n",
       "      <th>restecg</th>\n",
       "      <th>thalach</th>\n",
       "      <th>exang</th>\n",
       "      <th>oldpeak</th>\n",
       "      <th>slope</th>\n",
       "      <th>ca</th>\n",
       "      <th>thal</th>\n",
       "      <th>target</th>\n",
       "    </tr>\n",
       "  </thead>\n",
       "  <tbody>\n",
       "    <tr>\n",
       "      <th>0</th>\n",
       "      <td>63</td>\n",
       "      <td>1</td>\n",
       "      <td>3</td>\n",
       "      <td>145</td>\n",
       "      <td>233</td>\n",
       "      <td>1</td>\n",
       "      <td>0</td>\n",
       "      <td>150</td>\n",
       "      <td>0</td>\n",
       "      <td>2.3</td>\n",
       "      <td>0</td>\n",
       "      <td>0</td>\n",
       "      <td>1</td>\n",
       "      <td>1</td>\n",
       "    </tr>\n",
       "    <tr>\n",
       "      <th>1</th>\n",
       "      <td>37</td>\n",
       "      <td>1</td>\n",
       "      <td>2</td>\n",
       "      <td>130</td>\n",
       "      <td>250</td>\n",
       "      <td>0</td>\n",
       "      <td>1</td>\n",
       "      <td>187</td>\n",
       "      <td>0</td>\n",
       "      <td>3.5</td>\n",
       "      <td>0</td>\n",
       "      <td>0</td>\n",
       "      <td>2</td>\n",
       "      <td>1</td>\n",
       "    </tr>\n",
       "    <tr>\n",
       "      <th>2</th>\n",
       "      <td>41</td>\n",
       "      <td>0</td>\n",
       "      <td>1</td>\n",
       "      <td>130</td>\n",
       "      <td>204</td>\n",
       "      <td>0</td>\n",
       "      <td>0</td>\n",
       "      <td>172</td>\n",
       "      <td>0</td>\n",
       "      <td>1.4</td>\n",
       "      <td>2</td>\n",
       "      <td>0</td>\n",
       "      <td>2</td>\n",
       "      <td>1</td>\n",
       "    </tr>\n",
       "    <tr>\n",
       "      <th>3</th>\n",
       "      <td>56</td>\n",
       "      <td>1</td>\n",
       "      <td>1</td>\n",
       "      <td>120</td>\n",
       "      <td>236</td>\n",
       "      <td>0</td>\n",
       "      <td>1</td>\n",
       "      <td>178</td>\n",
       "      <td>0</td>\n",
       "      <td>0.8</td>\n",
       "      <td>2</td>\n",
       "      <td>0</td>\n",
       "      <td>2</td>\n",
       "      <td>1</td>\n",
       "    </tr>\n",
       "    <tr>\n",
       "      <th>4</th>\n",
       "      <td>57</td>\n",
       "      <td>0</td>\n",
       "      <td>0</td>\n",
       "      <td>120</td>\n",
       "      <td>354</td>\n",
       "      <td>0</td>\n",
       "      <td>1</td>\n",
       "      <td>163</td>\n",
       "      <td>1</td>\n",
       "      <td>0.6</td>\n",
       "      <td>2</td>\n",
       "      <td>0</td>\n",
       "      <td>2</td>\n",
       "      <td>1</td>\n",
       "    </tr>\n",
       "    <tr>\n",
       "      <th>5</th>\n",
       "      <td>57</td>\n",
       "      <td>1</td>\n",
       "      <td>0</td>\n",
       "      <td>140</td>\n",
       "      <td>192</td>\n",
       "      <td>0</td>\n",
       "      <td>1</td>\n",
       "      <td>148</td>\n",
       "      <td>0</td>\n",
       "      <td>0.4</td>\n",
       "      <td>1</td>\n",
       "      <td>0</td>\n",
       "      <td>1</td>\n",
       "      <td>1</td>\n",
       "    </tr>\n",
       "    <tr>\n",
       "      <th>6</th>\n",
       "      <td>56</td>\n",
       "      <td>0</td>\n",
       "      <td>1</td>\n",
       "      <td>140</td>\n",
       "      <td>294</td>\n",
       "      <td>0</td>\n",
       "      <td>0</td>\n",
       "      <td>153</td>\n",
       "      <td>0</td>\n",
       "      <td>1.3</td>\n",
       "      <td>1</td>\n",
       "      <td>0</td>\n",
       "      <td>2</td>\n",
       "      <td>1</td>\n",
       "    </tr>\n",
       "    <tr>\n",
       "      <th>7</th>\n",
       "      <td>44</td>\n",
       "      <td>1</td>\n",
       "      <td>1</td>\n",
       "      <td>120</td>\n",
       "      <td>263</td>\n",
       "      <td>0</td>\n",
       "      <td>1</td>\n",
       "      <td>173</td>\n",
       "      <td>0</td>\n",
       "      <td>0.0</td>\n",
       "      <td>2</td>\n",
       "      <td>0</td>\n",
       "      <td>3</td>\n",
       "      <td>1</td>\n",
       "    </tr>\n",
       "    <tr>\n",
       "      <th>8</th>\n",
       "      <td>52</td>\n",
       "      <td>1</td>\n",
       "      <td>2</td>\n",
       "      <td>172</td>\n",
       "      <td>199</td>\n",
       "      <td>1</td>\n",
       "      <td>1</td>\n",
       "      <td>162</td>\n",
       "      <td>0</td>\n",
       "      <td>0.5</td>\n",
       "      <td>2</td>\n",
       "      <td>0</td>\n",
       "      <td>3</td>\n",
       "      <td>1</td>\n",
       "    </tr>\n",
       "    <tr>\n",
       "      <th>9</th>\n",
       "      <td>57</td>\n",
       "      <td>1</td>\n",
       "      <td>2</td>\n",
       "      <td>150</td>\n",
       "      <td>168</td>\n",
       "      <td>0</td>\n",
       "      <td>1</td>\n",
       "      <td>174</td>\n",
       "      <td>0</td>\n",
       "      <td>1.6</td>\n",
       "      <td>2</td>\n",
       "      <td>0</td>\n",
       "      <td>2</td>\n",
       "      <td>1</td>\n",
       "    </tr>\n",
       "    <tr>\n",
       "      <th>10</th>\n",
       "      <td>54</td>\n",
       "      <td>1</td>\n",
       "      <td>0</td>\n",
       "      <td>140</td>\n",
       "      <td>239</td>\n",
       "      <td>0</td>\n",
       "      <td>1</td>\n",
       "      <td>160</td>\n",
       "      <td>0</td>\n",
       "      <td>1.2</td>\n",
       "      <td>2</td>\n",
       "      <td>0</td>\n",
       "      <td>2</td>\n",
       "      <td>1</td>\n",
       "    </tr>\n",
       "    <tr>\n",
       "      <th>11</th>\n",
       "      <td>48</td>\n",
       "      <td>0</td>\n",
       "      <td>2</td>\n",
       "      <td>130</td>\n",
       "      <td>275</td>\n",
       "      <td>0</td>\n",
       "      <td>1</td>\n",
       "      <td>139</td>\n",
       "      <td>0</td>\n",
       "      <td>0.2</td>\n",
       "      <td>2</td>\n",
       "      <td>0</td>\n",
       "      <td>2</td>\n",
       "      <td>1</td>\n",
       "    </tr>\n",
       "    <tr>\n",
       "      <th>12</th>\n",
       "      <td>49</td>\n",
       "      <td>1</td>\n",
       "      <td>1</td>\n",
       "      <td>130</td>\n",
       "      <td>266</td>\n",
       "      <td>0</td>\n",
       "      <td>1</td>\n",
       "      <td>171</td>\n",
       "      <td>0</td>\n",
       "      <td>0.6</td>\n",
       "      <td>2</td>\n",
       "      <td>0</td>\n",
       "      <td>2</td>\n",
       "      <td>1</td>\n",
       "    </tr>\n",
       "    <tr>\n",
       "      <th>13</th>\n",
       "      <td>64</td>\n",
       "      <td>1</td>\n",
       "      <td>3</td>\n",
       "      <td>110</td>\n",
       "      <td>211</td>\n",
       "      <td>0</td>\n",
       "      <td>0</td>\n",
       "      <td>144</td>\n",
       "      <td>1</td>\n",
       "      <td>1.8</td>\n",
       "      <td>1</td>\n",
       "      <td>0</td>\n",
       "      <td>2</td>\n",
       "      <td>1</td>\n",
       "    </tr>\n",
       "    <tr>\n",
       "      <th>14</th>\n",
       "      <td>58</td>\n",
       "      <td>0</td>\n",
       "      <td>3</td>\n",
       "      <td>150</td>\n",
       "      <td>283</td>\n",
       "      <td>1</td>\n",
       "      <td>0</td>\n",
       "      <td>162</td>\n",
       "      <td>0</td>\n",
       "      <td>1.0</td>\n",
       "      <td>2</td>\n",
       "      <td>0</td>\n",
       "      <td>2</td>\n",
       "      <td>1</td>\n",
       "    </tr>\n",
       "  </tbody>\n",
       "</table>\n",
       "</div>"
      ],
      "text/plain": [
       "    age  sex  cp  trestbps  chol  fbs  restecg  thalach  exang  oldpeak  \\\n",
       "0    63    1   3       145   233    1        0      150      0      2.3   \n",
       "1    37    1   2       130   250    0        1      187      0      3.5   \n",
       "2    41    0   1       130   204    0        0      172      0      1.4   \n",
       "3    56    1   1       120   236    0        1      178      0      0.8   \n",
       "4    57    0   0       120   354    0        1      163      1      0.6   \n",
       "5    57    1   0       140   192    0        1      148      0      0.4   \n",
       "6    56    0   1       140   294    0        0      153      0      1.3   \n",
       "7    44    1   1       120   263    0        1      173      0      0.0   \n",
       "8    52    1   2       172   199    1        1      162      0      0.5   \n",
       "9    57    1   2       150   168    0        1      174      0      1.6   \n",
       "10   54    1   0       140   239    0        1      160      0      1.2   \n",
       "11   48    0   2       130   275    0        1      139      0      0.2   \n",
       "12   49    1   1       130   266    0        1      171      0      0.6   \n",
       "13   64    1   3       110   211    0        0      144      1      1.8   \n",
       "14   58    0   3       150   283    1        0      162      0      1.0   \n",
       "\n",
       "    slope  ca  thal  target  \n",
       "0       0   0     1       1  \n",
       "1       0   0     2       1  \n",
       "2       2   0     2       1  \n",
       "3       2   0     2       1  \n",
       "4       2   0     2       1  \n",
       "5       1   0     1       1  \n",
       "6       1   0     2       1  \n",
       "7       2   0     3       1  \n",
       "8       2   0     3       1  \n",
       "9       2   0     2       1  \n",
       "10      2   0     2       1  \n",
       "11      2   0     2       1  \n",
       "12      2   0     2       1  \n",
       "13      1   0     2       1  \n",
       "14      2   0     2       1  "
      ]
     },
     "execution_count": 28,
     "metadata": {},
     "output_type": "execute_result"
    }
   ],
   "source": [
    "data.head(15)"
   ]
  },
  {
   "cell_type": "markdown",
   "id": "6921bcc3",
   "metadata": {},
   "source": [
    "## One hot encoding for categorical Values\n",
    "\n",
    "- **RestECG**: Resting electrocardiogram results \n",
    "    - 0: normal \n",
    "    - 1: having ST-T wave abnormality (T wave inversions and/or ST elevation or depression of > 0.05 mV)\n",
    "    - 2: showing probable or definite left ventricular hypertrophy by Estes' criteria 8.\n",
    "- **Chest Pain type**\n",
    "    - 1: typical angina (all criteria present) \n",
    "    - 2: atypical angina (two of three criteria satisfied)\n",
    "    - 3: non-anginal pain (less than one criteria satisfied)\n",
    "    - 4: asymptomatic (none of the criteria are satisfied)\n",
    "- **Slope**: the slope of the peak exercise ST segment, ST-T abnormalities are considered to be a crucial indicator for identifying presence of ischaemia \n",
    "    - 1: upsloping\n",
    "    - 2: flat\n",
    "    - 3: downsloping\n",
    "- **AHD**:\n",
    "    - 0 = normal\n",
    "    - 1 = fixed defect (heart tissue can't absorb thallium both under stress and in rest)\n",
    "    - 2 = reversible defect (heart tissue is unable to absorb thallium only under the exercise portion of the test)"
   ]
  },
  {
   "cell_type": "code",
   "execution_count": 29,
   "id": "2bf6997e",
   "metadata": {},
   "outputs": [],
   "source": [
    "from sklearn.preprocessing import OneHotEncoder"
   ]
  },
  {
   "cell_type": "code",
   "execution_count": 30,
   "id": "7ead0e99",
   "metadata": {
    "scrolled": false
   },
   "outputs": [
    {
     "data": {
      "text/html": [
       "<div>\n",
       "<style scoped>\n",
       "    .dataframe tbody tr th:only-of-type {\n",
       "        vertical-align: middle;\n",
       "    }\n",
       "\n",
       "    .dataframe tbody tr th {\n",
       "        vertical-align: top;\n",
       "    }\n",
       "\n",
       "    .dataframe thead th {\n",
       "        text-align: right;\n",
       "    }\n",
       "</style>\n",
       "<table border=\"1\" class=\"dataframe\">\n",
       "  <thead>\n",
       "    <tr style=\"text-align: right;\">\n",
       "      <th></th>\n",
       "      <th>age</th>\n",
       "      <th>sex</th>\n",
       "      <th>cp</th>\n",
       "      <th>trestbps</th>\n",
       "      <th>chol</th>\n",
       "      <th>fbs</th>\n",
       "      <th>thalach</th>\n",
       "      <th>exang</th>\n",
       "      <th>oldpeak</th>\n",
       "      <th>slope</th>\n",
       "      <th>ca</th>\n",
       "      <th>thal</th>\n",
       "      <th>target</th>\n",
       "      <th>RestECG normal</th>\n",
       "      <th>RestECG abnormal</th>\n",
       "      <th>RestECG ventricular hypertrophy</th>\n",
       "    </tr>\n",
       "  </thead>\n",
       "  <tbody>\n",
       "    <tr>\n",
       "      <th>0</th>\n",
       "      <td>63</td>\n",
       "      <td>1</td>\n",
       "      <td>3</td>\n",
       "      <td>145</td>\n",
       "      <td>233</td>\n",
       "      <td>1</td>\n",
       "      <td>150</td>\n",
       "      <td>0</td>\n",
       "      <td>2.3</td>\n",
       "      <td>0</td>\n",
       "      <td>0</td>\n",
       "      <td>1</td>\n",
       "      <td>1</td>\n",
       "      <td>1.0</td>\n",
       "      <td>0.0</td>\n",
       "      <td>0.0</td>\n",
       "    </tr>\n",
       "    <tr>\n",
       "      <th>1</th>\n",
       "      <td>37</td>\n",
       "      <td>1</td>\n",
       "      <td>2</td>\n",
       "      <td>130</td>\n",
       "      <td>250</td>\n",
       "      <td>0</td>\n",
       "      <td>187</td>\n",
       "      <td>0</td>\n",
       "      <td>3.5</td>\n",
       "      <td>0</td>\n",
       "      <td>0</td>\n",
       "      <td>2</td>\n",
       "      <td>1</td>\n",
       "      <td>0.0</td>\n",
       "      <td>1.0</td>\n",
       "      <td>0.0</td>\n",
       "    </tr>\n",
       "    <tr>\n",
       "      <th>2</th>\n",
       "      <td>41</td>\n",
       "      <td>0</td>\n",
       "      <td>1</td>\n",
       "      <td>130</td>\n",
       "      <td>204</td>\n",
       "      <td>0</td>\n",
       "      <td>172</td>\n",
       "      <td>0</td>\n",
       "      <td>1.4</td>\n",
       "      <td>2</td>\n",
       "      <td>0</td>\n",
       "      <td>2</td>\n",
       "      <td>1</td>\n",
       "      <td>1.0</td>\n",
       "      <td>0.0</td>\n",
       "      <td>0.0</td>\n",
       "    </tr>\n",
       "    <tr>\n",
       "      <th>3</th>\n",
       "      <td>56</td>\n",
       "      <td>1</td>\n",
       "      <td>1</td>\n",
       "      <td>120</td>\n",
       "      <td>236</td>\n",
       "      <td>0</td>\n",
       "      <td>178</td>\n",
       "      <td>0</td>\n",
       "      <td>0.8</td>\n",
       "      <td>2</td>\n",
       "      <td>0</td>\n",
       "      <td>2</td>\n",
       "      <td>1</td>\n",
       "      <td>0.0</td>\n",
       "      <td>1.0</td>\n",
       "      <td>0.0</td>\n",
       "    </tr>\n",
       "    <tr>\n",
       "      <th>4</th>\n",
       "      <td>57</td>\n",
       "      <td>0</td>\n",
       "      <td>0</td>\n",
       "      <td>120</td>\n",
       "      <td>354</td>\n",
       "      <td>0</td>\n",
       "      <td>163</td>\n",
       "      <td>1</td>\n",
       "      <td>0.6</td>\n",
       "      <td>2</td>\n",
       "      <td>0</td>\n",
       "      <td>2</td>\n",
       "      <td>1</td>\n",
       "      <td>0.0</td>\n",
       "      <td>1.0</td>\n",
       "      <td>0.0</td>\n",
       "    </tr>\n",
       "  </tbody>\n",
       "</table>\n",
       "</div>"
      ],
      "text/plain": [
       "   age  sex  cp  trestbps  chol  fbs  thalach  exang  oldpeak  slope  ca  \\\n",
       "0   63    1   3       145   233    1      150      0      2.3      0   0   \n",
       "1   37    1   2       130   250    0      187      0      3.5      0   0   \n",
       "2   41    0   1       130   204    0      172      0      1.4      2   0   \n",
       "3   56    1   1       120   236    0      178      0      0.8      2   0   \n",
       "4   57    0   0       120   354    0      163      1      0.6      2   0   \n",
       "\n",
       "   thal  target  RestECG normal  RestECG abnormal  \\\n",
       "0     1       1             1.0               0.0   \n",
       "1     2       1             0.0               1.0   \n",
       "2     2       1             1.0               0.0   \n",
       "3     2       1             0.0               1.0   \n",
       "4     2       1             0.0               1.0   \n",
       "\n",
       "   RestECG ventricular hypertrophy  \n",
       "0                              0.0  \n",
       "1                              0.0  \n",
       "2                              0.0  \n",
       "3                              0.0  \n",
       "4                              0.0  "
      ]
     },
     "execution_count": 30,
     "metadata": {},
     "output_type": "execute_result"
    }
   ],
   "source": [
    "## RestECG\n",
    "\n",
    "enc = OneHotEncoder(sparse=False)\n",
    "\n",
    "encodedValues = enc.fit_transform(data[[\"restecg\"]])\n",
    "\n",
    "encodedValues = pd.DataFrame({\n",
    "    \"RestECG normal\" : encodedValues[:,0],\n",
    "    \"RestECG abnormal\" : encodedValues[:,1],\n",
    "    \"RestECG ventricular hypertrophy\" : encodedValues[:,2],\n",
    "})\n",
    "\n",
    "data = pd.concat([data,encodedValues], axis=1)\n",
    "\n",
    "data.pop(\"restecg\")\n",
    "\n",
    "data.head()"
   ]
  },
  {
   "cell_type": "code",
   "execution_count": 31,
   "id": "495379b5",
   "metadata": {},
   "outputs": [
    {
     "data": {
      "text/html": [
       "<div>\n",
       "<style scoped>\n",
       "    .dataframe tbody tr th:only-of-type {\n",
       "        vertical-align: middle;\n",
       "    }\n",
       "\n",
       "    .dataframe tbody tr th {\n",
       "        vertical-align: top;\n",
       "    }\n",
       "\n",
       "    .dataframe thead th {\n",
       "        text-align: right;\n",
       "    }\n",
       "</style>\n",
       "<table border=\"1\" class=\"dataframe\">\n",
       "  <thead>\n",
       "    <tr style=\"text-align: right;\">\n",
       "      <th></th>\n",
       "      <th>age</th>\n",
       "      <th>sex</th>\n",
       "      <th>trestbps</th>\n",
       "      <th>chol</th>\n",
       "      <th>fbs</th>\n",
       "      <th>thalach</th>\n",
       "      <th>exang</th>\n",
       "      <th>oldpeak</th>\n",
       "      <th>slope</th>\n",
       "      <th>ca</th>\n",
       "      <th>thal</th>\n",
       "      <th>target</th>\n",
       "      <th>RestECG normal</th>\n",
       "      <th>RestECG abnormal</th>\n",
       "      <th>RestECG ventricular hypertrophy</th>\n",
       "      <th>Chest Pain typical angina</th>\n",
       "      <th>Chest Pain atypical angina</th>\n",
       "      <th>Chest Pain non-anginal pain</th>\n",
       "      <th>Chest Pain asymptomatic</th>\n",
       "    </tr>\n",
       "  </thead>\n",
       "  <tbody>\n",
       "    <tr>\n",
       "      <th>0</th>\n",
       "      <td>63</td>\n",
       "      <td>1</td>\n",
       "      <td>145</td>\n",
       "      <td>233</td>\n",
       "      <td>1</td>\n",
       "      <td>150</td>\n",
       "      <td>0</td>\n",
       "      <td>2.3</td>\n",
       "      <td>0</td>\n",
       "      <td>0</td>\n",
       "      <td>1</td>\n",
       "      <td>1</td>\n",
       "      <td>1.0</td>\n",
       "      <td>0.0</td>\n",
       "      <td>0.0</td>\n",
       "      <td>0.0</td>\n",
       "      <td>0.0</td>\n",
       "      <td>0.0</td>\n",
       "      <td>1.0</td>\n",
       "    </tr>\n",
       "    <tr>\n",
       "      <th>1</th>\n",
       "      <td>37</td>\n",
       "      <td>1</td>\n",
       "      <td>130</td>\n",
       "      <td>250</td>\n",
       "      <td>0</td>\n",
       "      <td>187</td>\n",
       "      <td>0</td>\n",
       "      <td>3.5</td>\n",
       "      <td>0</td>\n",
       "      <td>0</td>\n",
       "      <td>2</td>\n",
       "      <td>1</td>\n",
       "      <td>0.0</td>\n",
       "      <td>1.0</td>\n",
       "      <td>0.0</td>\n",
       "      <td>0.0</td>\n",
       "      <td>0.0</td>\n",
       "      <td>1.0</td>\n",
       "      <td>0.0</td>\n",
       "    </tr>\n",
       "    <tr>\n",
       "      <th>2</th>\n",
       "      <td>41</td>\n",
       "      <td>0</td>\n",
       "      <td>130</td>\n",
       "      <td>204</td>\n",
       "      <td>0</td>\n",
       "      <td>172</td>\n",
       "      <td>0</td>\n",
       "      <td>1.4</td>\n",
       "      <td>2</td>\n",
       "      <td>0</td>\n",
       "      <td>2</td>\n",
       "      <td>1</td>\n",
       "      <td>1.0</td>\n",
       "      <td>0.0</td>\n",
       "      <td>0.0</td>\n",
       "      <td>0.0</td>\n",
       "      <td>1.0</td>\n",
       "      <td>0.0</td>\n",
       "      <td>0.0</td>\n",
       "    </tr>\n",
       "    <tr>\n",
       "      <th>3</th>\n",
       "      <td>56</td>\n",
       "      <td>1</td>\n",
       "      <td>120</td>\n",
       "      <td>236</td>\n",
       "      <td>0</td>\n",
       "      <td>178</td>\n",
       "      <td>0</td>\n",
       "      <td>0.8</td>\n",
       "      <td>2</td>\n",
       "      <td>0</td>\n",
       "      <td>2</td>\n",
       "      <td>1</td>\n",
       "      <td>0.0</td>\n",
       "      <td>1.0</td>\n",
       "      <td>0.0</td>\n",
       "      <td>0.0</td>\n",
       "      <td>1.0</td>\n",
       "      <td>0.0</td>\n",
       "      <td>0.0</td>\n",
       "    </tr>\n",
       "    <tr>\n",
       "      <th>4</th>\n",
       "      <td>57</td>\n",
       "      <td>0</td>\n",
       "      <td>120</td>\n",
       "      <td>354</td>\n",
       "      <td>0</td>\n",
       "      <td>163</td>\n",
       "      <td>1</td>\n",
       "      <td>0.6</td>\n",
       "      <td>2</td>\n",
       "      <td>0</td>\n",
       "      <td>2</td>\n",
       "      <td>1</td>\n",
       "      <td>0.0</td>\n",
       "      <td>1.0</td>\n",
       "      <td>0.0</td>\n",
       "      <td>1.0</td>\n",
       "      <td>0.0</td>\n",
       "      <td>0.0</td>\n",
       "      <td>0.0</td>\n",
       "    </tr>\n",
       "  </tbody>\n",
       "</table>\n",
       "</div>"
      ],
      "text/plain": [
       "   age  sex  trestbps  chol  fbs  thalach  exang  oldpeak  slope  ca  thal  \\\n",
       "0   63    1       145   233    1      150      0      2.3      0   0     1   \n",
       "1   37    1       130   250    0      187      0      3.5      0   0     2   \n",
       "2   41    0       130   204    0      172      0      1.4      2   0     2   \n",
       "3   56    1       120   236    0      178      0      0.8      2   0     2   \n",
       "4   57    0       120   354    0      163      1      0.6      2   0     2   \n",
       "\n",
       "   target  RestECG normal  RestECG abnormal  RestECG ventricular hypertrophy  \\\n",
       "0       1             1.0               0.0                              0.0   \n",
       "1       1             0.0               1.0                              0.0   \n",
       "2       1             1.0               0.0                              0.0   \n",
       "3       1             0.0               1.0                              0.0   \n",
       "4       1             0.0               1.0                              0.0   \n",
       "\n",
       "   Chest Pain typical angina  Chest Pain atypical angina  \\\n",
       "0                        0.0                         0.0   \n",
       "1                        0.0                         0.0   \n",
       "2                        0.0                         1.0   \n",
       "3                        0.0                         1.0   \n",
       "4                        1.0                         0.0   \n",
       "\n",
       "   Chest Pain non-anginal pain  Chest Pain asymptomatic  \n",
       "0                          0.0                      1.0  \n",
       "1                          1.0                      0.0  \n",
       "2                          0.0                      0.0  \n",
       "3                          0.0                      0.0  \n",
       "4                          0.0                      0.0  "
      ]
     },
     "execution_count": 31,
     "metadata": {},
     "output_type": "execute_result"
    }
   ],
   "source": [
    "encodedValues = enc.fit_transform(data[[\"cp\"]])\n",
    "\n",
    "encodedValues = pd.DataFrame({\n",
    "    \"Chest Pain typical angina\" : encodedValues[:,0],\n",
    "    \"Chest Pain atypical angina\" : encodedValues[:,1],\n",
    "    \"Chest Pain non-anginal pain\" : encodedValues[:,2],\n",
    "    \"Chest Pain asymptomatic\" : encodedValues[:,3],\n",
    "})\n",
    "\n",
    "data = pd.concat([data,encodedValues], axis=1)\n",
    "\n",
    "data.pop(\"cp\")\n",
    "\n",
    "data.head()"
   ]
  },
  {
   "cell_type": "code",
   "execution_count": 32,
   "id": "fc4d5c1b",
   "metadata": {},
   "outputs": [
    {
     "data": {
      "text/html": [
       "<div>\n",
       "<style scoped>\n",
       "    .dataframe tbody tr th:only-of-type {\n",
       "        vertical-align: middle;\n",
       "    }\n",
       "\n",
       "    .dataframe tbody tr th {\n",
       "        vertical-align: top;\n",
       "    }\n",
       "\n",
       "    .dataframe thead th {\n",
       "        text-align: right;\n",
       "    }\n",
       "</style>\n",
       "<table border=\"1\" class=\"dataframe\">\n",
       "  <thead>\n",
       "    <tr style=\"text-align: right;\">\n",
       "      <th></th>\n",
       "      <th>age</th>\n",
       "      <th>sex</th>\n",
       "      <th>trestbps</th>\n",
       "      <th>chol</th>\n",
       "      <th>fbs</th>\n",
       "      <th>thalach</th>\n",
       "      <th>exang</th>\n",
       "      <th>oldpeak</th>\n",
       "      <th>ca</th>\n",
       "      <th>thal</th>\n",
       "      <th>...</th>\n",
       "      <th>RestECG normal</th>\n",
       "      <th>RestECG abnormal</th>\n",
       "      <th>RestECG ventricular hypertrophy</th>\n",
       "      <th>Chest Pain typical angina</th>\n",
       "      <th>Chest Pain atypical angina</th>\n",
       "      <th>Chest Pain non-anginal pain</th>\n",
       "      <th>Chest Pain asymptomatic</th>\n",
       "      <th>Slope Upscaling</th>\n",
       "      <th>Slope Flat</th>\n",
       "      <th>Slope Downscaling</th>\n",
       "    </tr>\n",
       "  </thead>\n",
       "  <tbody>\n",
       "    <tr>\n",
       "      <th>0</th>\n",
       "      <td>63</td>\n",
       "      <td>1</td>\n",
       "      <td>145</td>\n",
       "      <td>233</td>\n",
       "      <td>1</td>\n",
       "      <td>150</td>\n",
       "      <td>0</td>\n",
       "      <td>2.3</td>\n",
       "      <td>0</td>\n",
       "      <td>1</td>\n",
       "      <td>...</td>\n",
       "      <td>1.0</td>\n",
       "      <td>0.0</td>\n",
       "      <td>0.0</td>\n",
       "      <td>0.0</td>\n",
       "      <td>0.0</td>\n",
       "      <td>0.0</td>\n",
       "      <td>1.0</td>\n",
       "      <td>1.0</td>\n",
       "      <td>0.0</td>\n",
       "      <td>0.0</td>\n",
       "    </tr>\n",
       "    <tr>\n",
       "      <th>1</th>\n",
       "      <td>37</td>\n",
       "      <td>1</td>\n",
       "      <td>130</td>\n",
       "      <td>250</td>\n",
       "      <td>0</td>\n",
       "      <td>187</td>\n",
       "      <td>0</td>\n",
       "      <td>3.5</td>\n",
       "      <td>0</td>\n",
       "      <td>2</td>\n",
       "      <td>...</td>\n",
       "      <td>0.0</td>\n",
       "      <td>1.0</td>\n",
       "      <td>0.0</td>\n",
       "      <td>0.0</td>\n",
       "      <td>0.0</td>\n",
       "      <td>1.0</td>\n",
       "      <td>0.0</td>\n",
       "      <td>1.0</td>\n",
       "      <td>0.0</td>\n",
       "      <td>0.0</td>\n",
       "    </tr>\n",
       "    <tr>\n",
       "      <th>2</th>\n",
       "      <td>41</td>\n",
       "      <td>0</td>\n",
       "      <td>130</td>\n",
       "      <td>204</td>\n",
       "      <td>0</td>\n",
       "      <td>172</td>\n",
       "      <td>0</td>\n",
       "      <td>1.4</td>\n",
       "      <td>0</td>\n",
       "      <td>2</td>\n",
       "      <td>...</td>\n",
       "      <td>1.0</td>\n",
       "      <td>0.0</td>\n",
       "      <td>0.0</td>\n",
       "      <td>0.0</td>\n",
       "      <td>1.0</td>\n",
       "      <td>0.0</td>\n",
       "      <td>0.0</td>\n",
       "      <td>0.0</td>\n",
       "      <td>0.0</td>\n",
       "      <td>1.0</td>\n",
       "    </tr>\n",
       "    <tr>\n",
       "      <th>3</th>\n",
       "      <td>56</td>\n",
       "      <td>1</td>\n",
       "      <td>120</td>\n",
       "      <td>236</td>\n",
       "      <td>0</td>\n",
       "      <td>178</td>\n",
       "      <td>0</td>\n",
       "      <td>0.8</td>\n",
       "      <td>0</td>\n",
       "      <td>2</td>\n",
       "      <td>...</td>\n",
       "      <td>0.0</td>\n",
       "      <td>1.0</td>\n",
       "      <td>0.0</td>\n",
       "      <td>0.0</td>\n",
       "      <td>1.0</td>\n",
       "      <td>0.0</td>\n",
       "      <td>0.0</td>\n",
       "      <td>0.0</td>\n",
       "      <td>0.0</td>\n",
       "      <td>1.0</td>\n",
       "    </tr>\n",
       "    <tr>\n",
       "      <th>4</th>\n",
       "      <td>57</td>\n",
       "      <td>0</td>\n",
       "      <td>120</td>\n",
       "      <td>354</td>\n",
       "      <td>0</td>\n",
       "      <td>163</td>\n",
       "      <td>1</td>\n",
       "      <td>0.6</td>\n",
       "      <td>0</td>\n",
       "      <td>2</td>\n",
       "      <td>...</td>\n",
       "      <td>0.0</td>\n",
       "      <td>1.0</td>\n",
       "      <td>0.0</td>\n",
       "      <td>1.0</td>\n",
       "      <td>0.0</td>\n",
       "      <td>0.0</td>\n",
       "      <td>0.0</td>\n",
       "      <td>0.0</td>\n",
       "      <td>0.0</td>\n",
       "      <td>1.0</td>\n",
       "    </tr>\n",
       "  </tbody>\n",
       "</table>\n",
       "<p>5 rows × 21 columns</p>\n",
       "</div>"
      ],
      "text/plain": [
       "   age  sex  trestbps  chol  fbs  thalach  exang  oldpeak  ca  thal  ...  \\\n",
       "0   63    1       145   233    1      150      0      2.3   0     1  ...   \n",
       "1   37    1       130   250    0      187      0      3.5   0     2  ...   \n",
       "2   41    0       130   204    0      172      0      1.4   0     2  ...   \n",
       "3   56    1       120   236    0      178      0      0.8   0     2  ...   \n",
       "4   57    0       120   354    0      163      1      0.6   0     2  ...   \n",
       "\n",
       "   RestECG normal  RestECG abnormal  RestECG ventricular hypertrophy  \\\n",
       "0             1.0               0.0                              0.0   \n",
       "1             0.0               1.0                              0.0   \n",
       "2             1.0               0.0                              0.0   \n",
       "3             0.0               1.0                              0.0   \n",
       "4             0.0               1.0                              0.0   \n",
       "\n",
       "   Chest Pain typical angina  Chest Pain atypical angina  \\\n",
       "0                        0.0                         0.0   \n",
       "1                        0.0                         0.0   \n",
       "2                        0.0                         1.0   \n",
       "3                        0.0                         1.0   \n",
       "4                        1.0                         0.0   \n",
       "\n",
       "   Chest Pain non-anginal pain  Chest Pain asymptomatic  Slope Upscaling  \\\n",
       "0                          0.0                      1.0              1.0   \n",
       "1                          1.0                      0.0              1.0   \n",
       "2                          0.0                      0.0              0.0   \n",
       "3                          0.0                      0.0              0.0   \n",
       "4                          0.0                      0.0              0.0   \n",
       "\n",
       "   Slope Flat  Slope Downscaling  \n",
       "0         0.0                0.0  \n",
       "1         0.0                0.0  \n",
       "2         0.0                1.0  \n",
       "3         0.0                1.0  \n",
       "4         0.0                1.0  \n",
       "\n",
       "[5 rows x 21 columns]"
      ]
     },
     "execution_count": 32,
     "metadata": {},
     "output_type": "execute_result"
    }
   ],
   "source": [
    "encodedValues = enc.fit_transform(data[[\"slope\"]])\n",
    "\n",
    "encodedValues = pd.DataFrame({\n",
    "    \"Slope Upscaling\" : encodedValues[:,0],\n",
    "    \"Slope Flat\" : encodedValues[:,1],\n",
    "    \"Slope Downscaling\" : encodedValues[:,2]\n",
    "})\n",
    "\n",
    "data = pd.concat([data,encodedValues], axis=1)\n",
    "\n",
    "data.pop(\"slope\")\n",
    "\n",
    "data.head()"
   ]
  },
  {
   "cell_type": "code",
   "execution_count": 33,
   "id": "6883fd8f",
   "metadata": {},
   "outputs": [
    {
     "data": {
      "text/html": [
       "<div>\n",
       "<style scoped>\n",
       "    .dataframe tbody tr th:only-of-type {\n",
       "        vertical-align: middle;\n",
       "    }\n",
       "\n",
       "    .dataframe tbody tr th {\n",
       "        vertical-align: top;\n",
       "    }\n",
       "\n",
       "    .dataframe thead th {\n",
       "        text-align: right;\n",
       "    }\n",
       "</style>\n",
       "<table border=\"1\" class=\"dataframe\">\n",
       "  <thead>\n",
       "    <tr style=\"text-align: right;\">\n",
       "      <th></th>\n",
       "      <th>age</th>\n",
       "      <th>sex</th>\n",
       "      <th>trestbps</th>\n",
       "      <th>chol</th>\n",
       "      <th>fbs</th>\n",
       "      <th>thalach</th>\n",
       "      <th>exang</th>\n",
       "      <th>oldpeak</th>\n",
       "      <th>ca</th>\n",
       "      <th>target</th>\n",
       "      <th>...</th>\n",
       "      <th>Chest Pain typical angina</th>\n",
       "      <th>Chest Pain atypical angina</th>\n",
       "      <th>Chest Pain non-anginal pain</th>\n",
       "      <th>Chest Pain asymptomatic</th>\n",
       "      <th>Slope Upscaling</th>\n",
       "      <th>Slope Flat</th>\n",
       "      <th>Slope Downscaling</th>\n",
       "      <th>AHD Normal</th>\n",
       "      <th>AHD Fixed Defect</th>\n",
       "      <th>AHD Reversible Defect</th>\n",
       "    </tr>\n",
       "  </thead>\n",
       "  <tbody>\n",
       "    <tr>\n",
       "      <th>0</th>\n",
       "      <td>63</td>\n",
       "      <td>1</td>\n",
       "      <td>145</td>\n",
       "      <td>233</td>\n",
       "      <td>1</td>\n",
       "      <td>150</td>\n",
       "      <td>0</td>\n",
       "      <td>2.3</td>\n",
       "      <td>0</td>\n",
       "      <td>1</td>\n",
       "      <td>...</td>\n",
       "      <td>0.0</td>\n",
       "      <td>0.0</td>\n",
       "      <td>0.0</td>\n",
       "      <td>1.0</td>\n",
       "      <td>1.0</td>\n",
       "      <td>0.0</td>\n",
       "      <td>0.0</td>\n",
       "      <td>0.0</td>\n",
       "      <td>1.0</td>\n",
       "      <td>0.0</td>\n",
       "    </tr>\n",
       "    <tr>\n",
       "      <th>1</th>\n",
       "      <td>37</td>\n",
       "      <td>1</td>\n",
       "      <td>130</td>\n",
       "      <td>250</td>\n",
       "      <td>0</td>\n",
       "      <td>187</td>\n",
       "      <td>0</td>\n",
       "      <td>3.5</td>\n",
       "      <td>0</td>\n",
       "      <td>1</td>\n",
       "      <td>...</td>\n",
       "      <td>0.0</td>\n",
       "      <td>0.0</td>\n",
       "      <td>1.0</td>\n",
       "      <td>0.0</td>\n",
       "      <td>1.0</td>\n",
       "      <td>0.0</td>\n",
       "      <td>0.0</td>\n",
       "      <td>0.0</td>\n",
       "      <td>0.0</td>\n",
       "      <td>1.0</td>\n",
       "    </tr>\n",
       "    <tr>\n",
       "      <th>2</th>\n",
       "      <td>41</td>\n",
       "      <td>0</td>\n",
       "      <td>130</td>\n",
       "      <td>204</td>\n",
       "      <td>0</td>\n",
       "      <td>172</td>\n",
       "      <td>0</td>\n",
       "      <td>1.4</td>\n",
       "      <td>0</td>\n",
       "      <td>1</td>\n",
       "      <td>...</td>\n",
       "      <td>0.0</td>\n",
       "      <td>1.0</td>\n",
       "      <td>0.0</td>\n",
       "      <td>0.0</td>\n",
       "      <td>0.0</td>\n",
       "      <td>0.0</td>\n",
       "      <td>1.0</td>\n",
       "      <td>0.0</td>\n",
       "      <td>0.0</td>\n",
       "      <td>1.0</td>\n",
       "    </tr>\n",
       "    <tr>\n",
       "      <th>3</th>\n",
       "      <td>56</td>\n",
       "      <td>1</td>\n",
       "      <td>120</td>\n",
       "      <td>236</td>\n",
       "      <td>0</td>\n",
       "      <td>178</td>\n",
       "      <td>0</td>\n",
       "      <td>0.8</td>\n",
       "      <td>0</td>\n",
       "      <td>1</td>\n",
       "      <td>...</td>\n",
       "      <td>0.0</td>\n",
       "      <td>1.0</td>\n",
       "      <td>0.0</td>\n",
       "      <td>0.0</td>\n",
       "      <td>0.0</td>\n",
       "      <td>0.0</td>\n",
       "      <td>1.0</td>\n",
       "      <td>0.0</td>\n",
       "      <td>0.0</td>\n",
       "      <td>1.0</td>\n",
       "    </tr>\n",
       "    <tr>\n",
       "      <th>4</th>\n",
       "      <td>57</td>\n",
       "      <td>0</td>\n",
       "      <td>120</td>\n",
       "      <td>354</td>\n",
       "      <td>0</td>\n",
       "      <td>163</td>\n",
       "      <td>1</td>\n",
       "      <td>0.6</td>\n",
       "      <td>0</td>\n",
       "      <td>1</td>\n",
       "      <td>...</td>\n",
       "      <td>1.0</td>\n",
       "      <td>0.0</td>\n",
       "      <td>0.0</td>\n",
       "      <td>0.0</td>\n",
       "      <td>0.0</td>\n",
       "      <td>0.0</td>\n",
       "      <td>1.0</td>\n",
       "      <td>0.0</td>\n",
       "      <td>0.0</td>\n",
       "      <td>1.0</td>\n",
       "    </tr>\n",
       "  </tbody>\n",
       "</table>\n",
       "<p>5 rows × 23 columns</p>\n",
       "</div>"
      ],
      "text/plain": [
       "   age  sex  trestbps  chol  fbs  thalach  exang  oldpeak  ca  target  ...  \\\n",
       "0   63    1       145   233    1      150      0      2.3   0       1  ...   \n",
       "1   37    1       130   250    0      187      0      3.5   0       1  ...   \n",
       "2   41    0       130   204    0      172      0      1.4   0       1  ...   \n",
       "3   56    1       120   236    0      178      0      0.8   0       1  ...   \n",
       "4   57    0       120   354    0      163      1      0.6   0       1  ...   \n",
       "\n",
       "   Chest Pain typical angina  Chest Pain atypical angina  \\\n",
       "0                        0.0                         0.0   \n",
       "1                        0.0                         0.0   \n",
       "2                        0.0                         1.0   \n",
       "3                        0.0                         1.0   \n",
       "4                        1.0                         0.0   \n",
       "\n",
       "   Chest Pain non-anginal pain  Chest Pain asymptomatic  Slope Upscaling  \\\n",
       "0                          0.0                      1.0              1.0   \n",
       "1                          1.0                      0.0              1.0   \n",
       "2                          0.0                      0.0              0.0   \n",
       "3                          0.0                      0.0              0.0   \n",
       "4                          0.0                      0.0              0.0   \n",
       "\n",
       "   Slope Flat  Slope Downscaling  AHD Normal  AHD Fixed Defect  \\\n",
       "0         0.0                0.0         0.0               1.0   \n",
       "1         0.0                0.0         0.0               0.0   \n",
       "2         0.0                1.0         0.0               0.0   \n",
       "3         0.0                1.0         0.0               0.0   \n",
       "4         0.0                1.0         0.0               0.0   \n",
       "\n",
       "   AHD Reversible Defect  \n",
       "0                    0.0  \n",
       "1                    1.0  \n",
       "2                    1.0  \n",
       "3                    1.0  \n",
       "4                    1.0  \n",
       "\n",
       "[5 rows x 23 columns]"
      ]
     },
     "execution_count": 33,
     "metadata": {},
     "output_type": "execute_result"
    }
   ],
   "source": [
    "encodedValues = enc.fit_transform(data[[\"thal\"]])\n",
    "\n",
    "encodedValues = pd.DataFrame({\n",
    "    \"AHD Normal\" : encodedValues[:,0],\n",
    "    \"AHD Fixed Defect\" : encodedValues[:,1],\n",
    "    \"AHD Reversible Defect\" : encodedValues[:,2]\n",
    "})\n",
    "\n",
    "data = pd.concat([data,encodedValues], axis=1)\n",
    "\n",
    "data.pop(\"thal\")\n",
    "\n",
    "data.head()"
   ]
  },
  {
   "cell_type": "code",
   "execution_count": 34,
   "id": "6777ed87",
   "metadata": {
    "executionInfo": {
     "elapsed": 28,
     "status": "ok",
     "timestamp": 1637439388317,
     "user": {
      "displayName": "Alberto Dávila Almaguer",
      "photoUrl": "https://lh3.googleusercontent.com/a/default-user=s64",
      "userId": "13077365919315327856"
     },
     "user_tz": 360
    },
    "id": "xF2ptkm2_HQ4"
   },
   "outputs": [],
   "source": [
    "#Removing outliers\n",
    "data.drop(index=index_dropped_rows, inplace=True)"
   ]
  },
  {
   "cell_type": "code",
   "execution_count": 35,
   "id": "3d709654",
   "metadata": {
    "executionInfo": {
     "elapsed": 28,
     "status": "ok",
     "timestamp": 1637439388318,
     "user": {
      "displayName": "Alberto Dávila Almaguer",
      "photoUrl": "https://lh3.googleusercontent.com/a/default-user=s64",
      "userId": "13077365919315327856"
     },
     "user_tz": 360
    },
    "id": "5981da3b"
   },
   "outputs": [],
   "source": [
    "y = data.pop(\"target\")\n",
    "X = data"
   ]
  },
  {
   "cell_type": "code",
   "execution_count": 36,
   "id": "7d5fa75a",
   "metadata": {
    "colab": {
     "base_uri": "https://localhost:8080/"
    },
    "executionInfo": {
     "elapsed": 28,
     "status": "ok",
     "timestamp": 1637439388319,
     "user": {
      "displayName": "Alberto Dávila Almaguer",
      "photoUrl": "https://lh3.googleusercontent.com/a/default-user=s64",
      "userId": "13077365919315327856"
     },
     "user_tz": 360
    },
    "id": "e0cffc53",
    "outputId": "16408ed3-a1c4-48b1-b1bd-729181c544c1"
   },
   "outputs": [
    {
     "data": {
      "text/plain": [
       "0    1\n",
       "1    1\n",
       "2    1\n",
       "3    1\n",
       "4    1\n",
       "Name: target, dtype: int64"
      ]
     },
     "execution_count": 36,
     "metadata": {},
     "output_type": "execute_result"
    }
   ],
   "source": [
    "y.head()"
   ]
  },
  {
   "cell_type": "code",
   "execution_count": 37,
   "id": "f2a2e411",
   "metadata": {
    "colab": {
     "base_uri": "https://localhost:8080/",
     "height": 260
    },
    "executionInfo": {
     "elapsed": 20,
     "status": "ok",
     "timestamp": 1637439388320,
     "user": {
      "displayName": "Alberto Dávila Almaguer",
      "photoUrl": "https://lh3.googleusercontent.com/a/default-user=s64",
      "userId": "13077365919315327856"
     },
     "user_tz": 360
    },
    "id": "MwreH33Z38uk",
    "outputId": "fd9f9b38-e395-48d4-80c5-43e7198d40fe"
   },
   "outputs": [
    {
     "data": {
      "text/html": [
       "<div>\n",
       "<style scoped>\n",
       "    .dataframe tbody tr th:only-of-type {\n",
       "        vertical-align: middle;\n",
       "    }\n",
       "\n",
       "    .dataframe tbody tr th {\n",
       "        vertical-align: top;\n",
       "    }\n",
       "\n",
       "    .dataframe thead th {\n",
       "        text-align: right;\n",
       "    }\n",
       "</style>\n",
       "<table border=\"1\" class=\"dataframe\">\n",
       "  <thead>\n",
       "    <tr style=\"text-align: right;\">\n",
       "      <th></th>\n",
       "      <th>age</th>\n",
       "      <th>sex</th>\n",
       "      <th>trestbps</th>\n",
       "      <th>chol</th>\n",
       "      <th>fbs</th>\n",
       "      <th>thalach</th>\n",
       "      <th>exang</th>\n",
       "      <th>oldpeak</th>\n",
       "      <th>ca</th>\n",
       "      <th>RestECG normal</th>\n",
       "      <th>...</th>\n",
       "      <th>Chest Pain typical angina</th>\n",
       "      <th>Chest Pain atypical angina</th>\n",
       "      <th>Chest Pain non-anginal pain</th>\n",
       "      <th>Chest Pain asymptomatic</th>\n",
       "      <th>Slope Upscaling</th>\n",
       "      <th>Slope Flat</th>\n",
       "      <th>Slope Downscaling</th>\n",
       "      <th>AHD Normal</th>\n",
       "      <th>AHD Fixed Defect</th>\n",
       "      <th>AHD Reversible Defect</th>\n",
       "    </tr>\n",
       "  </thead>\n",
       "  <tbody>\n",
       "    <tr>\n",
       "      <th>0</th>\n",
       "      <td>63</td>\n",
       "      <td>1</td>\n",
       "      <td>145</td>\n",
       "      <td>233</td>\n",
       "      <td>1</td>\n",
       "      <td>150</td>\n",
       "      <td>0</td>\n",
       "      <td>2.3</td>\n",
       "      <td>0</td>\n",
       "      <td>1.0</td>\n",
       "      <td>...</td>\n",
       "      <td>0.0</td>\n",
       "      <td>0.0</td>\n",
       "      <td>0.0</td>\n",
       "      <td>1.0</td>\n",
       "      <td>1.0</td>\n",
       "      <td>0.0</td>\n",
       "      <td>0.0</td>\n",
       "      <td>0.0</td>\n",
       "      <td>1.0</td>\n",
       "      <td>0.0</td>\n",
       "    </tr>\n",
       "    <tr>\n",
       "      <th>1</th>\n",
       "      <td>37</td>\n",
       "      <td>1</td>\n",
       "      <td>130</td>\n",
       "      <td>250</td>\n",
       "      <td>0</td>\n",
       "      <td>187</td>\n",
       "      <td>0</td>\n",
       "      <td>3.5</td>\n",
       "      <td>0</td>\n",
       "      <td>0.0</td>\n",
       "      <td>...</td>\n",
       "      <td>0.0</td>\n",
       "      <td>0.0</td>\n",
       "      <td>1.0</td>\n",
       "      <td>0.0</td>\n",
       "      <td>1.0</td>\n",
       "      <td>0.0</td>\n",
       "      <td>0.0</td>\n",
       "      <td>0.0</td>\n",
       "      <td>0.0</td>\n",
       "      <td>1.0</td>\n",
       "    </tr>\n",
       "    <tr>\n",
       "      <th>2</th>\n",
       "      <td>41</td>\n",
       "      <td>0</td>\n",
       "      <td>130</td>\n",
       "      <td>204</td>\n",
       "      <td>0</td>\n",
       "      <td>172</td>\n",
       "      <td>0</td>\n",
       "      <td>1.4</td>\n",
       "      <td>0</td>\n",
       "      <td>1.0</td>\n",
       "      <td>...</td>\n",
       "      <td>0.0</td>\n",
       "      <td>1.0</td>\n",
       "      <td>0.0</td>\n",
       "      <td>0.0</td>\n",
       "      <td>0.0</td>\n",
       "      <td>0.0</td>\n",
       "      <td>1.0</td>\n",
       "      <td>0.0</td>\n",
       "      <td>0.0</td>\n",
       "      <td>1.0</td>\n",
       "    </tr>\n",
       "    <tr>\n",
       "      <th>3</th>\n",
       "      <td>56</td>\n",
       "      <td>1</td>\n",
       "      <td>120</td>\n",
       "      <td>236</td>\n",
       "      <td>0</td>\n",
       "      <td>178</td>\n",
       "      <td>0</td>\n",
       "      <td>0.8</td>\n",
       "      <td>0</td>\n",
       "      <td>0.0</td>\n",
       "      <td>...</td>\n",
       "      <td>0.0</td>\n",
       "      <td>1.0</td>\n",
       "      <td>0.0</td>\n",
       "      <td>0.0</td>\n",
       "      <td>0.0</td>\n",
       "      <td>0.0</td>\n",
       "      <td>1.0</td>\n",
       "      <td>0.0</td>\n",
       "      <td>0.0</td>\n",
       "      <td>1.0</td>\n",
       "    </tr>\n",
       "    <tr>\n",
       "      <th>4</th>\n",
       "      <td>57</td>\n",
       "      <td>0</td>\n",
       "      <td>120</td>\n",
       "      <td>354</td>\n",
       "      <td>0</td>\n",
       "      <td>163</td>\n",
       "      <td>1</td>\n",
       "      <td>0.6</td>\n",
       "      <td>0</td>\n",
       "      <td>0.0</td>\n",
       "      <td>...</td>\n",
       "      <td>1.0</td>\n",
       "      <td>0.0</td>\n",
       "      <td>0.0</td>\n",
       "      <td>0.0</td>\n",
       "      <td>0.0</td>\n",
       "      <td>0.0</td>\n",
       "      <td>1.0</td>\n",
       "      <td>0.0</td>\n",
       "      <td>0.0</td>\n",
       "      <td>1.0</td>\n",
       "    </tr>\n",
       "  </tbody>\n",
       "</table>\n",
       "<p>5 rows × 22 columns</p>\n",
       "</div>"
      ],
      "text/plain": [
       "   age  sex  trestbps  chol  fbs  thalach  exang  oldpeak  ca  RestECG normal  \\\n",
       "0   63    1       145   233    1      150      0      2.3   0             1.0   \n",
       "1   37    1       130   250    0      187      0      3.5   0             0.0   \n",
       "2   41    0       130   204    0      172      0      1.4   0             1.0   \n",
       "3   56    1       120   236    0      178      0      0.8   0             0.0   \n",
       "4   57    0       120   354    0      163      1      0.6   0             0.0   \n",
       "\n",
       "   ...  Chest Pain typical angina  Chest Pain atypical angina  \\\n",
       "0  ...                        0.0                         0.0   \n",
       "1  ...                        0.0                         0.0   \n",
       "2  ...                        0.0                         1.0   \n",
       "3  ...                        0.0                         1.0   \n",
       "4  ...                        1.0                         0.0   \n",
       "\n",
       "   Chest Pain non-anginal pain  Chest Pain asymptomatic  Slope Upscaling  \\\n",
       "0                          0.0                      1.0              1.0   \n",
       "1                          1.0                      0.0              1.0   \n",
       "2                          0.0                      0.0              0.0   \n",
       "3                          0.0                      0.0              0.0   \n",
       "4                          0.0                      0.0              0.0   \n",
       "\n",
       "   Slope Flat  Slope Downscaling  AHD Normal  AHD Fixed Defect  \\\n",
       "0         0.0                0.0         0.0               1.0   \n",
       "1         0.0                0.0         0.0               0.0   \n",
       "2         0.0                1.0         0.0               0.0   \n",
       "3         0.0                1.0         0.0               0.0   \n",
       "4         0.0                1.0         0.0               0.0   \n",
       "\n",
       "   AHD Reversible Defect  \n",
       "0                    0.0  \n",
       "1                    1.0  \n",
       "2                    1.0  \n",
       "3                    1.0  \n",
       "4                    1.0  \n",
       "\n",
       "[5 rows x 22 columns]"
      ]
     },
     "execution_count": 37,
     "metadata": {},
     "output_type": "execute_result"
    }
   ],
   "source": [
    "X.head()"
   ]
  },
  {
   "cell_type": "code",
   "execution_count": 38,
   "id": "e78289d5",
   "metadata": {
    "executionInfo": {
     "elapsed": 19,
     "status": "ok",
     "timestamp": 1637439388321,
     "user": {
      "displayName": "Alberto Dávila Almaguer",
      "photoUrl": "https://lh3.googleusercontent.com/a/default-user=s64",
      "userId": "13077365919315327856"
     },
     "user_tz": 360
    },
    "id": "xxFPPY-v4tkp",
    "scrolled": false
   },
   "outputs": [
    {
     "data": {
      "text/plain": [
       "age                                 41\n",
       "sex                                  2\n",
       "trestbps                            47\n",
       "chol                               148\n",
       "fbs                                  2\n",
       "thalach                             89\n",
       "exang                                2\n",
       "oldpeak                             38\n",
       "ca                                   5\n",
       "RestECG normal                       2\n",
       "RestECG abnormal                     2\n",
       "RestECG ventricular hypertrophy      2\n",
       "Chest Pain typical angina            2\n",
       "Chest Pain atypical angina           2\n",
       "Chest Pain non-anginal pain          2\n",
       "Chest Pain asymptomatic              2\n",
       "Slope Upscaling                      2\n",
       "Slope Flat                           2\n",
       "Slope Downscaling                    2\n",
       "AHD Normal                           2\n",
       "AHD Fixed Defect                     2\n",
       "AHD Reversible Defect                2\n",
       "dtype: int64"
      ]
     },
     "execution_count": 38,
     "metadata": {},
     "output_type": "execute_result"
    }
   ],
   "source": [
    "# Ver los valores únicos de las columnas para determinar si los datos son numéricos o categóricos \n",
    "X.nunique()"
   ]
  },
  {
   "cell_type": "markdown",
   "id": "2be1850c",
   "metadata": {},
   "source": [
    "## We need to divide the categoric from the continuous values to standardize the numeric values, but not the categorical ones."
   ]
  },
  {
   "cell_type": "code",
   "execution_count": 39,
   "id": "34f1e49e",
   "metadata": {},
   "outputs": [
    {
     "data": {
      "text/html": [
       "<div>\n",
       "<style scoped>\n",
       "    .dataframe tbody tr th:only-of-type {\n",
       "        vertical-align: middle;\n",
       "    }\n",
       "\n",
       "    .dataframe tbody tr th {\n",
       "        vertical-align: top;\n",
       "    }\n",
       "\n",
       "    .dataframe thead th {\n",
       "        text-align: right;\n",
       "    }\n",
       "</style>\n",
       "<table border=\"1\" class=\"dataframe\">\n",
       "  <thead>\n",
       "    <tr style=\"text-align: right;\">\n",
       "      <th></th>\n",
       "      <th>sex</th>\n",
       "      <th>fbs</th>\n",
       "      <th>exang</th>\n",
       "      <th>RestECG normal</th>\n",
       "      <th>RestECG abnormal</th>\n",
       "      <th>RestECG ventricular hypertrophy</th>\n",
       "      <th>Chest Pain typical angina</th>\n",
       "      <th>Chest Pain atypical angina</th>\n",
       "      <th>Chest Pain non-anginal pain</th>\n",
       "      <th>Chest Pain asymptomatic</th>\n",
       "      <th>Slope Upscaling</th>\n",
       "      <th>Slope Flat</th>\n",
       "      <th>Slope Downscaling</th>\n",
       "      <th>AHD Normal</th>\n",
       "      <th>AHD Fixed Defect</th>\n",
       "      <th>AHD Reversible Defect</th>\n",
       "    </tr>\n",
       "  </thead>\n",
       "  <tbody>\n",
       "    <tr>\n",
       "      <th>0</th>\n",
       "      <td>1</td>\n",
       "      <td>1</td>\n",
       "      <td>0</td>\n",
       "      <td>1.0</td>\n",
       "      <td>0.0</td>\n",
       "      <td>0.0</td>\n",
       "      <td>0.0</td>\n",
       "      <td>0.0</td>\n",
       "      <td>0.0</td>\n",
       "      <td>1.0</td>\n",
       "      <td>1.0</td>\n",
       "      <td>0.0</td>\n",
       "      <td>0.0</td>\n",
       "      <td>0.0</td>\n",
       "      <td>1.0</td>\n",
       "      <td>0.0</td>\n",
       "    </tr>\n",
       "    <tr>\n",
       "      <th>1</th>\n",
       "      <td>1</td>\n",
       "      <td>0</td>\n",
       "      <td>0</td>\n",
       "      <td>0.0</td>\n",
       "      <td>1.0</td>\n",
       "      <td>0.0</td>\n",
       "      <td>0.0</td>\n",
       "      <td>0.0</td>\n",
       "      <td>1.0</td>\n",
       "      <td>0.0</td>\n",
       "      <td>1.0</td>\n",
       "      <td>0.0</td>\n",
       "      <td>0.0</td>\n",
       "      <td>0.0</td>\n",
       "      <td>0.0</td>\n",
       "      <td>1.0</td>\n",
       "    </tr>\n",
       "    <tr>\n",
       "      <th>2</th>\n",
       "      <td>0</td>\n",
       "      <td>0</td>\n",
       "      <td>0</td>\n",
       "      <td>1.0</td>\n",
       "      <td>0.0</td>\n",
       "      <td>0.0</td>\n",
       "      <td>0.0</td>\n",
       "      <td>1.0</td>\n",
       "      <td>0.0</td>\n",
       "      <td>0.0</td>\n",
       "      <td>0.0</td>\n",
       "      <td>0.0</td>\n",
       "      <td>1.0</td>\n",
       "      <td>0.0</td>\n",
       "      <td>0.0</td>\n",
       "      <td>1.0</td>\n",
       "    </tr>\n",
       "    <tr>\n",
       "      <th>3</th>\n",
       "      <td>1</td>\n",
       "      <td>0</td>\n",
       "      <td>0</td>\n",
       "      <td>0.0</td>\n",
       "      <td>1.0</td>\n",
       "      <td>0.0</td>\n",
       "      <td>0.0</td>\n",
       "      <td>1.0</td>\n",
       "      <td>0.0</td>\n",
       "      <td>0.0</td>\n",
       "      <td>0.0</td>\n",
       "      <td>0.0</td>\n",
       "      <td>1.0</td>\n",
       "      <td>0.0</td>\n",
       "      <td>0.0</td>\n",
       "      <td>1.0</td>\n",
       "    </tr>\n",
       "    <tr>\n",
       "      <th>4</th>\n",
       "      <td>0</td>\n",
       "      <td>0</td>\n",
       "      <td>1</td>\n",
       "      <td>0.0</td>\n",
       "      <td>1.0</td>\n",
       "      <td>0.0</td>\n",
       "      <td>1.0</td>\n",
       "      <td>0.0</td>\n",
       "      <td>0.0</td>\n",
       "      <td>0.0</td>\n",
       "      <td>0.0</td>\n",
       "      <td>0.0</td>\n",
       "      <td>1.0</td>\n",
       "      <td>0.0</td>\n",
       "      <td>0.0</td>\n",
       "      <td>1.0</td>\n",
       "    </tr>\n",
       "  </tbody>\n",
       "</table>\n",
       "</div>"
      ],
      "text/plain": [
       "   sex  fbs  exang  RestECG normal  RestECG abnormal  \\\n",
       "0    1    1      0             1.0               0.0   \n",
       "1    1    0      0             0.0               1.0   \n",
       "2    0    0      0             1.0               0.0   \n",
       "3    1    0      0             0.0               1.0   \n",
       "4    0    0      1             0.0               1.0   \n",
       "\n",
       "   RestECG ventricular hypertrophy  Chest Pain typical angina  \\\n",
       "0                              0.0                        0.0   \n",
       "1                              0.0                        0.0   \n",
       "2                              0.0                        0.0   \n",
       "3                              0.0                        0.0   \n",
       "4                              0.0                        1.0   \n",
       "\n",
       "   Chest Pain atypical angina  Chest Pain non-anginal pain  \\\n",
       "0                         0.0                          0.0   \n",
       "1                         0.0                          1.0   \n",
       "2                         1.0                          0.0   \n",
       "3                         1.0                          0.0   \n",
       "4                         0.0                          0.0   \n",
       "\n",
       "   Chest Pain asymptomatic  Slope Upscaling  Slope Flat  Slope Downscaling  \\\n",
       "0                      1.0              1.0         0.0                0.0   \n",
       "1                      0.0              1.0         0.0                0.0   \n",
       "2                      0.0              0.0         0.0                1.0   \n",
       "3                      0.0              0.0         0.0                1.0   \n",
       "4                      0.0              0.0         0.0                1.0   \n",
       "\n",
       "   AHD Normal  AHD Fixed Defect  AHD Reversible Defect  \n",
       "0         0.0               1.0                    0.0  \n",
       "1         0.0               0.0                    1.0  \n",
       "2         0.0               0.0                    1.0  \n",
       "3         0.0               0.0                    1.0  \n",
       "4         0.0               0.0                    1.0  "
      ]
     },
     "execution_count": 39,
     "metadata": {},
     "output_type": "execute_result"
    }
   ],
   "source": [
    "categoric = X.drop([\"age\", \"trestbps\", \"chol\", \"thalach\", \"oldpeak\", \"ca\"], axis=1)\n",
    "categoric.head()"
   ]
  },
  {
   "cell_type": "code",
   "execution_count": 40,
   "id": "2e1695f7",
   "metadata": {},
   "outputs": [
    {
     "data": {
      "text/html": [
       "<div>\n",
       "<style scoped>\n",
       "    .dataframe tbody tr th:only-of-type {\n",
       "        vertical-align: middle;\n",
       "    }\n",
       "\n",
       "    .dataframe tbody tr th {\n",
       "        vertical-align: top;\n",
       "    }\n",
       "\n",
       "    .dataframe thead th {\n",
       "        text-align: right;\n",
       "    }\n",
       "</style>\n",
       "<table border=\"1\" class=\"dataframe\">\n",
       "  <thead>\n",
       "    <tr style=\"text-align: right;\">\n",
       "      <th></th>\n",
       "      <th>age</th>\n",
       "      <th>trestbps</th>\n",
       "      <th>chol</th>\n",
       "      <th>thalach</th>\n",
       "      <th>oldpeak</th>\n",
       "      <th>ca</th>\n",
       "    </tr>\n",
       "  </thead>\n",
       "  <tbody>\n",
       "    <tr>\n",
       "      <th>0</th>\n",
       "      <td>63</td>\n",
       "      <td>145</td>\n",
       "      <td>233</td>\n",
       "      <td>150</td>\n",
       "      <td>2.3</td>\n",
       "      <td>0</td>\n",
       "    </tr>\n",
       "    <tr>\n",
       "      <th>1</th>\n",
       "      <td>37</td>\n",
       "      <td>130</td>\n",
       "      <td>250</td>\n",
       "      <td>187</td>\n",
       "      <td>3.5</td>\n",
       "      <td>0</td>\n",
       "    </tr>\n",
       "    <tr>\n",
       "      <th>2</th>\n",
       "      <td>41</td>\n",
       "      <td>130</td>\n",
       "      <td>204</td>\n",
       "      <td>172</td>\n",
       "      <td>1.4</td>\n",
       "      <td>0</td>\n",
       "    </tr>\n",
       "    <tr>\n",
       "      <th>3</th>\n",
       "      <td>56</td>\n",
       "      <td>120</td>\n",
       "      <td>236</td>\n",
       "      <td>178</td>\n",
       "      <td>0.8</td>\n",
       "      <td>0</td>\n",
       "    </tr>\n",
       "    <tr>\n",
       "      <th>4</th>\n",
       "      <td>57</td>\n",
       "      <td>120</td>\n",
       "      <td>354</td>\n",
       "      <td>163</td>\n",
       "      <td>0.6</td>\n",
       "      <td>0</td>\n",
       "    </tr>\n",
       "  </tbody>\n",
       "</table>\n",
       "</div>"
      ],
      "text/plain": [
       "   age  trestbps  chol  thalach  oldpeak  ca\n",
       "0   63       145   233      150      2.3   0\n",
       "1   37       130   250      187      3.5   0\n",
       "2   41       130   204      172      1.4   0\n",
       "3   56       120   236      178      0.8   0\n",
       "4   57       120   354      163      0.6   0"
      ]
     },
     "execution_count": 40,
     "metadata": {},
     "output_type": "execute_result"
    }
   ],
   "source": [
    "X = X[[\"age\", \"trestbps\", \"chol\", \"thalach\", \"oldpeak\", \"ca\"]]\n",
    "X.head()"
   ]
  },
  {
   "cell_type": "code",
   "execution_count": 41,
   "id": "8078aa24",
   "metadata": {},
   "outputs": [
    {
     "data": {
      "text/plain": [
       "['age',\n",
       " 'trestbps',\n",
       " 'chol',\n",
       " 'thalach',\n",
       " 'oldpeak',\n",
       " 'ca',\n",
       " 'sex',\n",
       " 'fbs',\n",
       " 'exang',\n",
       " 'RestECG normal',\n",
       " 'RestECG abnormal',\n",
       " 'RestECG ventricular hypertrophy',\n",
       " 'Chest Pain typical angina',\n",
       " 'Chest Pain atypical angina',\n",
       " 'Chest Pain non-anginal pain',\n",
       " 'Chest Pain asymptomatic',\n",
       " 'Slope Upscaling',\n",
       " 'Slope Flat',\n",
       " 'Slope Downscaling',\n",
       " 'AHD Normal',\n",
       " 'AHD Fixed Defect',\n",
       " 'AHD Reversible Defect']"
      ]
     },
     "execution_count": 41,
     "metadata": {},
     "output_type": "execute_result"
    }
   ],
   "source": [
    "featureTags = list(X.columns)\n",
    "featureTags.extend(categoric.columns)\n",
    "featureTags"
   ]
  },
  {
   "cell_type": "markdown",
   "id": "eabd4517",
   "metadata": {},
   "source": [
    "Now we standardize the continious values and append the categorical values to the new numpy array."
   ]
  },
  {
   "cell_type": "code",
   "execution_count": 42,
   "id": "f965f56b",
   "metadata": {},
   "outputs": [
    {
     "data": {
      "text/plain": [
       "array([[ 0.96298288,  0.82670223, -0.25424306,  0.00331517,  1.20042217,\n",
       "        -0.71160071],\n",
       "       [-1.89817673, -0.06939471,  0.09610443,  1.65924163,  2.30735739,\n",
       "        -0.71160071],\n",
       "       [-1.45799833, -0.06939471, -0.85189465,  0.98792009,  0.37022076,\n",
       "        -0.71160071],\n",
       "       [ 0.19267068, -0.66679267, -0.19241703,  1.25644871, -0.18324685,\n",
       "        -0.71160071],\n",
       "       [ 0.30271528, -0.66679267,  2.2394067 ,  0.58512717, -0.36773606,\n",
       "        -0.71160071]])"
      ]
     },
     "execution_count": 42,
     "metadata": {},
     "output_type": "execute_result"
    }
   ],
   "source": [
    "sc = StandardScaler()\n",
    "X = sc.fit_transform(X)\n",
    "X[:5]"
   ]
  },
  {
   "cell_type": "code",
   "execution_count": 43,
   "id": "1d8240ee",
   "metadata": {},
   "outputs": [
    {
     "data": {
      "text/plain": [
       "array([[1., 0., 0., ..., 0., 1., 0.],\n",
       "       [0., 0., 0., ..., 0., 0., 1.],\n",
       "       [1., 0., 0., ..., 0., 0., 0.],\n",
       "       ...,\n",
       "       [1., 1., 0., ..., 0., 0., 0.],\n",
       "       [1., 0., 1., ..., 0., 0., 0.],\n",
       "       [0., 0., 0., ..., 0., 0., 1.]])"
      ]
     },
     "execution_count": 43,
     "metadata": {},
     "output_type": "execute_result"
    }
   ],
   "source": [
    "categorical_array = categoric.to_numpy()\n",
    "categorical_array[5:]"
   ]
  },
  {
   "cell_type": "code",
   "execution_count": 44,
   "id": "eb8ddef9",
   "metadata": {},
   "outputs": [
    {
     "data": {
      "text/plain": [
       "array([[ 0.30271528,  0.52800325, -1.09919876, ...,  0.        ,\n",
       "         1.        ,  0.        ],\n",
       "       [ 0.19267068,  0.52800325,  1.00288616, ...,  0.        ,\n",
       "         0.        ,  1.        ],\n",
       "       [-1.12786452, -0.66679267,  0.36401721, ...,  0.        ,\n",
       "         0.        ,  0.        ],\n",
       "       ...,\n",
       "       [ 1.51320589,  0.76696243, -1.07859008, ...,  0.        ,\n",
       "         0.        ,  0.        ],\n",
       "       [ 0.30271528, -0.06939471, -2.35632797, ...,  0.        ,\n",
       "         0.        ,  0.        ],\n",
       "       [ 0.30271528, -0.06939471, -0.19241703, ...,  0.        ,\n",
       "         0.        ,  1.        ]])"
      ]
     },
     "execution_count": 44,
     "metadata": {},
     "output_type": "execute_result"
    }
   ],
   "source": [
    "new_X = np.concatenate((X,categorical_array), axis=1)\n",
    "new_X[5:]"
   ]
  },
  {
   "cell_type": "code",
   "execution_count": 45,
   "id": "e09fe4f0",
   "metadata": {},
   "outputs": [
    {
     "data": {
      "text/plain": [
       "array([ 0.96298288,  0.82670223, -0.25424306,  0.00331517,  1.20042217,\n",
       "       -0.71160071])"
      ]
     },
     "execution_count": 45,
     "metadata": {},
     "output_type": "execute_result"
    }
   ],
   "source": [
    "X[0]"
   ]
  },
  {
   "cell_type": "code",
   "execution_count": 46,
   "id": "43a1da36",
   "metadata": {},
   "outputs": [
    {
     "data": {
      "text/plain": [
       "array([ 0.96298288,  0.82670223, -0.25424306,  0.00331517,  1.20042217,\n",
       "       -0.71160071,  1.        ,  1.        ,  0.        ,  1.        ,\n",
       "        0.        ,  0.        ,  0.        ,  0.        ,  0.        ,\n",
       "        1.        ,  1.        ,  0.        ,  0.        ,  0.        ,\n",
       "        1.        ,  0.        ])"
      ]
     },
     "execution_count": 46,
     "metadata": {},
     "output_type": "execute_result"
    }
   ],
   "source": [
    "new_X[0]"
   ]
  },
  {
   "cell_type": "code",
   "execution_count": 47,
   "id": "e129c2ee",
   "metadata": {},
   "outputs": [
    {
     "name": "stdout",
     "output_type": "stream",
     "text": [
      "Feature age\t\t-> 0.9629828845018945\n",
      "Feature trestbps\t\t-> 0.8267022296292442\n",
      "Feature chol\t\t-> -0.2542430559558268\n",
      "Feature thalach\t\t-> 0.0033151680940168805\n",
      "Feature oldpeak\t\t-> 1.2004221732162654\n",
      "Feature ca\t\t-> -0.7116007074895543\n",
      "Feature sex\t\t-> 1.0\n",
      "Feature fbs\t\t-> 1.0\n",
      "Feature exang\t\t-> 0.0\n",
      "Feature RestECG normal\t\t-> 1.0\n",
      "Feature RestECG abnormal\t\t-> 0.0\n",
      "Feature RestECG ventricular hypertrophy\t\t-> 0.0\n",
      "Feature Chest Pain typical angina\t\t-> 0.0\n",
      "Feature Chest Pain atypical angina\t\t-> 0.0\n",
      "Feature Chest Pain non-anginal pain\t\t-> 0.0\n",
      "Feature Chest Pain asymptomatic\t\t-> 1.0\n",
      "Feature Slope Upscaling\t\t-> 1.0\n",
      "Feature Slope Flat\t\t-> 0.0\n",
      "Feature Slope Downscaling\t\t-> 0.0\n",
      "Feature AHD Normal\t\t-> 0.0\n",
      "Feature AHD Fixed Defect\t\t-> 1.0\n",
      "Feature AHD Reversible Defect\t\t-> 0.0\n"
     ]
    }
   ],
   "source": [
    "for feature, val in zip(featureTags, new_X[0]):\n",
    "    print(f\"Feature {feature}\\t\\t-> {val}\")"
   ]
  },
  {
   "cell_type": "markdown",
   "id": "a5caaddb",
   "metadata": {},
   "source": [
    "### Dividing into the Training & Test Sets"
   ]
  },
  {
   "cell_type": "code",
   "execution_count": 48,
   "id": "679cc4e3",
   "metadata": {
    "executionInfo": {
     "elapsed": 17,
     "status": "ok",
     "timestamp": 1637439388321,
     "user": {
      "displayName": "Alberto Dávila Almaguer",
      "photoUrl": "https://lh3.googleusercontent.com/a/default-user=s64",
      "userId": "13077365919315327856"
     },
     "user_tz": 360
    },
    "id": "X1ToZv498oQW"
   },
   "outputs": [],
   "source": [
    "X_train, X_test, y_train, y_test = train_test_split(new_X, y, test_size=0.2, random_state=42)"
   ]
  },
  {
   "cell_type": "code",
   "execution_count": 49,
   "id": "3e351303",
   "metadata": {
    "scrolled": true
   },
   "outputs": [
    {
     "name": "stdout",
     "output_type": "stream",
     "text": [
      "Total number of data is 297\n",
      "Cantidad de positivos datos en y_train\t= 130\n",
      "Cantidad de positivos datos en y_test \t= 34\n",
      "Cantidad de negativos datos en y_train\t= 107\n",
      "Cantidad de negativos datos en y_test \t= 26\n"
     ]
    }
   ],
   "source": [
    "print(f\"Total number of data is {len(y_train) + len(y_test)}\")\n",
    "\n",
    "print(f\"Cantidad de positivos datos en y_train\\t= {len(y_train[y_train == 1])}\")\n",
    "print(f\"Cantidad de positivos datos en y_test \\t= {len(y_test[y_test == 1])}\")\n",
    "print(f\"Cantidad de negativos datos en y_train\\t= {len(y_train[y_train == 0])}\")\n",
    "print(f\"Cantidad de negativos datos en y_test \\t= {len(y_test[y_test == 0])}\")"
   ]
  },
  {
   "cell_type": "code",
   "execution_count": 50,
   "id": "abe8f3c7",
   "metadata": {},
   "outputs": [
    {
     "name": "stdout",
     "output_type": "stream",
     "text": [
      "Ratio of negatives over positives is 54.85232067510548%\n",
      "Ratio of negatives over positives is 56.666666666666664%\n"
     ]
    }
   ],
   "source": [
    "print(f\"Ratio of negatives over positives is {(len(y_train[y_train == 1])/len(y_train))*100}%\")\n",
    "print(f\"Ratio of negatives over positives is {(len(y_test[y_test == 1])/len(y_test))*100}%\")"
   ]
  },
  {
   "cell_type": "markdown",
   "id": "44cac4af",
   "metadata": {},
   "source": [
    "# KNN "
   ]
  },
  {
   "cell_type": "code",
   "execution_count": 51,
   "id": "d2282606",
   "metadata": {},
   "outputs": [],
   "source": [
    "#Modelos de vecinos mas cercanos \n",
    "#Predicciones en los modelos con mayor puntaje de precision\n",
    "\n",
    "NN_1=KNeighborsClassifier(n_neighbors=1, algorithm=\"auto\")\n",
    "NN_1.fit(X_train, y_train)\n",
    "predict_NN_1=NN_1.predict(X_test)\n",
    "score_NN_1= NN_1.score(X_test, y_test)\n",
    "\n",
    "NN_2=KNeighborsClassifier(n_neighbors=2, algorithm=\"auto\")\n",
    "NN_2.fit(X_train, y_train)\n",
    "score_NN_2= NN_2.score(X_test, y_test)\n",
    "\n",
    "NN_3=KNeighborsClassifier(n_neighbors=3, algorithm=\"auto\")\n",
    "NN_3.fit(X_train, y_train)\n",
    "score_NN_3= NN_3.score(X_test, y_test)\n",
    "\n",
    "\n",
    "NN_5=KNeighborsClassifier(n_neighbors=5, algorithm=\"auto\")\n",
    "NN_5.fit(X_train, y_train)\n",
    "score_NN_5= NN_5.score(X_test, y_test)\n",
    "predict_NN_5=NN_5.predict(X_test)\n",
    "\n",
    "NN_10=KNeighborsClassifier(n_neighbors=10, algorithm=\"auto\")\n",
    "NN_10.fit(X_train, y_train)\n",
    "score_NN_10= NN_10.score(X_test, y_test)\n",
    "\n",
    "NN_15=KNeighborsClassifier(n_neighbors=15, algorithm=\"auto\")\n",
    "NN_15.fit(X_train, y_train)\n",
    "score_NN_15= NN_15.score(X_test, y_test)\n",
    "\n",
    "NN_20=KNeighborsClassifier(n_neighbors=20, algorithm=\"auto\")\n",
    "NN_20.fit(X_train, y_train)\n",
    "score_NN_20= NN_20.score(X_test, y_test)\n",
    "predict_NN_20=NN_20.predict(X_test)\n",
    "\n",
    "NN_50=KNeighborsClassifier(n_neighbors=50, algorithm=\"auto\")\n",
    "NN_50.fit(X_train, y_train)\n",
    "score_NN_50= NN_50.score(X_test, y_test)\n",
    "\n",
    "NN_75=KNeighborsClassifier(n_neighbors=75, algorithm=\"auto\")\n",
    "NN_75.fit(X_train, y_train)\n",
    "score_NN_75= NN_75.score(X_test, y_test)\n",
    "\n",
    "NN_100=KNeighborsClassifier(n_neighbors=100, algorithm=\"auto\")\n",
    "NN_100.fit(X_train, y_train)\n",
    "score_NN_100= NN_100.score(X_test, y_test)"
   ]
  },
  {
   "cell_type": "code",
   "execution_count": 52,
   "id": "180468ec",
   "metadata": {
    "scrolled": true
   },
   "outputs": [
    {
     "data": {
      "image/png": "[encoded data removed]",
      "text/plain": [
       "<Figure size 432x288 with 1 Axes>"
      ]
     },
     "metadata": {
      "needs_background": "light"
     },
     "output_type": "display_data"
    }
   ],
   "source": [
    "#Grafica de Puntaje de precision vs numero de k (dataset default)\n",
    "\n",
    "plt.title('Puntaje de precision vs numero de k (dataset default)')\n",
    "plt.plot([1,2,3,5,10,15,20,50,75,100], [score_NN_1, score_NN_2, score_NN_3, score_NN_5, score_NN_10, score_NN_15, score_NN_20, score_NN_50, score_NN_75, score_NN_100])\n",
    "plt.xlabel('Numero de vecinos')\n",
    "plt.ylabel('Puntaje de precision')\n",
    "plt.xlim([0,100])\n",
    "plt.grid()\n",
    "plt.show()"
   ]
  },
  {
   "cell_type": "markdown",
   "id": "e3029dce",
   "metadata": {},
   "source": [
    "# KNN - GridSearch"
   ]
  },
  {
   "cell_type": "code",
   "execution_count": 53,
   "id": "d6241330",
   "metadata": {},
   "outputs": [],
   "source": [
    "knn = KNeighborsClassifier()\n",
    "k_range = list(range(1, 100))\n",
    "leaf_size = list(range(1, 10))\n",
    "\n",
    "\n",
    "param_grid = {\n",
    "    'n_neighbors': k_range,\n",
    "    'algorithm':['auto', 'ball_tree', 'kd_tree', 'brute'],\n",
    "    'leaf_size':leaf_size,\n",
    "}\n",
    "  \n",
    "# defining parameter range\n",
    "grid = GridSearchCV(knn, param_grid, cv=3, scoring='roc_auc',verbose=0, n_jobs=10)\n",
    "  \n",
    "# fitting the model for grid search\n",
    "grid_search=grid.fit(X_train, y_train)"
   ]
  },
  {
   "cell_type": "code",
   "execution_count": 54,
   "id": "ae1ec63a",
   "metadata": {},
   "outputs": [
    {
     "name": "stdout",
     "output_type": "stream",
     "text": [
      "{'algorithm': 'auto', 'leaf_size': 1, 'n_neighbors': 39}\n"
     ]
    }
   ],
   "source": [
    "print(grid.best_params_)"
   ]
  },
  {
   "cell_type": "markdown",
   "id": "8c7c1f63",
   "metadata": {},
   "source": [
    "# KNN: Mejores resultados"
   ]
  },
  {
   "cell_type": "code",
   "execution_count": 55,
   "id": "00589654",
   "metadata": {},
   "outputs": [
    {
     "data": {
      "text/plain": [
       "KNeighborsClassifier(leaf_size=1, n_neighbors=39)"
      ]
     },
     "execution_count": 55,
     "metadata": {},
     "output_type": "execute_result"
    }
   ],
   "source": [
    "NN_best=KNeighborsClassifier(n_neighbors=39, algorithm=\"auto\", leaf_size =1)\n",
    "NN_best.fit(X_train, y_train)"
   ]
  },
  {
   "cell_type": "code",
   "execution_count": 56,
   "id": "fdf3177d",
   "metadata": {},
   "outputs": [],
   "source": [
    "predict_NN=NN_best.predict(X_test)\n",
    "score_NN_best= NN_best.score(X_test, y_test)"
   ]
  },
  {
   "cell_type": "code",
   "execution_count": 57,
   "id": "959b4df2",
   "metadata": {},
   "outputs": [
    {
     "data": {
      "image/png": "[encoded data removed]",
      "text/plain": [
       "<Figure size 432x288 with 1 Axes>"
      ]
     },
     "metadata": {
      "needs_background": "light"
     },
     "output_type": "display_data"
    }
   ],
   "source": [
    "fpr_NN, tpr_NN, threshold_NN = roc_curve(y_test, predict_NN)\n",
    "roc_auc_NN = auc(fpr_NN, tpr_NN)\n",
    "\n",
    "plt.title('Receiver Operating Characteristic (5_NN)')\n",
    "plt.plot(fpr_NN, tpr_NN, 'b', label = 'AUC = %0.2f' % roc_auc_NN)\n",
    "plt.legend(loc = 'lower right')\n",
    "plt.plot([0, 1], [0, 1],'r--')\n",
    "plt.xlim([0, 1])\n",
    "plt.ylim([0, 1])\n",
    "plt.ylabel('True Positive Rate')\n",
    "plt.xlabel('False Positive Rate')\n",
    "plt.grid(True)\n",
    "plt.show()"
   ]
  },
  {
   "cell_type": "code",
   "execution_count": 58,
   "id": "100c9c97",
   "metadata": {},
   "outputs": [],
   "source": [
    "NN_50=KNeighborsClassifier(n_neighbors=50)\n",
    "NN_50.fit(X_train, y_train)\n",
    "predict_NN_50=NN_50.predict(X_test)\n",
    "score_NN_50= NN_50.score(X_test, y_test)\n"
   ]
  },
  {
   "cell_type": "code",
   "execution_count": 59,
   "id": "5c733c13",
   "metadata": {},
   "outputs": [
    {
     "data": {
      "text/plain": [
       "0.8666666666666667"
      ]
     },
     "execution_count": 59,
     "metadata": {},
     "output_type": "execute_result"
    }
   ],
   "source": [
    "score_NN_50"
   ]
  },
  {
   "cell_type": "code",
   "execution_count": 60,
   "id": "e29eb772",
   "metadata": {},
   "outputs": [
    {
     "data": {
      "image/png": "[encoded data removed]",
      "text/plain": [
       "<Figure size 432x288 with 1 Axes>"
      ]
     },
     "metadata": {
      "needs_background": "light"
     },
     "output_type": "display_data"
    }
   ],
   "source": [
    "fpr_NN, tpr_NN, threshold_NN = roc_curve(y_test, predict_NN_50)\n",
    "roc_auc_NN = auc(fpr_NN, tpr_NN)\n",
    "\n",
    "plt.title('Receiver Operating Characteristic (5_NN)')\n",
    "plt.plot(fpr_NN, tpr_NN, 'b', label = 'AUC = %0.2f' % roc_auc_NN)\n",
    "plt.legend(loc = 'lower right')\n",
    "plt.plot([0, 1], [0, 1],'r--')\n",
    "plt.xlim([0, 1])\n",
    "plt.ylim([0, 1])\n",
    "plt.ylabel('True Positive Rate')\n",
    "plt.xlabel('False Positive Rate')\n",
    "plt.grid(True)\n",
    "plt.show()"
   ]
  },
  {
   "cell_type": "code",
   "execution_count": null,
   "id": "cb7ef09f",
   "metadata": {},
   "outputs": [],
   "source": []
  }
 ],
 "metadata": {
  "colab": {
   "name": "heart_attack_prediction.ipynb",
   "version": ""
  },
  "kernelspec": {
   "display_name": "Python 3",
   "language": "python",
   "name": "python3"
  },
  "language_info": {
   "codemirror_mode": {
    "name": "ipython",
    "version": 3
   },
   "file_extension": ".py",
   "mimetype": "text/x-python",
   "name": "python",
   "nbconvert_exporter": "python",
   "pygments_lexer": "ipython3",
   "version": "3.7.11"
  }
 },
 "nbformat": 4,
 "nbformat_minor": 5
}
