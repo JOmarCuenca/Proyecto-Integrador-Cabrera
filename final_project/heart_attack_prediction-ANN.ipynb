{
 "cells": [
  {
   "cell_type": "code",
   "execution_count": 1,
   "metadata": {
    "executionInfo": {
     "elapsed": 329,
     "status": "ok",
     "timestamp": 1638134052459,
     "user": {
      "displayName": "Gerardo Alfonso Silva Razo",
      "photoUrl": "https://lh3.googleusercontent.com/a/default-user=s64",
      "userId": "11961439085699130760"
     },
     "user_tz": 360
    },
    "id": "eoWQwhpbV5Yd"
   },
   "outputs": [],
   "source": [
    "import matplotlib.pyplot as plt\n",
    "import numpy as np\n",
    "import pandas as pd\n",
    "from scipy import stats\n",
    "import seaborn as sns\n",
    "from sklearn.preprocessing import StandardScaler\n",
    "from sklearn.model_selection import train_test_split\n",
    "\n",
    "#from sklearn.model_selection import train_test_split\n",
    "#from sklearn.preprocessing import MinMaxScaler\n",
    "\n",
    "#from sklearn import datasets, linear_model\n",
    "#from sklearn.linear_model import LogisticRegression\n",
    "\n",
    "%matplotlib inline"
   ]
  },
  {
   "cell_type": "code",
   "execution_count": 2,
   "metadata": {
    "executionInfo": {
     "elapsed": 2,
     "status": "ok",
     "timestamp": 1638134052620,
     "user": {
      "displayName": "Gerardo Alfonso Silva Razo",
      "photoUrl": "https://lh3.googleusercontent.com/a/default-user=s64",
      "userId": "11961439085699130760"
     },
     "user_tz": 360
    },
    "id": "LwzxytI2WF78"
   },
   "outputs": [],
   "source": [
    "# Uncomment when running locally\n",
    "data = pd.read_csv('data/Heart Attack Data Set.csv')\n",
    "index_dropped_rows=[]"
   ]
  },
  {
   "cell_type": "code",
   "execution_count": 3,
   "metadata": {
    "colab": {
     "base_uri": "https://localhost:8080/"
    },
    "executionInfo": {
     "elapsed": 12,
     "status": "ok",
     "timestamp": 1638134053921,
     "user": {
      "displayName": "Gerardo Alfonso Silva Razo",
      "photoUrl": "https://lh3.googleusercontent.com/a/default-user=s64",
      "userId": "11961439085699130760"
     },
     "user_tz": 360
    },
    "id": "FdeZI5JjWF3i",
    "outputId": "e8b3bb1b-321b-461f-a8eb-76a51ec202e2"
   },
   "outputs": [
    {
     "name": "stdout",
     "output_type": "stream",
     "text": [
      "['age', 'sex', 'cp', 'trestbps', 'chol', 'fbs', 'restecg', 'thalach', 'exang', 'oldpeak', 'slope', 'ca', 'thal', 'target']\n"
     ]
    }
   ],
   "source": [
    "print(data.columns.tolist())"
   ]
  },
  {
   "cell_type": "code",
   "execution_count": 4,
   "metadata": {
    "colab": {
     "base_uri": "https://localhost:8080/",
     "height": 419
    },
    "executionInfo": {
     "elapsed": 10,
     "status": "ok",
     "timestamp": 1638134053922,
     "user": {
      "displayName": "Gerardo Alfonso Silva Razo",
      "photoUrl": "https://lh3.googleusercontent.com/a/default-user=s64",
      "userId": "11961439085699130760"
     },
     "user_tz": 360
    },
    "id": "m6AX7VV8WF0H",
    "outputId": "db63240f-8d85-4333-b528-d59c0d9166fc"
   },
   "outputs": [
    {
     "data": {
      "text/html": [
       "<div>\n",
       "<style scoped>\n",
       "    .dataframe tbody tr th:only-of-type {\n",
       "        vertical-align: middle;\n",
       "    }\n",
       "\n",
       "    .dataframe tbody tr th {\n",
       "        vertical-align: top;\n",
       "    }\n",
       "\n",
       "    .dataframe thead th {\n",
       "        text-align: right;\n",
       "    }\n",
       "</style>\n",
       "<table border=\"1\" class=\"dataframe\">\n",
       "  <thead>\n",
       "    <tr style=\"text-align: right;\">\n",
       "      <th></th>\n",
       "      <th>age</th>\n",
       "      <th>sex</th>\n",
       "      <th>cp</th>\n",
       "      <th>trestbps</th>\n",
       "      <th>chol</th>\n",
       "      <th>fbs</th>\n",
       "      <th>restecg</th>\n",
       "      <th>thalach</th>\n",
       "      <th>exang</th>\n",
       "      <th>oldpeak</th>\n",
       "      <th>slope</th>\n",
       "      <th>ca</th>\n",
       "      <th>thal</th>\n",
       "      <th>target</th>\n",
       "    </tr>\n",
       "  </thead>\n",
       "  <tbody>\n",
       "    <tr>\n",
       "      <th>0</th>\n",
       "      <td>63</td>\n",
       "      <td>1</td>\n",
       "      <td>3</td>\n",
       "      <td>145</td>\n",
       "      <td>233</td>\n",
       "      <td>1</td>\n",
       "      <td>0</td>\n",
       "      <td>150</td>\n",
       "      <td>0</td>\n",
       "      <td>2.3</td>\n",
       "      <td>0</td>\n",
       "      <td>0</td>\n",
       "      <td>1</td>\n",
       "      <td>1</td>\n",
       "    </tr>\n",
       "    <tr>\n",
       "      <th>1</th>\n",
       "      <td>37</td>\n",
       "      <td>1</td>\n",
       "      <td>2</td>\n",
       "      <td>130</td>\n",
       "      <td>250</td>\n",
       "      <td>0</td>\n",
       "      <td>1</td>\n",
       "      <td>187</td>\n",
       "      <td>0</td>\n",
       "      <td>3.5</td>\n",
       "      <td>0</td>\n",
       "      <td>0</td>\n",
       "      <td>2</td>\n",
       "      <td>1</td>\n",
       "    </tr>\n",
       "    <tr>\n",
       "      <th>2</th>\n",
       "      <td>41</td>\n",
       "      <td>0</td>\n",
       "      <td>1</td>\n",
       "      <td>130</td>\n",
       "      <td>204</td>\n",
       "      <td>0</td>\n",
       "      <td>0</td>\n",
       "      <td>172</td>\n",
       "      <td>0</td>\n",
       "      <td>1.4</td>\n",
       "      <td>2</td>\n",
       "      <td>0</td>\n",
       "      <td>2</td>\n",
       "      <td>1</td>\n",
       "    </tr>\n",
       "    <tr>\n",
       "      <th>3</th>\n",
       "      <td>56</td>\n",
       "      <td>1</td>\n",
       "      <td>1</td>\n",
       "      <td>120</td>\n",
       "      <td>236</td>\n",
       "      <td>0</td>\n",
       "      <td>1</td>\n",
       "      <td>178</td>\n",
       "      <td>0</td>\n",
       "      <td>0.8</td>\n",
       "      <td>2</td>\n",
       "      <td>0</td>\n",
       "      <td>2</td>\n",
       "      <td>1</td>\n",
       "    </tr>\n",
       "    <tr>\n",
       "      <th>4</th>\n",
       "      <td>57</td>\n",
       "      <td>0</td>\n",
       "      <td>0</td>\n",
       "      <td>120</td>\n",
       "      <td>354</td>\n",
       "      <td>0</td>\n",
       "      <td>1</td>\n",
       "      <td>163</td>\n",
       "      <td>1</td>\n",
       "      <td>0.6</td>\n",
       "      <td>2</td>\n",
       "      <td>0</td>\n",
       "      <td>2</td>\n",
       "      <td>1</td>\n",
       "    </tr>\n",
       "    <tr>\n",
       "      <th>...</th>\n",
       "      <td>...</td>\n",
       "      <td>...</td>\n",
       "      <td>...</td>\n",
       "      <td>...</td>\n",
       "      <td>...</td>\n",
       "      <td>...</td>\n",
       "      <td>...</td>\n",
       "      <td>...</td>\n",
       "      <td>...</td>\n",
       "      <td>...</td>\n",
       "      <td>...</td>\n",
       "      <td>...</td>\n",
       "      <td>...</td>\n",
       "      <td>...</td>\n",
       "    </tr>\n",
       "    <tr>\n",
       "      <th>298</th>\n",
       "      <td>57</td>\n",
       "      <td>0</td>\n",
       "      <td>0</td>\n",
       "      <td>140</td>\n",
       "      <td>241</td>\n",
       "      <td>0</td>\n",
       "      <td>1</td>\n",
       "      <td>123</td>\n",
       "      <td>1</td>\n",
       "      <td>0.2</td>\n",
       "      <td>1</td>\n",
       "      <td>0</td>\n",
       "      <td>3</td>\n",
       "      <td>0</td>\n",
       "    </tr>\n",
       "    <tr>\n",
       "      <th>299</th>\n",
       "      <td>45</td>\n",
       "      <td>1</td>\n",
       "      <td>3</td>\n",
       "      <td>110</td>\n",
       "      <td>264</td>\n",
       "      <td>0</td>\n",
       "      <td>1</td>\n",
       "      <td>132</td>\n",
       "      <td>0</td>\n",
       "      <td>1.2</td>\n",
       "      <td>1</td>\n",
       "      <td>0</td>\n",
       "      <td>3</td>\n",
       "      <td>0</td>\n",
       "    </tr>\n",
       "    <tr>\n",
       "      <th>300</th>\n",
       "      <td>68</td>\n",
       "      <td>1</td>\n",
       "      <td>0</td>\n",
       "      <td>144</td>\n",
       "      <td>193</td>\n",
       "      <td>1</td>\n",
       "      <td>1</td>\n",
       "      <td>141</td>\n",
       "      <td>0</td>\n",
       "      <td>3.4</td>\n",
       "      <td>1</td>\n",
       "      <td>2</td>\n",
       "      <td>3</td>\n",
       "      <td>0</td>\n",
       "    </tr>\n",
       "    <tr>\n",
       "      <th>301</th>\n",
       "      <td>57</td>\n",
       "      <td>1</td>\n",
       "      <td>0</td>\n",
       "      <td>130</td>\n",
       "      <td>131</td>\n",
       "      <td>0</td>\n",
       "      <td>1</td>\n",
       "      <td>115</td>\n",
       "      <td>1</td>\n",
       "      <td>1.2</td>\n",
       "      <td>1</td>\n",
       "      <td>1</td>\n",
       "      <td>3</td>\n",
       "      <td>0</td>\n",
       "    </tr>\n",
       "    <tr>\n",
       "      <th>302</th>\n",
       "      <td>57</td>\n",
       "      <td>0</td>\n",
       "      <td>1</td>\n",
       "      <td>130</td>\n",
       "      <td>236</td>\n",
       "      <td>0</td>\n",
       "      <td>0</td>\n",
       "      <td>174</td>\n",
       "      <td>0</td>\n",
       "      <td>0.0</td>\n",
       "      <td>1</td>\n",
       "      <td>1</td>\n",
       "      <td>2</td>\n",
       "      <td>0</td>\n",
       "    </tr>\n",
       "  </tbody>\n",
       "</table>\n",
       "<p>303 rows × 14 columns</p>\n",
       "</div>"
      ],
      "text/plain": [
       "     age  sex  cp  trestbps  chol  fbs  restecg  thalach  exang  oldpeak  \\\n",
       "0     63    1   3       145   233    1        0      150      0      2.3   \n",
       "1     37    1   2       130   250    0        1      187      0      3.5   \n",
       "2     41    0   1       130   204    0        0      172      0      1.4   \n",
       "3     56    1   1       120   236    0        1      178      0      0.8   \n",
       "4     57    0   0       120   354    0        1      163      1      0.6   \n",
       "..   ...  ...  ..       ...   ...  ...      ...      ...    ...      ...   \n",
       "298   57    0   0       140   241    0        1      123      1      0.2   \n",
       "299   45    1   3       110   264    0        1      132      0      1.2   \n",
       "300   68    1   0       144   193    1        1      141      0      3.4   \n",
       "301   57    1   0       130   131    0        1      115      1      1.2   \n",
       "302   57    0   1       130   236    0        0      174      0      0.0   \n",
       "\n",
       "     slope  ca  thal  target  \n",
       "0        0   0     1       1  \n",
       "1        0   0     2       1  \n",
       "2        2   0     2       1  \n",
       "3        2   0     2       1  \n",
       "4        2   0     2       1  \n",
       "..     ...  ..   ...     ...  \n",
       "298      1   0     3       0  \n",
       "299      1   0     3       0  \n",
       "300      1   2     3       0  \n",
       "301      1   1     3       0  \n",
       "302      1   1     2       0  \n",
       "\n",
       "[303 rows x 14 columns]"
      ]
     },
     "metadata": {},
     "output_type": "display_data"
    }
   ],
   "source": [
    "display(data)"
   ]
  },
  {
   "cell_type": "code",
   "execution_count": 5,
   "metadata": {
    "colab": {
     "base_uri": "https://localhost:8080/"
    },
    "executionInfo": {
     "elapsed": 9,
     "status": "ok",
     "timestamp": 1638134053922,
     "user": {
      "displayName": "Gerardo Alfonso Silva Razo",
      "photoUrl": "https://lh3.googleusercontent.com/a/default-user=s64",
      "userId": "11961439085699130760"
     },
     "user_tz": 360
    },
    "id": "hc_0HiX3WFxW",
    "outputId": "1b301662-516b-4953-80d7-ba53f3268d5e"
   },
   "outputs": [
    {
     "name": "stdout",
     "output_type": "stream",
     "text": [
      "<class 'pandas.core.frame.DataFrame'>\n",
      "RangeIndex: 303 entries, 0 to 302\n",
      "Data columns (total 14 columns):\n",
      " #   Column    Non-Null Count  Dtype  \n",
      "---  ------    --------------  -----  \n",
      " 0   age       303 non-null    int64  \n",
      " 1   sex       303 non-null    int64  \n",
      " 2   cp        303 non-null    int64  \n",
      " 3   trestbps  303 non-null    int64  \n",
      " 4   chol      303 non-null    int64  \n",
      " 5   fbs       303 non-null    int64  \n",
      " 6   restecg   303 non-null    int64  \n",
      " 7   thalach   303 non-null    int64  \n",
      " 8   exang     303 non-null    int64  \n",
      " 9   oldpeak   303 non-null    float64\n",
      " 10  slope     303 non-null    int64  \n",
      " 11  ca        303 non-null    int64  \n",
      " 12  thal      303 non-null    int64  \n",
      " 13  target    303 non-null    int64  \n",
      "dtypes: float64(1), int64(13)\n",
      "memory usage: 33.3 KB\n"
     ]
    }
   ],
   "source": [
    "data.info()"
   ]
  },
  {
   "cell_type": "markdown",
   "metadata": {
    "id": "x-3MdyKPWiyW"
   },
   "source": [
    "# Análisis de Datos"
   ]
  },
  {
   "cell_type": "markdown",
   "metadata": {
    "id": "AXtlQ7H1Wlrw"
   },
   "source": [
    "## Sex"
   ]
  },
  {
   "cell_type": "code",
   "execution_count": 6,
   "metadata": {
    "colab": {
     "base_uri": "https://localhost:8080/",
     "height": 0
    },
    "executionInfo": {
     "elapsed": 228,
     "status": "ok",
     "timestamp": 1638134054144,
     "user": {
      "displayName": "Gerardo Alfonso Silva Razo",
      "photoUrl": "https://lh3.googleusercontent.com/a/default-user=s64",
      "userId": "11961439085699130760"
     },
     "user_tz": 360
    },
    "id": "YNRGGH3YWFux",
    "outputId": "6d3e1390-2c5d-402c-b3fb-56f9871faa99"
   },
   "outputs": [
    {
     "data": {
      "image/png": "[encoded data removed]",
      "text/plain": [
       "<Figure size 432x288 with 1 Axes>"
      ]
     },
     "metadata": {
      "needs_background": "light"
     },
     "output_type": "display_data"
    }
   ],
   "source": [
    "sns.countplot(data=data,x='sex')\n",
    "plt.show()"
   ]
  },
  {
   "cell_type": "code",
   "execution_count": 7,
   "metadata": {
    "colab": {
     "base_uri": "https://localhost:8080/",
     "height": 0
    },
    "executionInfo": {
     "elapsed": 187,
     "status": "ok",
     "timestamp": 1638134054324,
     "user": {
      "displayName": "Gerardo Alfonso Silva Razo",
      "photoUrl": "https://lh3.googleusercontent.com/a/default-user=s64",
      "userId": "11961439085699130760"
     },
     "user_tz": 360
    },
    "id": "MBDUYoz5WFsB",
    "outputId": "363c3685-7e0f-433a-b62f-f668545b6c55"
   },
   "outputs": [
    {
     "data": {
      "text/plain": [
       "<AxesSubplot:xlabel='sex', ylabel='count'>"
      ]
     },
     "execution_count": 7,
     "metadata": {},
     "output_type": "execute_result"
    },
    {
     "data": {
      "image/png": "[encoded data removed]",
      "text/plain": [
       "<Figure size 432x288 with 1 Axes>"
      ]
     },
     "metadata": {
      "needs_background": "light"
     },
     "output_type": "display_data"
    }
   ],
   "source": [
    "sns.countplot(data=data,x='sex', hue='target')"
   ]
  },
  {
   "cell_type": "markdown",
   "metadata": {
    "id": "y96IVYrVW8Dj"
   },
   "source": [
    "## Age"
   ]
  },
  {
   "cell_type": "code",
   "execution_count": 8,
   "metadata": {
    "colab": {
     "base_uri": "https://localhost:8080/",
     "height": 0
    },
    "executionInfo": {
     "elapsed": 937,
     "status": "ok",
     "timestamp": 1638134055258,
     "user": {
      "displayName": "Gerardo Alfonso Silva Razo",
      "photoUrl": "https://lh3.googleusercontent.com/a/default-user=s64",
      "userId": "11961439085699130760"
     },
     "user_tz": 360
    },
    "id": "LeT6Ay-BWE6K",
    "outputId": "f107866b-767b-4017-da86-e0c17c98818f"
   },
   "outputs": [
    {
     "data": {
      "text/plain": [
       "<AxesSubplot:xlabel='target', ylabel='age'>"
      ]
     },
     "execution_count": 8,
     "metadata": {},
     "output_type": "execute_result"
    },
    {
     "data": {
      "image/png": "[encoded data removed]",
      "text/plain": [
       "<Figure size 360x360 with 1 Axes>"
      ]
     },
     "metadata": {
      "needs_background": "light"
     },
     "output_type": "display_data"
    },
    {
     "data": {
      "image/png": "[encoded data removed]",
      "text/plain": [
       "<Figure size 1080x504 with 1 Axes>"
      ]
     },
     "metadata": {
      "needs_background": "light"
     },
     "output_type": "display_data"
    }
   ],
   "source": [
    "data['age'].nunique()\n",
    "sns.displot(data['age'])\n",
    "plt.figure(figsize=(15,7))\n",
    "sns.boxplot(data=data,x='target',y='age')"
   ]
  },
  {
   "cell_type": "markdown",
   "metadata": {
    "id": "hcnwaFEVXAEY"
   },
   "source": [
    "## Chest Pain type \n",
    "1: typical angina (all criteria present)\n",
    "2: atypical angina (two of three criteria satisfied)  \n",
    "3: non-anginal pain (less than one criteria satisfied) \n",
    "4: asymptomatic (none of the criteria are satisfied)"
   ]
  },
  {
   "cell_type": "code",
   "execution_count": 9,
   "metadata": {
    "colab": {
     "base_uri": "https://localhost:8080/",
     "height": 0
    },
    "executionInfo": {
     "elapsed": 8,
     "status": "ok",
     "timestamp": 1638134055259,
     "user": {
      "displayName": "Gerardo Alfonso Silva Razo",
      "photoUrl": "https://lh3.googleusercontent.com/a/default-user=s64",
      "userId": "11961439085699130760"
     },
     "user_tz": 360
    },
    "id": "EWP8GfQvWE3T",
    "outputId": "8669bd1a-1e98-4738-898e-cbc5da9d3496"
   },
   "outputs": [
    {
     "data": {
      "text/plain": [
       "<AxesSubplot:xlabel='cp', ylabel='count'>"
      ]
     },
     "execution_count": 9,
     "metadata": {},
     "output_type": "execute_result"
    },
    {
     "data": {
      "image/png": "[encoded data removed]",
      "text/plain": [
       "<Figure size 432x288 with 1 Axes>"
      ]
     },
     "metadata": {
      "needs_background": "light"
     },
     "output_type": "display_data"
    }
   ],
   "source": [
    "sns.countplot(data=data,x='cp',hue='target')"
   ]
  },
  {
   "cell_type": "markdown",
   "metadata": {
    "id": "w1F-0lQEXMWT"
   },
   "source": [
    "## Resting Blood pressure \n",
    "(in mmHg, upon admission to the hospital)"
   ]
  },
  {
   "cell_type": "code",
   "execution_count": 10,
   "metadata": {
    "colab": {
     "base_uri": "https://localhost:8080/",
     "height": 0
    },
    "executionInfo": {
     "elapsed": 552,
     "status": "ok",
     "timestamp": 1638134055806,
     "user": {
      "displayName": "Gerardo Alfonso Silva Razo",
      "photoUrl": "https://lh3.googleusercontent.com/a/default-user=s64",
      "userId": "11961439085699130760"
     },
     "user_tz": 360
    },
    "id": "PHZTosaZWE1A",
    "outputId": "834b9545-e178-4733-e131-b03a11c9ad60"
   },
   "outputs": [
    {
     "name": "stdout",
     "output_type": "stream",
     "text": [
      "2\n"
     ]
    },
    {
     "data": {
      "image/png": "[encoded data removed]",
      "text/plain": [
       "<Figure size 360x360 with 1 Axes>"
      ]
     },
     "metadata": {
      "needs_background": "light"
     },
     "output_type": "display_data"
    },
    {
     "data": {
      "image/png": "[encoded data removed]",
      "text/plain": [
       "<Figure size 1080x504 with 1 Axes>"
      ]
     },
     "metadata": {
      "needs_background": "light"
     },
     "output_type": "display_data"
    }
   ],
   "source": [
    "data['trestbps'].nunique()\n",
    "sns.displot(data['trestbps'])\n",
    "plt.figure(figsize=(15,7))\n",
    "sns.boxplot(data=data,x='target',y='trestbps')\n",
    "\n",
    "\n",
    "print(len(data[data['trestbps']>180]))"
   ]
  },
  {
   "cell_type": "code",
   "execution_count": 11,
   "metadata": {
    "colab": {
     "base_uri": "https://localhost:8080/",
     "height": 0
    },
    "executionInfo": {
     "elapsed": 9,
     "status": "ok",
     "timestamp": 1638134055807,
     "user": {
      "displayName": "Gerardo Alfonso Silva Razo",
      "photoUrl": "https://lh3.googleusercontent.com/a/default-user=s64",
      "userId": "11961439085699130760"
     },
     "user_tz": 360
    },
    "id": "g3x7jxu_WEyd",
    "outputId": "2e9d194d-9f2b-4bc1-cee4-95f6ea8f37ac"
   },
   "outputs": [
    {
     "data": {
      "text/html": [
       "<div>\n",
       "<style scoped>\n",
       "    .dataframe tbody tr th:only-of-type {\n",
       "        vertical-align: middle;\n",
       "    }\n",
       "\n",
       "    .dataframe tbody tr th {\n",
       "        vertical-align: top;\n",
       "    }\n",
       "\n",
       "    .dataframe thead th {\n",
       "        text-align: right;\n",
       "    }\n",
       "</style>\n",
       "<table border=\"1\" class=\"dataframe\">\n",
       "  <thead>\n",
       "    <tr style=\"text-align: right;\">\n",
       "      <th></th>\n",
       "      <th>age</th>\n",
       "      <th>sex</th>\n",
       "      <th>cp</th>\n",
       "      <th>trestbps</th>\n",
       "      <th>chol</th>\n",
       "      <th>fbs</th>\n",
       "      <th>restecg</th>\n",
       "      <th>thalach</th>\n",
       "      <th>exang</th>\n",
       "      <th>oldpeak</th>\n",
       "      <th>slope</th>\n",
       "      <th>ca</th>\n",
       "      <th>thal</th>\n",
       "      <th>target</th>\n",
       "    </tr>\n",
       "  </thead>\n",
       "  <tbody>\n",
       "    <tr>\n",
       "      <th>223</th>\n",
       "      <td>56</td>\n",
       "      <td>0</td>\n",
       "      <td>0</td>\n",
       "      <td>200</td>\n",
       "      <td>288</td>\n",
       "      <td>1</td>\n",
       "      <td>0</td>\n",
       "      <td>133</td>\n",
       "      <td>1</td>\n",
       "      <td>4.0</td>\n",
       "      <td>0</td>\n",
       "      <td>2</td>\n",
       "      <td>3</td>\n",
       "      <td>0</td>\n",
       "    </tr>\n",
       "    <tr>\n",
       "      <th>248</th>\n",
       "      <td>54</td>\n",
       "      <td>1</td>\n",
       "      <td>1</td>\n",
       "      <td>192</td>\n",
       "      <td>283</td>\n",
       "      <td>0</td>\n",
       "      <td>0</td>\n",
       "      <td>195</td>\n",
       "      <td>0</td>\n",
       "      <td>0.0</td>\n",
       "      <td>2</td>\n",
       "      <td>1</td>\n",
       "      <td>3</td>\n",
       "      <td>0</td>\n",
       "    </tr>\n",
       "  </tbody>\n",
       "</table>\n",
       "</div>"
      ],
      "text/plain": [
       "     age  sex  cp  trestbps  chol  fbs  restecg  thalach  exang  oldpeak  \\\n",
       "223   56    0   0       200   288    1        0      133      1      4.0   \n",
       "248   54    1   1       192   283    0        0      195      0      0.0   \n",
       "\n",
       "     slope  ca  thal  target  \n",
       "223      0   2     3       0  \n",
       "248      2   1     3       0  "
      ]
     },
     "execution_count": 11,
     "metadata": {},
     "output_type": "execute_result"
    }
   ],
   "source": [
    "data[data['trestbps']>180]"
   ]
  },
  {
   "cell_type": "code",
   "execution_count": 12,
   "metadata": {
    "colab": {
     "base_uri": "https://localhost:8080/"
    },
    "executionInfo": {
     "elapsed": 164,
     "status": "ok",
     "timestamp": 1638134055965,
     "user": {
      "displayName": "Gerardo Alfonso Silva Razo",
      "photoUrl": "https://lh3.googleusercontent.com/a/default-user=s64",
      "userId": "11961439085699130760"
     },
     "user_tz": 360
    },
    "id": "22ObiQvLWEto",
    "outputId": "035fa5ed-0f1b-4c7c-e5f4-8cf8eeb8edb2"
   },
   "outputs": [
    {
     "data": {
      "text/plain": [
       "[223, 248]"
      ]
     },
     "execution_count": 12,
     "metadata": {},
     "output_type": "execute_result"
    }
   ],
   "source": [
    "remove_data=data.index[data['trestbps']>180].tolist()\n",
    "index_dropped_rows.extend(remove_data)\n",
    "index_dropped_rows"
   ]
  },
  {
   "cell_type": "markdown",
   "metadata": {
    "id": "Z6xqB_iLXUN-"
   },
   "source": [
    "## Cholesterol\n",
    "Serum cholesterol in mg/dL"
   ]
  },
  {
   "cell_type": "code",
   "execution_count": 13,
   "metadata": {
    "colab": {
     "base_uri": "https://localhost:8080/",
     "height": 0
    },
    "executionInfo": {
     "elapsed": 554,
     "status": "ok",
     "timestamp": 1638134056517,
     "user": {
      "displayName": "Gerardo Alfonso Silva Razo",
      "photoUrl": "https://lh3.googleusercontent.com/a/default-user=s64",
      "userId": "11961439085699130760"
     },
     "user_tz": 360
    },
    "id": "nmX1TsfWWEq_",
    "outputId": "3ebb342e-9d1d-46b8-e21e-6ffe5a7f17e6"
   },
   "outputs": [
    {
     "data": {
      "text/plain": [
       "<AxesSubplot:xlabel='target', ylabel='chol'>"
      ]
     },
     "execution_count": 13,
     "metadata": {},
     "output_type": "execute_result"
    },
    {
     "data": {
      "image/png": "[encoded data removed]",
      "text/plain": [
       "<Figure size 360x360 with 1 Axes>"
      ]
     },
     "metadata": {
      "needs_background": "light"
     },
     "output_type": "display_data"
    },
    {
     "data": {
      "image/png": "[encoded data removed]",
      "text/plain": [
       "<Figure size 1080x504 with 1 Axes>"
      ]
     },
     "metadata": {
      "needs_background": "light"
     },
     "output_type": "display_data"
    }
   ],
   "source": [
    "data['chol'].nunique()\n",
    "sns.displot(data['chol'])\n",
    "plt.figure(figsize=(15,7))\n",
    "sns.boxplot(data=data,x='target',y='chol')"
   ]
  },
  {
   "cell_type": "code",
   "execution_count": 14,
   "metadata": {
    "colab": {
     "base_uri": "https://localhost:8080/",
     "height": 0
    },
    "executionInfo": {
     "elapsed": 7,
     "status": "ok",
     "timestamp": 1638134056518,
     "user": {
      "displayName": "Gerardo Alfonso Silva Razo",
      "photoUrl": "https://lh3.googleusercontent.com/a/default-user=s64",
      "userId": "11961439085699130760"
     },
     "user_tz": 360
    },
    "id": "hmYDC5xpWEoa",
    "outputId": "d14c5eb6-7c0a-4488-b520-3cb7c2d9f874"
   },
   "outputs": [
    {
     "data": {
      "text/html": [
       "<div>\n",
       "<style scoped>\n",
       "    .dataframe tbody tr th:only-of-type {\n",
       "        vertical-align: middle;\n",
       "    }\n",
       "\n",
       "    .dataframe tbody tr th {\n",
       "        vertical-align: top;\n",
       "    }\n",
       "\n",
       "    .dataframe thead th {\n",
       "        text-align: right;\n",
       "    }\n",
       "</style>\n",
       "<table border=\"1\" class=\"dataframe\">\n",
       "  <thead>\n",
       "    <tr style=\"text-align: right;\">\n",
       "      <th></th>\n",
       "      <th>age</th>\n",
       "      <th>sex</th>\n",
       "      <th>cp</th>\n",
       "      <th>trestbps</th>\n",
       "      <th>chol</th>\n",
       "      <th>fbs</th>\n",
       "      <th>restecg</th>\n",
       "      <th>thalach</th>\n",
       "      <th>exang</th>\n",
       "      <th>oldpeak</th>\n",
       "      <th>slope</th>\n",
       "      <th>ca</th>\n",
       "      <th>thal</th>\n",
       "      <th>target</th>\n",
       "    </tr>\n",
       "  </thead>\n",
       "  <tbody>\n",
       "    <tr>\n",
       "      <th>85</th>\n",
       "      <td>67</td>\n",
       "      <td>0</td>\n",
       "      <td>2</td>\n",
       "      <td>115</td>\n",
       "      <td>564</td>\n",
       "      <td>0</td>\n",
       "      <td>0</td>\n",
       "      <td>160</td>\n",
       "      <td>0</td>\n",
       "      <td>1.6</td>\n",
       "      <td>1</td>\n",
       "      <td>0</td>\n",
       "      <td>3</td>\n",
       "      <td>1</td>\n",
       "    </tr>\n",
       "  </tbody>\n",
       "</table>\n",
       "</div>"
      ],
      "text/plain": [
       "    age  sex  cp  trestbps  chol  fbs  restecg  thalach  exang  oldpeak  \\\n",
       "85   67    0   2       115   564    0        0      160      0      1.6   \n",
       "\n",
       "    slope  ca  thal  target  \n",
       "85      1   0     3       1  "
      ]
     },
     "execution_count": 14,
     "metadata": {},
     "output_type": "execute_result"
    }
   ],
   "source": [
    "data[data['chol']>500]"
   ]
  },
  {
   "cell_type": "code",
   "execution_count": 15,
   "metadata": {
    "executionInfo": {
     "elapsed": 6,
     "status": "ok",
     "timestamp": 1638134056518,
     "user": {
      "displayName": "Gerardo Alfonso Silva Razo",
      "photoUrl": "https://lh3.googleusercontent.com/a/default-user=s64",
      "userId": "11961439085699130760"
     },
     "user_tz": 360
    },
    "id": "u-D-PUawWEkA"
   },
   "outputs": [],
   "source": [
    "remove_data=data.index[data['chol']>500].tolist()\n",
    "for i in remove_data:\n",
    "  index_dropped_rows.append(i)"
   ]
  },
  {
   "cell_type": "markdown",
   "metadata": {
    "id": "b0j6qqPrXbNi"
   },
   "source": [
    "## Fasting Blood Sugar \n",
    "Above 120 mg/dL (likely to be diabetic) \n",
    "1 = true; 0 = false"
   ]
  },
  {
   "cell_type": "code",
   "execution_count": 16,
   "metadata": {
    "colab": {
     "base_uri": "https://localhost:8080/",
     "height": 0
    },
    "executionInfo": {
     "elapsed": 178,
     "status": "ok",
     "timestamp": 1638134056691,
     "user": {
      "displayName": "Gerardo Alfonso Silva Razo",
      "photoUrl": "https://lh3.googleusercontent.com/a/default-user=s64",
      "userId": "11961439085699130760"
     },
     "user_tz": 360
    },
    "id": "jwjkYw3nWEhm",
    "outputId": "915f9bf9-08c1-4c61-822a-f2de25ad6bc2"
   },
   "outputs": [
    {
     "data": {
      "text/plain": [
       "<AxesSubplot:xlabel='fbs', ylabel='count'>"
      ]
     },
     "execution_count": 16,
     "metadata": {},
     "output_type": "execute_result"
    },
    {
     "data": {
      "image/png": "[encoded data removed]",
      "text/plain": [
       "<Figure size 432x288 with 1 Axes>"
      ]
     },
     "metadata": {
      "needs_background": "light"
     },
     "output_type": "display_data"
    }
   ],
   "source": [
    "sns.countplot(data=data,x='fbs',hue='target')"
   ]
  },
  {
   "cell_type": "markdown",
   "metadata": {
    "id": "sPOBbmF8XftQ"
   },
   "source": [
    "## RestECG\n",
    "Resting electrocardiogram results -- \n",
    "Value 0: normal\n",
    "Value 1: having ST-T wave abnormality (T wave inversions and/or ST elevation or depression of > 0.05 mV)\n",
    "Value 2: showing probable or definite left ventricular hypertrophy by Estes' criteria "
   ]
  },
  {
   "cell_type": "code",
   "execution_count": 17,
   "metadata": {
    "colab": {
     "base_uri": "https://localhost:8080/",
     "height": 0
    },
    "executionInfo": {
     "elapsed": 156,
     "status": "ok",
     "timestamp": 1638134056843,
     "user": {
      "displayName": "Gerardo Alfonso Silva Razo",
      "photoUrl": "https://lh3.googleusercontent.com/a/default-user=s64",
      "userId": "11961439085699130760"
     },
     "user_tz": 360
    },
    "id": "ccjAs_n_WEet",
    "outputId": "5ffc8e5c-3799-42c5-effa-c4dde5d7c65d"
   },
   "outputs": [
    {
     "data": {
      "text/plain": [
       "<AxesSubplot:xlabel='restecg', ylabel='count'>"
      ]
     },
     "execution_count": 17,
     "metadata": {},
     "output_type": "execute_result"
    },
    {
     "data": {
      "image/png": "[encoded data removed]",
      "text/plain": [
       "<Figure size 432x288 with 1 Axes>"
      ]
     },
     "metadata": {
      "needs_background": "light"
     },
     "output_type": "display_data"
    }
   ],
   "source": [
    "sns.countplot(data=data,x='restecg',hue='target')"
   ]
  },
  {
   "cell_type": "markdown",
   "metadata": {
    "id": "1IyDD4RFXlTg"
   },
   "source": [
    "## MaxHR \n",
    "Greatest number of beats per minute your heart can possibly reach during all-out strenuous exercise. "
   ]
  },
  {
   "cell_type": "code",
   "execution_count": 18,
   "metadata": {
    "colab": {
     "base_uri": "https://localhost:8080/",
     "height": 0
    },
    "executionInfo": {
     "elapsed": 785,
     "status": "ok",
     "timestamp": 1638134057625,
     "user": {
      "displayName": "Gerardo Alfonso Silva Razo",
      "photoUrl": "https://lh3.googleusercontent.com/a/default-user=s64",
      "userId": "11961439085699130760"
     },
     "user_tz": 360
    },
    "id": "F2O22GyuWEcd",
    "outputId": "b80f3ebb-e2dc-48c2-cdbc-1d20565bf578"
   },
   "outputs": [
    {
     "data": {
      "text/plain": [
       "<AxesSubplot:xlabel='target', ylabel='thalach'>"
      ]
     },
     "execution_count": 18,
     "metadata": {},
     "output_type": "execute_result"
    },
    {
     "data": {
      "image/png": "[encoded data removed]",
      "text/plain": [
       "<Figure size 360x360 with 1 Axes>"
      ]
     },
     "metadata": {
      "needs_background": "light"
     },
     "output_type": "display_data"
    },
    {
     "data": {
      "image/png": "[encoded data removed]",
      "text/plain": [
       "<Figure size 1080x504 with 1 Axes>"
      ]
     },
     "metadata": {
      "needs_background": "light"
     },
     "output_type": "display_data"
    }
   ],
   "source": [
    "data['thalach'].nunique()\n",
    "sns.displot(data['thalach'])\n",
    "plt.figure(figsize=(15,7))\n",
    "sns.boxplot(data=data,x='target',y='thalach')"
   ]
  },
  {
   "cell_type": "code",
   "execution_count": 19,
   "metadata": {
    "colab": {
     "base_uri": "https://localhost:8080/",
     "height": 0
    },
    "executionInfo": {
     "elapsed": 7,
     "status": "ok",
     "timestamp": 1638134057625,
     "user": {
      "displayName": "Gerardo Alfonso Silva Razo",
      "photoUrl": "https://lh3.googleusercontent.com/a/default-user=s64",
      "userId": "11961439085699130760"
     },
     "user_tz": 360
    },
    "id": "4YCKJpglWEac",
    "outputId": "297eb8b2-7aa9-45b4-e847-d3e36da9daa6"
   },
   "outputs": [
    {
     "data": {
      "text/html": [
       "<div>\n",
       "<style scoped>\n",
       "    .dataframe tbody tr th:only-of-type {\n",
       "        vertical-align: middle;\n",
       "    }\n",
       "\n",
       "    .dataframe tbody tr th {\n",
       "        vertical-align: top;\n",
       "    }\n",
       "\n",
       "    .dataframe thead th {\n",
       "        text-align: right;\n",
       "    }\n",
       "</style>\n",
       "<table border=\"1\" class=\"dataframe\">\n",
       "  <thead>\n",
       "    <tr style=\"text-align: right;\">\n",
       "      <th></th>\n",
       "      <th>age</th>\n",
       "      <th>sex</th>\n",
       "      <th>cp</th>\n",
       "      <th>trestbps</th>\n",
       "      <th>chol</th>\n",
       "      <th>fbs</th>\n",
       "      <th>restecg</th>\n",
       "      <th>thalach</th>\n",
       "      <th>exang</th>\n",
       "      <th>oldpeak</th>\n",
       "      <th>slope</th>\n",
       "      <th>ca</th>\n",
       "      <th>thal</th>\n",
       "      <th>target</th>\n",
       "    </tr>\n",
       "  </thead>\n",
       "  <tbody>\n",
       "    <tr>\n",
       "      <th>272</th>\n",
       "      <td>67</td>\n",
       "      <td>1</td>\n",
       "      <td>0</td>\n",
       "      <td>120</td>\n",
       "      <td>237</td>\n",
       "      <td>0</td>\n",
       "      <td>1</td>\n",
       "      <td>71</td>\n",
       "      <td>0</td>\n",
       "      <td>1.0</td>\n",
       "      <td>1</td>\n",
       "      <td>0</td>\n",
       "      <td>2</td>\n",
       "      <td>0</td>\n",
       "    </tr>\n",
       "  </tbody>\n",
       "</table>\n",
       "</div>"
      ],
      "text/plain": [
       "     age  sex  cp  trestbps  chol  fbs  restecg  thalach  exang  oldpeak  \\\n",
       "272   67    1   0       120   237    0        1       71      0      1.0   \n",
       "\n",
       "     slope  ca  thal  target  \n",
       "272      1   0     2       0  "
      ]
     },
     "execution_count": 19,
     "metadata": {},
     "output_type": "execute_result"
    }
   ],
   "source": [
    "data[data['thalach']<80]"
   ]
  },
  {
   "cell_type": "code",
   "execution_count": 20,
   "metadata": {
    "colab": {
     "base_uri": "https://localhost:8080/"
    },
    "executionInfo": {
     "elapsed": 7,
     "status": "ok",
     "timestamp": 1638134057626,
     "user": {
      "displayName": "Gerardo Alfonso Silva Razo",
      "photoUrl": "https://lh3.googleusercontent.com/a/default-user=s64",
      "userId": "11961439085699130760"
     },
     "user_tz": 360
    },
    "id": "W7yw6wnKWEYR",
    "outputId": "dc125c00-a4a7-445f-9f87-6a326d5e5752"
   },
   "outputs": [
    {
     "data": {
      "text/plain": [
       "[223, 248, 85, 272]"
      ]
     },
     "execution_count": 20,
     "metadata": {},
     "output_type": "execute_result"
    }
   ],
   "source": [
    "remove_data=data.index[data['thalach']<80].tolist()\n",
    "index_dropped_rows.extend(remove_data)\n",
    "index_dropped_rows"
   ]
  },
  {
   "cell_type": "markdown",
   "metadata": {
    "id": "rxCucU3WXsWa"
   },
   "source": [
    "## Exang: exercise induced angina \n",
    "(1 = yes; 0 = no)  "
   ]
  },
  {
   "cell_type": "code",
   "execution_count": 21,
   "metadata": {
    "colab": {
     "base_uri": "https://localhost:8080/",
     "height": 0
    },
    "executionInfo": {
     "elapsed": 180,
     "status": "ok",
     "timestamp": 1638134057801,
     "user": {
      "displayName": "Gerardo Alfonso Silva Razo",
      "photoUrl": "https://lh3.googleusercontent.com/a/default-user=s64",
      "userId": "11961439085699130760"
     },
     "user_tz": 360
    },
    "id": "Qq7ButxcWEVk",
    "outputId": "2b38ad3b-0986-4b51-8566-95809dded7b0"
   },
   "outputs": [
    {
     "data": {
      "text/plain": [
       "<AxesSubplot:xlabel='exang', ylabel='count'>"
      ]
     },
     "execution_count": 21,
     "metadata": {},
     "output_type": "execute_result"
    },
    {
     "data": {
      "image/png": "[encoded data removed]",
      "text/plain": [
       "<Figure size 432x288 with 1 Axes>"
      ]
     },
     "metadata": {
      "needs_background": "light"
     },
     "output_type": "display_data"
    }
   ],
   "source": [
    "sns.countplot(data=data,x='exang',hue='target')"
   ]
  },
  {
   "cell_type": "markdown",
   "metadata": {
    "id": "9tydTlrRXwF_"
   },
   "source": [
    "## Oldpeak\n",
    "ST depression induced by exercise relative to rest (in mm, achieved by subtracting the lowest ST segment points during exercise and rest)"
   ]
  },
  {
   "cell_type": "code",
   "execution_count": 22,
   "metadata": {
    "colab": {
     "base_uri": "https://localhost:8080/",
     "height": 0
    },
    "executionInfo": {
     "elapsed": 617,
     "status": "ok",
     "timestamp": 1638134058415,
     "user": {
      "displayName": "Gerardo Alfonso Silva Razo",
      "photoUrl": "https://lh3.googleusercontent.com/a/default-user=s64",
      "userId": "11961439085699130760"
     },
     "user_tz": 360
    },
    "id": "mdTmmTKRWETg",
    "outputId": "4fee68d9-393f-4b01-f858-75969ea67c20"
   },
   "outputs": [
    {
     "data": {
      "text/plain": [
       "<AxesSubplot:xlabel='target', ylabel='oldpeak'>"
      ]
     },
     "execution_count": 22,
     "metadata": {},
     "output_type": "execute_result"
    },
    {
     "data": {
      "image/png": "[encoded data removed]",
      "text/plain": [
       "<Figure size 360x360 with 1 Axes>"
      ]
     },
     "metadata": {
      "needs_background": "light"
     },
     "output_type": "display_data"
    },
    {
     "data": {
      "image/png": "[encoded data removed]",
      "text/plain": [
       "<Figure size 1080x504 with 1 Axes>"
      ]
     },
     "metadata": {
      "needs_background": "light"
     },
     "output_type": "display_data"
    }
   ],
   "source": [
    "data['oldpeak'].nunique()\n",
    "sns.displot(data['oldpeak'])\n",
    "plt.figure(figsize=(15,7))\n",
    "sns.boxplot(data=data,x='target',y='oldpeak')"
   ]
  },
  {
   "cell_type": "code",
   "execution_count": 23,
   "metadata": {
    "colab": {
     "base_uri": "https://localhost:8080/",
     "height": 0
    },
    "executionInfo": {
     "elapsed": 9,
     "status": "ok",
     "timestamp": 1638134058416,
     "user": {
      "displayName": "Gerardo Alfonso Silva Razo",
      "photoUrl": "https://lh3.googleusercontent.com/a/default-user=s64",
      "userId": "11961439085699130760"
     },
     "user_tz": 360
    },
    "id": "g6qhLvdyXykz",
    "outputId": "351af58d-9044-4ce0-e55e-549c0b960ece"
   },
   "outputs": [
    {
     "data": {
      "text/html": [
       "<div>\n",
       "<style scoped>\n",
       "    .dataframe tbody tr th:only-of-type {\n",
       "        vertical-align: middle;\n",
       "    }\n",
       "\n",
       "    .dataframe tbody tr th {\n",
       "        vertical-align: top;\n",
       "    }\n",
       "\n",
       "    .dataframe thead th {\n",
       "        text-align: right;\n",
       "    }\n",
       "</style>\n",
       "<table border=\"1\" class=\"dataframe\">\n",
       "  <thead>\n",
       "    <tr style=\"text-align: right;\">\n",
       "      <th></th>\n",
       "      <th>age</th>\n",
       "      <th>sex</th>\n",
       "      <th>cp</th>\n",
       "      <th>trestbps</th>\n",
       "      <th>chol</th>\n",
       "      <th>fbs</th>\n",
       "      <th>restecg</th>\n",
       "      <th>thalach</th>\n",
       "      <th>exang</th>\n",
       "      <th>oldpeak</th>\n",
       "      <th>slope</th>\n",
       "      <th>ca</th>\n",
       "      <th>thal</th>\n",
       "      <th>target</th>\n",
       "    </tr>\n",
       "  </thead>\n",
       "  <tbody>\n",
       "    <tr>\n",
       "      <th>204</th>\n",
       "      <td>62</td>\n",
       "      <td>0</td>\n",
       "      <td>0</td>\n",
       "      <td>160</td>\n",
       "      <td>164</td>\n",
       "      <td>0</td>\n",
       "      <td>0</td>\n",
       "      <td>145</td>\n",
       "      <td>0</td>\n",
       "      <td>6.2</td>\n",
       "      <td>0</td>\n",
       "      <td>3</td>\n",
       "      <td>3</td>\n",
       "      <td>0</td>\n",
       "    </tr>\n",
       "    <tr>\n",
       "      <th>221</th>\n",
       "      <td>55</td>\n",
       "      <td>1</td>\n",
       "      <td>0</td>\n",
       "      <td>140</td>\n",
       "      <td>217</td>\n",
       "      <td>0</td>\n",
       "      <td>1</td>\n",
       "      <td>111</td>\n",
       "      <td>1</td>\n",
       "      <td>5.6</td>\n",
       "      <td>0</td>\n",
       "      <td>0</td>\n",
       "      <td>3</td>\n",
       "      <td>0</td>\n",
       "    </tr>\n",
       "  </tbody>\n",
       "</table>\n",
       "</div>"
      ],
      "text/plain": [
       "     age  sex  cp  trestbps  chol  fbs  restecg  thalach  exang  oldpeak  \\\n",
       "204   62    0   0       160   164    0        0      145      0      6.2   \n",
       "221   55    1   0       140   217    0        1      111      1      5.6   \n",
       "\n",
       "     slope  ca  thal  target  \n",
       "204      0   3     3       0  \n",
       "221      0   0     3       0  "
      ]
     },
     "execution_count": 23,
     "metadata": {},
     "output_type": "execute_result"
    }
   ],
   "source": [
    "data[data['oldpeak']>5]"
   ]
  },
  {
   "cell_type": "code",
   "execution_count": 24,
   "metadata": {
    "colab": {
     "base_uri": "https://localhost:8080/"
    },
    "executionInfo": {
     "elapsed": 7,
     "status": "ok",
     "timestamp": 1638134058416,
     "user": {
      "displayName": "Gerardo Alfonso Silva Razo",
      "photoUrl": "https://lh3.googleusercontent.com/a/default-user=s64",
      "userId": "11961439085699130760"
     },
     "user_tz": 360
    },
    "id": "Ei529orgXyiZ",
    "outputId": "a2580f5e-b0db-45d6-d3b6-9bf5416e648e"
   },
   "outputs": [
    {
     "data": {
      "text/plain": [
       "[223, 248, 85, 272, 204, 221]"
      ]
     },
     "execution_count": 24,
     "metadata": {},
     "output_type": "execute_result"
    }
   ],
   "source": [
    "remove_data=data.index[data['oldpeak']>5].tolist()\n",
    "index_dropped_rows.extend(remove_data)\n",
    "index_dropped_rows"
   ]
  },
  {
   "cell_type": "markdown",
   "metadata": {
    "id": "Hzq3pTuDX2VY"
   },
   "source": [
    "## Slope\n",
    "The slope of the peak exercise ST segment, ST-T abnormalities are considered to be a crucial indicator for identifying presence of ischaemia \n",
    "Value 1: upsloping \n",
    "Value 2: flat \n",
    "Value 3: downsloping "
   ]
  },
  {
   "cell_type": "code",
   "execution_count": 25,
   "metadata": {
    "colab": {
     "base_uri": "https://localhost:8080/",
     "height": 0
    },
    "executionInfo": {
     "elapsed": 168,
     "status": "ok",
     "timestamp": 1638134058579,
     "user": {
      "displayName": "Gerardo Alfonso Silva Razo",
      "photoUrl": "https://lh3.googleusercontent.com/a/default-user=s64",
      "userId": "11961439085699130760"
     },
     "user_tz": 360
    },
    "id": "JPMqajJYXyf5",
    "outputId": "00b76ab7-9928-4ffc-fa2b-2c1386df7bc7"
   },
   "outputs": [
    {
     "data": {
      "text/plain": [
       "<AxesSubplot:xlabel='slope', ylabel='count'>"
      ]
     },
     "execution_count": 25,
     "metadata": {},
     "output_type": "execute_result"
    },
    {
     "data": {
      "image/png": "[encoded data removed]",
      "text/plain": [
       "<Figure size 432x288 with 1 Axes>"
      ]
     },
     "metadata": {
      "needs_background": "light"
     },
     "output_type": "display_data"
    }
   ],
   "source": [
    "sns.countplot(data=data,x='slope',hue='target')"
   ]
  },
  {
   "cell_type": "markdown",
   "metadata": {
    "id": "rKofKjTEX5-S"
   },
   "source": [
    "## Ca: number of major vessels (0-3) colored by fluoroscopy.\n",
    "Major cardial vessels are as goes: aorta, superior vena cava, inferior vena cava, pulmonary artery (oxygen-poor blood --> lungs), pulmonary veins (oxygen-rich blood --> heart), and coronary arteries (supplies blood to heart tissue)."
   ]
  },
  {
   "cell_type": "code",
   "execution_count": 26,
   "metadata": {
    "colab": {
     "base_uri": "https://localhost:8080/",
     "height": 0
    },
    "executionInfo": {
     "elapsed": 301,
     "status": "ok",
     "timestamp": 1638134058876,
     "user": {
      "displayName": "Gerardo Alfonso Silva Razo",
      "photoUrl": "https://lh3.googleusercontent.com/a/default-user=s64",
      "userId": "11961439085699130760"
     },
     "user_tz": 360
    },
    "id": "eY913AQdXydp",
    "outputId": "04b440f3-9719-4ca4-e802-0fd9031c7b17"
   },
   "outputs": [
    {
     "data": {
      "text/plain": [
       "<AxesSubplot:xlabel='ca', ylabel='count'>"
      ]
     },
     "execution_count": 26,
     "metadata": {},
     "output_type": "execute_result"
    },
    {
     "data": {
      "image/png": "[encoded data removed]",
      "text/plain": [
       "<Figure size 432x288 with 1 Axes>"
      ]
     },
     "metadata": {
      "needs_background": "light"
     },
     "output_type": "display_data"
    }
   ],
   "source": [
    "sns.countplot(data=data,x='ca',hue='target')"
   ]
  },
  {
   "cell_type": "markdown",
   "metadata": {
    "id": "KvdjptWKYGhd"
   },
   "source": [
    "## AHD:\n",
    "0 = normal; 1 = fixed defect (heart tissue can't absorb thallium both under stress and in rest); 2 = reversible defect (heart tissue is unable to absorb thallium only under the exercise portion of the test) "
   ]
  },
  {
   "cell_type": "code",
   "execution_count": 27,
   "metadata": {
    "colab": {
     "base_uri": "https://localhost:8080/",
     "height": 0
    },
    "executionInfo": {
     "elapsed": 212,
     "status": "ok",
     "timestamp": 1638134059083,
     "user": {
      "displayName": "Gerardo Alfonso Silva Razo",
      "photoUrl": "https://lh3.googleusercontent.com/a/default-user=s64",
      "userId": "11961439085699130760"
     },
     "user_tz": 360
    },
    "id": "tc8O2s0XWEQz",
    "outputId": "dd7b41b6-ffc0-4cb1-a7ac-5ea0244d6f45"
   },
   "outputs": [
    {
     "data": {
      "text/plain": [
       "<AxesSubplot:xlabel='thal', ylabel='count'>"
      ]
     },
     "execution_count": 27,
     "metadata": {},
     "output_type": "execute_result"
    },
    {
     "data": {
      "image/png": "[encoded data removed]",
      "text/plain": [
       "<Figure size 432x288 with 1 Axes>"
      ]
     },
     "metadata": {
      "needs_background": "light"
     },
     "output_type": "display_data"
    }
   ],
   "source": [
    "sns.countplot(data=data,x='thal',hue='target')"
   ]
  },
  {
   "cell_type": "markdown",
   "metadata": {
    "id": "zsJSTTKSYJzi"
   },
   "source": [
    "# Heatmap"
   ]
  },
  {
   "cell_type": "code",
   "execution_count": 28,
   "metadata": {
    "colab": {
     "base_uri": "https://localhost:8080/",
     "height": 595
    },
    "executionInfo": {
     "elapsed": 1215,
     "status": "ok",
     "timestamp": 1638134060295,
     "user": {
      "displayName": "Gerardo Alfonso Silva Razo",
      "photoUrl": "https://lh3.googleusercontent.com/a/default-user=s64",
      "userId": "11961439085699130760"
     },
     "user_tz": 360
    },
    "id": "lqVunMGFWEMc",
    "outputId": "d05efb34-2be4-4675-8658-34cea64aa113"
   },
   "outputs": [
    {
     "data": {
      "image/png": "[encoded data removed]",
      "text/plain": [
       "<Figure size 1080x720 with 2 Axes>"
      ]
     },
     "metadata": {
      "needs_background": "light"
     },
     "output_type": "display_data"
    }
   ],
   "source": [
    "plt.figure(figsize=(15,10))\n",
    "sns.heatmap(data.corr(),annot=True,fmt='.2')\n",
    "plt.show()"
   ]
  },
  {
   "cell_type": "code",
   "execution_count": 29,
   "metadata": {
    "colab": {
     "base_uri": "https://localhost:8080/",
     "height": 514
    },
    "executionInfo": {
     "elapsed": 7,
     "status": "ok",
     "timestamp": 1638134060295,
     "user": {
      "displayName": "Gerardo Alfonso Silva Razo",
      "photoUrl": "https://lh3.googleusercontent.com/a/default-user=s64",
      "userId": "11961439085699130760"
     },
     "user_tz": 360
    },
    "id": "wP7ikf5aYNSV",
    "outputId": "4e1f5fb9-6290-4f81-8c8a-8d87d2ef0b55"
   },
   "outputs": [
    {
     "data": {
      "text/html": [
       "<div>\n",
       "<style scoped>\n",
       "    .dataframe tbody tr th:only-of-type {\n",
       "        vertical-align: middle;\n",
       "    }\n",
       "\n",
       "    .dataframe tbody tr th {\n",
       "        vertical-align: top;\n",
       "    }\n",
       "\n",
       "    .dataframe thead th {\n",
       "        text-align: right;\n",
       "    }\n",
       "</style>\n",
       "<table border=\"1\" class=\"dataframe\">\n",
       "  <thead>\n",
       "    <tr style=\"text-align: right;\">\n",
       "      <th></th>\n",
       "      <th>age</th>\n",
       "      <th>sex</th>\n",
       "      <th>cp</th>\n",
       "      <th>trestbps</th>\n",
       "      <th>chol</th>\n",
       "      <th>fbs</th>\n",
       "      <th>restecg</th>\n",
       "      <th>thalach</th>\n",
       "      <th>exang</th>\n",
       "      <th>oldpeak</th>\n",
       "      <th>slope</th>\n",
       "      <th>ca</th>\n",
       "      <th>thal</th>\n",
       "      <th>target</th>\n",
       "    </tr>\n",
       "  </thead>\n",
       "  <tbody>\n",
       "    <tr>\n",
       "      <th>0</th>\n",
       "      <td>63</td>\n",
       "      <td>1</td>\n",
       "      <td>3</td>\n",
       "      <td>145</td>\n",
       "      <td>233</td>\n",
       "      <td>1</td>\n",
       "      <td>0</td>\n",
       "      <td>150</td>\n",
       "      <td>0</td>\n",
       "      <td>2.3</td>\n",
       "      <td>0</td>\n",
       "      <td>0</td>\n",
       "      <td>1</td>\n",
       "      <td>1</td>\n",
       "    </tr>\n",
       "    <tr>\n",
       "      <th>1</th>\n",
       "      <td>37</td>\n",
       "      <td>1</td>\n",
       "      <td>2</td>\n",
       "      <td>130</td>\n",
       "      <td>250</td>\n",
       "      <td>0</td>\n",
       "      <td>1</td>\n",
       "      <td>187</td>\n",
       "      <td>0</td>\n",
       "      <td>3.5</td>\n",
       "      <td>0</td>\n",
       "      <td>0</td>\n",
       "      <td>2</td>\n",
       "      <td>1</td>\n",
       "    </tr>\n",
       "    <tr>\n",
       "      <th>2</th>\n",
       "      <td>41</td>\n",
       "      <td>0</td>\n",
       "      <td>1</td>\n",
       "      <td>130</td>\n",
       "      <td>204</td>\n",
       "      <td>0</td>\n",
       "      <td>0</td>\n",
       "      <td>172</td>\n",
       "      <td>0</td>\n",
       "      <td>1.4</td>\n",
       "      <td>2</td>\n",
       "      <td>0</td>\n",
       "      <td>2</td>\n",
       "      <td>1</td>\n",
       "    </tr>\n",
       "    <tr>\n",
       "      <th>3</th>\n",
       "      <td>56</td>\n",
       "      <td>1</td>\n",
       "      <td>1</td>\n",
       "      <td>120</td>\n",
       "      <td>236</td>\n",
       "      <td>0</td>\n",
       "      <td>1</td>\n",
       "      <td>178</td>\n",
       "      <td>0</td>\n",
       "      <td>0.8</td>\n",
       "      <td>2</td>\n",
       "      <td>0</td>\n",
       "      <td>2</td>\n",
       "      <td>1</td>\n",
       "    </tr>\n",
       "    <tr>\n",
       "      <th>4</th>\n",
       "      <td>57</td>\n",
       "      <td>0</td>\n",
       "      <td>0</td>\n",
       "      <td>120</td>\n",
       "      <td>354</td>\n",
       "      <td>0</td>\n",
       "      <td>1</td>\n",
       "      <td>163</td>\n",
       "      <td>1</td>\n",
       "      <td>0.6</td>\n",
       "      <td>2</td>\n",
       "      <td>0</td>\n",
       "      <td>2</td>\n",
       "      <td>1</td>\n",
       "    </tr>\n",
       "    <tr>\n",
       "      <th>5</th>\n",
       "      <td>57</td>\n",
       "      <td>1</td>\n",
       "      <td>0</td>\n",
       "      <td>140</td>\n",
       "      <td>192</td>\n",
       "      <td>0</td>\n",
       "      <td>1</td>\n",
       "      <td>148</td>\n",
       "      <td>0</td>\n",
       "      <td>0.4</td>\n",
       "      <td>1</td>\n",
       "      <td>0</td>\n",
       "      <td>1</td>\n",
       "      <td>1</td>\n",
       "    </tr>\n",
       "    <tr>\n",
       "      <th>6</th>\n",
       "      <td>56</td>\n",
       "      <td>0</td>\n",
       "      <td>1</td>\n",
       "      <td>140</td>\n",
       "      <td>294</td>\n",
       "      <td>0</td>\n",
       "      <td>0</td>\n",
       "      <td>153</td>\n",
       "      <td>0</td>\n",
       "      <td>1.3</td>\n",
       "      <td>1</td>\n",
       "      <td>0</td>\n",
       "      <td>2</td>\n",
       "      <td>1</td>\n",
       "    </tr>\n",
       "    <tr>\n",
       "      <th>7</th>\n",
       "      <td>44</td>\n",
       "      <td>1</td>\n",
       "      <td>1</td>\n",
       "      <td>120</td>\n",
       "      <td>263</td>\n",
       "      <td>0</td>\n",
       "      <td>1</td>\n",
       "      <td>173</td>\n",
       "      <td>0</td>\n",
       "      <td>0.0</td>\n",
       "      <td>2</td>\n",
       "      <td>0</td>\n",
       "      <td>3</td>\n",
       "      <td>1</td>\n",
       "    </tr>\n",
       "    <tr>\n",
       "      <th>8</th>\n",
       "      <td>52</td>\n",
       "      <td>1</td>\n",
       "      <td>2</td>\n",
       "      <td>172</td>\n",
       "      <td>199</td>\n",
       "      <td>1</td>\n",
       "      <td>1</td>\n",
       "      <td>162</td>\n",
       "      <td>0</td>\n",
       "      <td>0.5</td>\n",
       "      <td>2</td>\n",
       "      <td>0</td>\n",
       "      <td>3</td>\n",
       "      <td>1</td>\n",
       "    </tr>\n",
       "    <tr>\n",
       "      <th>9</th>\n",
       "      <td>57</td>\n",
       "      <td>1</td>\n",
       "      <td>2</td>\n",
       "      <td>150</td>\n",
       "      <td>168</td>\n",
       "      <td>0</td>\n",
       "      <td>1</td>\n",
       "      <td>174</td>\n",
       "      <td>0</td>\n",
       "      <td>1.6</td>\n",
       "      <td>2</td>\n",
       "      <td>0</td>\n",
       "      <td>2</td>\n",
       "      <td>1</td>\n",
       "    </tr>\n",
       "    <tr>\n",
       "      <th>10</th>\n",
       "      <td>54</td>\n",
       "      <td>1</td>\n",
       "      <td>0</td>\n",
       "      <td>140</td>\n",
       "      <td>239</td>\n",
       "      <td>0</td>\n",
       "      <td>1</td>\n",
       "      <td>160</td>\n",
       "      <td>0</td>\n",
       "      <td>1.2</td>\n",
       "      <td>2</td>\n",
       "      <td>0</td>\n",
       "      <td>2</td>\n",
       "      <td>1</td>\n",
       "    </tr>\n",
       "    <tr>\n",
       "      <th>11</th>\n",
       "      <td>48</td>\n",
       "      <td>0</td>\n",
       "      <td>2</td>\n",
       "      <td>130</td>\n",
       "      <td>275</td>\n",
       "      <td>0</td>\n",
       "      <td>1</td>\n",
       "      <td>139</td>\n",
       "      <td>0</td>\n",
       "      <td>0.2</td>\n",
       "      <td>2</td>\n",
       "      <td>0</td>\n",
       "      <td>2</td>\n",
       "      <td>1</td>\n",
       "    </tr>\n",
       "    <tr>\n",
       "      <th>12</th>\n",
       "      <td>49</td>\n",
       "      <td>1</td>\n",
       "      <td>1</td>\n",
       "      <td>130</td>\n",
       "      <td>266</td>\n",
       "      <td>0</td>\n",
       "      <td>1</td>\n",
       "      <td>171</td>\n",
       "      <td>0</td>\n",
       "      <td>0.6</td>\n",
       "      <td>2</td>\n",
       "      <td>0</td>\n",
       "      <td>2</td>\n",
       "      <td>1</td>\n",
       "    </tr>\n",
       "    <tr>\n",
       "      <th>13</th>\n",
       "      <td>64</td>\n",
       "      <td>1</td>\n",
       "      <td>3</td>\n",
       "      <td>110</td>\n",
       "      <td>211</td>\n",
       "      <td>0</td>\n",
       "      <td>0</td>\n",
       "      <td>144</td>\n",
       "      <td>1</td>\n",
       "      <td>1.8</td>\n",
       "      <td>1</td>\n",
       "      <td>0</td>\n",
       "      <td>2</td>\n",
       "      <td>1</td>\n",
       "    </tr>\n",
       "    <tr>\n",
       "      <th>14</th>\n",
       "      <td>58</td>\n",
       "      <td>0</td>\n",
       "      <td>3</td>\n",
       "      <td>150</td>\n",
       "      <td>283</td>\n",
       "      <td>1</td>\n",
       "      <td>0</td>\n",
       "      <td>162</td>\n",
       "      <td>0</td>\n",
       "      <td>1.0</td>\n",
       "      <td>2</td>\n",
       "      <td>0</td>\n",
       "      <td>2</td>\n",
       "      <td>1</td>\n",
       "    </tr>\n",
       "  </tbody>\n",
       "</table>\n",
       "</div>"
      ],
      "text/plain": [
       "    age  sex  cp  trestbps  chol  fbs  restecg  thalach  exang  oldpeak  \\\n",
       "0    63    1   3       145   233    1        0      150      0      2.3   \n",
       "1    37    1   2       130   250    0        1      187      0      3.5   \n",
       "2    41    0   1       130   204    0        0      172      0      1.4   \n",
       "3    56    1   1       120   236    0        1      178      0      0.8   \n",
       "4    57    0   0       120   354    0        1      163      1      0.6   \n",
       "5    57    1   0       140   192    0        1      148      0      0.4   \n",
       "6    56    0   1       140   294    0        0      153      0      1.3   \n",
       "7    44    1   1       120   263    0        1      173      0      0.0   \n",
       "8    52    1   2       172   199    1        1      162      0      0.5   \n",
       "9    57    1   2       150   168    0        1      174      0      1.6   \n",
       "10   54    1   0       140   239    0        1      160      0      1.2   \n",
       "11   48    0   2       130   275    0        1      139      0      0.2   \n",
       "12   49    1   1       130   266    0        1      171      0      0.6   \n",
       "13   64    1   3       110   211    0        0      144      1      1.8   \n",
       "14   58    0   3       150   283    1        0      162      0      1.0   \n",
       "\n",
       "    slope  ca  thal  target  \n",
       "0       0   0     1       1  \n",
       "1       0   0     2       1  \n",
       "2       2   0     2       1  \n",
       "3       2   0     2       1  \n",
       "4       2   0     2       1  \n",
       "5       1   0     1       1  \n",
       "6       1   0     2       1  \n",
       "7       2   0     3       1  \n",
       "8       2   0     3       1  \n",
       "9       2   0     2       1  \n",
       "10      2   0     2       1  \n",
       "11      2   0     2       1  \n",
       "12      2   0     2       1  \n",
       "13      1   0     2       1  \n",
       "14      2   0     2       1  "
      ]
     },
     "execution_count": 29,
     "metadata": {},
     "output_type": "execute_result"
    }
   ],
   "source": [
    "data.head(15)"
   ]
  },
  {
   "cell_type": "markdown",
   "metadata": {
    "id": "_LW-sTqWYR9Q"
   },
   "source": [
    "## One hot encoding for categorical Values\n",
    "\n",
    "- **RestECG**: Resting electrocardiogram results \n",
    "    - 0: normal \n",
    "    - 1: having ST-T wave abnormality (T wave inversions and/or ST elevation or depression of > 0.05 mV)\n",
    "    - 2: showing probable or definite left ventricular hypertrophy by Estes' criteria 8.\n",
    "- **Chest Pain type**\n",
    "    - 1: typical angina (all criteria present) \n",
    "    - 2: atypical angina (two of three criteria satisfied)\n",
    "    - 3: non-anginal pain (less than one criteria satisfied)\n",
    "    - 4: asymptomatic (none of the criteria are satisfied)\n",
    "- **Slope**: the slope of the peak exercise ST segment, ST-T abnormalities are considered to be a crucial indicator for identifying presence of ischaemia \n",
    "    - 1: upsloping\n",
    "    - 2: flat\n",
    "    - 3: downsloping\n",
    "- **AHD**:\n",
    "    - 0 = normal\n",
    "    - 1 = fixed defect (heart tissue can't absorb thallium both under stress and in rest)\n",
    "    - 2 = reversible defect (heart tissue is unable to absorb thallium only under the exercise portion of the test)"
   ]
  },
  {
   "cell_type": "code",
   "execution_count": 30,
   "metadata": {
    "executionInfo": {
     "elapsed": 6,
     "status": "ok",
     "timestamp": 1638134060295,
     "user": {
      "displayName": "Gerardo Alfonso Silva Razo",
      "photoUrl": "https://lh3.googleusercontent.com/a/default-user=s64",
      "userId": "11961439085699130760"
     },
     "user_tz": 360
    },
    "id": "UtNjbUzIYNQK"
   },
   "outputs": [],
   "source": [
    "from sklearn.preprocessing import OneHotEncoder"
   ]
  },
  {
   "cell_type": "code",
   "execution_count": 31,
   "metadata": {
    "colab": {
     "base_uri": "https://localhost:8080/",
     "height": 204
    },
    "executionInfo": {
     "elapsed": 217,
     "status": "ok",
     "timestamp": 1638134060507,
     "user": {
      "displayName": "Gerardo Alfonso Silva Razo",
      "photoUrl": "https://lh3.googleusercontent.com/a/default-user=s64",
      "userId": "11961439085699130760"
     },
     "user_tz": 360
    },
    "id": "MUwTbUnxYNNw",
    "outputId": "17b66fc3-e037-4143-99d1-f3e855153e29"
   },
   "outputs": [
    {
     "data": {
      "text/html": [
       "<div>\n",
       "<style scoped>\n",
       "    .dataframe tbody tr th:only-of-type {\n",
       "        vertical-align: middle;\n",
       "    }\n",
       "\n",
       "    .dataframe tbody tr th {\n",
       "        vertical-align: top;\n",
       "    }\n",
       "\n",
       "    .dataframe thead th {\n",
       "        text-align: right;\n",
       "    }\n",
       "</style>\n",
       "<table border=\"1\" class=\"dataframe\">\n",
       "  <thead>\n",
       "    <tr style=\"text-align: right;\">\n",
       "      <th></th>\n",
       "      <th>age</th>\n",
       "      <th>sex</th>\n",
       "      <th>cp</th>\n",
       "      <th>trestbps</th>\n",
       "      <th>chol</th>\n",
       "      <th>fbs</th>\n",
       "      <th>thalach</th>\n",
       "      <th>exang</th>\n",
       "      <th>oldpeak</th>\n",
       "      <th>slope</th>\n",
       "      <th>ca</th>\n",
       "      <th>thal</th>\n",
       "      <th>target</th>\n",
       "      <th>RestECG normal</th>\n",
       "      <th>RestECG abnormal</th>\n",
       "      <th>RestECG ventricular hypertrophy</th>\n",
       "    </tr>\n",
       "  </thead>\n",
       "  <tbody>\n",
       "    <tr>\n",
       "      <th>0</th>\n",
       "      <td>63</td>\n",
       "      <td>1</td>\n",
       "      <td>3</td>\n",
       "      <td>145</td>\n",
       "      <td>233</td>\n",
       "      <td>1</td>\n",
       "      <td>150</td>\n",
       "      <td>0</td>\n",
       "      <td>2.3</td>\n",
       "      <td>0</td>\n",
       "      <td>0</td>\n",
       "      <td>1</td>\n",
       "      <td>1</td>\n",
       "      <td>1.0</td>\n",
       "      <td>0.0</td>\n",
       "      <td>0.0</td>\n",
       "    </tr>\n",
       "    <tr>\n",
       "      <th>1</th>\n",
       "      <td>37</td>\n",
       "      <td>1</td>\n",
       "      <td>2</td>\n",
       "      <td>130</td>\n",
       "      <td>250</td>\n",
       "      <td>0</td>\n",
       "      <td>187</td>\n",
       "      <td>0</td>\n",
       "      <td>3.5</td>\n",
       "      <td>0</td>\n",
       "      <td>0</td>\n",
       "      <td>2</td>\n",
       "      <td>1</td>\n",
       "      <td>0.0</td>\n",
       "      <td>1.0</td>\n",
       "      <td>0.0</td>\n",
       "    </tr>\n",
       "    <tr>\n",
       "      <th>2</th>\n",
       "      <td>41</td>\n",
       "      <td>0</td>\n",
       "      <td>1</td>\n",
       "      <td>130</td>\n",
       "      <td>204</td>\n",
       "      <td>0</td>\n",
       "      <td>172</td>\n",
       "      <td>0</td>\n",
       "      <td>1.4</td>\n",
       "      <td>2</td>\n",
       "      <td>0</td>\n",
       "      <td>2</td>\n",
       "      <td>1</td>\n",
       "      <td>1.0</td>\n",
       "      <td>0.0</td>\n",
       "      <td>0.0</td>\n",
       "    </tr>\n",
       "    <tr>\n",
       "      <th>3</th>\n",
       "      <td>56</td>\n",
       "      <td>1</td>\n",
       "      <td>1</td>\n",
       "      <td>120</td>\n",
       "      <td>236</td>\n",
       "      <td>0</td>\n",
       "      <td>178</td>\n",
       "      <td>0</td>\n",
       "      <td>0.8</td>\n",
       "      <td>2</td>\n",
       "      <td>0</td>\n",
       "      <td>2</td>\n",
       "      <td>1</td>\n",
       "      <td>0.0</td>\n",
       "      <td>1.0</td>\n",
       "      <td>0.0</td>\n",
       "    </tr>\n",
       "    <tr>\n",
       "      <th>4</th>\n",
       "      <td>57</td>\n",
       "      <td>0</td>\n",
       "      <td>0</td>\n",
       "      <td>120</td>\n",
       "      <td>354</td>\n",
       "      <td>0</td>\n",
       "      <td>163</td>\n",
       "      <td>1</td>\n",
       "      <td>0.6</td>\n",
       "      <td>2</td>\n",
       "      <td>0</td>\n",
       "      <td>2</td>\n",
       "      <td>1</td>\n",
       "      <td>0.0</td>\n",
       "      <td>1.0</td>\n",
       "      <td>0.0</td>\n",
       "    </tr>\n",
       "  </tbody>\n",
       "</table>\n",
       "</div>"
      ],
      "text/plain": [
       "   age  sex  cp  trestbps  chol  fbs  thalach  exang  oldpeak  slope  ca  \\\n",
       "0   63    1   3       145   233    1      150      0      2.3      0   0   \n",
       "1   37    1   2       130   250    0      187      0      3.5      0   0   \n",
       "2   41    0   1       130   204    0      172      0      1.4      2   0   \n",
       "3   56    1   1       120   236    0      178      0      0.8      2   0   \n",
       "4   57    0   0       120   354    0      163      1      0.6      2   0   \n",
       "\n",
       "   thal  target  RestECG normal  RestECG abnormal  \\\n",
       "0     1       1             1.0               0.0   \n",
       "1     2       1             0.0               1.0   \n",
       "2     2       1             1.0               0.0   \n",
       "3     2       1             0.0               1.0   \n",
       "4     2       1             0.0               1.0   \n",
       "\n",
       "   RestECG ventricular hypertrophy  \n",
       "0                              0.0  \n",
       "1                              0.0  \n",
       "2                              0.0  \n",
       "3                              0.0  \n",
       "4                              0.0  "
      ]
     },
     "execution_count": 31,
     "metadata": {},
     "output_type": "execute_result"
    }
   ],
   "source": [
    "## RestECG\n",
    "\n",
    "enc = OneHotEncoder(sparse=False)\n",
    "\n",
    "encodedValues = enc.fit_transform(data[[\"restecg\"]])\n",
    "\n",
    "encodedValues = pd.DataFrame({\n",
    "    \"RestECG normal\" : encodedValues[:,0],\n",
    "    \"RestECG abnormal\" : encodedValues[:,1],\n",
    "    \"RestECG ventricular hypertrophy\" : encodedValues[:,2],\n",
    "})\n",
    "\n",
    "data = pd.concat([data,encodedValues], axis=1)\n",
    "\n",
    "data.pop(\"restecg\")\n",
    "\n",
    "data.head()"
   ]
  },
  {
   "cell_type": "code",
   "execution_count": 32,
   "metadata": {
    "colab": {
     "base_uri": "https://localhost:8080/",
     "height": 292
    },
    "executionInfo": {
     "elapsed": 19,
     "status": "ok",
     "timestamp": 1638134060508,
     "user": {
      "displayName": "Gerardo Alfonso Silva Razo",
      "photoUrl": "https://lh3.googleusercontent.com/a/default-user=s64",
      "userId": "11961439085699130760"
     },
     "user_tz": 360
    },
    "id": "XdWsYjOWYNKD",
    "outputId": "6cbba1ed-024a-4341-9d3c-919c18d3792a"
   },
   "outputs": [
    {
     "data": {
      "text/html": [
       "<div>\n",
       "<style scoped>\n",
       "    .dataframe tbody tr th:only-of-type {\n",
       "        vertical-align: middle;\n",
       "    }\n",
       "\n",
       "    .dataframe tbody tr th {\n",
       "        vertical-align: top;\n",
       "    }\n",
       "\n",
       "    .dataframe thead th {\n",
       "        text-align: right;\n",
       "    }\n",
       "</style>\n",
       "<table border=\"1\" class=\"dataframe\">\n",
       "  <thead>\n",
       "    <tr style=\"text-align: right;\">\n",
       "      <th></th>\n",
       "      <th>age</th>\n",
       "      <th>sex</th>\n",
       "      <th>trestbps</th>\n",
       "      <th>chol</th>\n",
       "      <th>fbs</th>\n",
       "      <th>thalach</th>\n",
       "      <th>exang</th>\n",
       "      <th>oldpeak</th>\n",
       "      <th>slope</th>\n",
       "      <th>ca</th>\n",
       "      <th>thal</th>\n",
       "      <th>target</th>\n",
       "      <th>RestECG normal</th>\n",
       "      <th>RestECG abnormal</th>\n",
       "      <th>RestECG ventricular hypertrophy</th>\n",
       "      <th>Chest Pain typical angina</th>\n",
       "      <th>Chest Pain atypical angina</th>\n",
       "      <th>Chest Pain non-anginal pain</th>\n",
       "      <th>Chest Pain asymptomatic</th>\n",
       "    </tr>\n",
       "  </thead>\n",
       "  <tbody>\n",
       "    <tr>\n",
       "      <th>0</th>\n",
       "      <td>63</td>\n",
       "      <td>1</td>\n",
       "      <td>145</td>\n",
       "      <td>233</td>\n",
       "      <td>1</td>\n",
       "      <td>150</td>\n",
       "      <td>0</td>\n",
       "      <td>2.3</td>\n",
       "      <td>0</td>\n",
       "      <td>0</td>\n",
       "      <td>1</td>\n",
       "      <td>1</td>\n",
       "      <td>1.0</td>\n",
       "      <td>0.0</td>\n",
       "      <td>0.0</td>\n",
       "      <td>0.0</td>\n",
       "      <td>0.0</td>\n",
       "      <td>0.0</td>\n",
       "      <td>1.0</td>\n",
       "    </tr>\n",
       "    <tr>\n",
       "      <th>1</th>\n",
       "      <td>37</td>\n",
       "      <td>1</td>\n",
       "      <td>130</td>\n",
       "      <td>250</td>\n",
       "      <td>0</td>\n",
       "      <td>187</td>\n",
       "      <td>0</td>\n",
       "      <td>3.5</td>\n",
       "      <td>0</td>\n",
       "      <td>0</td>\n",
       "      <td>2</td>\n",
       "      <td>1</td>\n",
       "      <td>0.0</td>\n",
       "      <td>1.0</td>\n",
       "      <td>0.0</td>\n",
       "      <td>0.0</td>\n",
       "      <td>0.0</td>\n",
       "      <td>1.0</td>\n",
       "      <td>0.0</td>\n",
       "    </tr>\n",
       "    <tr>\n",
       "      <th>2</th>\n",
       "      <td>41</td>\n",
       "      <td>0</td>\n",
       "      <td>130</td>\n",
       "      <td>204</td>\n",
       "      <td>0</td>\n",
       "      <td>172</td>\n",
       "      <td>0</td>\n",
       "      <td>1.4</td>\n",
       "      <td>2</td>\n",
       "      <td>0</td>\n",
       "      <td>2</td>\n",
       "      <td>1</td>\n",
       "      <td>1.0</td>\n",
       "      <td>0.0</td>\n",
       "      <td>0.0</td>\n",
       "      <td>0.0</td>\n",
       "      <td>1.0</td>\n",
       "      <td>0.0</td>\n",
       "      <td>0.0</td>\n",
       "    </tr>\n",
       "    <tr>\n",
       "      <th>3</th>\n",
       "      <td>56</td>\n",
       "      <td>1</td>\n",
       "      <td>120</td>\n",
       "      <td>236</td>\n",
       "      <td>0</td>\n",
       "      <td>178</td>\n",
       "      <td>0</td>\n",
       "      <td>0.8</td>\n",
       "      <td>2</td>\n",
       "      <td>0</td>\n",
       "      <td>2</td>\n",
       "      <td>1</td>\n",
       "      <td>0.0</td>\n",
       "      <td>1.0</td>\n",
       "      <td>0.0</td>\n",
       "      <td>0.0</td>\n",
       "      <td>1.0</td>\n",
       "      <td>0.0</td>\n",
       "      <td>0.0</td>\n",
       "    </tr>\n",
       "    <tr>\n",
       "      <th>4</th>\n",
       "      <td>57</td>\n",
       "      <td>0</td>\n",
       "      <td>120</td>\n",
       "      <td>354</td>\n",
       "      <td>0</td>\n",
       "      <td>163</td>\n",
       "      <td>1</td>\n",
       "      <td>0.6</td>\n",
       "      <td>2</td>\n",
       "      <td>0</td>\n",
       "      <td>2</td>\n",
       "      <td>1</td>\n",
       "      <td>0.0</td>\n",
       "      <td>1.0</td>\n",
       "      <td>0.0</td>\n",
       "      <td>1.0</td>\n",
       "      <td>0.0</td>\n",
       "      <td>0.0</td>\n",
       "      <td>0.0</td>\n",
       "    </tr>\n",
       "  </tbody>\n",
       "</table>\n",
       "</div>"
      ],
      "text/plain": [
       "   age  sex  trestbps  chol  fbs  thalach  exang  oldpeak  slope  ca  thal  \\\n",
       "0   63    1       145   233    1      150      0      2.3      0   0     1   \n",
       "1   37    1       130   250    0      187      0      3.5      0   0     2   \n",
       "2   41    0       130   204    0      172      0      1.4      2   0     2   \n",
       "3   56    1       120   236    0      178      0      0.8      2   0     2   \n",
       "4   57    0       120   354    0      163      1      0.6      2   0     2   \n",
       "\n",
       "   target  RestECG normal  RestECG abnormal  RestECG ventricular hypertrophy  \\\n",
       "0       1             1.0               0.0                              0.0   \n",
       "1       1             0.0               1.0                              0.0   \n",
       "2       1             1.0               0.0                              0.0   \n",
       "3       1             0.0               1.0                              0.0   \n",
       "4       1             0.0               1.0                              0.0   \n",
       "\n",
       "   Chest Pain typical angina  Chest Pain atypical angina  \\\n",
       "0                        0.0                         0.0   \n",
       "1                        0.0                         0.0   \n",
       "2                        0.0                         1.0   \n",
       "3                        0.0                         1.0   \n",
       "4                        1.0                         0.0   \n",
       "\n",
       "   Chest Pain non-anginal pain  Chest Pain asymptomatic  \n",
       "0                          0.0                      1.0  \n",
       "1                          1.0                      0.0  \n",
       "2                          0.0                      0.0  \n",
       "3                          0.0                      0.0  \n",
       "4                          0.0                      0.0  "
      ]
     },
     "execution_count": 32,
     "metadata": {},
     "output_type": "execute_result"
    }
   ],
   "source": [
    "encodedValues = enc.fit_transform(data[[\"cp\"]])\n",
    "\n",
    "encodedValues = pd.DataFrame({\n",
    "    \"Chest Pain typical angina\" : encodedValues[:,0],\n",
    "    \"Chest Pain atypical angina\" : encodedValues[:,1],\n",
    "    \"Chest Pain non-anginal pain\" : encodedValues[:,2],\n",
    "    \"Chest Pain asymptomatic\" : encodedValues[:,3],\n",
    "})\n",
    "\n",
    "data = pd.concat([data,encodedValues], axis=1)\n",
    "\n",
    "data.pop(\"cp\")\n",
    "\n",
    "data.head()"
   ]
  },
  {
   "cell_type": "code",
   "execution_count": 33,
   "metadata": {
    "colab": {
     "base_uri": "https://localhost:8080/",
     "height": 292
    },
    "executionInfo": {
     "elapsed": 19,
     "status": "ok",
     "timestamp": 1638134060509,
     "user": {
      "displayName": "Gerardo Alfonso Silva Razo",
      "photoUrl": "https://lh3.googleusercontent.com/a/default-user=s64",
      "userId": "11961439085699130760"
     },
     "user_tz": 360
    },
    "id": "Z7IEmdxKYNHO",
    "outputId": "e3f961bb-197a-4645-c32d-c6be7ff8b3f6"
   },
   "outputs": [
    {
     "data": {
      "text/html": [
       "<div>\n",
       "<style scoped>\n",
       "    .dataframe tbody tr th:only-of-type {\n",
       "        vertical-align: middle;\n",
       "    }\n",
       "\n",
       "    .dataframe tbody tr th {\n",
       "        vertical-align: top;\n",
       "    }\n",
       "\n",
       "    .dataframe thead th {\n",
       "        text-align: right;\n",
       "    }\n",
       "</style>\n",
       "<table border=\"1\" class=\"dataframe\">\n",
       "  <thead>\n",
       "    <tr style=\"text-align: right;\">\n",
       "      <th></th>\n",
       "      <th>age</th>\n",
       "      <th>sex</th>\n",
       "      <th>trestbps</th>\n",
       "      <th>chol</th>\n",
       "      <th>fbs</th>\n",
       "      <th>thalach</th>\n",
       "      <th>exang</th>\n",
       "      <th>oldpeak</th>\n",
       "      <th>ca</th>\n",
       "      <th>thal</th>\n",
       "      <th>...</th>\n",
       "      <th>RestECG normal</th>\n",
       "      <th>RestECG abnormal</th>\n",
       "      <th>RestECG ventricular hypertrophy</th>\n",
       "      <th>Chest Pain typical angina</th>\n",
       "      <th>Chest Pain atypical angina</th>\n",
       "      <th>Chest Pain non-anginal pain</th>\n",
       "      <th>Chest Pain asymptomatic</th>\n",
       "      <th>Slope Upscaling</th>\n",
       "      <th>Slope Flat</th>\n",
       "      <th>Slope Downscaling</th>\n",
       "    </tr>\n",
       "  </thead>\n",
       "  <tbody>\n",
       "    <tr>\n",
       "      <th>0</th>\n",
       "      <td>63</td>\n",
       "      <td>1</td>\n",
       "      <td>145</td>\n",
       "      <td>233</td>\n",
       "      <td>1</td>\n",
       "      <td>150</td>\n",
       "      <td>0</td>\n",
       "      <td>2.3</td>\n",
       "      <td>0</td>\n",
       "      <td>1</td>\n",
       "      <td>...</td>\n",
       "      <td>1.0</td>\n",
       "      <td>0.0</td>\n",
       "      <td>0.0</td>\n",
       "      <td>0.0</td>\n",
       "      <td>0.0</td>\n",
       "      <td>0.0</td>\n",
       "      <td>1.0</td>\n",
       "      <td>1.0</td>\n",
       "      <td>0.0</td>\n",
       "      <td>0.0</td>\n",
       "    </tr>\n",
       "    <tr>\n",
       "      <th>1</th>\n",
       "      <td>37</td>\n",
       "      <td>1</td>\n",
       "      <td>130</td>\n",
       "      <td>250</td>\n",
       "      <td>0</td>\n",
       "      <td>187</td>\n",
       "      <td>0</td>\n",
       "      <td>3.5</td>\n",
       "      <td>0</td>\n",
       "      <td>2</td>\n",
       "      <td>...</td>\n",
       "      <td>0.0</td>\n",
       "      <td>1.0</td>\n",
       "      <td>0.0</td>\n",
       "      <td>0.0</td>\n",
       "      <td>0.0</td>\n",
       "      <td>1.0</td>\n",
       "      <td>0.0</td>\n",
       "      <td>1.0</td>\n",
       "      <td>0.0</td>\n",
       "      <td>0.0</td>\n",
       "    </tr>\n",
       "    <tr>\n",
       "      <th>2</th>\n",
       "      <td>41</td>\n",
       "      <td>0</td>\n",
       "      <td>130</td>\n",
       "      <td>204</td>\n",
       "      <td>0</td>\n",
       "      <td>172</td>\n",
       "      <td>0</td>\n",
       "      <td>1.4</td>\n",
       "      <td>0</td>\n",
       "      <td>2</td>\n",
       "      <td>...</td>\n",
       "      <td>1.0</td>\n",
       "      <td>0.0</td>\n",
       "      <td>0.0</td>\n",
       "      <td>0.0</td>\n",
       "      <td>1.0</td>\n",
       "      <td>0.0</td>\n",
       "      <td>0.0</td>\n",
       "      <td>0.0</td>\n",
       "      <td>0.0</td>\n",
       "      <td>1.0</td>\n",
       "    </tr>\n",
       "    <tr>\n",
       "      <th>3</th>\n",
       "      <td>56</td>\n",
       "      <td>1</td>\n",
       "      <td>120</td>\n",
       "      <td>236</td>\n",
       "      <td>0</td>\n",
       "      <td>178</td>\n",
       "      <td>0</td>\n",
       "      <td>0.8</td>\n",
       "      <td>0</td>\n",
       "      <td>2</td>\n",
       "      <td>...</td>\n",
       "      <td>0.0</td>\n",
       "      <td>1.0</td>\n",
       "      <td>0.0</td>\n",
       "      <td>0.0</td>\n",
       "      <td>1.0</td>\n",
       "      <td>0.0</td>\n",
       "      <td>0.0</td>\n",
       "      <td>0.0</td>\n",
       "      <td>0.0</td>\n",
       "      <td>1.0</td>\n",
       "    </tr>\n",
       "    <tr>\n",
       "      <th>4</th>\n",
       "      <td>57</td>\n",
       "      <td>0</td>\n",
       "      <td>120</td>\n",
       "      <td>354</td>\n",
       "      <td>0</td>\n",
       "      <td>163</td>\n",
       "      <td>1</td>\n",
       "      <td>0.6</td>\n",
       "      <td>0</td>\n",
       "      <td>2</td>\n",
       "      <td>...</td>\n",
       "      <td>0.0</td>\n",
       "      <td>1.0</td>\n",
       "      <td>0.0</td>\n",
       "      <td>1.0</td>\n",
       "      <td>0.0</td>\n",
       "      <td>0.0</td>\n",
       "      <td>0.0</td>\n",
       "      <td>0.0</td>\n",
       "      <td>0.0</td>\n",
       "      <td>1.0</td>\n",
       "    </tr>\n",
       "  </tbody>\n",
       "</table>\n",
       "<p>5 rows × 21 columns</p>\n",
       "</div>"
      ],
      "text/plain": [
       "   age  sex  trestbps  chol  fbs  thalach  exang  oldpeak  ca  thal  ...  \\\n",
       "0   63    1       145   233    1      150      0      2.3   0     1  ...   \n",
       "1   37    1       130   250    0      187      0      3.5   0     2  ...   \n",
       "2   41    0       130   204    0      172      0      1.4   0     2  ...   \n",
       "3   56    1       120   236    0      178      0      0.8   0     2  ...   \n",
       "4   57    0       120   354    0      163      1      0.6   0     2  ...   \n",
       "\n",
       "   RestECG normal  RestECG abnormal  RestECG ventricular hypertrophy  \\\n",
       "0             1.0               0.0                              0.0   \n",
       "1             0.0               1.0                              0.0   \n",
       "2             1.0               0.0                              0.0   \n",
       "3             0.0               1.0                              0.0   \n",
       "4             0.0               1.0                              0.0   \n",
       "\n",
       "   Chest Pain typical angina  Chest Pain atypical angina  \\\n",
       "0                        0.0                         0.0   \n",
       "1                        0.0                         0.0   \n",
       "2                        0.0                         1.0   \n",
       "3                        0.0                         1.0   \n",
       "4                        1.0                         0.0   \n",
       "\n",
       "   Chest Pain non-anginal pain  Chest Pain asymptomatic  Slope Upscaling  \\\n",
       "0                          0.0                      1.0              1.0   \n",
       "1                          1.0                      0.0              1.0   \n",
       "2                          0.0                      0.0              0.0   \n",
       "3                          0.0                      0.0              0.0   \n",
       "4                          0.0                      0.0              0.0   \n",
       "\n",
       "   Slope Flat  Slope Downscaling  \n",
       "0         0.0                0.0  \n",
       "1         0.0                0.0  \n",
       "2         0.0                1.0  \n",
       "3         0.0                1.0  \n",
       "4         0.0                1.0  \n",
       "\n",
       "[5 rows x 21 columns]"
      ]
     },
     "execution_count": 33,
     "metadata": {},
     "output_type": "execute_result"
    }
   ],
   "source": [
    "encodedValues = enc.fit_transform(data[[\"slope\"]])\n",
    "\n",
    "encodedValues = pd.DataFrame({\n",
    "    \"Slope Upscaling\" : encodedValues[:,0],\n",
    "    \"Slope Flat\" : encodedValues[:,1],\n",
    "    \"Slope Downscaling\" : encodedValues[:,2]\n",
    "})\n",
    "\n",
    "data = pd.concat([data,encodedValues], axis=1)\n",
    "\n",
    "data.pop(\"slope\")\n",
    "\n",
    "data.head()"
   ]
  },
  {
   "cell_type": "code",
   "execution_count": 34,
   "metadata": {
    "colab": {
     "base_uri": "https://localhost:8080/",
     "height": 292
    },
    "executionInfo": {
     "elapsed": 18,
     "status": "ok",
     "timestamp": 1638134060509,
     "user": {
      "displayName": "Gerardo Alfonso Silva Razo",
      "photoUrl": "https://lh3.googleusercontent.com/a/default-user=s64",
      "userId": "11961439085699130760"
     },
     "user_tz": 360
    },
    "id": "DadNV6QpYNEu",
    "outputId": "d62b272a-99b4-48a8-f4ac-9437e1c628e3"
   },
   "outputs": [
    {
     "data": {
      "text/html": [
       "<div>\n",
       "<style scoped>\n",
       "    .dataframe tbody tr th:only-of-type {\n",
       "        vertical-align: middle;\n",
       "    }\n",
       "\n",
       "    .dataframe tbody tr th {\n",
       "        vertical-align: top;\n",
       "    }\n",
       "\n",
       "    .dataframe thead th {\n",
       "        text-align: right;\n",
       "    }\n",
       "</style>\n",
       "<table border=\"1\" class=\"dataframe\">\n",
       "  <thead>\n",
       "    <tr style=\"text-align: right;\">\n",
       "      <th></th>\n",
       "      <th>age</th>\n",
       "      <th>sex</th>\n",
       "      <th>trestbps</th>\n",
       "      <th>chol</th>\n",
       "      <th>fbs</th>\n",
       "      <th>thalach</th>\n",
       "      <th>exang</th>\n",
       "      <th>oldpeak</th>\n",
       "      <th>ca</th>\n",
       "      <th>target</th>\n",
       "      <th>...</th>\n",
       "      <th>Chest Pain typical angina</th>\n",
       "      <th>Chest Pain atypical angina</th>\n",
       "      <th>Chest Pain non-anginal pain</th>\n",
       "      <th>Chest Pain asymptomatic</th>\n",
       "      <th>Slope Upscaling</th>\n",
       "      <th>Slope Flat</th>\n",
       "      <th>Slope Downscaling</th>\n",
       "      <th>AHD Normal</th>\n",
       "      <th>AHD Fixed Defect</th>\n",
       "      <th>AHD Reversible Defect</th>\n",
       "    </tr>\n",
       "  </thead>\n",
       "  <tbody>\n",
       "    <tr>\n",
       "      <th>0</th>\n",
       "      <td>63</td>\n",
       "      <td>1</td>\n",
       "      <td>145</td>\n",
       "      <td>233</td>\n",
       "      <td>1</td>\n",
       "      <td>150</td>\n",
       "      <td>0</td>\n",
       "      <td>2.3</td>\n",
       "      <td>0</td>\n",
       "      <td>1</td>\n",
       "      <td>...</td>\n",
       "      <td>0.0</td>\n",
       "      <td>0.0</td>\n",
       "      <td>0.0</td>\n",
       "      <td>1.0</td>\n",
       "      <td>1.0</td>\n",
       "      <td>0.0</td>\n",
       "      <td>0.0</td>\n",
       "      <td>0.0</td>\n",
       "      <td>1.0</td>\n",
       "      <td>0.0</td>\n",
       "    </tr>\n",
       "    <tr>\n",
       "      <th>1</th>\n",
       "      <td>37</td>\n",
       "      <td>1</td>\n",
       "      <td>130</td>\n",
       "      <td>250</td>\n",
       "      <td>0</td>\n",
       "      <td>187</td>\n",
       "      <td>0</td>\n",
       "      <td>3.5</td>\n",
       "      <td>0</td>\n",
       "      <td>1</td>\n",
       "      <td>...</td>\n",
       "      <td>0.0</td>\n",
       "      <td>0.0</td>\n",
       "      <td>1.0</td>\n",
       "      <td>0.0</td>\n",
       "      <td>1.0</td>\n",
       "      <td>0.0</td>\n",
       "      <td>0.0</td>\n",
       "      <td>0.0</td>\n",
       "      <td>0.0</td>\n",
       "      <td>1.0</td>\n",
       "    </tr>\n",
       "    <tr>\n",
       "      <th>2</th>\n",
       "      <td>41</td>\n",
       "      <td>0</td>\n",
       "      <td>130</td>\n",
       "      <td>204</td>\n",
       "      <td>0</td>\n",
       "      <td>172</td>\n",
       "      <td>0</td>\n",
       "      <td>1.4</td>\n",
       "      <td>0</td>\n",
       "      <td>1</td>\n",
       "      <td>...</td>\n",
       "      <td>0.0</td>\n",
       "      <td>1.0</td>\n",
       "      <td>0.0</td>\n",
       "      <td>0.0</td>\n",
       "      <td>0.0</td>\n",
       "      <td>0.0</td>\n",
       "      <td>1.0</td>\n",
       "      <td>0.0</td>\n",
       "      <td>0.0</td>\n",
       "      <td>1.0</td>\n",
       "    </tr>\n",
       "    <tr>\n",
       "      <th>3</th>\n",
       "      <td>56</td>\n",
       "      <td>1</td>\n",
       "      <td>120</td>\n",
       "      <td>236</td>\n",
       "      <td>0</td>\n",
       "      <td>178</td>\n",
       "      <td>0</td>\n",
       "      <td>0.8</td>\n",
       "      <td>0</td>\n",
       "      <td>1</td>\n",
       "      <td>...</td>\n",
       "      <td>0.0</td>\n",
       "      <td>1.0</td>\n",
       "      <td>0.0</td>\n",
       "      <td>0.0</td>\n",
       "      <td>0.0</td>\n",
       "      <td>0.0</td>\n",
       "      <td>1.0</td>\n",
       "      <td>0.0</td>\n",
       "      <td>0.0</td>\n",
       "      <td>1.0</td>\n",
       "    </tr>\n",
       "    <tr>\n",
       "      <th>4</th>\n",
       "      <td>57</td>\n",
       "      <td>0</td>\n",
       "      <td>120</td>\n",
       "      <td>354</td>\n",
       "      <td>0</td>\n",
       "      <td>163</td>\n",
       "      <td>1</td>\n",
       "      <td>0.6</td>\n",
       "      <td>0</td>\n",
       "      <td>1</td>\n",
       "      <td>...</td>\n",
       "      <td>1.0</td>\n",
       "      <td>0.0</td>\n",
       "      <td>0.0</td>\n",
       "      <td>0.0</td>\n",
       "      <td>0.0</td>\n",
       "      <td>0.0</td>\n",
       "      <td>1.0</td>\n",
       "      <td>0.0</td>\n",
       "      <td>0.0</td>\n",
       "      <td>1.0</td>\n",
       "    </tr>\n",
       "  </tbody>\n",
       "</table>\n",
       "<p>5 rows × 23 columns</p>\n",
       "</div>"
      ],
      "text/plain": [
       "   age  sex  trestbps  chol  fbs  thalach  exang  oldpeak  ca  target  ...  \\\n",
       "0   63    1       145   233    1      150      0      2.3   0       1  ...   \n",
       "1   37    1       130   250    0      187      0      3.5   0       1  ...   \n",
       "2   41    0       130   204    0      172      0      1.4   0       1  ...   \n",
       "3   56    1       120   236    0      178      0      0.8   0       1  ...   \n",
       "4   57    0       120   354    0      163      1      0.6   0       1  ...   \n",
       "\n",
       "   Chest Pain typical angina  Chest Pain atypical angina  \\\n",
       "0                        0.0                         0.0   \n",
       "1                        0.0                         0.0   \n",
       "2                        0.0                         1.0   \n",
       "3                        0.0                         1.0   \n",
       "4                        1.0                         0.0   \n",
       "\n",
       "   Chest Pain non-anginal pain  Chest Pain asymptomatic  Slope Upscaling  \\\n",
       "0                          0.0                      1.0              1.0   \n",
       "1                          1.0                      0.0              1.0   \n",
       "2                          0.0                      0.0              0.0   \n",
       "3                          0.0                      0.0              0.0   \n",
       "4                          0.0                      0.0              0.0   \n",
       "\n",
       "   Slope Flat  Slope Downscaling  AHD Normal  AHD Fixed Defect  \\\n",
       "0         0.0                0.0         0.0               1.0   \n",
       "1         0.0                0.0         0.0               0.0   \n",
       "2         0.0                1.0         0.0               0.0   \n",
       "3         0.0                1.0         0.0               0.0   \n",
       "4         0.0                1.0         0.0               0.0   \n",
       "\n",
       "   AHD Reversible Defect  \n",
       "0                    0.0  \n",
       "1                    1.0  \n",
       "2                    1.0  \n",
       "3                    1.0  \n",
       "4                    1.0  \n",
       "\n",
       "[5 rows x 23 columns]"
      ]
     },
     "execution_count": 34,
     "metadata": {},
     "output_type": "execute_result"
    }
   ],
   "source": [
    "encodedValues = enc.fit_transform(data[[\"thal\"]])\n",
    "\n",
    "encodedValues = pd.DataFrame({\n",
    "    \"AHD Normal\" : encodedValues[:,0],\n",
    "    \"AHD Fixed Defect\" : encodedValues[:,1],\n",
    "    \"AHD Reversible Defect\" : encodedValues[:,2]\n",
    "})\n",
    "\n",
    "data = pd.concat([data,encodedValues], axis=1)\n",
    "\n",
    "data.pop(\"thal\")\n",
    "\n",
    "data.head()"
   ]
  },
  {
   "cell_type": "code",
   "execution_count": 35,
   "metadata": {
    "executionInfo": {
     "elapsed": 18,
     "status": "ok",
     "timestamp": 1638134060510,
     "user": {
      "displayName": "Gerardo Alfonso Silva Razo",
      "photoUrl": "https://lh3.googleusercontent.com/a/default-user=s64",
      "userId": "11961439085699130760"
     },
     "user_tz": 360
    },
    "id": "ipXHtwLVYNC3"
   },
   "outputs": [],
   "source": [
    "#Removing outliers\n",
    "data.drop(index=index_dropped_rows, inplace=True)"
   ]
  },
  {
   "cell_type": "code",
   "execution_count": 36,
   "metadata": {
    "executionInfo": {
     "elapsed": 18,
     "status": "ok",
     "timestamp": 1638134060510,
     "user": {
      "displayName": "Gerardo Alfonso Silva Razo",
      "photoUrl": "https://lh3.googleusercontent.com/a/default-user=s64",
      "userId": "11961439085699130760"
     },
     "user_tz": 360
    },
    "id": "OBJ8vj4KYNAM"
   },
   "outputs": [],
   "source": [
    "y = data.pop(\"target\")\n",
    "X = data"
   ]
  },
  {
   "cell_type": "code",
   "execution_count": 37,
   "metadata": {
    "colab": {
     "base_uri": "https://localhost:8080/"
    },
    "executionInfo": {
     "elapsed": 18,
     "status": "ok",
     "timestamp": 1638134060511,
     "user": {
      "displayName": "Gerardo Alfonso Silva Razo",
      "photoUrl": "https://lh3.googleusercontent.com/a/default-user=s64",
      "userId": "11961439085699130760"
     },
     "user_tz": 360
    },
    "id": "v3QV46ljYM9p",
    "outputId": "e734b1cf-0f5b-4472-8c5a-d863c6edd2da"
   },
   "outputs": [
    {
     "data": {
      "text/plain": [
       "0    1\n",
       "1    1\n",
       "2    1\n",
       "3    1\n",
       "4    1\n",
       "Name: target, dtype: int64"
      ]
     },
     "execution_count": 37,
     "metadata": {},
     "output_type": "execute_result"
    }
   ],
   "source": [
    "y.head()"
   ]
  },
  {
   "cell_type": "code",
   "execution_count": 38,
   "metadata": {
    "colab": {
     "base_uri": "https://localhost:8080/",
     "height": 292
    },
    "executionInfo": {
     "elapsed": 295,
     "status": "ok",
     "timestamp": 1638134060791,
     "user": {
      "displayName": "Gerardo Alfonso Silva Razo",
      "photoUrl": "https://lh3.googleusercontent.com/a/default-user=s64",
      "userId": "11961439085699130760"
     },
     "user_tz": 360
    },
    "id": "ccLJtydjYM71",
    "outputId": "e6d1a908-8fa7-4e4a-fe91-83a34c8e7b1e"
   },
   "outputs": [
    {
     "data": {
      "text/html": [
       "<div>\n",
       "<style scoped>\n",
       "    .dataframe tbody tr th:only-of-type {\n",
       "        vertical-align: middle;\n",
       "    }\n",
       "\n",
       "    .dataframe tbody tr th {\n",
       "        vertical-align: top;\n",
       "    }\n",
       "\n",
       "    .dataframe thead th {\n",
       "        text-align: right;\n",
       "    }\n",
       "</style>\n",
       "<table border=\"1\" class=\"dataframe\">\n",
       "  <thead>\n",
       "    <tr style=\"text-align: right;\">\n",
       "      <th></th>\n",
       "      <th>age</th>\n",
       "      <th>sex</th>\n",
       "      <th>trestbps</th>\n",
       "      <th>chol</th>\n",
       "      <th>fbs</th>\n",
       "      <th>thalach</th>\n",
       "      <th>exang</th>\n",
       "      <th>oldpeak</th>\n",
       "      <th>ca</th>\n",
       "      <th>RestECG normal</th>\n",
       "      <th>...</th>\n",
       "      <th>Chest Pain typical angina</th>\n",
       "      <th>Chest Pain atypical angina</th>\n",
       "      <th>Chest Pain non-anginal pain</th>\n",
       "      <th>Chest Pain asymptomatic</th>\n",
       "      <th>Slope Upscaling</th>\n",
       "      <th>Slope Flat</th>\n",
       "      <th>Slope Downscaling</th>\n",
       "      <th>AHD Normal</th>\n",
       "      <th>AHD Fixed Defect</th>\n",
       "      <th>AHD Reversible Defect</th>\n",
       "    </tr>\n",
       "  </thead>\n",
       "  <tbody>\n",
       "    <tr>\n",
       "      <th>0</th>\n",
       "      <td>63</td>\n",
       "      <td>1</td>\n",
       "      <td>145</td>\n",
       "      <td>233</td>\n",
       "      <td>1</td>\n",
       "      <td>150</td>\n",
       "      <td>0</td>\n",
       "      <td>2.3</td>\n",
       "      <td>0</td>\n",
       "      <td>1.0</td>\n",
       "      <td>...</td>\n",
       "      <td>0.0</td>\n",
       "      <td>0.0</td>\n",
       "      <td>0.0</td>\n",
       "      <td>1.0</td>\n",
       "      <td>1.0</td>\n",
       "      <td>0.0</td>\n",
       "      <td>0.0</td>\n",
       "      <td>0.0</td>\n",
       "      <td>1.0</td>\n",
       "      <td>0.0</td>\n",
       "    </tr>\n",
       "    <tr>\n",
       "      <th>1</th>\n",
       "      <td>37</td>\n",
       "      <td>1</td>\n",
       "      <td>130</td>\n",
       "      <td>250</td>\n",
       "      <td>0</td>\n",
       "      <td>187</td>\n",
       "      <td>0</td>\n",
       "      <td>3.5</td>\n",
       "      <td>0</td>\n",
       "      <td>0.0</td>\n",
       "      <td>...</td>\n",
       "      <td>0.0</td>\n",
       "      <td>0.0</td>\n",
       "      <td>1.0</td>\n",
       "      <td>0.0</td>\n",
       "      <td>1.0</td>\n",
       "      <td>0.0</td>\n",
       "      <td>0.0</td>\n",
       "      <td>0.0</td>\n",
       "      <td>0.0</td>\n",
       "      <td>1.0</td>\n",
       "    </tr>\n",
       "    <tr>\n",
       "      <th>2</th>\n",
       "      <td>41</td>\n",
       "      <td>0</td>\n",
       "      <td>130</td>\n",
       "      <td>204</td>\n",
       "      <td>0</td>\n",
       "      <td>172</td>\n",
       "      <td>0</td>\n",
       "      <td>1.4</td>\n",
       "      <td>0</td>\n",
       "      <td>1.0</td>\n",
       "      <td>...</td>\n",
       "      <td>0.0</td>\n",
       "      <td>1.0</td>\n",
       "      <td>0.0</td>\n",
       "      <td>0.0</td>\n",
       "      <td>0.0</td>\n",
       "      <td>0.0</td>\n",
       "      <td>1.0</td>\n",
       "      <td>0.0</td>\n",
       "      <td>0.0</td>\n",
       "      <td>1.0</td>\n",
       "    </tr>\n",
       "    <tr>\n",
       "      <th>3</th>\n",
       "      <td>56</td>\n",
       "      <td>1</td>\n",
       "      <td>120</td>\n",
       "      <td>236</td>\n",
       "      <td>0</td>\n",
       "      <td>178</td>\n",
       "      <td>0</td>\n",
       "      <td>0.8</td>\n",
       "      <td>0</td>\n",
       "      <td>0.0</td>\n",
       "      <td>...</td>\n",
       "      <td>0.0</td>\n",
       "      <td>1.0</td>\n",
       "      <td>0.0</td>\n",
       "      <td>0.0</td>\n",
       "      <td>0.0</td>\n",
       "      <td>0.0</td>\n",
       "      <td>1.0</td>\n",
       "      <td>0.0</td>\n",
       "      <td>0.0</td>\n",
       "      <td>1.0</td>\n",
       "    </tr>\n",
       "    <tr>\n",
       "      <th>4</th>\n",
       "      <td>57</td>\n",
       "      <td>0</td>\n",
       "      <td>120</td>\n",
       "      <td>354</td>\n",
       "      <td>0</td>\n",
       "      <td>163</td>\n",
       "      <td>1</td>\n",
       "      <td>0.6</td>\n",
       "      <td>0</td>\n",
       "      <td>0.0</td>\n",
       "      <td>...</td>\n",
       "      <td>1.0</td>\n",
       "      <td>0.0</td>\n",
       "      <td>0.0</td>\n",
       "      <td>0.0</td>\n",
       "      <td>0.0</td>\n",
       "      <td>0.0</td>\n",
       "      <td>1.0</td>\n",
       "      <td>0.0</td>\n",
       "      <td>0.0</td>\n",
       "      <td>1.0</td>\n",
       "    </tr>\n",
       "  </tbody>\n",
       "</table>\n",
       "<p>5 rows × 22 columns</p>\n",
       "</div>"
      ],
      "text/plain": [
       "   age  sex  trestbps  chol  fbs  thalach  exang  oldpeak  ca  RestECG normal  \\\n",
       "0   63    1       145   233    1      150      0      2.3   0             1.0   \n",
       "1   37    1       130   250    0      187      0      3.5   0             0.0   \n",
       "2   41    0       130   204    0      172      0      1.4   0             1.0   \n",
       "3   56    1       120   236    0      178      0      0.8   0             0.0   \n",
       "4   57    0       120   354    0      163      1      0.6   0             0.0   \n",
       "\n",
       "   ...  Chest Pain typical angina  Chest Pain atypical angina  \\\n",
       "0  ...                        0.0                         0.0   \n",
       "1  ...                        0.0                         0.0   \n",
       "2  ...                        0.0                         1.0   \n",
       "3  ...                        0.0                         1.0   \n",
       "4  ...                        1.0                         0.0   \n",
       "\n",
       "   Chest Pain non-anginal pain  Chest Pain asymptomatic  Slope Upscaling  \\\n",
       "0                          0.0                      1.0              1.0   \n",
       "1                          1.0                      0.0              1.0   \n",
       "2                          0.0                      0.0              0.0   \n",
       "3                          0.0                      0.0              0.0   \n",
       "4                          0.0                      0.0              0.0   \n",
       "\n",
       "   Slope Flat  Slope Downscaling  AHD Normal  AHD Fixed Defect  \\\n",
       "0         0.0                0.0         0.0               1.0   \n",
       "1         0.0                0.0         0.0               0.0   \n",
       "2         0.0                1.0         0.0               0.0   \n",
       "3         0.0                1.0         0.0               0.0   \n",
       "4         0.0                1.0         0.0               0.0   \n",
       "\n",
       "   AHD Reversible Defect  \n",
       "0                    0.0  \n",
       "1                    1.0  \n",
       "2                    1.0  \n",
       "3                    1.0  \n",
       "4                    1.0  \n",
       "\n",
       "[5 rows x 22 columns]"
      ]
     },
     "execution_count": 38,
     "metadata": {},
     "output_type": "execute_result"
    }
   ],
   "source": [
    "X.head()"
   ]
  },
  {
   "cell_type": "code",
   "execution_count": 39,
   "metadata": {
    "colab": {
     "base_uri": "https://localhost:8080/"
    },
    "executionInfo": {
     "elapsed": 37,
     "status": "ok",
     "timestamp": 1638134060792,
     "user": {
      "displayName": "Gerardo Alfonso Silva Razo",
      "photoUrl": "https://lh3.googleusercontent.com/a/default-user=s64",
      "userId": "11961439085699130760"
     },
     "user_tz": 360
    },
    "id": "HRCYrvUdYM5h",
    "outputId": "bca37389-bc10-4d28-e767-bad9fbd0754c"
   },
   "outputs": [
    {
     "data": {
      "text/plain": [
       "age                                 41\n",
       "sex                                  2\n",
       "trestbps                            47\n",
       "chol                               148\n",
       "fbs                                  2\n",
       "thalach                             89\n",
       "exang                                2\n",
       "oldpeak                             38\n",
       "ca                                   5\n",
       "RestECG normal                       2\n",
       "RestECG abnormal                     2\n",
       "RestECG ventricular hypertrophy      2\n",
       "Chest Pain typical angina            2\n",
       "Chest Pain atypical angina           2\n",
       "Chest Pain non-anginal pain          2\n",
       "Chest Pain asymptomatic              2\n",
       "Slope Upscaling                      2\n",
       "Slope Flat                           2\n",
       "Slope Downscaling                    2\n",
       "AHD Normal                           2\n",
       "AHD Fixed Defect                     2\n",
       "AHD Reversible Defect                2\n",
       "dtype: int64"
      ]
     },
     "execution_count": 39,
     "metadata": {},
     "output_type": "execute_result"
    }
   ],
   "source": [
    "# Ver los valores únicos de las columnas para determinar si los datos son numéricos o categóricos \n",
    "X.nunique()"
   ]
  },
  {
   "cell_type": "markdown",
   "metadata": {
    "id": "Ey05AjOHYiaZ"
   },
   "source": [
    "## We need to divide the categoric from the continuous values to standardize the numeric values, but not the categorical ones."
   ]
  },
  {
   "cell_type": "code",
   "execution_count": 40,
   "metadata": {
    "colab": {
     "base_uri": "https://localhost:8080/",
     "height": 272
    },
    "executionInfo": {
     "elapsed": 33,
     "status": "ok",
     "timestamp": 1638134060793,
     "user": {
      "displayName": "Gerardo Alfonso Silva Razo",
      "photoUrl": "https://lh3.googleusercontent.com/a/default-user=s64",
      "userId": "11961439085699130760"
     },
     "user_tz": 360
    },
    "id": "lW79Y2uQYjVG",
    "outputId": "2c2a3069-4003-4334-ea72-3f35394315a2"
   },
   "outputs": [
    {
     "data": {
      "text/html": [
       "<div>\n",
       "<style scoped>\n",
       "    .dataframe tbody tr th:only-of-type {\n",
       "        vertical-align: middle;\n",
       "    }\n",
       "\n",
       "    .dataframe tbody tr th {\n",
       "        vertical-align: top;\n",
       "    }\n",
       "\n",
       "    .dataframe thead th {\n",
       "        text-align: right;\n",
       "    }\n",
       "</style>\n",
       "<table border=\"1\" class=\"dataframe\">\n",
       "  <thead>\n",
       "    <tr style=\"text-align: right;\">\n",
       "      <th></th>\n",
       "      <th>sex</th>\n",
       "      <th>fbs</th>\n",
       "      <th>exang</th>\n",
       "      <th>RestECG normal</th>\n",
       "      <th>RestECG abnormal</th>\n",
       "      <th>RestECG ventricular hypertrophy</th>\n",
       "      <th>Chest Pain typical angina</th>\n",
       "      <th>Chest Pain atypical angina</th>\n",
       "      <th>Chest Pain non-anginal pain</th>\n",
       "      <th>Chest Pain asymptomatic</th>\n",
       "      <th>Slope Upscaling</th>\n",
       "      <th>Slope Flat</th>\n",
       "      <th>Slope Downscaling</th>\n",
       "      <th>AHD Normal</th>\n",
       "      <th>AHD Fixed Defect</th>\n",
       "      <th>AHD Reversible Defect</th>\n",
       "    </tr>\n",
       "  </thead>\n",
       "  <tbody>\n",
       "    <tr>\n",
       "      <th>0</th>\n",
       "      <td>1</td>\n",
       "      <td>1</td>\n",
       "      <td>0</td>\n",
       "      <td>1.0</td>\n",
       "      <td>0.0</td>\n",
       "      <td>0.0</td>\n",
       "      <td>0.0</td>\n",
       "      <td>0.0</td>\n",
       "      <td>0.0</td>\n",
       "      <td>1.0</td>\n",
       "      <td>1.0</td>\n",
       "      <td>0.0</td>\n",
       "      <td>0.0</td>\n",
       "      <td>0.0</td>\n",
       "      <td>1.0</td>\n",
       "      <td>0.0</td>\n",
       "    </tr>\n",
       "    <tr>\n",
       "      <th>1</th>\n",
       "      <td>1</td>\n",
       "      <td>0</td>\n",
       "      <td>0</td>\n",
       "      <td>0.0</td>\n",
       "      <td>1.0</td>\n",
       "      <td>0.0</td>\n",
       "      <td>0.0</td>\n",
       "      <td>0.0</td>\n",
       "      <td>1.0</td>\n",
       "      <td>0.0</td>\n",
       "      <td>1.0</td>\n",
       "      <td>0.0</td>\n",
       "      <td>0.0</td>\n",
       "      <td>0.0</td>\n",
       "      <td>0.0</td>\n",
       "      <td>1.0</td>\n",
       "    </tr>\n",
       "    <tr>\n",
       "      <th>2</th>\n",
       "      <td>0</td>\n",
       "      <td>0</td>\n",
       "      <td>0</td>\n",
       "      <td>1.0</td>\n",
       "      <td>0.0</td>\n",
       "      <td>0.0</td>\n",
       "      <td>0.0</td>\n",
       "      <td>1.0</td>\n",
       "      <td>0.0</td>\n",
       "      <td>0.0</td>\n",
       "      <td>0.0</td>\n",
       "      <td>0.0</td>\n",
       "      <td>1.0</td>\n",
       "      <td>0.0</td>\n",
       "      <td>0.0</td>\n",
       "      <td>1.0</td>\n",
       "    </tr>\n",
       "    <tr>\n",
       "      <th>3</th>\n",
       "      <td>1</td>\n",
       "      <td>0</td>\n",
       "      <td>0</td>\n",
       "      <td>0.0</td>\n",
       "      <td>1.0</td>\n",
       "      <td>0.0</td>\n",
       "      <td>0.0</td>\n",
       "      <td>1.0</td>\n",
       "      <td>0.0</td>\n",
       "      <td>0.0</td>\n",
       "      <td>0.0</td>\n",
       "      <td>0.0</td>\n",
       "      <td>1.0</td>\n",
       "      <td>0.0</td>\n",
       "      <td>0.0</td>\n",
       "      <td>1.0</td>\n",
       "    </tr>\n",
       "    <tr>\n",
       "      <th>4</th>\n",
       "      <td>0</td>\n",
       "      <td>0</td>\n",
       "      <td>1</td>\n",
       "      <td>0.0</td>\n",
       "      <td>1.0</td>\n",
       "      <td>0.0</td>\n",
       "      <td>1.0</td>\n",
       "      <td>0.0</td>\n",
       "      <td>0.0</td>\n",
       "      <td>0.0</td>\n",
       "      <td>0.0</td>\n",
       "      <td>0.0</td>\n",
       "      <td>1.0</td>\n",
       "      <td>0.0</td>\n",
       "      <td>0.0</td>\n",
       "      <td>1.0</td>\n",
       "    </tr>\n",
       "  </tbody>\n",
       "</table>\n",
       "</div>"
      ],
      "text/plain": [
       "   sex  fbs  exang  RestECG normal  RestECG abnormal  \\\n",
       "0    1    1      0             1.0               0.0   \n",
       "1    1    0      0             0.0               1.0   \n",
       "2    0    0      0             1.0               0.0   \n",
       "3    1    0      0             0.0               1.0   \n",
       "4    0    0      1             0.0               1.0   \n",
       "\n",
       "   RestECG ventricular hypertrophy  Chest Pain typical angina  \\\n",
       "0                              0.0                        0.0   \n",
       "1                              0.0                        0.0   \n",
       "2                              0.0                        0.0   \n",
       "3                              0.0                        0.0   \n",
       "4                              0.0                        1.0   \n",
       "\n",
       "   Chest Pain atypical angina  Chest Pain non-anginal pain  \\\n",
       "0                         0.0                          0.0   \n",
       "1                         0.0                          1.0   \n",
       "2                         1.0                          0.0   \n",
       "3                         1.0                          0.0   \n",
       "4                         0.0                          0.0   \n",
       "\n",
       "   Chest Pain asymptomatic  Slope Upscaling  Slope Flat  Slope Downscaling  \\\n",
       "0                      1.0              1.0         0.0                0.0   \n",
       "1                      0.0              1.0         0.0                0.0   \n",
       "2                      0.0              0.0         0.0                1.0   \n",
       "3                      0.0              0.0         0.0                1.0   \n",
       "4                      0.0              0.0         0.0                1.0   \n",
       "\n",
       "   AHD Normal  AHD Fixed Defect  AHD Reversible Defect  \n",
       "0         0.0               1.0                    0.0  \n",
       "1         0.0               0.0                    1.0  \n",
       "2         0.0               0.0                    1.0  \n",
       "3         0.0               0.0                    1.0  \n",
       "4         0.0               0.0                    1.0  "
      ]
     },
     "execution_count": 40,
     "metadata": {},
     "output_type": "execute_result"
    }
   ],
   "source": [
    "categoric = X.drop([\"age\", \"trestbps\", \"chol\", \"thalach\", \"oldpeak\", \"ca\"], axis=1)\n",
    "categoric.head()"
   ]
  },
  {
   "cell_type": "code",
   "execution_count": 41,
   "metadata": {
    "colab": {
     "base_uri": "https://localhost:8080/",
     "height": 204
    },
    "executionInfo": {
     "elapsed": 31,
     "status": "ok",
     "timestamp": 1638134060793,
     "user": {
      "displayName": "Gerardo Alfonso Silva Razo",
      "photoUrl": "https://lh3.googleusercontent.com/a/default-user=s64",
      "userId": "11961439085699130760"
     },
     "user_tz": 360
    },
    "id": "YDmmqZrNYjcT",
    "outputId": "c4aba390-ec93-4b4f-a1f7-42f00aa3fe94"
   },
   "outputs": [
    {
     "data": {
      "text/html": [
       "<div>\n",
       "<style scoped>\n",
       "    .dataframe tbody tr th:only-of-type {\n",
       "        vertical-align: middle;\n",
       "    }\n",
       "\n",
       "    .dataframe tbody tr th {\n",
       "        vertical-align: top;\n",
       "    }\n",
       "\n",
       "    .dataframe thead th {\n",
       "        text-align: right;\n",
       "    }\n",
       "</style>\n",
       "<table border=\"1\" class=\"dataframe\">\n",
       "  <thead>\n",
       "    <tr style=\"text-align: right;\">\n",
       "      <th></th>\n",
       "      <th>age</th>\n",
       "      <th>trestbps</th>\n",
       "      <th>chol</th>\n",
       "      <th>thalach</th>\n",
       "      <th>oldpeak</th>\n",
       "      <th>ca</th>\n",
       "    </tr>\n",
       "  </thead>\n",
       "  <tbody>\n",
       "    <tr>\n",
       "      <th>0</th>\n",
       "      <td>63</td>\n",
       "      <td>145</td>\n",
       "      <td>233</td>\n",
       "      <td>150</td>\n",
       "      <td>2.3</td>\n",
       "      <td>0</td>\n",
       "    </tr>\n",
       "    <tr>\n",
       "      <th>1</th>\n",
       "      <td>37</td>\n",
       "      <td>130</td>\n",
       "      <td>250</td>\n",
       "      <td>187</td>\n",
       "      <td>3.5</td>\n",
       "      <td>0</td>\n",
       "    </tr>\n",
       "    <tr>\n",
       "      <th>2</th>\n",
       "      <td>41</td>\n",
       "      <td>130</td>\n",
       "      <td>204</td>\n",
       "      <td>172</td>\n",
       "      <td>1.4</td>\n",
       "      <td>0</td>\n",
       "    </tr>\n",
       "    <tr>\n",
       "      <th>3</th>\n",
       "      <td>56</td>\n",
       "      <td>120</td>\n",
       "      <td>236</td>\n",
       "      <td>178</td>\n",
       "      <td>0.8</td>\n",
       "      <td>0</td>\n",
       "    </tr>\n",
       "    <tr>\n",
       "      <th>4</th>\n",
       "      <td>57</td>\n",
       "      <td>120</td>\n",
       "      <td>354</td>\n",
       "      <td>163</td>\n",
       "      <td>0.6</td>\n",
       "      <td>0</td>\n",
       "    </tr>\n",
       "  </tbody>\n",
       "</table>\n",
       "</div>"
      ],
      "text/plain": [
       "   age  trestbps  chol  thalach  oldpeak  ca\n",
       "0   63       145   233      150      2.3   0\n",
       "1   37       130   250      187      3.5   0\n",
       "2   41       130   204      172      1.4   0\n",
       "3   56       120   236      178      0.8   0\n",
       "4   57       120   354      163      0.6   0"
      ]
     },
     "execution_count": 41,
     "metadata": {},
     "output_type": "execute_result"
    }
   ],
   "source": [
    "X = X[[\"age\", \"trestbps\", \"chol\", \"thalach\", \"oldpeak\", \"ca\"]]\n",
    "X.head()"
   ]
  },
  {
   "cell_type": "code",
   "execution_count": 42,
   "metadata": {
    "colab": {
     "base_uri": "https://localhost:8080/"
    },
    "executionInfo": {
     "elapsed": 26,
     "status": "ok",
     "timestamp": 1638134060794,
     "user": {
      "displayName": "Gerardo Alfonso Silva Razo",
      "photoUrl": "https://lh3.googleusercontent.com/a/default-user=s64",
      "userId": "11961439085699130760"
     },
     "user_tz": 360
    },
    "id": "QRXn591hYjYb",
    "outputId": "1b948a1a-564f-433d-accb-674172a0f04b"
   },
   "outputs": [
    {
     "data": {
      "text/plain": [
       "['age',\n",
       " 'trestbps',\n",
       " 'chol',\n",
       " 'thalach',\n",
       " 'oldpeak',\n",
       " 'ca',\n",
       " 'sex',\n",
       " 'fbs',\n",
       " 'exang',\n",
       " 'RestECG normal',\n",
       " 'RestECG abnormal',\n",
       " 'RestECG ventricular hypertrophy',\n",
       " 'Chest Pain typical angina',\n",
       " 'Chest Pain atypical angina',\n",
       " 'Chest Pain non-anginal pain',\n",
       " 'Chest Pain asymptomatic',\n",
       " 'Slope Upscaling',\n",
       " 'Slope Flat',\n",
       " 'Slope Downscaling',\n",
       " 'AHD Normal',\n",
       " 'AHD Fixed Defect',\n",
       " 'AHD Reversible Defect']"
      ]
     },
     "execution_count": 42,
     "metadata": {},
     "output_type": "execute_result"
    }
   ],
   "source": [
    "featureTags = list(X.columns)\n",
    "featureTags.extend(categoric.columns)\n",
    "featureTags"
   ]
  },
  {
   "cell_type": "markdown",
   "metadata": {
    "id": "g5ocxKzSYqAT"
   },
   "source": [
    "Now we standardize the continious values and append the categorical values to the new numpy array."
   ]
  },
  {
   "cell_type": "code",
   "execution_count": 43,
   "metadata": {
    "colab": {
     "base_uri": "https://localhost:8080/"
    },
    "executionInfo": {
     "elapsed": 23,
     "status": "ok",
     "timestamp": 1638134060795,
     "user": {
      "displayName": "Gerardo Alfonso Silva Razo",
      "photoUrl": "https://lh3.googleusercontent.com/a/default-user=s64",
      "userId": "11961439085699130760"
     },
     "user_tz": 360
    },
    "id": "39WVdTwGYM0C",
    "outputId": "e7e9e5b8-f11e-4851-94c7-b1c909bb9362"
   },
   "outputs": [
    {
     "data": {
      "text/plain": [
       "array([[ 0.96298288,  0.82670223, -0.25424306,  0.00331517,  1.20042217,\n",
       "        -0.71160071],\n",
       "       [-1.89817673, -0.06939471,  0.09610443,  1.65924163,  2.30735739,\n",
       "        -0.71160071],\n",
       "       [-1.45799833, -0.06939471, -0.85189465,  0.98792009,  0.37022076,\n",
       "        -0.71160071],\n",
       "       [ 0.19267068, -0.66679267, -0.19241703,  1.25644871, -0.18324685,\n",
       "        -0.71160071],\n",
       "       [ 0.30271528, -0.66679267,  2.2394067 ,  0.58512717, -0.36773606,\n",
       "        -0.71160071]])"
      ]
     },
     "execution_count": 43,
     "metadata": {},
     "output_type": "execute_result"
    }
   ],
   "source": [
    "sc = StandardScaler()\n",
    "X = sc.fit_transform(X)\n",
    "X[:5]"
   ]
  },
  {
   "cell_type": "code",
   "execution_count": 44,
   "metadata": {
    "colab": {
     "base_uri": "https://localhost:8080/"
    },
    "executionInfo": {
     "elapsed": 22,
     "status": "ok",
     "timestamp": 1638134060796,
     "user": {
      "displayName": "Gerardo Alfonso Silva Razo",
      "photoUrl": "https://lh3.googleusercontent.com/a/default-user=s64",
      "userId": "11961439085699130760"
     },
     "user_tz": 360
    },
    "id": "GwLKKXSwYMsL",
    "outputId": "b23847dc-87db-45af-e062-c937cb8e5116"
   },
   "outputs": [
    {
     "data": {
      "text/plain": [
       "array([[1., 0., 0., ..., 0., 1., 0.],\n",
       "       [0., 0., 0., ..., 0., 0., 1.],\n",
       "       [1., 0., 0., ..., 0., 0., 0.],\n",
       "       ...,\n",
       "       [1., 1., 0., ..., 0., 0., 0.],\n",
       "       [1., 0., 1., ..., 0., 0., 0.],\n",
       "       [0., 0., 0., ..., 0., 0., 1.]])"
      ]
     },
     "execution_count": 44,
     "metadata": {},
     "output_type": "execute_result"
    }
   ],
   "source": [
    "categorical_array = categoric.to_numpy()\n",
    "categorical_array[5:]"
   ]
  },
  {
   "cell_type": "code",
   "execution_count": 45,
   "metadata": {
    "colab": {
     "base_uri": "https://localhost:8080/"
    },
    "executionInfo": {
     "elapsed": 20,
     "status": "ok",
     "timestamp": 1638134060797,
     "user": {
      "displayName": "Gerardo Alfonso Silva Razo",
      "photoUrl": "https://lh3.googleusercontent.com/a/default-user=s64",
      "userId": "11961439085699130760"
     },
     "user_tz": 360
    },
    "id": "qkEp5QCAYu3w",
    "outputId": "7f51ef45-bc47-4505-e0e3-f212a6ab8028"
   },
   "outputs": [
    {
     "data": {
      "text/plain": [
       "array([[ 0.30271528,  0.52800325, -1.09919876, ...,  0.        ,\n",
       "         1.        ,  0.        ],\n",
       "       [ 0.19267068,  0.52800325,  1.00288616, ...,  0.        ,\n",
       "         0.        ,  1.        ],\n",
       "       [-1.12786452, -0.66679267,  0.36401721, ...,  0.        ,\n",
       "         0.        ,  0.        ],\n",
       "       ...,\n",
       "       [ 1.51320589,  0.76696243, -1.07859008, ...,  0.        ,\n",
       "         0.        ,  0.        ],\n",
       "       [ 0.30271528, -0.06939471, -2.35632797, ...,  0.        ,\n",
       "         0.        ,  0.        ],\n",
       "       [ 0.30271528, -0.06939471, -0.19241703, ...,  0.        ,\n",
       "         0.        ,  1.        ]])"
      ]
     },
     "execution_count": 45,
     "metadata": {},
     "output_type": "execute_result"
    }
   ],
   "source": [
    "new_X = np.concatenate((X,categorical_array), axis=1)\n",
    "new_X[5:]"
   ]
  },
  {
   "cell_type": "code",
   "execution_count": 46,
   "metadata": {
    "colab": {
     "base_uri": "https://localhost:8080/"
    },
    "executionInfo": {
     "elapsed": 439,
     "status": "ok",
     "timestamp": 1638134061218,
     "user": {
      "displayName": "Gerardo Alfonso Silva Razo",
      "photoUrl": "https://lh3.googleusercontent.com/a/default-user=s64",
      "userId": "11961439085699130760"
     },
     "user_tz": 360
    },
    "id": "8BO-Wc4yYu1J",
    "outputId": "bc3b80fa-d835-44b0-8777-1857fc09b5a7"
   },
   "outputs": [
    {
     "data": {
      "text/plain": [
       "array([ 0.96298288,  0.82670223, -0.25424306,  0.00331517,  1.20042217,\n",
       "       -0.71160071])"
      ]
     },
     "execution_count": 46,
     "metadata": {},
     "output_type": "execute_result"
    }
   ],
   "source": [
    "X[0]"
   ]
  },
  {
   "cell_type": "code",
   "execution_count": 47,
   "metadata": {
    "colab": {
     "base_uri": "https://localhost:8080/"
    },
    "executionInfo": {
     "elapsed": 61,
     "status": "ok",
     "timestamp": 1638134061220,
     "user": {
      "displayName": "Gerardo Alfonso Silva Razo",
      "photoUrl": "https://lh3.googleusercontent.com/a/default-user=s64",
      "userId": "11961439085699130760"
     },
     "user_tz": 360
    },
    "id": "MY7D4eocYuyl",
    "outputId": "1657de1c-b7d5-4dbb-bab9-9c007f889772"
   },
   "outputs": [
    {
     "data": {
      "text/plain": [
       "array([ 0.96298288,  0.82670223, -0.25424306,  0.00331517,  1.20042217,\n",
       "       -0.71160071,  1.        ,  1.        ,  0.        ,  1.        ,\n",
       "        0.        ,  0.        ,  0.        ,  0.        ,  0.        ,\n",
       "        1.        ,  1.        ,  0.        ,  0.        ,  0.        ,\n",
       "        1.        ,  0.        ])"
      ]
     },
     "execution_count": 47,
     "metadata": {},
     "output_type": "execute_result"
    }
   ],
   "source": [
    "new_X[0]"
   ]
  },
  {
   "cell_type": "code",
   "execution_count": 48,
   "metadata": {
    "colab": {
     "base_uri": "https://localhost:8080/"
    },
    "executionInfo": {
     "elapsed": 26,
     "status": "ok",
     "timestamp": 1638134061220,
     "user": {
      "displayName": "Gerardo Alfonso Silva Razo",
      "photoUrl": "https://lh3.googleusercontent.com/a/default-user=s64",
      "userId": "11961439085699130760"
     },
     "user_tz": 360
    },
    "id": "-pe9N4KuYuvP",
    "outputId": "962596ad-1d68-44dd-f484-e9db4cbccceb"
   },
   "outputs": [
    {
     "name": "stdout",
     "output_type": "stream",
     "text": [
      "Feature                 age                --> 0.9629828845018945\n",
      "Feature               trestbps             --> 0.8267022296292442\n",
      "Feature                 chol               --> -0.2542430559558268\n",
      "Feature               thalach              --> 0.0033151680940168805\n",
      "Feature               oldpeak              --> 1.2004221732162654\n",
      "Feature                  ca                --> -0.7116007074895543\n",
      "Feature                 sex                --> 1.0\n",
      "Feature                 fbs                --> 1.0\n",
      "Feature                exang               --> 0.0\n",
      "Feature            RestECG normal          --> 1.0\n",
      "Feature           RestECG abnormal         --> 0.0\n",
      "Feature   RestECG ventricular hypertrophy  --> 0.0\n",
      "Feature      Chest Pain typical angina     --> 0.0\n",
      "Feature      Chest Pain atypical angina    --> 0.0\n",
      "Feature     Chest Pain non-anginal pain    --> 0.0\n",
      "Feature       Chest Pain asymptomatic      --> 1.0\n",
      "Feature           Slope Upscaling          --> 1.0\n",
      "Feature              Slope Flat            --> 0.0\n",
      "Feature          Slope Downscaling         --> 0.0\n",
      "Feature              AHD Normal            --> 0.0\n",
      "Feature           AHD Fixed Defect         --> 1.0\n",
      "Feature        AHD Reversible Defect       --> 0.0\n"
     ]
    }
   ],
   "source": [
    "for feature, val in zip(featureTags, new_X[0]):\n",
    "    print(f\"Feature {feature.center(35,' ')}--> {val}\")"
   ]
  },
  {
   "cell_type": "markdown",
   "metadata": {
    "id": "GFCndPfJY3Ad"
   },
   "source": [
    "### Dividing into the Training & Test Sets"
   ]
  },
  {
   "cell_type": "code",
   "execution_count": 49,
   "metadata": {
    "executionInfo": {
     "elapsed": 21,
     "status": "ok",
     "timestamp": 1638134061221,
     "user": {
      "displayName": "Gerardo Alfonso Silva Razo",
      "photoUrl": "https://lh3.googleusercontent.com/a/default-user=s64",
      "userId": "11961439085699130760"
     },
     "user_tz": 360
    },
    "id": "2B4Vd6hWYutX"
   },
   "outputs": [],
   "source": [
    "X_train, X_test, y_train, y_test = train_test_split(new_X, y, test_size=0.2, random_state=42)"
   ]
  },
  {
   "cell_type": "code",
   "execution_count": 50,
   "metadata": {
    "colab": {
     "base_uri": "https://localhost:8080/"
    },
    "executionInfo": {
     "elapsed": 22,
     "status": "ok",
     "timestamp": 1638134061223,
     "user": {
      "displayName": "Gerardo Alfonso Silva Razo",
      "photoUrl": "https://lh3.googleusercontent.com/a/default-user=s64",
      "userId": "11961439085699130760"
     },
     "user_tz": 360
    },
    "id": "LxFXmrbwYuqk",
    "outputId": "26ed50e0-94d6-4e05-b286-7a8725443b3c"
   },
   "outputs": [
    {
     "name": "stdout",
     "output_type": "stream",
     "text": [
      "Total number of data is 297\n",
      "Cantidad de positivos datos en y_train\t= 130\n",
      "Cantidad de positivos datos en y_test \t= 34\n",
      "Cantidad de negativos datos en y_train\t= 107\n",
      "Cantidad de negativos datos en y_test \t= 26\n"
     ]
    }
   ],
   "source": [
    "print(f\"Total number of data is {len(y_train) + len(y_test)}\")\n",
    "\n",
    "print(f\"Cantidad de positivos datos en y_train\\t= {len(y_train[y_train == 1])}\")\n",
    "print(f\"Cantidad de positivos datos en y_test \\t= {len(y_test[y_test == 1])}\")\n",
    "print(f\"Cantidad de negativos datos en y_train\\t= {len(y_train[y_train == 0])}\")\n",
    "print(f\"Cantidad de negativos datos en y_test \\t= {len(y_test[y_test == 0])}\")"
   ]
  },
  {
   "cell_type": "code",
   "execution_count": 51,
   "metadata": {
    "colab": {
     "base_uri": "https://localhost:8080/"
    },
    "executionInfo": {
     "elapsed": 20,
     "status": "ok",
     "timestamp": 1638134061230,
     "user": {
      "displayName": "Gerardo Alfonso Silva Razo",
      "photoUrl": "https://lh3.googleusercontent.com/a/default-user=s64",
      "userId": "11961439085699130760"
     },
     "user_tz": 360
    },
    "id": "SpaFw5BgYun7",
    "outputId": "0522a4f2-d14c-4b33-a971-c1717609185b"
   },
   "outputs": [
    {
     "name": "stdout",
     "output_type": "stream",
     "text": [
      "Ratio of negatives over positives is 54.85232067510548%\n",
      "Ratio of negatives over positives is 56.666666666666664%\n"
     ]
    }
   ],
   "source": [
    "print(f\"Ratio of negatives over positives is {(len(y_train[y_train == 1])/len(y_train))*100}%\")\n",
    "print(f\"Ratio of negatives over positives is {(len(y_test[y_test == 1])/len(y_test))*100}%\")"
   ]
  },
  {
   "cell_type": "markdown",
   "metadata": {
    "id": "Ho4MzkN5oryI"
   },
   "source": [
    "# DL NN"
   ]
  },
  {
   "cell_type": "code",
   "execution_count": 52,
   "metadata": {
    "executionInfo": {
     "elapsed": 2223,
     "status": "ok",
     "timestamp": 1638134063437,
     "user": {
      "displayName": "Gerardo Alfonso Silva Razo",
      "photoUrl": "https://lh3.googleusercontent.com/a/default-user=s64",
      "userId": "11961439085699130760"
     },
     "user_tz": 360
    },
    "id": "bWZwvDpm1Yjw"
   },
   "outputs": [
    {
     "name": "stderr",
     "output_type": "stream",
     "text": [
      "2021-11-28 22:41:15.642730: W tensorflow/stream_executor/platform/default/dso_loader.cc:64] Could not load dynamic library 'libcudart.so.11.0'; dlerror: libcudart.so.11.0: cannot open shared object file: No such file or directory; LD_LIBRARY_PATH: /home/omar/.sslPy/openssl/lib\n",
      "2021-11-28 22:41:15.642761: I tensorflow/stream_executor/cuda/cudart_stub.cc:29] Ignore above cudart dlerror if you do not have a GPU set up on your machine.\n"
     ]
    }
   ],
   "source": [
    "# Installa TensorFlow\n",
    "\n",
    "import tensorflow as tf\n",
    "\n",
    "from numpy.random import seed\n",
    "seed(91939)\n",
    "from tensorflow.random import set_seed\n",
    "set_seed(42)"
   ]
  },
  {
   "cell_type": "code",
   "execution_count": 53,
   "metadata": {
    "executionInfo": {
     "elapsed": 5,
     "status": "ok",
     "timestamp": 1638134063438,
     "user": {
      "displayName": "Gerardo Alfonso Silva Razo",
      "photoUrl": "https://lh3.googleusercontent.com/a/default-user=s64",
      "userId": "11961439085699130760"
     },
     "user_tz": 360
    },
    "id": "TEMTeKOZ1dnJ"
   },
   "outputs": [
    {
     "name": "stderr",
     "output_type": "stream",
     "text": [
      "2021-11-28 22:41:18.073665: W tensorflow/stream_executor/platform/default/dso_loader.cc:64] Could not load dynamic library 'libcuda.so.1'; dlerror: libcuda.so.1: cannot open shared object file: No such file or directory; LD_LIBRARY_PATH: /home/omar/.sslPy/openssl/lib\n",
      "2021-11-28 22:41:18.073690: W tensorflow/stream_executor/cuda/cuda_driver.cc:269] failed call to cuInit: UNKNOWN ERROR (303)\n",
      "2021-11-28 22:41:18.073714: I tensorflow/stream_executor/cuda/cuda_diagnostics.cc:156] kernel driver does not appear to be running on this host (omar-LabTop): /proc/driver/nvidia/version does not exist\n",
      "2021-11-28 22:41:18.074172: I tensorflow/core/platform/cpu_feature_guard.cc:151] This TensorFlow binary is optimized with oneAPI Deep Neural Network Library (oneDNN) to use the following CPU instructions in performance-critical operations:  AVX2 FMA\n",
      "To enable them in other operations, rebuild TensorFlow with the appropriate compiler flags.\n"
     ]
    }
   ],
   "source": [
    "model = tf.keras.models.Sequential([\n",
    "  tf.keras.layers.Dense(128, activation='tanh', \n",
    "                        kernel_regularizer=tf.keras.regularizers.L1(0.01),\n",
    "                        activity_regularizer=tf.keras.regularizers.L2(0.01)),\n",
    "  tf.keras.layers.Dropout(0.2),\n",
    "  tf.keras.layers.Dense(64, activation='tanh',\n",
    "                       kernel_regularizer=tf.keras.regularizers.L1(0.01),\n",
    "                        activity_regularizer=tf.keras.regularizers.L2(0.01)),\n",
    "  tf.keras.layers.Dropout(0.1),\n",
    "  tf.keras.layers.Dense(32, activation='tanh'),\n",
    "  tf.keras.layers.Dense(1, activation='sigmoid')\n",
    "])\n",
    "\n",
    "model.compile(optimizer='adam',\n",
    "              loss='binary_crossentropy',\n",
    "              metrics=['accuracy'])"
   ]
  },
  {
   "cell_type": "code",
   "execution_count": 54,
   "metadata": {
    "colab": {
     "base_uri": "https://localhost:8080/"
    },
    "executionInfo": {
     "elapsed": 2215,
     "status": "ok",
     "timestamp": 1638134065649,
     "user": {
      "displayName": "Gerardo Alfonso Silva Razo",
      "photoUrl": "https://lh3.googleusercontent.com/a/default-user=s64",
      "userId": "11961439085699130760"
     },
     "user_tz": 360
    },
    "id": "H_FpGnlb1fxI",
    "outputId": "7f6e688d-2a58-4859-b6f0-f2e4c3241c08"
   },
   "outputs": [
    {
     "name": "stdout",
     "output_type": "stream",
     "text": [
      "Epoch 1/512\n",
      "8/8 [==============================] - 1s 3ms/step - loss: 10.5630 - accuracy: 0.6751\n",
      "Epoch 2/512\n",
      "8/8 [==============================] - 0s 4ms/step - loss: 9.6959 - accuracy: 0.7679\n",
      "Epoch 3/512\n",
      "8/8 [==============================] - 0s 3ms/step - loss: 8.9017 - accuracy: 0.7722\n",
      "Epoch 4/512\n",
      "8/8 [==============================] - 0s 4ms/step - loss: 8.1525 - accuracy: 0.8101\n",
      "Epoch 5/512\n",
      "8/8 [==============================] - 0s 5ms/step - loss: 7.4566 - accuracy: 0.8017\n",
      "Epoch 6/512\n",
      "8/8 [==============================] - 0s 3ms/step - loss: 6.7779 - accuracy: 0.8228\n",
      "Epoch 7/512\n",
      "8/8 [==============================] - 0s 4ms/step - loss: 6.1463 - accuracy: 0.8186\n",
      "Epoch 8/512\n",
      "8/8 [==============================] - 0s 3ms/step - loss: 5.5638 - accuracy: 0.8270\n",
      "Epoch 9/512\n",
      "8/8 [==============================] - 0s 2ms/step - loss: 5.0063 - accuracy: 0.8397\n",
      "Epoch 10/512\n",
      "8/8 [==============================] - 0s 5ms/step - loss: 4.4795 - accuracy: 0.8354\n",
      "Epoch 11/512\n",
      "8/8 [==============================] - 0s 3ms/step - loss: 3.9931 - accuracy: 0.8608\n",
      "Epoch 12/512\n",
      "8/8 [==============================] - 0s 4ms/step - loss: 3.5567 - accuracy: 0.8397\n",
      "Epoch 13/512\n",
      "8/8 [==============================] - 0s 3ms/step - loss: 3.1236 - accuracy: 0.8565\n",
      "Epoch 14/512\n",
      "8/8 [==============================] - 0s 4ms/step - loss: 2.7399 - accuracy: 0.8608\n",
      "Epoch 15/512\n",
      "8/8 [==============================] - 0s 4ms/step - loss: 2.3929 - accuracy: 0.8608\n",
      "Epoch 16/512\n",
      "8/8 [==============================] - 0s 4ms/step - loss: 2.0821 - accuracy: 0.8650\n",
      "Epoch 17/512\n",
      "8/8 [==============================] - 0s 4ms/step - loss: 1.8021 - accuracy: 0.8565\n",
      "Epoch 18/512\n",
      "8/8 [==============================] - 0s 3ms/step - loss: 1.5509 - accuracy: 0.8565\n",
      "Epoch 19/512\n",
      "8/8 [==============================] - 0s 4ms/step - loss: 1.3323 - accuracy: 0.8692\n",
      "Epoch 20/512\n",
      "8/8 [==============================] - 0s 3ms/step - loss: 1.1506 - accuracy: 0.8481\n",
      "Epoch 21/512\n",
      "8/8 [==============================] - 0s 4ms/step - loss: 1.0008 - accuracy: 0.8565\n",
      "Epoch 22/512\n",
      "8/8 [==============================] - 0s 3ms/step - loss: 0.8752 - accuracy: 0.8650\n",
      "Epoch 23/512\n",
      "8/8 [==============================] - 0s 4ms/step - loss: 0.8006 - accuracy: 0.8481\n",
      "Epoch 24/512\n",
      "8/8 [==============================] - 0s 3ms/step - loss: 0.7242 - accuracy: 0.8523\n",
      "Epoch 25/512\n",
      "8/8 [==============================] - 0s 3ms/step - loss: 0.6837 - accuracy: 0.8650\n",
      "Epoch 26/512\n",
      "8/8 [==============================] - 0s 3ms/step - loss: 0.6495 - accuracy: 0.8650\n",
      "Epoch 27/512\n",
      "8/8 [==============================] - 0s 3ms/step - loss: 0.6053 - accuracy: 0.8692\n",
      "Epoch 28/512\n",
      "8/8 [==============================] - 0s 3ms/step - loss: 0.5791 - accuracy: 0.8692\n",
      "Epoch 29/512\n",
      "8/8 [==============================] - 0s 4ms/step - loss: 0.5607 - accuracy: 0.8565\n",
      "Epoch 30/512\n",
      "8/8 [==============================] - 0s 4ms/step - loss: 0.5452 - accuracy: 0.8523\n",
      "Epoch 31/512\n",
      "8/8 [==============================] - 0s 3ms/step - loss: 0.5431 - accuracy: 0.8523\n",
      "Epoch 32/512\n",
      "8/8 [==============================] - 0s 4ms/step - loss: 0.5315 - accuracy: 0.8734\n",
      "Epoch 33/512\n",
      "8/8 [==============================] - 0s 3ms/step - loss: 0.5178 - accuracy: 0.8608\n",
      "Epoch 34/512\n",
      "8/8 [==============================] - 0s 3ms/step - loss: 0.5113 - accuracy: 0.8523\n",
      "Epoch 35/512\n",
      "8/8 [==============================] - 0s 4ms/step - loss: 0.5086 - accuracy: 0.8650\n",
      "Epoch 36/512\n",
      "8/8 [==============================] - 0s 3ms/step - loss: 0.5030 - accuracy: 0.8523\n",
      "Epoch 37/512\n",
      "8/8 [==============================] - 0s 4ms/step - loss: 0.4977 - accuracy: 0.8650\n",
      "Epoch 38/512\n",
      "8/8 [==============================] - 0s 3ms/step - loss: 0.4872 - accuracy: 0.8650\n",
      "Epoch 39/512\n",
      "8/8 [==============================] - 0s 5ms/step - loss: 0.4942 - accuracy: 0.8608\n",
      "Epoch 40/512\n",
      "8/8 [==============================] - 0s 8ms/step - loss: 0.4817 - accuracy: 0.8650\n",
      "Epoch 41/512\n",
      "8/8 [==============================] - 0s 3ms/step - loss: 0.4930 - accuracy: 0.8608\n",
      "Epoch 42/512\n",
      "8/8 [==============================] - 0s 4ms/step - loss: 0.4846 - accuracy: 0.8523\n",
      "Epoch 43/512\n",
      "8/8 [==============================] - 0s 3ms/step - loss: 0.4791 - accuracy: 0.8608\n",
      "Epoch 44/512\n",
      "8/8 [==============================] - 0s 5ms/step - loss: 0.4658 - accuracy: 0.8650\n",
      "Epoch 45/512\n",
      "8/8 [==============================] - 0s 5ms/step - loss: 0.4786 - accuracy: 0.8692\n",
      "Epoch 46/512\n",
      "8/8 [==============================] - 0s 4ms/step - loss: 0.4564 - accuracy: 0.8692\n",
      "Epoch 47/512\n",
      "8/8 [==============================] - 0s 4ms/step - loss: 0.4709 - accuracy: 0.8565\n",
      "Epoch 48/512\n",
      "8/8 [==============================] - 0s 3ms/step - loss: 0.4745 - accuracy: 0.8565\n",
      "Epoch 49/512\n",
      "8/8 [==============================] - 0s 5ms/step - loss: 0.4650 - accuracy: 0.8776\n",
      "Epoch 50/512\n",
      "8/8 [==============================] - 0s 3ms/step - loss: 0.4593 - accuracy: 0.8565\n",
      "Epoch 51/512\n",
      "8/8 [==============================] - 0s 3ms/step - loss: 0.4659 - accuracy: 0.8565\n",
      "Epoch 52/512\n",
      "8/8 [==============================] - 0s 4ms/step - loss: 0.4511 - accuracy: 0.8608\n",
      "Epoch 53/512\n",
      "8/8 [==============================] - 0s 4ms/step - loss: 0.4616 - accuracy: 0.8650\n",
      "Epoch 54/512\n",
      "8/8 [==============================] - 0s 3ms/step - loss: 0.4651 - accuracy: 0.8565\n",
      "Epoch 55/512\n",
      "8/8 [==============================] - 0s 4ms/step - loss: 0.4595 - accuracy: 0.8734\n",
      "Epoch 56/512\n",
      "8/8 [==============================] - 0s 3ms/step - loss: 0.4631 - accuracy: 0.8565\n",
      "Epoch 57/512\n",
      "8/8 [==============================] - 0s 3ms/step - loss: 0.4718 - accuracy: 0.8650\n",
      "Epoch 58/512\n",
      "8/8 [==============================] - 0s 4ms/step - loss: 0.4632 - accuracy: 0.8608\n",
      "Epoch 59/512\n",
      "8/8 [==============================] - 0s 3ms/step - loss: 0.4597 - accuracy: 0.8481\n",
      "Epoch 60/512\n",
      "8/8 [==============================] - 0s 3ms/step - loss: 0.4502 - accuracy: 0.8565\n",
      "Epoch 61/512\n",
      "8/8 [==============================] - 0s 4ms/step - loss: 0.4674 - accuracy: 0.8650\n",
      "Epoch 62/512\n",
      "8/8 [==============================] - 0s 3ms/step - loss: 0.4538 - accuracy: 0.8608\n",
      "Epoch 63/512\n",
      "8/8 [==============================] - 0s 3ms/step - loss: 0.4567 - accuracy: 0.8565\n",
      "Epoch 64/512\n",
      "8/8 [==============================] - 0s 3ms/step - loss: 0.4517 - accuracy: 0.8439\n",
      "Epoch 65/512\n",
      "8/8 [==============================] - 0s 3ms/step - loss: 0.4352 - accuracy: 0.8650\n",
      "Epoch 66/512\n",
      "8/8 [==============================] - 0s 3ms/step - loss: 0.4351 - accuracy: 0.8608\n",
      "Epoch 67/512\n",
      "8/8 [==============================] - 0s 3ms/step - loss: 0.4415 - accuracy: 0.8650\n",
      "Epoch 68/512\n",
      "8/8 [==============================] - 0s 3ms/step - loss: 0.4418 - accuracy: 0.8565\n",
      "Epoch 69/512\n",
      "8/8 [==============================] - 0s 3ms/step - loss: 0.4424 - accuracy: 0.8650\n",
      "Epoch 70/512\n",
      "8/8 [==============================] - 0s 3ms/step - loss: 0.4674 - accuracy: 0.8608\n",
      "Epoch 71/512\n",
      "8/8 [==============================] - 0s 3ms/step - loss: 0.4437 - accuracy: 0.8608\n",
      "Epoch 72/512\n",
      "8/8 [==============================] - 0s 3ms/step - loss: 0.4447 - accuracy: 0.8565\n",
      "Epoch 73/512\n",
      "8/8 [==============================] - 0s 3ms/step - loss: 0.4625 - accuracy: 0.8650\n",
      "Epoch 74/512\n",
      "8/8 [==============================] - 0s 3ms/step - loss: 0.4405 - accuracy: 0.8692\n",
      "Epoch 75/512\n",
      "8/8 [==============================] - 0s 4ms/step - loss: 0.4632 - accuracy: 0.8608\n",
      "Epoch 76/512\n",
      "8/8 [==============================] - 0s 4ms/step - loss: 0.4390 - accuracy: 0.8565\n",
      "Epoch 77/512\n",
      "8/8 [==============================] - ETA: 0s - loss: 0.4327 - accuracy: 0.84 - 0s 2ms/step - loss: 0.4642 - accuracy: 0.8565\n",
      "Epoch 78/512\n",
      "8/8 [==============================] - 0s 4ms/step - loss: 0.4476 - accuracy: 0.8565\n",
      "Epoch 79/512\n",
      "8/8 [==============================] - 0s 4ms/step - loss: 0.4547 - accuracy: 0.8608\n",
      "Epoch 80/512\n",
      "8/8 [==============================] - 0s 3ms/step - loss: 0.4371 - accuracy: 0.8608\n",
      "Epoch 81/512\n",
      "8/8 [==============================] - 0s 4ms/step - loss: 0.4487 - accuracy: 0.8481\n",
      "Epoch 82/512\n",
      "8/8 [==============================] - 0s 3ms/step - loss: 0.4503 - accuracy: 0.8481\n",
      "Epoch 83/512\n",
      "8/8 [==============================] - 0s 3ms/step - loss: 0.4408 - accuracy: 0.8692\n",
      "Epoch 84/512\n"
     ]
    },
    {
     "name": "stdout",
     "output_type": "stream",
     "text": [
      "8/8 [==============================] - 0s 4ms/step - loss: 0.4359 - accuracy: 0.8523\n",
      "Epoch 85/512\n",
      "8/8 [==============================] - 0s 2ms/step - loss: 0.4247 - accuracy: 0.8650\n",
      "Epoch 86/512\n",
      "8/8 [==============================] - 0s 3ms/step - loss: 0.4419 - accuracy: 0.8565\n",
      "Epoch 87/512\n",
      "8/8 [==============================] - 0s 3ms/step - loss: 0.4555 - accuracy: 0.8650\n",
      "Epoch 88/512\n",
      "8/8 [==============================] - 0s 3ms/step - loss: 0.4532 - accuracy: 0.8481\n",
      "Epoch 89/512\n",
      "8/8 [==============================] - 0s 3ms/step - loss: 0.4423 - accuracy: 0.8650\n",
      "Epoch 90/512\n",
      "8/8 [==============================] - 0s 3ms/step - loss: 0.4282 - accuracy: 0.8608\n",
      "Epoch 91/512\n",
      "8/8 [==============================] - 0s 3ms/step - loss: 0.4439 - accuracy: 0.8439\n",
      "Epoch 92/512\n",
      "8/8 [==============================] - 0s 4ms/step - loss: 0.4451 - accuracy: 0.8481\n",
      "Epoch 93/512\n",
      "8/8 [==============================] - 0s 3ms/step - loss: 0.4450 - accuracy: 0.8565\n",
      "Epoch 94/512\n",
      "8/8 [==============================] - 0s 3ms/step - loss: 0.4406 - accuracy: 0.8650\n",
      "Epoch 95/512\n",
      "8/8 [==============================] - 0s 4ms/step - loss: 0.4478 - accuracy: 0.8608\n",
      "Epoch 96/512\n",
      "8/8 [==============================] - 0s 3ms/step - loss: 0.4449 - accuracy: 0.8565\n",
      "Epoch 97/512\n",
      "8/8 [==============================] - 0s 3ms/step - loss: 0.4258 - accuracy: 0.8523\n",
      "Epoch 98/512\n",
      "8/8 [==============================] - 0s 4ms/step - loss: 0.4258 - accuracy: 0.8650\n",
      "Epoch 99/512\n",
      "8/8 [==============================] - 0s 3ms/step - loss: 0.4230 - accuracy: 0.8608\n",
      "Epoch 100/512\n",
      "8/8 [==============================] - 0s 3ms/step - loss: 0.4134 - accuracy: 0.8608\n",
      "Epoch 101/512\n",
      "8/8 [==============================] - 0s 3ms/step - loss: 0.4373 - accuracy: 0.8692\n",
      "Epoch 102/512\n",
      "8/8 [==============================] - 0s 4ms/step - loss: 0.4434 - accuracy: 0.8565\n",
      "Epoch 103/512\n",
      "8/8 [==============================] - 0s 2ms/step - loss: 0.4322 - accuracy: 0.8523\n",
      "Epoch 104/512\n",
      "8/8 [==============================] - 0s 4ms/step - loss: 0.4426 - accuracy: 0.8608\n",
      "Epoch 105/512\n",
      "8/8 [==============================] - 0s 4ms/step - loss: 0.4284 - accuracy: 0.8734\n",
      "Epoch 106/512\n",
      "8/8 [==============================] - 0s 3ms/step - loss: 0.4376 - accuracy: 0.8650\n",
      "Epoch 107/512\n",
      "8/8 [==============================] - 0s 3ms/step - loss: 0.4220 - accuracy: 0.8608\n",
      "Epoch 108/512\n",
      "8/8 [==============================] - 0s 3ms/step - loss: 0.4395 - accuracy: 0.8523\n",
      "Epoch 109/512\n",
      "8/8 [==============================] - 0s 3ms/step - loss: 0.4412 - accuracy: 0.8565\n",
      "Epoch 110/512\n",
      "8/8 [==============================] - 0s 4ms/step - loss: 0.4298 - accuracy: 0.8523\n",
      "Epoch 111/512\n",
      "8/8 [==============================] - 0s 3ms/step - loss: 0.4309 - accuracy: 0.8692\n",
      "Epoch 112/512\n",
      "8/8 [==============================] - 0s 3ms/step - loss: 0.4307 - accuracy: 0.8692\n",
      "Epoch 113/512\n",
      "8/8 [==============================] - 0s 4ms/step - loss: 0.4269 - accuracy: 0.8523\n",
      "Epoch 114/512\n",
      "8/8 [==============================] - 0s 3ms/step - loss: 0.4297 - accuracy: 0.8523\n",
      "Epoch 115/512\n",
      "8/8 [==============================] - 0s 3ms/step - loss: 0.4395 - accuracy: 0.8523\n",
      "Epoch 116/512\n",
      "8/8 [==============================] - 0s 4ms/step - loss: 0.4383 - accuracy: 0.8523\n",
      "Epoch 117/512\n",
      "8/8 [==============================] - 0s 3ms/step - loss: 0.4182 - accuracy: 0.8608\n",
      "Epoch 118/512\n",
      "8/8 [==============================] - 0s 3ms/step - loss: 0.4270 - accuracy: 0.8608\n",
      "Epoch 119/512\n",
      "8/8 [==============================] - 0s 3ms/step - loss: 0.4202 - accuracy: 0.8650\n",
      "Epoch 120/512\n",
      "8/8 [==============================] - 0s 3ms/step - loss: 0.4177 - accuracy: 0.8608\n",
      "Epoch 121/512\n",
      "8/8 [==============================] - 0s 2ms/step - loss: 0.4369 - accuracy: 0.8565\n",
      "Epoch 122/512\n",
      "8/8 [==============================] - 0s 3ms/step - loss: 0.4096 - accuracy: 0.8608\n",
      "Epoch 123/512\n",
      "8/8 [==============================] - 0s 3ms/step - loss: 0.4217 - accuracy: 0.8692\n",
      "Epoch 124/512\n",
      "8/8 [==============================] - 0s 3ms/step - loss: 0.4325 - accuracy: 0.8565\n",
      "Epoch 125/512\n",
      "8/8 [==============================] - 0s 4ms/step - loss: 0.4102 - accuracy: 0.8692\n",
      "Epoch 126/512\n",
      "8/8 [==============================] - 0s 4ms/step - loss: 0.4352 - accuracy: 0.8565\n",
      "Epoch 127/512\n",
      "8/8 [==============================] - 0s 3ms/step - loss: 0.4276 - accuracy: 0.8565\n",
      "Epoch 128/512\n",
      "8/8 [==============================] - 0s 4ms/step - loss: 0.4042 - accuracy: 0.8692\n",
      "Epoch 129/512\n",
      "8/8 [==============================] - 0s 2ms/step - loss: 0.4241 - accuracy: 0.8608\n",
      "Epoch 130/512\n",
      "8/8 [==============================] - 0s 3ms/step - loss: 0.4309 - accuracy: 0.8734\n",
      "Epoch 131/512\n",
      "8/8 [==============================] - 0s 4ms/step - loss: 0.4282 - accuracy: 0.8650\n",
      "Epoch 132/512\n",
      "8/8 [==============================] - 0s 3ms/step - loss: 0.4436 - accuracy: 0.8523\n",
      "Epoch 133/512\n",
      "8/8 [==============================] - 0s 3ms/step - loss: 0.4351 - accuracy: 0.8439\n",
      "Epoch 134/512\n",
      "8/8 [==============================] - 0s 4ms/step - loss: 0.4202 - accuracy: 0.8650\n",
      "Epoch 135/512\n",
      "8/8 [==============================] - 0s 3ms/step - loss: 0.4233 - accuracy: 0.8481\n",
      "Epoch 136/512\n",
      "8/8 [==============================] - 0s 3ms/step - loss: 0.4247 - accuracy: 0.8650\n",
      "Epoch 137/512\n",
      "8/8 [==============================] - 0s 3ms/step - loss: 0.4292 - accuracy: 0.8565\n",
      "Epoch 138/512\n",
      "8/8 [==============================] - 0s 3ms/step - loss: 0.4277 - accuracy: 0.8565\n",
      "Epoch 139/512\n",
      "8/8 [==============================] - 0s 3ms/step - loss: 0.4275 - accuracy: 0.8481\n",
      "Epoch 140/512\n",
      "8/8 [==============================] - 0s 3ms/step - loss: 0.4117 - accuracy: 0.8650\n",
      "Epoch 141/512\n",
      "8/8 [==============================] - 0s 3ms/step - loss: 0.4210 - accuracy: 0.8608\n",
      "Epoch 142/512\n",
      "8/8 [==============================] - 0s 3ms/step - loss: 0.4233 - accuracy: 0.8565\n",
      "Epoch 143/512\n",
      "8/8 [==============================] - 0s 2ms/step - loss: 0.4172 - accuracy: 0.8734\n",
      "Epoch 144/512\n",
      "8/8 [==============================] - 0s 4ms/step - loss: 0.4228 - accuracy: 0.8608\n",
      "Epoch 145/512\n",
      "8/8 [==============================] - 0s 3ms/step - loss: 0.4089 - accuracy: 0.8608\n",
      "Epoch 146/512\n",
      "8/8 [==============================] - 0s 3ms/step - loss: 0.4151 - accuracy: 0.8650\n",
      "Epoch 147/512\n",
      "8/8 [==============================] - 0s 3ms/step - loss: 0.4431 - accuracy: 0.8650\n",
      "Epoch 148/512\n",
      "8/8 [==============================] - 0s 3ms/step - loss: 0.4060 - accuracy: 0.8734\n",
      "Epoch 149/512\n",
      "8/8 [==============================] - 0s 3ms/step - loss: 0.4085 - accuracy: 0.8692\n",
      "Epoch 150/512\n",
      "8/8 [==============================] - 0s 3ms/step - loss: 0.4006 - accuracy: 0.8650\n",
      "Epoch 151/512\n",
      "8/8 [==============================] - 0s 3ms/step - loss: 0.4340 - accuracy: 0.8650\n",
      "Epoch 152/512\n",
      "8/8 [==============================] - 0s 3ms/step - loss: 0.4204 - accuracy: 0.8565\n",
      "Epoch 153/512\n",
      "8/8 [==============================] - 0s 3ms/step - loss: 0.4363 - accuracy: 0.8692\n",
      "Epoch 154/512\n",
      "8/8 [==============================] - 0s 3ms/step - loss: 0.4133 - accuracy: 0.8565\n",
      "Epoch 155/512\n",
      "8/8 [==============================] - 0s 4ms/step - loss: 0.4228 - accuracy: 0.8565\n",
      "Epoch 156/512\n",
      "8/8 [==============================] - 0s 4ms/step - loss: 0.4280 - accuracy: 0.8565\n",
      "Epoch 157/512\n",
      "8/8 [==============================] - 0s 4ms/step - loss: 0.4229 - accuracy: 0.8692\n",
      "Epoch 158/512\n",
      "8/8 [==============================] - 0s 3ms/step - loss: 0.4224 - accuracy: 0.8692\n",
      "Epoch 159/512\n",
      "8/8 [==============================] - 0s 4ms/step - loss: 0.4227 - accuracy: 0.8734\n",
      "Epoch 160/512\n",
      "8/8 [==============================] - 0s 4ms/step - loss: 0.4013 - accuracy: 0.8608\n",
      "Epoch 161/512\n",
      "8/8 [==============================] - 0s 3ms/step - loss: 0.4212 - accuracy: 0.8650\n",
      "Epoch 162/512\n",
      "8/8 [==============================] - 0s 3ms/step - loss: 0.4227 - accuracy: 0.8565\n",
      "Epoch 163/512\n",
      "8/8 [==============================] - 0s 4ms/step - loss: 0.4220 - accuracy: 0.8608\n",
      "Epoch 164/512\n",
      "8/8 [==============================] - 0s 2ms/step - loss: 0.4358 - accuracy: 0.8565\n",
      "Epoch 165/512\n",
      "8/8 [==============================] - 0s 3ms/step - loss: 0.4421 - accuracy: 0.8439\n",
      "Epoch 166/512\n",
      "8/8 [==============================] - 0s 2ms/step - loss: 0.4106 - accuracy: 0.8608\n",
      "Epoch 167/512\n"
     ]
    },
    {
     "name": "stdout",
     "output_type": "stream",
     "text": [
      "8/8 [==============================] - 0s 3ms/step - loss: 0.4095 - accuracy: 0.8650\n",
      "Epoch 168/512\n",
      "8/8 [==============================] - 0s 3ms/step - loss: 0.4051 - accuracy: 0.8692\n",
      "Epoch 169/512\n",
      "8/8 [==============================] - 0s 3ms/step - loss: 0.4100 - accuracy: 0.8608\n",
      "Epoch 170/512\n",
      "8/8 [==============================] - 0s 4ms/step - loss: 0.4207 - accuracy: 0.8565\n",
      "Epoch 171/512\n",
      "8/8 [==============================] - 0s 3ms/step - loss: 0.4235 - accuracy: 0.8565\n",
      "Epoch 172/512\n",
      "8/8 [==============================] - 0s 4ms/step - loss: 0.4262 - accuracy: 0.8650\n",
      "Epoch 173/512\n",
      "8/8 [==============================] - 0s 4ms/step - loss: 0.4232 - accuracy: 0.8565\n",
      "Epoch 174/512\n",
      "8/8 [==============================] - 0s 2ms/step - loss: 0.4064 - accuracy: 0.8650\n",
      "Epoch 175/512\n",
      "8/8 [==============================] - 0s 4ms/step - loss: 0.4209 - accuracy: 0.8523\n",
      "Epoch 176/512\n",
      "8/8 [==============================] - 0s 3ms/step - loss: 0.4158 - accuracy: 0.8608\n",
      "Epoch 177/512\n",
      "8/8 [==============================] - 0s 2ms/step - loss: 0.4153 - accuracy: 0.8523\n",
      "Epoch 178/512\n",
      "8/8 [==============================] - 0s 3ms/step - loss: 0.4366 - accuracy: 0.8565\n",
      "Epoch 179/512\n",
      "8/8 [==============================] - 0s 4ms/step - loss: 0.4315 - accuracy: 0.8608\n",
      "Epoch 180/512\n",
      "8/8 [==============================] - 0s 3ms/step - loss: 0.4059 - accuracy: 0.8481\n",
      "Epoch 181/512\n",
      "8/8 [==============================] - 0s 3ms/step - loss: 0.4332 - accuracy: 0.8650\n",
      "Epoch 182/512\n",
      "8/8 [==============================] - 0s 3ms/step - loss: 0.4154 - accuracy: 0.8439\n",
      "Epoch 183/512\n",
      "8/8 [==============================] - 0s 3ms/step - loss: 0.4257 - accuracy: 0.8523\n",
      "Epoch 184/512\n",
      "8/8 [==============================] - 0s 3ms/step - loss: 0.4007 - accuracy: 0.8523\n",
      "Epoch 185/512\n",
      "8/8 [==============================] - 0s 3ms/step - loss: 0.4214 - accuracy: 0.8608\n",
      "Epoch 186/512\n",
      "8/8 [==============================] - 0s 3ms/step - loss: 0.4267 - accuracy: 0.8650\n",
      "Epoch 187/512\n",
      "8/8 [==============================] - 0s 4ms/step - loss: 0.4154 - accuracy: 0.8650\n",
      "Epoch 188/512\n",
      "8/8 [==============================] - 0s 3ms/step - loss: 0.4201 - accuracy: 0.8565\n",
      "Epoch 189/512\n",
      "8/8 [==============================] - 0s 3ms/step - loss: 0.4056 - accuracy: 0.8734\n",
      "Epoch 190/512\n",
      "8/8 [==============================] - 0s 2ms/step - loss: 0.4221 - accuracy: 0.8608\n",
      "Epoch 191/512\n",
      "8/8 [==============================] - 0s 3ms/step - loss: 0.4096 - accuracy: 0.8650\n",
      "Epoch 192/512\n",
      "8/8 [==============================] - 0s 3ms/step - loss: 0.4107 - accuracy: 0.8608\n",
      "Epoch 193/512\n",
      "8/8 [==============================] - 0s 5ms/step - loss: 0.4120 - accuracy: 0.8608\n",
      "Epoch 194/512\n",
      "8/8 [==============================] - 0s 4ms/step - loss: 0.4286 - accuracy: 0.8565\n",
      "Epoch 195/512\n",
      "8/8 [==============================] - 0s 3ms/step - loss: 0.4086 - accuracy: 0.8650\n",
      "Epoch 196/512\n",
      "8/8 [==============================] - 0s 4ms/step - loss: 0.4234 - accuracy: 0.8650\n",
      "Epoch 197/512\n",
      "8/8 [==============================] - 0s 3ms/step - loss: 0.4171 - accuracy: 0.8565\n",
      "Epoch 198/512\n",
      "8/8 [==============================] - 0s 3ms/step - loss: 0.4126 - accuracy: 0.8565\n",
      "Epoch 199/512\n",
      "8/8 [==============================] - 0s 3ms/step - loss: 0.4139 - accuracy: 0.8650\n",
      "Epoch 200/512\n",
      "8/8 [==============================] - 0s 3ms/step - loss: 0.4156 - accuracy: 0.8650\n",
      "Epoch 201/512\n",
      "8/8 [==============================] - 0s 3ms/step - loss: 0.4159 - accuracy: 0.8565\n",
      "Epoch 202/512\n",
      "8/8 [==============================] - 0s 3ms/step - loss: 0.4063 - accuracy: 0.8565\n",
      "Epoch 203/512\n",
      "8/8 [==============================] - 0s 4ms/step - loss: 0.3970 - accuracy: 0.8565\n",
      "Epoch 204/512\n",
      "8/8 [==============================] - 0s 2ms/step - loss: 0.4107 - accuracy: 0.8608\n",
      "Epoch 205/512\n",
      "8/8 [==============================] - 0s 4ms/step - loss: 0.4028 - accuracy: 0.8523\n",
      "Epoch 206/512\n",
      "8/8 [==============================] - 0s 3ms/step - loss: 0.4189 - accuracy: 0.8608\n",
      "Epoch 207/512\n",
      "8/8 [==============================] - 0s 3ms/step - loss: 0.4140 - accuracy: 0.8565\n",
      "Epoch 208/512\n",
      "8/8 [==============================] - 0s 4ms/step - loss: 0.4159 - accuracy: 0.8692\n",
      "Epoch 209/512\n",
      "8/8 [==============================] - 0s 3ms/step - loss: 0.4324 - accuracy: 0.8565\n",
      "Epoch 210/512\n",
      "8/8 [==============================] - 0s 3ms/step - loss: 0.4173 - accuracy: 0.8523\n",
      "Epoch 211/512\n",
      "8/8 [==============================] - 0s 4ms/step - loss: 0.3985 - accuracy: 0.8523\n",
      "Epoch 212/512\n",
      "8/8 [==============================] - 0s 2ms/step - loss: 0.4113 - accuracy: 0.8776\n",
      "Epoch 213/512\n",
      "8/8 [==============================] - 0s 3ms/step - loss: 0.4154 - accuracy: 0.8692\n",
      "Epoch 214/512\n",
      "8/8 [==============================] - 0s 4ms/step - loss: 0.4116 - accuracy: 0.8776\n",
      "Epoch 215/512\n",
      "8/8 [==============================] - 0s 3ms/step - loss: 0.4133 - accuracy: 0.8692\n",
      "Epoch 216/512\n",
      "8/8 [==============================] - 0s 4ms/step - loss: 0.4064 - accuracy: 0.8650\n",
      "Epoch 217/512\n",
      "8/8 [==============================] - 0s 5ms/step - loss: 0.4082 - accuracy: 0.8650\n",
      "Epoch 218/512\n",
      "8/8 [==============================] - 0s 5ms/step - loss: 0.4056 - accuracy: 0.8692\n",
      "Epoch 219/512\n",
      "8/8 [==============================] - 0s 4ms/step - loss: 0.4144 - accuracy: 0.8565\n",
      "Epoch 220/512\n",
      "8/8 [==============================] - 0s 3ms/step - loss: 0.4299 - accuracy: 0.8565\n",
      "Epoch 221/512\n",
      "8/8 [==============================] - 0s 4ms/step - loss: 0.4110 - accuracy: 0.8608\n",
      "Epoch 222/512\n",
      "8/8 [==============================] - 0s 4ms/step - loss: 0.3922 - accuracy: 0.8650\n",
      "Epoch 223/512\n",
      "8/8 [==============================] - 0s 5ms/step - loss: 0.3873 - accuracy: 0.8692\n",
      "Epoch 224/512\n",
      "8/8 [==============================] - 0s 5ms/step - loss: 0.4208 - accuracy: 0.8439\n",
      "Epoch 225/512\n",
      "8/8 [==============================] - 0s 4ms/step - loss: 0.4126 - accuracy: 0.8608\n",
      "Epoch 226/512\n",
      "8/8 [==============================] - 0s 4ms/step - loss: 0.4284 - accuracy: 0.8734\n",
      "Epoch 227/512\n",
      "8/8 [==============================] - 0s 4ms/step - loss: 0.4179 - accuracy: 0.8565\n",
      "Epoch 228/512\n",
      "8/8 [==============================] - 0s 3ms/step - loss: 0.4019 - accuracy: 0.8650\n",
      "Epoch 229/512\n",
      "8/8 [==============================] - 0s 3ms/step - loss: 0.3885 - accuracy: 0.8734\n",
      "Epoch 230/512\n",
      "8/8 [==============================] - 0s 3ms/step - loss: 0.4312 - accuracy: 0.8481\n",
      "Epoch 231/512\n",
      "8/8 [==============================] - 0s 3ms/step - loss: 0.3995 - accuracy: 0.8650\n",
      "Epoch 232/512\n",
      "8/8 [==============================] - 0s 4ms/step - loss: 0.4248 - accuracy: 0.8650\n",
      "Epoch 233/512\n",
      "8/8 [==============================] - 0s 4ms/step - loss: 0.4194 - accuracy: 0.8650\n",
      "Epoch 234/512\n",
      "8/8 [==============================] - 0s 4ms/step - loss: 0.4376 - accuracy: 0.8523\n",
      "Epoch 235/512\n",
      "8/8 [==============================] - 0s 4ms/step - loss: 0.4082 - accuracy: 0.8565\n",
      "Epoch 236/512\n",
      "8/8 [==============================] - 0s 3ms/step - loss: 0.3998 - accuracy: 0.8650\n",
      "Epoch 237/512\n",
      "8/8 [==============================] - 0s 5ms/step - loss: 0.4088 - accuracy: 0.8650\n",
      "Epoch 238/512\n",
      "8/8 [==============================] - 0s 4ms/step - loss: 0.4234 - accuracy: 0.8608\n",
      "Epoch 239/512\n",
      "8/8 [==============================] - 0s 4ms/step - loss: 0.4024 - accuracy: 0.8565\n",
      "Epoch 240/512\n",
      "8/8 [==============================] - 0s 3ms/step - loss: 0.4204 - accuracy: 0.8692\n",
      "Epoch 241/512\n",
      "8/8 [==============================] - 0s 4ms/step - loss: 0.4173 - accuracy: 0.8565\n",
      "Epoch 242/512\n",
      "8/8 [==============================] - 0s 2ms/step - loss: 0.4257 - accuracy: 0.8608\n",
      "Epoch 243/512\n",
      "8/8 [==============================] - 0s 4ms/step - loss: 0.4109 - accuracy: 0.8692\n",
      "Epoch 244/512\n",
      "8/8 [==============================] - 0s 4ms/step - loss: 0.3839 - accuracy: 0.8692\n",
      "Epoch 245/512\n",
      "8/8 [==============================] - 0s 2ms/step - loss: 0.4133 - accuracy: 0.8650\n",
      "Epoch 246/512\n",
      "8/8 [==============================] - 0s 2ms/step - loss: 0.4121 - accuracy: 0.8523\n",
      "Epoch 247/512\n",
      "8/8 [==============================] - 0s 4ms/step - loss: 0.4065 - accuracy: 0.8565\n",
      "Epoch 248/512\n",
      "8/8 [==============================] - 0s 2ms/step - loss: 0.4164 - accuracy: 0.8565\n",
      "Epoch 249/512\n"
     ]
    },
    {
     "name": "stdout",
     "output_type": "stream",
     "text": [
      "8/8 [==============================] - 0s 4ms/step - loss: 0.4003 - accuracy: 0.8608\n",
      "Epoch 250/512\n",
      "8/8 [==============================] - 0s 3ms/step - loss: 0.4038 - accuracy: 0.8523\n",
      "Epoch 251/512\n",
      "8/8 [==============================] - 0s 3ms/step - loss: 0.4038 - accuracy: 0.8650\n",
      "Epoch 252/512\n",
      "8/8 [==============================] - 0s 3ms/step - loss: 0.4098 - accuracy: 0.8608\n",
      "Epoch 253/512\n",
      "8/8 [==============================] - 0s 3ms/step - loss: 0.4165 - accuracy: 0.8565\n",
      "Epoch 254/512\n",
      "8/8 [==============================] - 0s 3ms/step - loss: 0.4091 - accuracy: 0.8608\n",
      "Epoch 255/512\n",
      "8/8 [==============================] - 0s 3ms/step - loss: 0.4111 - accuracy: 0.8608\n",
      "Epoch 256/512\n",
      "8/8 [==============================] - 0s 4ms/step - loss: 0.4121 - accuracy: 0.8565\n",
      "Epoch 257/512\n",
      "8/8 [==============================] - 0s 3ms/step - loss: 0.4225 - accuracy: 0.8608\n",
      "Epoch 258/512\n",
      "8/8 [==============================] - 0s 3ms/step - loss: 0.3963 - accuracy: 0.8692\n",
      "Epoch 259/512\n",
      "8/8 [==============================] - 0s 3ms/step - loss: 0.4150 - accuracy: 0.8565\n",
      "Epoch 260/512\n",
      "8/8 [==============================] - 0s 3ms/step - loss: 0.4117 - accuracy: 0.8608\n",
      "Epoch 261/512\n",
      "8/8 [==============================] - ETA: 0s - loss: 0.3432 - accuracy: 0.87 - 0s 3ms/step - loss: 0.4152 - accuracy: 0.8608\n",
      "Epoch 262/512\n",
      "8/8 [==============================] - 0s 3ms/step - loss: 0.4084 - accuracy: 0.8692\n",
      "Epoch 263/512\n",
      "8/8 [==============================] - 0s 3ms/step - loss: 0.3993 - accuracy: 0.8523\n",
      "Epoch 264/512\n",
      "8/8 [==============================] - 0s 3ms/step - loss: 0.4172 - accuracy: 0.8608\n",
      "Epoch 265/512\n",
      "8/8 [==============================] - 0s 4ms/step - loss: 0.3868 - accuracy: 0.8608\n",
      "Epoch 266/512\n",
      "8/8 [==============================] - 0s 3ms/step - loss: 0.4033 - accuracy: 0.8650\n",
      "Epoch 267/512\n",
      "8/8 [==============================] - 0s 4ms/step - loss: 0.4203 - accuracy: 0.8565\n",
      "Epoch 268/512\n",
      "8/8 [==============================] - 0s 3ms/step - loss: 0.4245 - accuracy: 0.8650\n",
      "Epoch 269/512\n",
      "8/8 [==============================] - 0s 3ms/step - loss: 0.3967 - accuracy: 0.8608\n",
      "Epoch 270/512\n",
      "8/8 [==============================] - 0s 3ms/step - loss: 0.4163 - accuracy: 0.8608\n",
      "Epoch 271/512\n",
      "8/8 [==============================] - 0s 3ms/step - loss: 0.4290 - accuracy: 0.8565\n",
      "Epoch 272/512\n",
      "8/8 [==============================] - 0s 3ms/step - loss: 0.3879 - accuracy: 0.8481\n",
      "Epoch 273/512\n",
      "8/8 [==============================] - 0s 4ms/step - loss: 0.4114 - accuracy: 0.8608\n",
      "Epoch 274/512\n",
      "8/8 [==============================] - 0s 2ms/step - loss: 0.4025 - accuracy: 0.8565\n",
      "Epoch 275/512\n",
      "8/8 [==============================] - 0s 3ms/step - loss: 0.4037 - accuracy: 0.8692\n",
      "Epoch 276/512\n",
      "8/8 [==============================] - 0s 4ms/step - loss: 0.3983 - accuracy: 0.8565\n",
      "Epoch 277/512\n",
      "8/8 [==============================] - 0s 3ms/step - loss: 0.4217 - accuracy: 0.8608\n",
      "Epoch 278/512\n",
      "8/8 [==============================] - 0s 3ms/step - loss: 0.3976 - accuracy: 0.8650\n",
      "Epoch 279/512\n",
      "8/8 [==============================] - 0s 4ms/step - loss: 0.3976 - accuracy: 0.8565\n",
      "Epoch 280/512\n",
      "8/8 [==============================] - 0s 4ms/step - loss: 0.4099 - accuracy: 0.8650\n",
      "Epoch 281/512\n",
      "8/8 [==============================] - 0s 3ms/step - loss: 0.3989 - accuracy: 0.8692\n",
      "Epoch 282/512\n",
      "8/8 [==============================] - 0s 4ms/step - loss: 0.4042 - accuracy: 0.8565\n",
      "Epoch 283/512\n",
      "8/8 [==============================] - 0s 3ms/step - loss: 0.3981 - accuracy: 0.8692\n",
      "Epoch 284/512\n",
      "8/8 [==============================] - 0s 4ms/step - loss: 0.4138 - accuracy: 0.8608\n",
      "Epoch 285/512\n",
      "8/8 [==============================] - 0s 4ms/step - loss: 0.4075 - accuracy: 0.8565\n",
      "Epoch 286/512\n",
      "8/8 [==============================] - 0s 2ms/step - loss: 0.4155 - accuracy: 0.8523\n",
      "Epoch 287/512\n",
      "8/8 [==============================] - 0s 3ms/step - loss: 0.4153 - accuracy: 0.8608\n",
      "Epoch 288/512\n",
      "8/8 [==============================] - 0s 4ms/step - loss: 0.3970 - accuracy: 0.8608\n",
      "Epoch 289/512\n",
      "8/8 [==============================] - 0s 3ms/step - loss: 0.4134 - accuracy: 0.8650\n",
      "Epoch 290/512\n",
      "8/8 [==============================] - 0s 3ms/step - loss: 0.3904 - accuracy: 0.8608\n",
      "Epoch 291/512\n",
      "8/8 [==============================] - 0s 4ms/step - loss: 0.4067 - accuracy: 0.8565\n",
      "Epoch 292/512\n",
      "8/8 [==============================] - 0s 2ms/step - loss: 0.3916 - accuracy: 0.8565\n",
      "Epoch 293/512\n",
      "8/8 [==============================] - 0s 3ms/step - loss: 0.3885 - accuracy: 0.8608\n",
      "Epoch 294/512\n",
      "8/8 [==============================] - 0s 3ms/step - loss: 0.3971 - accuracy: 0.8650\n",
      "Epoch 295/512\n",
      "8/8 [==============================] - 0s 4ms/step - loss: 0.3830 - accuracy: 0.8608\n",
      "Epoch 296/512\n",
      "8/8 [==============================] - 0s 4ms/step - loss: 0.4096 - accuracy: 0.8608\n",
      "Epoch 297/512\n",
      "8/8 [==============================] - 0s 3ms/step - loss: 0.4016 - accuracy: 0.8692\n",
      "Epoch 298/512\n",
      "8/8 [==============================] - 0s 3ms/step - loss: 0.4005 - accuracy: 0.8523\n",
      "Epoch 299/512\n",
      "8/8 [==============================] - 0s 3ms/step - loss: 0.4125 - accuracy: 0.8692\n",
      "Epoch 300/512\n",
      "8/8 [==============================] - 0s 2ms/step - loss: 0.4265 - accuracy: 0.8608\n",
      "Epoch 301/512\n",
      "8/8 [==============================] - 0s 3ms/step - loss: 0.3963 - accuracy: 0.8650\n",
      "Epoch 302/512\n",
      "8/8 [==============================] - 0s 4ms/step - loss: 0.4104 - accuracy: 0.8565\n",
      "Epoch 303/512\n",
      "8/8 [==============================] - 0s 2ms/step - loss: 0.3853 - accuracy: 0.8565\n",
      "Epoch 304/512\n",
      "8/8 [==============================] - 0s 3ms/step - loss: 0.4040 - accuracy: 0.8523\n",
      "Epoch 305/512\n",
      "8/8 [==============================] - 0s 3ms/step - loss: 0.4206 - accuracy: 0.8650\n",
      "Epoch 306/512\n",
      "8/8 [==============================] - 0s 4ms/step - loss: 0.4165 - accuracy: 0.8439\n",
      "Epoch 307/512\n",
      "8/8 [==============================] - 0s 3ms/step - loss: 0.4206 - accuracy: 0.8523\n",
      "Epoch 308/512\n",
      "8/8 [==============================] - 0s 3ms/step - loss: 0.4120 - accuracy: 0.8565\n",
      "Epoch 309/512\n",
      "8/8 [==============================] - 0s 4ms/step - loss: 0.3884 - accuracy: 0.8608\n",
      "Epoch 310/512\n",
      "8/8 [==============================] - 0s 3ms/step - loss: 0.4061 - accuracy: 0.8608\n",
      "Epoch 311/512\n",
      "8/8 [==============================] - 0s 2ms/step - loss: 0.3988 - accuracy: 0.8608\n",
      "Epoch 312/512\n",
      "8/8 [==============================] - 0s 3ms/step - loss: 0.4034 - accuracy: 0.8692\n",
      "Epoch 313/512\n",
      "8/8 [==============================] - 0s 3ms/step - loss: 0.4064 - accuracy: 0.8523\n",
      "Epoch 314/512\n",
      "8/8 [==============================] - 0s 3ms/step - loss: 0.4147 - accuracy: 0.8523\n",
      "Epoch 315/512\n",
      "8/8 [==============================] - 0s 4ms/step - loss: 0.4131 - accuracy: 0.8565\n",
      "Epoch 316/512\n",
      "8/8 [==============================] - 0s 3ms/step - loss: 0.3984 - accuracy: 0.8650\n",
      "Epoch 317/512\n",
      "8/8 [==============================] - 0s 4ms/step - loss: 0.4230 - accuracy: 0.8608\n",
      "Epoch 318/512\n",
      "8/8 [==============================] - 0s 4ms/step - loss: 0.4067 - accuracy: 0.8650\n",
      "Epoch 319/512\n",
      "8/8 [==============================] - 0s 4ms/step - loss: 0.4227 - accuracy: 0.8608\n",
      "Epoch 320/512\n",
      "8/8 [==============================] - 0s 2ms/step - loss: 0.4063 - accuracy: 0.8650\n",
      "Epoch 321/512\n",
      "8/8 [==============================] - 0s 3ms/step - loss: 0.4189 - accuracy: 0.8608\n",
      "Epoch 322/512\n",
      "8/8 [==============================] - 0s 3ms/step - loss: 0.4034 - accuracy: 0.8481\n",
      "Epoch 323/512\n",
      "8/8 [==============================] - 0s 3ms/step - loss: 0.4071 - accuracy: 0.8565\n",
      "Epoch 324/512\n",
      "8/8 [==============================] - 0s 3ms/step - loss: 0.3985 - accuracy: 0.8565\n",
      "Epoch 325/512\n",
      "8/8 [==============================] - 0s 4ms/step - loss: 0.4202 - accuracy: 0.8565\n",
      "Epoch 326/512\n",
      "8/8 [==============================] - 0s 3ms/step - loss: 0.4109 - accuracy: 0.8608\n",
      "Epoch 327/512\n",
      "8/8 [==============================] - 0s 3ms/step - loss: 0.3958 - accuracy: 0.8523\n",
      "Epoch 328/512\n",
      "8/8 [==============================] - 0s 4ms/step - loss: 0.4092 - accuracy: 0.8565\n",
      "Epoch 329/512\n",
      "8/8 [==============================] - 0s 2ms/step - loss: 0.4001 - accuracy: 0.8608\n",
      "Epoch 330/512\n",
      "8/8 [==============================] - 0s 3ms/step - loss: 0.4008 - accuracy: 0.8565\n",
      "Epoch 331/512\n"
     ]
    },
    {
     "name": "stdout",
     "output_type": "stream",
     "text": [
      "8/8 [==============================] - 0s 3ms/step - loss: 0.3915 - accuracy: 0.8481\n",
      "Epoch 332/512\n",
      "8/8 [==============================] - 0s 4ms/step - loss: 0.4025 - accuracy: 0.8565\n",
      "Epoch 333/512\n",
      "8/8 [==============================] - 0s 2ms/step - loss: 0.3789 - accuracy: 0.8608\n",
      "Epoch 334/512\n",
      "8/8 [==============================] - 0s 4ms/step - loss: 0.4051 - accuracy: 0.8650\n",
      "Epoch 335/512\n",
      "8/8 [==============================] - 0s 3ms/step - loss: 0.4154 - accuracy: 0.8439\n",
      "Epoch 336/512\n",
      "8/8 [==============================] - 0s 3ms/step - loss: 0.4115 - accuracy: 0.8608\n",
      "Epoch 337/512\n",
      "8/8 [==============================] - 0s 4ms/step - loss: 0.4089 - accuracy: 0.8650\n",
      "Epoch 338/512\n",
      "8/8 [==============================] - 0s 2ms/step - loss: 0.4100 - accuracy: 0.8650\n",
      "Epoch 339/512\n",
      "8/8 [==============================] - 0s 3ms/step - loss: 0.4141 - accuracy: 0.8439\n",
      "Epoch 340/512\n",
      "8/8 [==============================] - 0s 4ms/step - loss: 0.4054 - accuracy: 0.8439\n",
      "Epoch 341/512\n",
      "8/8 [==============================] - 0s 2ms/step - loss: 0.3939 - accuracy: 0.8650\n",
      "Epoch 342/512\n",
      "8/8 [==============================] - 0s 3ms/step - loss: 0.4058 - accuracy: 0.8523\n",
      "Epoch 343/512\n",
      "8/8 [==============================] - 0s 3ms/step - loss: 0.3898 - accuracy: 0.8608\n",
      "Epoch 344/512\n",
      "8/8 [==============================] - 0s 3ms/step - loss: 0.4084 - accuracy: 0.8565\n",
      "Epoch 345/512\n",
      "8/8 [==============================] - 0s 2ms/step - loss: 0.3924 - accuracy: 0.8650\n",
      "Epoch 346/512\n",
      "8/8 [==============================] - 0s 4ms/step - loss: 0.4156 - accuracy: 0.8692\n",
      "Epoch 347/512\n",
      "8/8 [==============================] - 0s 3ms/step - loss: 0.4065 - accuracy: 0.8565\n",
      "Epoch 348/512\n",
      "8/8 [==============================] - 0s 3ms/step - loss: 0.3872 - accuracy: 0.8608\n",
      "Epoch 349/512\n",
      "8/8 [==============================] - 0s 3ms/step - loss: 0.3876 - accuracy: 0.8734\n",
      "Epoch 350/512\n",
      "8/8 [==============================] - 0s 3ms/step - loss: 0.3840 - accuracy: 0.8523\n",
      "Epoch 351/512\n",
      "8/8 [==============================] - 0s 3ms/step - loss: 0.3976 - accuracy: 0.8565\n",
      "Epoch 352/512\n",
      "8/8 [==============================] - 0s 3ms/step - loss: 0.3826 - accuracy: 0.8650\n",
      "Epoch 353/512\n",
      "8/8 [==============================] - 0s 3ms/step - loss: 0.3958 - accuracy: 0.8692\n",
      "Epoch 354/512\n",
      "8/8 [==============================] - 0s 3ms/step - loss: 0.3951 - accuracy: 0.8608\n",
      "Epoch 355/512\n",
      "8/8 [==============================] - 0s 4ms/step - loss: 0.4043 - accuracy: 0.8650\n",
      "Epoch 356/512\n",
      "8/8 [==============================] - 0s 2ms/step - loss: 0.3815 - accuracy: 0.8692\n",
      "Epoch 357/512\n",
      "8/8 [==============================] - 0s 3ms/step - loss: 0.4097 - accuracy: 0.8734\n",
      "Epoch 358/512\n",
      "8/8 [==============================] - 0s 3ms/step - loss: 0.4009 - accuracy: 0.8608\n",
      "Epoch 359/512\n",
      "8/8 [==============================] - 0s 2ms/step - loss: 0.4285 - accuracy: 0.8565\n",
      "Epoch 360/512\n",
      "8/8 [==============================] - 0s 3ms/step - loss: 0.3856 - accuracy: 0.8692\n",
      "Epoch 361/512\n",
      "8/8 [==============================] - 0s 3ms/step - loss: 0.3966 - accuracy: 0.8565\n",
      "Epoch 362/512\n",
      "8/8 [==============================] - 0s 2ms/step - loss: 0.4028 - accuracy: 0.8608\n",
      "Epoch 363/512\n",
      "8/8 [==============================] - 0s 3ms/step - loss: 0.3941 - accuracy: 0.8565\n",
      "Epoch 364/512\n",
      "8/8 [==============================] - 0s 3ms/step - loss: 0.4189 - accuracy: 0.8608\n",
      "Epoch 365/512\n",
      "8/8 [==============================] - 0s 4ms/step - loss: 0.3959 - accuracy: 0.8523\n",
      "Epoch 366/512\n",
      "8/8 [==============================] - 0s 4ms/step - loss: 0.3921 - accuracy: 0.8608\n",
      "Epoch 367/512\n",
      "8/8 [==============================] - 0s 3ms/step - loss: 0.3980 - accuracy: 0.8608\n",
      "Epoch 368/512\n",
      "8/8 [==============================] - 0s 4ms/step - loss: 0.4055 - accuracy: 0.8608\n",
      "Epoch 369/512\n",
      "8/8 [==============================] - 0s 3ms/step - loss: 0.3951 - accuracy: 0.8608\n",
      "Epoch 370/512\n",
      "8/8 [==============================] - 0s 4ms/step - loss: 0.3968 - accuracy: 0.8608\n",
      "Epoch 371/512\n",
      "8/8 [==============================] - 0s 3ms/step - loss: 0.4032 - accuracy: 0.8565\n",
      "Epoch 372/512\n",
      "8/8 [==============================] - 0s 3ms/step - loss: 0.4077 - accuracy: 0.8565\n",
      "Epoch 373/512\n",
      "8/8 [==============================] - 0s 3ms/step - loss: 0.4014 - accuracy: 0.8692\n",
      "Epoch 374/512\n",
      "8/8 [==============================] - 0s 4ms/step - loss: 0.4042 - accuracy: 0.8523\n",
      "Epoch 375/512\n",
      "8/8 [==============================] - 0s 3ms/step - loss: 0.4225 - accuracy: 0.8650\n",
      "Epoch 376/512\n",
      "8/8 [==============================] - 0s 4ms/step - loss: 0.4162 - accuracy: 0.8565\n",
      "Epoch 377/512\n",
      "8/8 [==============================] - 0s 3ms/step - loss: 0.4093 - accuracy: 0.8650\n",
      "Epoch 378/512\n",
      "8/8 [==============================] - 0s 3ms/step - loss: 0.3967 - accuracy: 0.8692\n",
      "Epoch 379/512\n",
      "8/8 [==============================] - 0s 4ms/step - loss: 0.4111 - accuracy: 0.8608\n",
      "Epoch 380/512\n",
      "8/8 [==============================] - 0s 2ms/step - loss: 0.3973 - accuracy: 0.8734\n",
      "Epoch 381/512\n",
      "8/8 [==============================] - 0s 4ms/step - loss: 0.4058 - accuracy: 0.8608\n",
      "Epoch 382/512\n",
      "8/8 [==============================] - 0s 3ms/step - loss: 0.3839 - accuracy: 0.8608\n",
      "Epoch 383/512\n",
      "8/8 [==============================] - 0s 3ms/step - loss: 0.4033 - accuracy: 0.8650\n",
      "Epoch 384/512\n",
      "8/8 [==============================] - 0s 3ms/step - loss: 0.4256 - accuracy: 0.8608\n",
      "Epoch 385/512\n",
      "8/8 [==============================] - 0s 3ms/step - loss: 0.4331 - accuracy: 0.8565\n",
      "Epoch 386/512\n",
      "8/8 [==============================] - 0s 3ms/step - loss: 0.4137 - accuracy: 0.8565\n",
      "Epoch 387/512\n",
      "8/8 [==============================] - 0s 4ms/step - loss: 0.3992 - accuracy: 0.8650\n",
      "Epoch 388/512\n",
      "8/8 [==============================] - 0s 2ms/step - loss: 0.4125 - accuracy: 0.8523\n",
      "Epoch 389/512\n",
      "8/8 [==============================] - 0s 3ms/step - loss: 0.3938 - accuracy: 0.8523\n",
      "Epoch 390/512\n",
      "8/8 [==============================] - 0s 3ms/step - loss: 0.3811 - accuracy: 0.8608\n",
      "Epoch 391/512\n",
      "8/8 [==============================] - 0s 2ms/step - loss: 0.3954 - accuracy: 0.8650\n",
      "Epoch 392/512\n",
      "8/8 [==============================] - 0s 3ms/step - loss: 0.3895 - accuracy: 0.8650\n",
      "Epoch 393/512\n",
      "8/8 [==============================] - 0s 4ms/step - loss: 0.3743 - accuracy: 0.8565\n",
      "Epoch 394/512\n",
      "8/8 [==============================] - 0s 3ms/step - loss: 0.4094 - accuracy: 0.8565\n",
      "Epoch 395/512\n",
      "8/8 [==============================] - 0s 3ms/step - loss: 0.4036 - accuracy: 0.8565\n",
      "Epoch 396/512\n",
      "8/8 [==============================] - 0s 3ms/step - loss: 0.3940 - accuracy: 0.8565\n",
      "Epoch 397/512\n",
      "8/8 [==============================] - 0s 3ms/step - loss: 0.3920 - accuracy: 0.8692\n",
      "Epoch 398/512\n",
      "8/8 [==============================] - 0s 3ms/step - loss: 0.3783 - accuracy: 0.8608\n",
      "Epoch 399/512\n",
      "8/8 [==============================] - 0s 3ms/step - loss: 0.4021 - accuracy: 0.8608\n",
      "Epoch 400/512\n",
      "8/8 [==============================] - 0s 3ms/step - loss: 0.3982 - accuracy: 0.8565\n",
      "Epoch 401/512\n",
      "8/8 [==============================] - 0s 3ms/step - loss: 0.4038 - accuracy: 0.8608\n",
      "Epoch 402/512\n",
      "8/8 [==============================] - 0s 3ms/step - loss: 0.4015 - accuracy: 0.8650\n",
      "Epoch 403/512\n",
      "8/8 [==============================] - 0s 3ms/step - loss: 0.4259 - accuracy: 0.8692\n",
      "Epoch 404/512\n",
      "8/8 [==============================] - 0s 3ms/step - loss: 0.3919 - accuracy: 0.8692\n",
      "Epoch 405/512\n",
      "8/8 [==============================] - 0s 4ms/step - loss: 0.4112 - accuracy: 0.8608\n",
      "Epoch 406/512\n",
      "8/8 [==============================] - 0s 2ms/step - loss: 0.3980 - accuracy: 0.8565\n",
      "Epoch 407/512\n",
      "8/8 [==============================] - 0s 4ms/step - loss: 0.4009 - accuracy: 0.8523\n",
      "Epoch 408/512\n",
      "8/8 [==============================] - 0s 4ms/step - loss: 0.3974 - accuracy: 0.8608\n",
      "Epoch 409/512\n",
      "8/8 [==============================] - 0s 3ms/step - loss: 0.3846 - accuracy: 0.8650\n",
      "Epoch 410/512\n",
      "8/8 [==============================] - 0s 3ms/step - loss: 0.4050 - accuracy: 0.8608\n",
      "Epoch 411/512\n",
      "8/8 [==============================] - 0s 3ms/step - loss: 0.4008 - accuracy: 0.8608\n",
      "Epoch 412/512\n",
      "8/8 [==============================] - 0s 3ms/step - loss: 0.3946 - accuracy: 0.8523\n",
      "Epoch 413/512\n"
     ]
    },
    {
     "name": "stdout",
     "output_type": "stream",
     "text": [
      "8/8 [==============================] - 0s 4ms/step - loss: 0.4047 - accuracy: 0.8608\n",
      "Epoch 414/512\n",
      "8/8 [==============================] - 0s 3ms/step - loss: 0.3901 - accuracy: 0.8650\n",
      "Epoch 415/512\n",
      "8/8 [==============================] - 0s 3ms/step - loss: 0.4015 - accuracy: 0.8565\n",
      "Epoch 416/512\n",
      "8/8 [==============================] - 0s 3ms/step - loss: 0.4144 - accuracy: 0.8650\n",
      "Epoch 417/512\n",
      "8/8 [==============================] - 0s 4ms/step - loss: 0.3933 - accuracy: 0.8650\n",
      "Epoch 418/512\n",
      "8/8 [==============================] - 0s 3ms/step - loss: 0.4050 - accuracy: 0.8608\n",
      "Epoch 419/512\n",
      "8/8 [==============================] - 0s 3ms/step - loss: 0.4149 - accuracy: 0.8565\n",
      "Epoch 420/512\n",
      "8/8 [==============================] - 0s 3ms/step - loss: 0.4101 - accuracy: 0.8608\n",
      "Epoch 421/512\n",
      "8/8 [==============================] - 0s 3ms/step - loss: 0.4065 - accuracy: 0.8692\n",
      "Epoch 422/512\n",
      "8/8 [==============================] - 0s 3ms/step - loss: 0.4002 - accuracy: 0.8565\n",
      "Epoch 423/512\n",
      "8/8 [==============================] - 0s 3ms/step - loss: 0.3978 - accuracy: 0.8523\n",
      "Epoch 424/512\n",
      "8/8 [==============================] - 0s 3ms/step - loss: 0.4057 - accuracy: 0.8650\n",
      "Epoch 425/512\n",
      "8/8 [==============================] - 0s 4ms/step - loss: 0.3963 - accuracy: 0.8608\n",
      "Epoch 426/512\n",
      "8/8 [==============================] - 0s 3ms/step - loss: 0.4191 - accuracy: 0.8608\n",
      "Epoch 427/512\n",
      "8/8 [==============================] - 0s 2ms/step - loss: 0.4070 - accuracy: 0.8523\n",
      "Epoch 428/512\n",
      "8/8 [==============================] - 0s 4ms/step - loss: 0.3976 - accuracy: 0.8523\n",
      "Epoch 429/512\n",
      "8/8 [==============================] - 0s 2ms/step - loss: 0.3957 - accuracy: 0.8523\n",
      "Epoch 430/512\n",
      "8/8 [==============================] - 0s 4ms/step - loss: 0.4089 - accuracy: 0.8650\n",
      "Epoch 431/512\n",
      "8/8 [==============================] - 0s 6ms/step - loss: 0.3947 - accuracy: 0.8608\n",
      "Epoch 432/512\n",
      "8/8 [==============================] - 0s 5ms/step - loss: 0.3932 - accuracy: 0.8523\n",
      "Epoch 433/512\n",
      "8/8 [==============================] - 0s 4ms/step - loss: 0.4206 - accuracy: 0.8565\n",
      "Epoch 434/512\n",
      "8/8 [==============================] - 0s 4ms/step - loss: 0.3933 - accuracy: 0.8608\n",
      "Epoch 435/512\n",
      "8/8 [==============================] - 0s 5ms/step - loss: 0.4003 - accuracy: 0.8650\n",
      "Epoch 436/512\n",
      "8/8 [==============================] - 0s 4ms/step - loss: 0.4266 - accuracy: 0.8439\n",
      "Epoch 437/512\n",
      "8/8 [==============================] - 0s 3ms/step - loss: 0.4006 - accuracy: 0.8650\n",
      "Epoch 438/512\n",
      "8/8 [==============================] - 0s 4ms/step - loss: 0.3921 - accuracy: 0.8565\n",
      "Epoch 439/512\n",
      "8/8 [==============================] - 0s 4ms/step - loss: 0.3901 - accuracy: 0.8608\n",
      "Epoch 440/512\n",
      "8/8 [==============================] - 0s 3ms/step - loss: 0.4113 - accuracy: 0.8565\n",
      "Epoch 441/512\n",
      "8/8 [==============================] - 0s 4ms/step - loss: 0.4023 - accuracy: 0.8608\n",
      "Epoch 442/512\n",
      "8/8 [==============================] - 0s 2ms/step - loss: 0.4180 - accuracy: 0.8608\n",
      "Epoch 443/512\n",
      "8/8 [==============================] - 0s 4ms/step - loss: 0.4034 - accuracy: 0.8523\n",
      "Epoch 444/512\n",
      "8/8 [==============================] - 0s 3ms/step - loss: 0.4098 - accuracy: 0.8650\n",
      "Epoch 445/512\n",
      "8/8 [==============================] - 0s 2ms/step - loss: 0.3974 - accuracy: 0.8608\n",
      "Epoch 446/512\n",
      "8/8 [==============================] - 0s 3ms/step - loss: 0.4083 - accuracy: 0.8650\n",
      "Epoch 447/512\n",
      "8/8 [==============================] - 0s 3ms/step - loss: 0.3948 - accuracy: 0.8650\n",
      "Epoch 448/512\n",
      "8/8 [==============================] - 0s 3ms/step - loss: 0.3950 - accuracy: 0.8692\n",
      "Epoch 449/512\n",
      "8/8 [==============================] - 0s 4ms/step - loss: 0.3897 - accuracy: 0.8608\n",
      "Epoch 450/512\n",
      "8/8 [==============================] - 0s 3ms/step - loss: 0.4119 - accuracy: 0.8608\n",
      "Epoch 451/512\n",
      "8/8 [==============================] - 0s 3ms/step - loss: 0.4003 - accuracy: 0.8565\n",
      "Epoch 452/512\n",
      "8/8 [==============================] - 0s 4ms/step - loss: 0.3869 - accuracy: 0.8692\n",
      "Epoch 453/512\n",
      "8/8 [==============================] - 0s 3ms/step - loss: 0.4023 - accuracy: 0.8608\n",
      "Epoch 454/512\n",
      "8/8 [==============================] - 0s 3ms/step - loss: 0.4216 - accuracy: 0.8565\n",
      "Epoch 455/512\n",
      "8/8 [==============================] - 0s 4ms/step - loss: 0.3894 - accuracy: 0.8608\n",
      "Epoch 456/512\n",
      "8/8 [==============================] - 0s 5ms/step - loss: 0.4082 - accuracy: 0.8523\n",
      "Epoch 457/512\n",
      "8/8 [==============================] - 0s 4ms/step - loss: 0.4007 - accuracy: 0.8650\n",
      "Epoch 458/512\n",
      "8/8 [==============================] - 0s 3ms/step - loss: 0.3965 - accuracy: 0.8650\n",
      "Epoch 459/512\n",
      "8/8 [==============================] - 0s 3ms/step - loss: 0.3883 - accuracy: 0.8608\n",
      "Epoch 460/512\n",
      "8/8 [==============================] - 0s 3ms/step - loss: 0.3832 - accuracy: 0.8565\n",
      "Epoch 461/512\n",
      "8/8 [==============================] - 0s 3ms/step - loss: 0.3830 - accuracy: 0.8523\n",
      "Epoch 462/512\n",
      "8/8 [==============================] - 0s 3ms/step - loss: 0.4243 - accuracy: 0.8481\n",
      "Epoch 463/512\n",
      "8/8 [==============================] - 0s 3ms/step - loss: 0.3986 - accuracy: 0.8481\n",
      "Epoch 464/512\n",
      "8/8 [==============================] - 0s 3ms/step - loss: 0.3922 - accuracy: 0.8650\n",
      "Epoch 465/512\n",
      "8/8 [==============================] - 0s 3ms/step - loss: 0.4164 - accuracy: 0.8523\n",
      "Epoch 466/512\n",
      "8/8 [==============================] - 0s 3ms/step - loss: 0.4118 - accuracy: 0.8481\n",
      "Epoch 467/512\n",
      "8/8 [==============================] - 0s 3ms/step - loss: 0.4003 - accuracy: 0.8650\n",
      "Epoch 468/512\n",
      "8/8 [==============================] - 0s 4ms/step - loss: 0.4104 - accuracy: 0.8608\n",
      "Epoch 469/512\n",
      "8/8 [==============================] - 0s 3ms/step - loss: 0.4098 - accuracy: 0.8565\n",
      "Epoch 470/512\n",
      "8/8 [==============================] - 0s 4ms/step - loss: 0.4067 - accuracy: 0.8439\n",
      "Epoch 471/512\n",
      "8/8 [==============================] - 0s 3ms/step - loss: 0.3927 - accuracy: 0.8650\n",
      "Epoch 472/512\n",
      "8/8 [==============================] - 0s 3ms/step - loss: 0.4080 - accuracy: 0.8354\n",
      "Epoch 473/512\n",
      "8/8 [==============================] - 0s 3ms/step - loss: 0.4253 - accuracy: 0.8565\n",
      "Epoch 474/512\n",
      "8/8 [==============================] - 0s 3ms/step - loss: 0.3812 - accuracy: 0.8650\n",
      "Epoch 475/512\n",
      "8/8 [==============================] - 0s 3ms/step - loss: 0.3991 - accuracy: 0.8565\n",
      "Epoch 476/512\n",
      "8/8 [==============================] - 0s 4ms/step - loss: 0.3985 - accuracy: 0.8439\n",
      "Epoch 477/512\n",
      "8/8 [==============================] - 0s 4ms/step - loss: 0.4144 - accuracy: 0.8481\n",
      "Epoch 478/512\n",
      "8/8 [==============================] - 0s 3ms/step - loss: 0.3801 - accuracy: 0.8650\n",
      "Epoch 479/512\n",
      "8/8 [==============================] - 0s 3ms/step - loss: 0.3958 - accuracy: 0.8523\n",
      "Epoch 480/512\n",
      "8/8 [==============================] - 0s 3ms/step - loss: 0.4221 - accuracy: 0.8608\n",
      "Epoch 481/512\n",
      "8/8 [==============================] - 0s 3ms/step - loss: 0.3897 - accuracy: 0.8650\n",
      "Epoch 482/512\n",
      "8/8 [==============================] - 0s 4ms/step - loss: 0.4046 - accuracy: 0.8523\n",
      "Epoch 483/512\n",
      "8/8 [==============================] - 0s 3ms/step - loss: 0.3910 - accuracy: 0.8481\n",
      "Epoch 484/512\n",
      "8/8 [==============================] - 0s 3ms/step - loss: 0.4009 - accuracy: 0.8608\n",
      "Epoch 485/512\n",
      "8/8 [==============================] - 0s 4ms/step - loss: 0.3966 - accuracy: 0.8650\n",
      "Epoch 486/512\n",
      "8/8 [==============================] - 0s 2ms/step - loss: 0.3931 - accuracy: 0.8565\n",
      "Epoch 487/512\n",
      "8/8 [==============================] - 0s 3ms/step - loss: 0.4004 - accuracy: 0.8608\n",
      "Epoch 488/512\n",
      "8/8 [==============================] - 0s 4ms/step - loss: 0.4030 - accuracy: 0.8565\n",
      "Epoch 489/512\n",
      "8/8 [==============================] - 0s 3ms/step - loss: 0.4251 - accuracy: 0.8439\n",
      "Epoch 490/512\n",
      "8/8 [==============================] - 0s 3ms/step - loss: 0.4025 - accuracy: 0.8608\n",
      "Epoch 491/512\n",
      "8/8 [==============================] - 0s 4ms/step - loss: 0.3838 - accuracy: 0.8608\n",
      "Epoch 492/512\n",
      "8/8 [==============================] - 0s 3ms/step - loss: 0.3829 - accuracy: 0.8565\n",
      "Epoch 493/512\n",
      "8/8 [==============================] - 0s 4ms/step - loss: 0.4020 - accuracy: 0.8439\n",
      "Epoch 494/512\n",
      "8/8 [==============================] - 0s 3ms/step - loss: 0.4110 - accuracy: 0.8523\n",
      "Epoch 495/512\n"
     ]
    },
    {
     "name": "stdout",
     "output_type": "stream",
     "text": [
      "8/8 [==============================] - 0s 3ms/step - loss: 0.3960 - accuracy: 0.8565\n",
      "Epoch 496/512\n",
      "8/8 [==============================] - 0s 3ms/step - loss: 0.4160 - accuracy: 0.8608\n",
      "Epoch 497/512\n",
      "8/8 [==============================] - 0s 3ms/step - loss: 0.3991 - accuracy: 0.8523\n",
      "Epoch 498/512\n",
      "8/8 [==============================] - 0s 4ms/step - loss: 0.4081 - accuracy: 0.8439\n",
      "Epoch 499/512\n",
      "8/8 [==============================] - 0s 3ms/step - loss: 0.3993 - accuracy: 0.8523\n",
      "Epoch 500/512\n",
      "8/8 [==============================] - 0s 3ms/step - loss: 0.3862 - accuracy: 0.8608\n",
      "Epoch 501/512\n",
      "8/8 [==============================] - 0s 3ms/step - loss: 0.4060 - accuracy: 0.8608\n",
      "Epoch 502/512\n",
      "8/8 [==============================] - 0s 3ms/step - loss: 0.3959 - accuracy: 0.8565\n",
      "Epoch 503/512\n",
      "8/8 [==============================] - 0s 4ms/step - loss: 0.3908 - accuracy: 0.8692\n",
      "Epoch 504/512\n",
      "8/8 [==============================] - 0s 4ms/step - loss: 0.3906 - accuracy: 0.8565\n",
      "Epoch 505/512\n",
      "8/8 [==============================] - 0s 3ms/step - loss: 0.3853 - accuracy: 0.8565\n",
      "Epoch 506/512\n",
      "8/8 [==============================] - 0s 3ms/step - loss: 0.3942 - accuracy: 0.8439\n",
      "Epoch 507/512\n",
      "8/8 [==============================] - 0s 3ms/step - loss: 0.4029 - accuracy: 0.8692\n",
      "Epoch 508/512\n",
      "8/8 [==============================] - 0s 4ms/step - loss: 0.3975 - accuracy: 0.8608\n",
      "Epoch 509/512\n",
      "8/8 [==============================] - 0s 3ms/step - loss: 0.4185 - accuracy: 0.8523\n",
      "Epoch 510/512\n",
      "8/8 [==============================] - 0s 2ms/step - loss: 0.4101 - accuracy: 0.8608\n",
      "Epoch 511/512\n",
      "8/8 [==============================] - 0s 4ms/step - loss: 0.4054 - accuracy: 0.8565\n",
      "Epoch 512/512\n",
      "8/8 [==============================] - 0s 3ms/step - loss: 0.3896 - accuracy: 0.8565\n"
     ]
    },
    {
     "data": {
      "text/plain": [
       "<keras.callbacks.History at 0x7f2440377670>"
      ]
     },
     "execution_count": 54,
     "metadata": {},
     "output_type": "execute_result"
    }
   ],
   "source": [
    "model.fit(X_train, y_train, epochs=512)"
   ]
  },
  {
   "cell_type": "code",
   "execution_count": 55,
   "metadata": {},
   "outputs": [
    {
     "name": "stdout",
     "output_type": "stream",
     "text": [
      "2/2 [==============================] - 0s 4ms/step - loss: 0.4268 - accuracy: 0.8500\n"
     ]
    },
    {
     "data": {
      "text/plain": [
       "[0.4267645478248596, 0.8500000238418579]"
      ]
     },
     "execution_count": 55,
     "metadata": {},
     "output_type": "execute_result"
    }
   ],
   "source": [
    "model.evaluate(X_test, y_test)"
   ]
  },
  {
   "cell_type": "code",
   "execution_count": 56,
   "metadata": {
    "scrolled": true
   },
   "outputs": [],
   "source": [
    "pred = model.predict(X_test)\n",
    "pred = np.where(pred > .5, 1, 0)"
   ]
  },
  {
   "cell_type": "markdown",
   "metadata": {},
   "source": [
    "Resultados del modelo del paper"
   ]
  },
  {
   "cell_type": "code",
   "execution_count": 57,
   "metadata": {},
   "outputs": [
    {
     "data": {
      "image/png": "[encoded data removed]",
      "text/plain": [
       "<Figure size 432x288 with 2 Axes>"
      ]
     },
     "metadata": {
      "needs_background": "light"
     },
     "output_type": "display_data"
    }
   ],
   "source": [
    "from sklearn.metrics import confusion_matrix, ConfusionMatrixDisplay\n",
    "cm = confusion_matrix(y_test, pred)\n",
    "disp = ConfusionMatrixDisplay(confusion_matrix=cm)\n",
    "disp.plot()\n",
    "plt.show()"
   ]
  },
  {
   "cell_type": "code",
   "execution_count": 58,
   "metadata": {},
   "outputs": [
    {
     "data": {
      "image/png": "[encoded data removed]",
      "text/plain": [
       "<Figure size 432x288 with 1 Axes>"
      ]
     },
     "metadata": {
      "needs_background": "light"
     },
     "output_type": "display_data"
    }
   ],
   "source": [
    "from sklearn.metrics import RocCurveDisplay, roc_curve, auc\n",
    "fpr, tpr, thresholds = roc_curve(y_test, pred)\n",
    "roc_auc = auc(fpr, tpr)\n",
    "rocDisplay = RocCurveDisplay(fpr=fpr, tpr=tpr, roc_auc=roc_auc,\n",
    "                                  estimator_name='Deep Learning Classifier')\n",
    "rocDisplay.plot()\n",
    "\n",
    "plt.show()"
   ]
  },
  {
   "cell_type": "code",
   "execution_count": 59,
   "metadata": {
    "executionInfo": {
     "elapsed": 15,
     "status": "ok",
     "timestamp": 1638134065649,
     "user": {
      "displayName": "Gerardo Alfonso Silva Razo",
      "photoUrl": "https://lh3.googleusercontent.com/a/default-user=s64",
      "userId": "11961439085699130760"
     },
     "user_tz": 360
    },
    "id": "lbaosFX-4wWU"
   },
   "outputs": [],
   "source": [
    "from tensorflow import keras\n",
    "from tensorflow.keras import layers\n",
    "\n",
    "def build_model(hp):\n",
    "    keras_model = keras.Sequential()\n",
    "    keras_model.add(\n",
    "        layers.Dense(\n",
    "          units=hp.Int(\"units\", min_value=32, max_value=512, step=32),\n",
    "            activation=hp.Choice(\"activation\", [\"relu\", \"sigmoid\", \"tanh\"]),\n",
    "            kernel_regularizer=tf.keras.regularizers.L1(0.01),\n",
    "            activity_regularizer=tf.keras.regularizers.L2(0.01)\n",
    "        )\n",
    "    )\n",
    "    keras_model.add(\n",
    "        layers.Dropout(\n",
    "            rate=0.2\n",
    "        )\n",
    "    )\n",
    "    keras_model.add(\n",
    "        layers.Dense(\n",
    "#             units=hp.Int(\"units\", min_value=32, max_value=512, step=32),\n",
    "            units=64,\n",
    "            activation=hp.Choice(\"activation\", [\"relu\", \"sigmoid\", \"tanh\"]),\n",
    "            kernel_regularizer=tf.keras.regularizers.L1(0.01),\n",
    "            activity_regularizer=tf.keras.regularizers.L2(0.01)\n",
    "        )\n",
    "    )\n",
    "    keras_model.add(\n",
    "        layers.Dropout(\n",
    "            rate=hp.Choice(\"rate\", [0.05, 0.1, 0.15])\n",
    "        )\n",
    "    )\n",
    "    keras_model.add(\n",
    "        layers.Dense(\n",
    "#             units=hp.Int(\"units\", min_value=32, max_value=512, step=32),\n",
    "            units=32,\n",
    "            activation=hp.Choice(\"activation\", [\"relu\", \"sigmoid\", \"tanh\"])\n",
    "        )\n",
    "    )\n",
    "    keras_model.add(\n",
    "        layers.Dense(\n",
    "            units=1,\n",
    "            activation=\"relu\"\n",
    "        )\n",
    "    )\n",
    "    keras_model.compile(\n",
    "        optimizer=\"adam\", loss=\"binary_crossentropy\", metrics=[\"accuracy\"]\n",
    "    )\n",
    "    return keras_model"
   ]
  },
  {
   "cell_type": "code",
   "execution_count": 60,
   "metadata": {
    "executionInfo": {
     "elapsed": 6,
     "status": "ok",
     "timestamp": 1638134068915,
     "user": {
      "displayName": "Gerardo Alfonso Silva Razo",
      "photoUrl": "https://lh3.googleusercontent.com/a/default-user=s64",
      "userId": "11961439085699130760"
     },
     "user_tz": 360
    },
    "id": "mFd1KkGSAo_t"
   },
   "outputs": [],
   "source": [
    "import keras_tuner as kt\n",
    "\n",
    "keras_model = build_model(kt.HyperParameters())"
   ]
  },
  {
   "cell_type": "code",
   "execution_count": 61,
   "metadata": {
    "executionInfo": {
     "elapsed": 2124,
     "status": "ok",
     "timestamp": 1638136078111,
     "user": {
      "displayName": "Gerardo Alfonso Silva Razo",
      "photoUrl": "https://lh3.googleusercontent.com/a/default-user=s64",
      "userId": "11961439085699130760"
     },
     "user_tz": 360
    },
    "id": "C-yNvoXoEgAQ"
   },
   "outputs": [],
   "source": [
    "tuner = kt.RandomSearch(\n",
    "    build_model,\n",
    "    objective = \"val_accuracy\",\n",
    "    max_trials = 30,\n",
    "    seed=42,\n",
    "    executions_per_trial = 3,\n",
    "    overwrite=True\n",
    ")"
   ]
  },
  {
   "cell_type": "code",
   "execution_count": 62,
   "metadata": {
    "colab": {
     "base_uri": "https://localhost:8080/"
    },
    "executionInfo": {
     "elapsed": 101959,
     "status": "ok",
     "timestamp": 1638136180067,
     "user": {
      "displayName": "Gerardo Alfonso Silva Razo",
      "photoUrl": "https://lh3.googleusercontent.com/a/default-user=s64",
      "userId": "11961439085699130760"
     },
     "user_tz": 360
    },
    "id": "hh9g591gPCgj",
    "outputId": "0bd4c40f-407e-4203-8c75-243304626b40"
   },
   "outputs": [
    {
     "name": "stdout",
     "output_type": "stream",
     "text": [
      "Trial 30 Complete [00h 00m 06s]\n",
      "val_accuracy: 0.8222222328186035\n",
      "\n",
      "Best val_accuracy So Far: 0.8444444338480631\n",
      "Total elapsed time: 00h 02m 29s\n",
      "INFO:tensorflow:Oracle triggered exit\n"
     ]
    }
   ],
   "source": [
    "tuner.search(X_train, y_train, validation_data=(X_test, y_test))\n",
    "best_model = tuner.get_best_models()[0]"
   ]
  },
  {
   "cell_type": "code",
   "execution_count": 63,
   "metadata": {},
   "outputs": [
    {
     "name": "stdout",
     "output_type": "stream",
     "text": [
      "Epoch 1/512\n",
      "8/8 [==============================] - 1s 35ms/step - loss: 20.6417 - accuracy: 0.7848 - val_loss: 20.1853 - val_accuracy: 0.7500\n",
      "Epoch 2/512\n",
      "8/8 [==============================] - 0s 6ms/step - loss: 19.0889 - accuracy: 0.7764 - val_loss: 19.1973 - val_accuracy: 0.7833\n",
      "Epoch 3/512\n",
      "8/8 [==============================] - 0s 7ms/step - loss: 18.5215 - accuracy: 0.8017 - val_loss: 18.0857 - val_accuracy: 0.7667\n",
      "Epoch 4/512\n",
      "8/8 [==============================] - 0s 6ms/step - loss: 17.4701 - accuracy: 0.8270 - val_loss: 17.2913 - val_accuracy: 0.7500\n",
      "Epoch 5/512\n",
      "8/8 [==============================] - 0s 6ms/step - loss: 16.5916 - accuracy: 0.8059 - val_loss: 16.8096 - val_accuracy: 0.7833\n",
      "Epoch 6/512\n",
      "8/8 [==============================] - 0s 6ms/step - loss: 15.5606 - accuracy: 0.8143 - val_loss: 15.5366 - val_accuracy: 0.8500\n",
      "Epoch 7/512\n",
      "8/8 [==============================] - 0s 8ms/step - loss: 14.7892 - accuracy: 0.8186 - val_loss: 14.4501 - val_accuracy: 0.9000\n",
      "Epoch 8/512\n",
      "8/8 [==============================] - 0s 7ms/step - loss: 13.9101 - accuracy: 0.8354 - val_loss: 13.2887 - val_accuracy: 0.7167\n",
      "Epoch 9/512\n",
      "8/8 [==============================] - 0s 12ms/step - loss: 14.0705 - accuracy: 0.6920 - val_loss: 13.9824 - val_accuracy: 0.5500\n",
      "Epoch 10/512\n",
      "8/8 [==============================] - 0s 14ms/step - loss: 13.3232 - accuracy: 0.7468 - val_loss: 12.5420 - val_accuracy: 0.7833\n",
      "Epoch 11/512\n",
      "8/8 [==============================] - 0s 11ms/step - loss: 12.4281 - accuracy: 0.8186 - val_loss: 11.8355 - val_accuracy: 0.8500\n",
      "Epoch 12/512\n",
      "8/8 [==============================] - 0s 10ms/step - loss: 11.6449 - accuracy: 0.7975 - val_loss: 11.0648 - val_accuracy: 0.8833\n",
      "Epoch 13/512\n",
      "8/8 [==============================] - 0s 9ms/step - loss: 11.1233 - accuracy: 0.8186 - val_loss: 10.5517 - val_accuracy: 0.8667\n",
      "Epoch 14/512\n",
      "8/8 [==============================] - 0s 14ms/step - loss: 10.4724 - accuracy: 0.8228 - val_loss: 10.0813 - val_accuracy: 0.8167\n",
      "Epoch 15/512\n",
      "8/8 [==============================] - 0s 11ms/step - loss: 10.0059 - accuracy: 0.8101 - val_loss: 9.6727 - val_accuracy: 0.8167\n",
      "Epoch 16/512\n",
      "8/8 [==============================] - 0s 8ms/step - loss: 9.3931 - accuracy: 0.8270 - val_loss: 9.2500 - val_accuracy: 0.8167\n",
      "Epoch 17/512\n",
      "8/8 [==============================] - 0s 6ms/step - loss: 9.0360 - accuracy: 0.8228 - val_loss: 8.8343 - val_accuracy: 0.8500\n",
      "Epoch 18/512\n",
      "8/8 [==============================] - 0s 6ms/step - loss: 8.5692 - accuracy: 0.8439 - val_loss: 8.4465 - val_accuracy: 0.8167\n",
      "Epoch 19/512\n",
      "8/8 [==============================] - 0s 7ms/step - loss: 8.1921 - accuracy: 0.8397 - val_loss: 8.0822 - val_accuracy: 0.8500\n",
      "Epoch 20/512\n",
      "8/8 [==============================] - 0s 7ms/step - loss: 7.8911 - accuracy: 0.8439 - val_loss: 7.7382 - val_accuracy: 0.8667\n",
      "Epoch 21/512\n",
      "8/8 [==============================] - 0s 7ms/step - loss: 7.5169 - accuracy: 0.8565 - val_loss: 7.4195 - val_accuracy: 0.8667\n",
      "Epoch 22/512\n",
      "8/8 [==============================] - 0s 6ms/step - loss: 7.1973 - accuracy: 0.8397 - val_loss: 7.1195 - val_accuracy: 0.8667\n",
      "Epoch 23/512\n",
      "8/8 [==============================] - 0s 7ms/step - loss: 6.8887 - accuracy: 0.8439 - val_loss: 6.8266 - val_accuracy: 0.8667\n",
      "Epoch 24/512\n",
      "8/8 [==============================] - 0s 8ms/step - loss: 6.6161 - accuracy: 0.8397 - val_loss: 6.6280 - val_accuracy: 0.8333\n",
      "Epoch 25/512\n",
      "8/8 [==============================] - 0s 12ms/step - loss: 6.4153 - accuracy: 0.8439 - val_loss: 6.4351 - val_accuracy: 0.8333\n",
      "Epoch 26/512\n",
      "8/8 [==============================] - 0s 11ms/step - loss: 6.1645 - accuracy: 0.8439 - val_loss: 6.1315 - val_accuracy: 0.8333\n",
      "Epoch 27/512\n",
      "8/8 [==============================] - 0s 11ms/step - loss: 5.8054 - accuracy: 0.8397 - val_loss: 5.8669 - val_accuracy: 0.8333\n",
      "Epoch 28/512\n",
      "8/8 [==============================] - 0s 6ms/step - loss: 5.5481 - accuracy: 0.8439 - val_loss: 5.6213 - val_accuracy: 0.8333\n",
      "Epoch 29/512\n",
      "8/8 [==============================] - 0s 7ms/step - loss: 5.4095 - accuracy: 0.8439 - val_loss: 5.3833 - val_accuracy: 0.8333\n",
      "Epoch 30/512\n",
      "8/8 [==============================] - 0s 6ms/step - loss: 5.1788 - accuracy: 0.8354 - val_loss: 5.2366 - val_accuracy: 0.8333\n",
      "Epoch 31/512\n",
      "8/8 [==============================] - 0s 6ms/step - loss: 5.0074 - accuracy: 0.8397 - val_loss: 5.0138 - val_accuracy: 0.8333\n",
      "Epoch 32/512\n",
      "8/8 [==============================] - 0s 7ms/step - loss: 4.7831 - accuracy: 0.8270 - val_loss: 4.8099 - val_accuracy: 0.8667\n",
      "Epoch 33/512\n",
      "8/8 [==============================] - 0s 6ms/step - loss: 4.5800 - accuracy: 0.8481 - val_loss: 4.6210 - val_accuracy: 0.8667\n",
      "Epoch 34/512\n",
      "8/8 [==============================] - 0s 7ms/step - loss: 4.3826 - accuracy: 0.8565 - val_loss: 4.4399 - val_accuracy: 0.8667\n",
      "Epoch 35/512\n",
      "8/8 [==============================] - 0s 5ms/step - loss: 4.1596 - accuracy: 0.8608 - val_loss: 4.2707 - val_accuracy: 0.8667\n",
      "Epoch 36/512\n",
      "8/8 [==============================] - 0s 8ms/step - loss: 3.9710 - accuracy: 0.8481 - val_loss: 4.1108 - val_accuracy: 0.8667\n",
      "Epoch 37/512\n",
      "8/8 [==============================] - 0s 7ms/step - loss: 3.8739 - accuracy: 0.8481 - val_loss: 3.9605 - val_accuracy: 0.8667\n",
      "Epoch 38/512\n",
      "8/8 [==============================] - 0s 7ms/step - loss: 3.7367 - accuracy: 0.8608 - val_loss: 3.8150 - val_accuracy: 0.8667\n",
      "Epoch 39/512\n",
      "8/8 [==============================] - 0s 7ms/step - loss: 3.5485 - accuracy: 0.8270 - val_loss: 3.6796 - val_accuracy: 0.8667\n",
      "Epoch 40/512\n",
      "8/8 [==============================] - 0s 7ms/step - loss: 3.4735 - accuracy: 0.8565 - val_loss: 3.5467 - val_accuracy: 0.8667\n",
      "Epoch 41/512\n",
      "8/8 [==============================] - 0s 8ms/step - loss: 3.3337 - accuracy: 0.8565 - val_loss: 3.4215 - val_accuracy: 0.8667\n",
      "Epoch 42/512\n",
      "8/8 [==============================] - 0s 7ms/step - loss: 3.1569 - accuracy: 0.8397 - val_loss: 3.3007 - val_accuracy: 0.8500\n",
      "Epoch 43/512\n",
      "8/8 [==============================] - 0s 7ms/step - loss: 3.0500 - accuracy: 0.8523 - val_loss: 3.1863 - val_accuracy: 0.8333\n",
      "Epoch 44/512\n",
      "8/8 [==============================] - 0s 6ms/step - loss: 2.9194 - accuracy: 0.8354 - val_loss: 3.0741 - val_accuracy: 0.8333\n",
      "Epoch 45/512\n",
      "8/8 [==============================] - 0s 8ms/step - loss: 2.7977 - accuracy: 0.8523 - val_loss: 2.9619 - val_accuracy: 0.8333\n",
      "Epoch 46/512\n",
      "8/8 [==============================] - 0s 8ms/step - loss: 2.7660 - accuracy: 0.8481 - val_loss: 2.8556 - val_accuracy: 0.8500\n",
      "Epoch 47/512\n",
      "8/8 [==============================] - 0s 6ms/step - loss: 2.6572 - accuracy: 0.8608 - val_loss: 2.7606 - val_accuracy: 0.8500\n",
      "Epoch 48/512\n",
      "8/8 [==============================] - 0s 6ms/step - loss: 2.4998 - accuracy: 0.8523 - val_loss: 2.6663 - val_accuracy: 0.8333\n",
      "Epoch 49/512\n",
      "8/8 [==============================] - 0s 6ms/step - loss: 2.4171 - accuracy: 0.8608 - val_loss: 2.5756 - val_accuracy: 0.8333\n",
      "Epoch 50/512\n",
      "8/8 [==============================] - 0s 7ms/step - loss: 2.3127 - accuracy: 0.8608 - val_loss: 2.4859 - val_accuracy: 0.8500\n",
      "Epoch 51/512\n",
      "8/8 [==============================] - 0s 6ms/step - loss: 2.3226 - accuracy: 0.8143 - val_loss: 2.3378 - val_accuracy: 0.8167\n",
      "Epoch 52/512\n",
      "8/8 [==============================] - 0s 6ms/step - loss: 2.2760 - accuracy: 0.8143 - val_loss: 2.2139 - val_accuracy: 0.8167\n",
      "Epoch 53/512\n",
      "8/8 [==============================] - 0s 6ms/step - loss: 2.1290 - accuracy: 0.8354 - val_loss: 2.1105 - val_accuracy: 0.8333\n",
      "Epoch 54/512\n",
      "8/8 [==============================] - 0s 6ms/step - loss: 2.0861 - accuracy: 0.8397 - val_loss: 2.2084 - val_accuracy: 0.8667\n",
      "Epoch 55/512\n",
      "8/8 [==============================] - 0s 7ms/step - loss: 1.9500 - accuracy: 0.8439 - val_loss: 2.1307 - val_accuracy: 0.8667\n",
      "Epoch 56/512\n",
      "8/8 [==============================] - 0s 7ms/step - loss: 1.9291 - accuracy: 0.8565 - val_loss: 2.0586 - val_accuracy: 0.8500\n",
      "Epoch 57/512\n",
      "8/8 [==============================] - 0s 6ms/step - loss: 1.8227 - accuracy: 0.8523 - val_loss: 1.8114 - val_accuracy: 0.8333\n",
      "Epoch 58/512\n",
      "8/8 [==============================] - 0s 7ms/step - loss: 1.7509 - accuracy: 0.8565 - val_loss: 1.7484 - val_accuracy: 0.8333\n",
      "Epoch 59/512\n"
     ]
    },
    {
     "name": "stdout",
     "output_type": "stream",
     "text": [
      "8/8 [==============================] - 0s 6ms/step - loss: 1.7794 - accuracy: 0.8523 - val_loss: 1.8923 - val_accuracy: 0.8667\n",
      "Epoch 60/512\n",
      "8/8 [==============================] - 0s 6ms/step - loss: 1.6872 - accuracy: 0.8565 - val_loss: 1.8299 - val_accuracy: 0.8667\n",
      "Epoch 61/512\n",
      "8/8 [==============================] - 0s 6ms/step - loss: 1.6329 - accuracy: 0.8439 - val_loss: 1.7737 - val_accuracy: 0.8500\n",
      "Epoch 62/512\n",
      "8/8 [==============================] - 0s 6ms/step - loss: 1.5167 - accuracy: 0.8397 - val_loss: 1.5498 - val_accuracy: 0.8500\n",
      "Epoch 63/512\n",
      "8/8 [==============================] - 0s 6ms/step - loss: 1.5453 - accuracy: 0.8481 - val_loss: 1.6745 - val_accuracy: 0.8500\n",
      "Epoch 64/512\n",
      "8/8 [==============================] - 0s 6ms/step - loss: 1.4479 - accuracy: 0.8608 - val_loss: 1.4591 - val_accuracy: 0.8500\n",
      "Epoch 65/512\n",
      "8/8 [==============================] - 0s 6ms/step - loss: 1.4366 - accuracy: 0.8650 - val_loss: 1.4213 - val_accuracy: 0.8500\n",
      "Epoch 66/512\n",
      "8/8 [==============================] - 0s 6ms/step - loss: 1.3492 - accuracy: 0.8692 - val_loss: 1.5485 - val_accuracy: 0.8500\n",
      "Epoch 67/512\n",
      "8/8 [==============================] - 0s 6ms/step - loss: 1.3104 - accuracy: 0.8481 - val_loss: 1.5087 - val_accuracy: 0.8500\n",
      "Epoch 68/512\n",
      "8/8 [==============================] - 0s 6ms/step - loss: 1.3268 - accuracy: 0.8565 - val_loss: 1.4719 - val_accuracy: 0.8500\n",
      "Epoch 69/512\n",
      "8/8 [==============================] - 0s 6ms/step - loss: 1.2842 - accuracy: 0.8439 - val_loss: 1.4355 - val_accuracy: 0.8667\n",
      "Epoch 70/512\n",
      "8/8 [==============================] - 0s 5ms/step - loss: 1.2022 - accuracy: 0.8523 - val_loss: 1.4052 - val_accuracy: 0.8500\n",
      "Epoch 71/512\n",
      "8/8 [==============================] - 0s 6ms/step - loss: 1.1789 - accuracy: 0.8523 - val_loss: 1.1921 - val_accuracy: 0.8333\n",
      "Epoch 72/512\n",
      "8/8 [==============================] - 0s 9ms/step - loss: 1.1488 - accuracy: 0.8565 - val_loss: 1.1519 - val_accuracy: 0.8333\n",
      "Epoch 73/512\n",
      "8/8 [==============================] - 0s 7ms/step - loss: 1.1223 - accuracy: 0.8439 - val_loss: 1.1319 - val_accuracy: 0.8333\n",
      "Epoch 74/512\n",
      "8/8 [==============================] - 0s 10ms/step - loss: 1.1301 - accuracy: 0.8608 - val_loss: 1.2922 - val_accuracy: 0.8333\n",
      "Epoch 75/512\n",
      "8/8 [==============================] - 0s 10ms/step - loss: 1.0469 - accuracy: 0.8565 - val_loss: 1.2636 - val_accuracy: 0.8333\n",
      "Epoch 76/512\n",
      "8/8 [==============================] - 0s 10ms/step - loss: 1.0833 - accuracy: 0.8565 - val_loss: 1.2367 - val_accuracy: 0.8333\n",
      "Epoch 77/512\n",
      "8/8 [==============================] - 0s 9ms/step - loss: 1.0096 - accuracy: 0.8650 - val_loss: 1.2170 - val_accuracy: 0.8500\n",
      "Epoch 78/512\n",
      "8/8 [==============================] - 0s 8ms/step - loss: 1.0281 - accuracy: 0.8650 - val_loss: 1.1904 - val_accuracy: 0.8500\n",
      "Epoch 79/512\n",
      "8/8 [==============================] - 0s 10ms/step - loss: 1.0113 - accuracy: 0.8608 - val_loss: 1.1684 - val_accuracy: 0.8500\n",
      "Epoch 80/512\n",
      "8/8 [==============================] - 0s 8ms/step - loss: 0.9909 - accuracy: 0.8608 - val_loss: 1.1474 - val_accuracy: 0.8333\n",
      "Epoch 81/512\n",
      "8/8 [==============================] - 0s 9ms/step - loss: 0.9123 - accuracy: 0.8565 - val_loss: 1.1262 - val_accuracy: 0.8333\n",
      "Epoch 82/512\n",
      "8/8 [==============================] - 0s 7ms/step - loss: 0.9070 - accuracy: 0.8397 - val_loss: 1.1102 - val_accuracy: 0.8333\n",
      "Epoch 83/512\n",
      "8/8 [==============================] - 0s 6ms/step - loss: 0.9173 - accuracy: 0.8565 - val_loss: 1.0933 - val_accuracy: 0.8333\n",
      "Epoch 84/512\n",
      "8/8 [==============================] - 0s 7ms/step - loss: 0.8674 - accuracy: 0.8481 - val_loss: 1.0750 - val_accuracy: 0.8333\n",
      "Epoch 85/512\n",
      "8/8 [==============================] - 0s 9ms/step - loss: 0.8469 - accuracy: 0.8608 - val_loss: 1.0647 - val_accuracy: 0.8500\n",
      "Epoch 86/512\n",
      "8/8 [==============================] - 0s 7ms/step - loss: 0.8701 - accuracy: 0.8608 - val_loss: 1.0437 - val_accuracy: 0.8333\n",
      "Epoch 87/512\n",
      "8/8 [==============================] - 0s 8ms/step - loss: 0.8661 - accuracy: 0.8608 - val_loss: 1.0268 - val_accuracy: 0.8500\n",
      "Epoch 88/512\n",
      "8/8 [==============================] - 0s 6ms/step - loss: 0.8429 - accuracy: 0.8523 - val_loss: 1.0141 - val_accuracy: 0.8500\n",
      "Epoch 89/512\n",
      "8/8 [==============================] - 0s 6ms/step - loss: 0.8398 - accuracy: 0.8565 - val_loss: 1.0023 - val_accuracy: 0.8333\n",
      "Epoch 90/512\n",
      "8/8 [==============================] - 0s 7ms/step - loss: 0.8350 - accuracy: 0.8481 - val_loss: 0.9940 - val_accuracy: 0.8667\n",
      "Epoch 91/512\n",
      "8/8 [==============================] - 0s 7ms/step - loss: 0.7756 - accuracy: 0.8481 - val_loss: 0.8216 - val_accuracy: 0.8333\n",
      "Epoch 92/512\n",
      "8/8 [==============================] - 0s 6ms/step - loss: 0.8040 - accuracy: 0.8608 - val_loss: 0.9705 - val_accuracy: 0.8333\n",
      "Epoch 93/512\n",
      "8/8 [==============================] - 0s 7ms/step - loss: 0.7327 - accuracy: 0.8481 - val_loss: 0.9558 - val_accuracy: 0.8500\n",
      "Epoch 94/512\n",
      "8/8 [==============================] - 0s 6ms/step - loss: 0.7263 - accuracy: 0.8608 - val_loss: 0.9561 - val_accuracy: 0.8333\n",
      "Epoch 95/512\n",
      "8/8 [==============================] - 0s 8ms/step - loss: 0.7655 - accuracy: 0.8650 - val_loss: 0.7978 - val_accuracy: 0.8000\n",
      "Epoch 96/512\n",
      "8/8 [==============================] - 0s 8ms/step - loss: 0.7484 - accuracy: 0.8523 - val_loss: 0.7633 - val_accuracy: 0.8333\n",
      "Epoch 97/512\n",
      "8/8 [==============================] - 0s 7ms/step - loss: 0.7597 - accuracy: 0.8565 - val_loss: 0.9306 - val_accuracy: 0.8500\n",
      "Epoch 98/512\n",
      "8/8 [==============================] - 0s 6ms/step - loss: 0.7396 - accuracy: 0.8523 - val_loss: 0.9138 - val_accuracy: 0.8667\n",
      "Epoch 99/512\n",
      "8/8 [==============================] - 0s 6ms/step - loss: 0.7470 - accuracy: 0.8481 - val_loss: 0.8993 - val_accuracy: 0.8500\n",
      "Epoch 100/512\n",
      "8/8 [==============================] - 0s 6ms/step - loss: 0.7089 - accuracy: 0.8439 - val_loss: 0.8905 - val_accuracy: 0.8667\n",
      "Epoch 101/512\n",
      "8/8 [==============================] - 0s 6ms/step - loss: 0.7037 - accuracy: 0.8523 - val_loss: 0.8782 - val_accuracy: 0.8333\n",
      "Epoch 102/512\n",
      "8/8 [==============================] - 0s 7ms/step - loss: 0.6949 - accuracy: 0.8481 - val_loss: 0.8670 - val_accuracy: 0.8333\n",
      "Epoch 103/512\n",
      "8/8 [==============================] - 0s 6ms/step - loss: 0.6915 - accuracy: 0.8523 - val_loss: 0.8617 - val_accuracy: 0.8333\n",
      "Epoch 104/512\n",
      "8/8 [==============================] - 0s 7ms/step - loss: 0.6791 - accuracy: 0.8397 - val_loss: 0.8519 - val_accuracy: 0.8333\n",
      "Epoch 105/512\n",
      "8/8 [==============================] - 0s 7ms/step - loss: 0.6657 - accuracy: 0.8523 - val_loss: 0.8440 - val_accuracy: 0.8500\n",
      "Epoch 106/512\n",
      "8/8 [==============================] - 0s 7ms/step - loss: 0.6819 - accuracy: 0.8439 - val_loss: 0.8388 - val_accuracy: 0.8500\n",
      "Epoch 107/512\n",
      "8/8 [==============================] - 0s 7ms/step - loss: 0.6650 - accuracy: 0.8397 - val_loss: 0.8295 - val_accuracy: 0.8500\n",
      "Epoch 108/512\n",
      "8/8 [==============================] - 0s 6ms/step - loss: 0.6572 - accuracy: 0.8439 - val_loss: 0.8238 - val_accuracy: 0.8500\n",
      "Epoch 109/512\n",
      "8/8 [==============================] - 0s 7ms/step - loss: 0.6400 - accuracy: 0.8481 - val_loss: 0.8167 - val_accuracy: 0.8500\n",
      "Epoch 110/512\n",
      "8/8 [==============================] - 0s 7ms/step - loss: 0.6424 - accuracy: 0.8481 - val_loss: 0.8105 - val_accuracy: 0.8500\n",
      "Epoch 111/512\n",
      "8/8 [==============================] - 0s 7ms/step - loss: 0.5681 - accuracy: 0.8481 - val_loss: 0.8034 - val_accuracy: 0.8333\n",
      "Epoch 112/512\n",
      "8/8 [==============================] - 0s 6ms/step - loss: 0.6380 - accuracy: 0.8439 - val_loss: 0.8001 - val_accuracy: 0.8333\n",
      "Epoch 113/512\n",
      "8/8 [==============================] - 0s 6ms/step - loss: 0.6295 - accuracy: 0.8481 - val_loss: 0.7947 - val_accuracy: 0.8500\n",
      "Epoch 114/512\n",
      "8/8 [==============================] - 0s 7ms/step - loss: 0.6245 - accuracy: 0.8523 - val_loss: 0.7901 - val_accuracy: 0.8500\n",
      "Epoch 115/512\n",
      "8/8 [==============================] - 0s 6ms/step - loss: 0.5628 - accuracy: 0.8354 - val_loss: 0.7921 - val_accuracy: 0.8333\n",
      "Epoch 116/512\n",
      "8/8 [==============================] - 0s 7ms/step - loss: 0.6158 - accuracy: 0.8481 - val_loss: 0.7905 - val_accuracy: 0.8333\n",
      "Epoch 117/512\n"
     ]
    },
    {
     "name": "stdout",
     "output_type": "stream",
     "text": [
      "8/8 [==============================] - 0s 6ms/step - loss: 0.6201 - accuracy: 0.8397 - val_loss: 0.6683 - val_accuracy: 0.8000\n",
      "Epoch 118/512\n",
      "8/8 [==============================] - 0s 6ms/step - loss: 0.6284 - accuracy: 0.8186 - val_loss: 0.6457 - val_accuracy: 0.8000\n",
      "Epoch 119/512\n",
      "8/8 [==============================] - 0s 6ms/step - loss: 0.5935 - accuracy: 0.8481 - val_loss: 0.8077 - val_accuracy: 0.8500\n",
      "Epoch 120/512\n",
      "8/8 [==============================] - 0s 6ms/step - loss: 0.5625 - accuracy: 0.8439 - val_loss: 0.7878 - val_accuracy: 0.8667\n",
      "Epoch 121/512\n",
      "8/8 [==============================] - 0s 6ms/step - loss: 0.6130 - accuracy: 0.8354 - val_loss: 0.7722 - val_accuracy: 0.8333\n",
      "Epoch 122/512\n",
      "8/8 [==============================] - 0s 7ms/step - loss: 0.5839 - accuracy: 0.8608 - val_loss: 0.7643 - val_accuracy: 0.8500\n",
      "Epoch 123/512\n",
      "8/8 [==============================] - 0s 7ms/step - loss: 0.5436 - accuracy: 0.8481 - val_loss: 0.7638 - val_accuracy: 0.8500\n",
      "Epoch 124/512\n",
      "8/8 [==============================] - 0s 9ms/step - loss: 0.5946 - accuracy: 0.8312 - val_loss: 0.7687 - val_accuracy: 0.8667\n",
      "Epoch 125/512\n",
      "8/8 [==============================] - 0s 10ms/step - loss: 0.5859 - accuracy: 0.8439 - val_loss: 0.7587 - val_accuracy: 0.8667\n",
      "Epoch 126/512\n",
      "8/8 [==============================] - 0s 9ms/step - loss: 0.5807 - accuracy: 0.8439 - val_loss: 0.7468 - val_accuracy: 0.8500\n",
      "Epoch 127/512\n",
      "8/8 [==============================] - 0s 8ms/step - loss: 0.5706 - accuracy: 0.8523 - val_loss: 0.7394 - val_accuracy: 0.8667\n",
      "Epoch 128/512\n",
      "8/8 [==============================] - 0s 7ms/step - loss: 0.5083 - accuracy: 0.8439 - val_loss: 0.7372 - val_accuracy: 0.8333\n",
      "Epoch 129/512\n",
      "8/8 [==============================] - 0s 7ms/step - loss: 0.5676 - accuracy: 0.8397 - val_loss: 0.7337 - val_accuracy: 0.8333\n",
      "Epoch 130/512\n",
      "8/8 [==============================] - 0s 7ms/step - loss: 0.5478 - accuracy: 0.8565 - val_loss: 0.7325 - val_accuracy: 0.8667\n",
      "Epoch 131/512\n",
      "8/8 [==============================] - 0s 8ms/step - loss: 0.5641 - accuracy: 0.8397 - val_loss: 0.7330 - val_accuracy: 0.8667\n",
      "Epoch 132/512\n",
      "8/8 [==============================] - 0s 7ms/step - loss: 0.5598 - accuracy: 0.8439 - val_loss: 0.7288 - val_accuracy: 0.8667\n",
      "Epoch 133/512\n",
      "8/8 [==============================] - 0s 6ms/step - loss: 0.5714 - accuracy: 0.8565 - val_loss: 0.7287 - val_accuracy: 0.8333\n",
      "Epoch 134/512\n",
      "8/8 [==============================] - 0s 7ms/step - loss: 0.5577 - accuracy: 0.8523 - val_loss: 0.7255 - val_accuracy: 0.8333\n",
      "Epoch 135/512\n",
      "8/8 [==============================] - 0s 6ms/step - loss: 0.5666 - accuracy: 0.8481 - val_loss: 0.7241 - val_accuracy: 0.8500\n",
      "Epoch 136/512\n",
      "8/8 [==============================] - 0s 7ms/step - loss: 0.5119 - accuracy: 0.8565 - val_loss: 0.7311 - val_accuracy: 0.8167\n",
      "Epoch 137/512\n",
      "8/8 [==============================] - 0s 7ms/step - loss: 0.5442 - accuracy: 0.8481 - val_loss: 0.7301 - val_accuracy: 0.8667\n",
      "Epoch 138/512\n",
      "8/8 [==============================] - 0s 6ms/step - loss: 0.4987 - accuracy: 0.8481 - val_loss: 0.7265 - val_accuracy: 0.8500\n",
      "Epoch 139/512\n",
      "8/8 [==============================] - 0s 7ms/step - loss: 0.5515 - accuracy: 0.8650 - val_loss: 0.7246 - val_accuracy: 0.8667\n",
      "Epoch 140/512\n",
      "8/8 [==============================] - 0s 6ms/step - loss: 0.5439 - accuracy: 0.8523 - val_loss: 0.7162 - val_accuracy: 0.8667\n",
      "Epoch 141/512\n",
      "8/8 [==============================] - 0s 7ms/step - loss: 0.5563 - accuracy: 0.8523 - val_loss: 0.7090 - val_accuracy: 0.8500\n",
      "Epoch 142/512\n",
      "8/8 [==============================] - 0s 6ms/step - loss: 0.5316 - accuracy: 0.8523 - val_loss: 0.7038 - val_accuracy: 0.8500\n",
      "Epoch 143/512\n",
      "8/8 [==============================] - 0s 7ms/step - loss: 0.5442 - accuracy: 0.8481 - val_loss: 0.6996 - val_accuracy: 0.8667\n",
      "Epoch 144/512\n",
      "8/8 [==============================] - 0s 7ms/step - loss: 0.4824 - accuracy: 0.8481 - val_loss: 0.6984 - val_accuracy: 0.8667\n",
      "Epoch 145/512\n",
      "8/8 [==============================] - 0s 7ms/step - loss: 0.5927 - accuracy: 0.8439 - val_loss: 0.6958 - val_accuracy: 0.8667\n",
      "Epoch 146/512\n",
      "8/8 [==============================] - 0s 7ms/step - loss: 0.5340 - accuracy: 0.8481 - val_loss: 0.7013 - val_accuracy: 0.8333\n",
      "Epoch 147/512\n",
      "8/8 [==============================] - 0s 6ms/step - loss: 0.5354 - accuracy: 0.8439 - val_loss: 0.7002 - val_accuracy: 0.8500\n",
      "Epoch 148/512\n",
      "8/8 [==============================] - 0s 8ms/step - loss: 0.5370 - accuracy: 0.8397 - val_loss: 0.7021 - val_accuracy: 0.8667\n",
      "Epoch 149/512\n",
      "8/8 [==============================] - 0s 7ms/step - loss: 0.5259 - accuracy: 0.8523 - val_loss: 0.6967 - val_accuracy: 0.8333\n",
      "Epoch 150/512\n",
      "8/8 [==============================] - 0s 6ms/step - loss: 0.5591 - accuracy: 0.8439 - val_loss: 0.9363 - val_accuracy: 0.8333\n",
      "Epoch 151/512\n",
      "8/8 [==============================] - 0s 6ms/step - loss: 1.5365 - accuracy: 0.6667 - val_loss: 2.8742 - val_accuracy: 0.5667\n",
      "Epoch 152/512\n",
      "8/8 [==============================] - 0s 7ms/step - loss: 2.4264 - accuracy: 0.7046 - val_loss: 1.8047 - val_accuracy: 0.9000\n",
      "Epoch 153/512\n",
      "8/8 [==============================] - 0s 7ms/step - loss: 2.1132 - accuracy: 0.7806 - val_loss: 1.6192 - val_accuracy: 0.8833\n",
      "Epoch 154/512\n",
      "8/8 [==============================] - 0s 7ms/step - loss: 2.1550 - accuracy: 0.6962 - val_loss: 3.7885 - val_accuracy: 0.5667\n",
      "Epoch 155/512\n",
      "8/8 [==============================] - 0s 7ms/step - loss: 2.3181 - accuracy: 0.6540 - val_loss: 1.8419 - val_accuracy: 0.7667\n",
      "Epoch 156/512\n",
      "8/8 [==============================] - 0s 6ms/step - loss: 1.8987 - accuracy: 0.7764 - val_loss: 1.7145 - val_accuracy: 0.8167\n",
      "Epoch 157/512\n",
      "8/8 [==============================] - 0s 7ms/step - loss: 3.3492 - accuracy: 0.6371 - val_loss: 3.7423 - val_accuracy: 0.6000\n",
      "Epoch 158/512\n",
      "8/8 [==============================] - 0s 6ms/step - loss: 4.1212 - accuracy: 0.7046 - val_loss: 5.9003 - val_accuracy: 0.5167\n",
      "Epoch 159/512\n",
      "8/8 [==============================] - 0s 6ms/step - loss: 4.2231 - accuracy: 0.7384 - val_loss: 4.2759 - val_accuracy: 0.8000\n",
      "Epoch 160/512\n",
      "8/8 [==============================] - 0s 6ms/step - loss: 3.4474 - accuracy: 0.8059 - val_loss: 3.5308 - val_accuracy: 0.8167\n",
      "Epoch 161/512\n",
      "8/8 [==============================] - 0s 7ms/step - loss: 2.9544 - accuracy: 0.7595 - val_loss: 3.8601 - val_accuracy: 0.7000\n",
      "Epoch 162/512\n",
      "8/8 [==============================] - 0s 6ms/step - loss: 3.0506 - accuracy: 0.6540 - val_loss: 3.7387 - val_accuracy: 0.4333\n",
      "Epoch 163/512\n",
      "8/8 [==============================] - 0s 6ms/step - loss: 3.4520 - accuracy: 0.4852 - val_loss: 2.9292 - val_accuracy: 0.6000\n",
      "Epoch 164/512\n",
      "8/8 [==============================] - 0s 7ms/step - loss: 2.9033 - accuracy: 0.6878 - val_loss: 2.8153 - val_accuracy: 0.7000\n",
      "Epoch 165/512\n",
      "8/8 [==============================] - 0s 7ms/step - loss: 2.6604 - accuracy: 0.7511 - val_loss: 2.5171 - val_accuracy: 0.8000\n",
      "Epoch 166/512\n",
      "8/8 [==============================] - 0s 6ms/step - loss: 2.3955 - accuracy: 0.7975 - val_loss: 2.2889 - val_accuracy: 0.7833\n",
      "Epoch 167/512\n",
      "8/8 [==============================] - 0s 6ms/step - loss: 2.1808 - accuracy: 0.8228 - val_loss: 2.1177 - val_accuracy: 0.8333\n",
      "Epoch 168/512\n",
      "8/8 [==============================] - 0s 7ms/step - loss: 2.0153 - accuracy: 0.8228 - val_loss: 1.9506 - val_accuracy: 0.8333\n",
      "Epoch 169/512\n",
      "8/8 [==============================] - 0s 6ms/step - loss: 1.8706 - accuracy: 0.8312 - val_loss: 1.8186 - val_accuracy: 0.8333\n",
      "Epoch 170/512\n",
      "8/8 [==============================] - 0s 7ms/step - loss: 1.7368 - accuracy: 0.8312 - val_loss: 1.7039 - val_accuracy: 0.8333\n",
      "Epoch 171/512\n",
      "8/8 [==============================] - 0s 6ms/step - loss: 1.6295 - accuracy: 0.8228 - val_loss: 1.6092 - val_accuracy: 0.8333\n",
      "Epoch 172/512\n",
      "8/8 [==============================] - 0s 6ms/step - loss: 1.5388 - accuracy: 0.8354 - val_loss: 1.5297 - val_accuracy: 0.8333\n",
      "Epoch 173/512\n",
      "8/8 [==============================] - 0s 6ms/step - loss: 1.5171 - accuracy: 0.8354 - val_loss: 1.4672 - val_accuracy: 0.8500\n",
      "Epoch 174/512\n",
      "8/8 [==============================] - 0s 7ms/step - loss: 1.3975 - accuracy: 0.8439 - val_loss: 1.4063 - val_accuracy: 0.8333\n",
      "Epoch 175/512\n"
     ]
    },
    {
     "name": "stdout",
     "output_type": "stream",
     "text": [
      "8/8 [==============================] - 0s 6ms/step - loss: 1.3424 - accuracy: 0.8354 - val_loss: 1.3563 - val_accuracy: 0.8500\n",
      "Epoch 176/512\n",
      "8/8 [==============================] - 0s 7ms/step - loss: 1.3079 - accuracy: 0.8439 - val_loss: 1.3016 - val_accuracy: 0.8667\n",
      "Epoch 177/512\n",
      "8/8 [==============================] - 0s 7ms/step - loss: 1.2548 - accuracy: 0.8312 - val_loss: 1.2597 - val_accuracy: 0.8333\n",
      "Epoch 178/512\n",
      "8/8 [==============================] - 0s 6ms/step - loss: 1.1966 - accuracy: 0.8523 - val_loss: 1.2156 - val_accuracy: 0.8333\n",
      "Epoch 179/512\n",
      "8/8 [==============================] - 0s 6ms/step - loss: 1.1494 - accuracy: 0.8397 - val_loss: 1.1895 - val_accuracy: 0.8500\n",
      "Epoch 180/512\n",
      "8/8 [==============================] - 0s 6ms/step - loss: 1.1714 - accuracy: 0.8608 - val_loss: 1.3309 - val_accuracy: 0.8500\n",
      "Epoch 181/512\n",
      "8/8 [==============================] - 0s 5ms/step - loss: 1.1450 - accuracy: 0.8481 - val_loss: 1.2948 - val_accuracy: 0.8500\n",
      "Epoch 182/512\n",
      "8/8 [==============================] - 0s 6ms/step - loss: 1.0994 - accuracy: 0.8397 - val_loss: 1.2631 - val_accuracy: 0.8667\n",
      "Epoch 183/512\n",
      "8/8 [==============================] - 0s 6ms/step - loss: 1.0659 - accuracy: 0.8481 - val_loss: 1.2374 - val_accuracy: 0.8667\n",
      "Epoch 184/512\n",
      "8/8 [==============================] - 0s 6ms/step - loss: 0.9976 - accuracy: 0.8481 - val_loss: 1.2099 - val_accuracy: 0.8667\n",
      "Epoch 185/512\n",
      "8/8 [==============================] - 0s 7ms/step - loss: 1.0208 - accuracy: 0.8439 - val_loss: 1.1855 - val_accuracy: 0.8667\n",
      "Epoch 186/512\n",
      "8/8 [==============================] - 0s 6ms/step - loss: 0.9983 - accuracy: 0.8565 - val_loss: 1.1633 - val_accuracy: 0.8667\n",
      "Epoch 187/512\n",
      "8/8 [==============================] - 0s 7ms/step - loss: 0.9678 - accuracy: 0.8565 - val_loss: 1.1422 - val_accuracy: 0.8667\n",
      "Epoch 188/512\n",
      "8/8 [==============================] - 0s 6ms/step - loss: 0.9707 - accuracy: 0.8397 - val_loss: 1.1240 - val_accuracy: 0.8667\n",
      "Epoch 189/512\n",
      "8/8 [==============================] - 0s 7ms/step - loss: 0.8732 - accuracy: 0.8481 - val_loss: 1.1079 - val_accuracy: 0.8667\n",
      "Epoch 190/512\n",
      "8/8 [==============================] - 0s 6ms/step - loss: 0.9269 - accuracy: 0.8565 - val_loss: 1.0935 - val_accuracy: 0.8667\n",
      "Epoch 191/512\n",
      "8/8 [==============================] - 0s 6ms/step - loss: 0.8562 - accuracy: 0.8523 - val_loss: 1.0788 - val_accuracy: 0.8667\n",
      "Epoch 192/512\n",
      "8/8 [==============================] - 0s 6ms/step - loss: 0.8938 - accuracy: 0.8397 - val_loss: 1.0644 - val_accuracy: 0.8500\n",
      "Epoch 193/512\n",
      "8/8 [==============================] - 0s 7ms/step - loss: 0.8839 - accuracy: 0.8312 - val_loss: 1.0507 - val_accuracy: 0.8500\n",
      "Epoch 194/512\n",
      "8/8 [==============================] - 0s 6ms/step - loss: 0.8458 - accuracy: 0.8481 - val_loss: 0.9433 - val_accuracy: 0.7833\n",
      "Epoch 195/512\n",
      "8/8 [==============================] - 0s 6ms/step - loss: 0.8241 - accuracy: 0.8354 - val_loss: 1.0555 - val_accuracy: 0.8333\n",
      "Epoch 196/512\n",
      "8/8 [==============================] - 0s 7ms/step - loss: 0.8688 - accuracy: 0.8312 - val_loss: 1.0286 - val_accuracy: 0.8500\n",
      "Epoch 197/512\n",
      "8/8 [==============================] - 0s 7ms/step - loss: 0.7948 - accuracy: 0.8354 - val_loss: 1.0119 - val_accuracy: 0.8500\n",
      "Epoch 198/512\n",
      "8/8 [==============================] - 0s 5ms/step - loss: 0.8235 - accuracy: 0.8523 - val_loss: 0.9929 - val_accuracy: 0.8500\n",
      "Epoch 199/512\n",
      "8/8 [==============================] - 0s 7ms/step - loss: 0.7664 - accuracy: 0.8523 - val_loss: 1.0186 - val_accuracy: 0.8000\n",
      "Epoch 200/512\n",
      "8/8 [==============================] - 0s 7ms/step - loss: 0.7707 - accuracy: 0.8565 - val_loss: 0.8287 - val_accuracy: 0.8000\n",
      "Epoch 201/512\n",
      "8/8 [==============================] - 0s 6ms/step - loss: 0.8355 - accuracy: 0.8397 - val_loss: 0.9887 - val_accuracy: 0.8333\n",
      "Epoch 202/512\n",
      "8/8 [==============================] - 0s 7ms/step - loss: 0.7938 - accuracy: 0.8397 - val_loss: 0.9672 - val_accuracy: 0.8500\n",
      "Epoch 203/512\n",
      "8/8 [==============================] - 0s 7ms/step - loss: 0.7980 - accuracy: 0.8523 - val_loss: 0.9519 - val_accuracy: 0.8500\n",
      "Epoch 204/512\n",
      "8/8 [==============================] - 0s 6ms/step - loss: 0.7387 - accuracy: 0.8481 - val_loss: 0.9421 - val_accuracy: 0.8500\n",
      "Epoch 205/512\n",
      "8/8 [==============================] - 0s 6ms/step - loss: 0.7665 - accuracy: 0.8354 - val_loss: 0.9320 - val_accuracy: 0.8500\n",
      "Epoch 206/512\n",
      "8/8 [==============================] - 0s 7ms/step - loss: 0.7468 - accuracy: 0.8523 - val_loss: 0.9226 - val_accuracy: 0.8500\n",
      "Epoch 207/512\n",
      "8/8 [==============================] - 0s 7ms/step - loss: 0.7604 - accuracy: 0.8481 - val_loss: 0.9153 - val_accuracy: 0.8333\n",
      "Epoch 208/512\n",
      "8/8 [==============================] - 0s 7ms/step - loss: 0.6823 - accuracy: 0.8354 - val_loss: 0.9075 - val_accuracy: 0.8500\n",
      "Epoch 209/512\n",
      "8/8 [==============================] - 0s 12ms/step - loss: 0.6856 - accuracy: 0.8481 - val_loss: 0.9044 - val_accuracy: 0.8500\n",
      "Epoch 210/512\n",
      "8/8 [==============================] - 0s 13ms/step - loss: 0.7432 - accuracy: 0.8354 - val_loss: 0.9029 - val_accuracy: 0.8667\n",
      "Epoch 211/512\n",
      "8/8 [==============================] - 0s 13ms/step - loss: 0.7310 - accuracy: 0.8397 - val_loss: 0.8986 - val_accuracy: 0.8667\n",
      "Epoch 212/512\n",
      "8/8 [==============================] - 0s 8ms/step - loss: 0.7008 - accuracy: 0.8481 - val_loss: 0.9546 - val_accuracy: 0.8000\n",
      "Epoch 213/512\n",
      "8/8 [==============================] - 0s 6ms/step - loss: 0.7539 - accuracy: 0.8608 - val_loss: 0.7951 - val_accuracy: 0.8167\n",
      "Epoch 214/512\n",
      "8/8 [==============================] - 0s 7ms/step - loss: 0.8124 - accuracy: 0.8228 - val_loss: 0.7514 - val_accuracy: 0.8000\n",
      "Epoch 215/512\n",
      "8/8 [==============================] - 0s 6ms/step - loss: 0.7073 - accuracy: 0.8523 - val_loss: 0.7363 - val_accuracy: 0.8000\n",
      "Epoch 216/512\n",
      "8/8 [==============================] - 0s 6ms/step - loss: 0.6809 - accuracy: 0.8481 - val_loss: 0.8936 - val_accuracy: 0.8167\n",
      "Epoch 217/512\n",
      "8/8 [==============================] - 0s 9ms/step - loss: 0.7189 - accuracy: 0.8481 - val_loss: 0.8776 - val_accuracy: 0.8333\n",
      "Epoch 218/512\n",
      "8/8 [==============================] - 0s 8ms/step - loss: 0.6487 - accuracy: 0.8439 - val_loss: 0.8808 - val_accuracy: 0.8167\n",
      "Epoch 219/512\n",
      "8/8 [==============================] - 0s 7ms/step - loss: 0.7216 - accuracy: 0.8439 - val_loss: 0.7134 - val_accuracy: 0.7833\n",
      "Epoch 220/512\n",
      "8/8 [==============================] - 0s 6ms/step - loss: 0.6537 - accuracy: 0.8354 - val_loss: 0.8780 - val_accuracy: 0.8167\n",
      "Epoch 221/512\n",
      "8/8 [==============================] - 0s 7ms/step - loss: 0.6869 - accuracy: 0.8650 - val_loss: 0.8634 - val_accuracy: 0.8500\n",
      "Epoch 222/512\n",
      "8/8 [==============================] - 0s 6ms/step - loss: 0.6771 - accuracy: 0.8439 - val_loss: 0.8498 - val_accuracy: 0.8500\n",
      "Epoch 223/512\n",
      "8/8 [==============================] - 0s 7ms/step - loss: 0.6880 - accuracy: 0.8397 - val_loss: 0.8434 - val_accuracy: 0.8667\n",
      "Epoch 224/512\n",
      "8/8 [==============================] - 0s 7ms/step - loss: 0.6886 - accuracy: 0.8397 - val_loss: 0.8672 - val_accuracy: 0.8500\n",
      "Epoch 225/512\n",
      "8/8 [==============================] - 0s 7ms/step - loss: 0.6724 - accuracy: 0.8481 - val_loss: 0.8473 - val_accuracy: 0.8500\n",
      "Epoch 226/512\n",
      "8/8 [==============================] - 0s 6ms/step - loss: 0.6684 - accuracy: 0.8354 - val_loss: 0.8334 - val_accuracy: 0.8500\n",
      "Epoch 227/512\n",
      "8/8 [==============================] - 0s 7ms/step - loss: 0.6619 - accuracy: 0.8523 - val_loss: 0.8251 - val_accuracy: 0.8500\n",
      "Epoch 228/512\n",
      "8/8 [==============================] - 0s 8ms/step - loss: 0.5865 - accuracy: 0.8354 - val_loss: 0.8183 - val_accuracy: 0.8333\n",
      "Epoch 229/512\n",
      "8/8 [==============================] - 0s 10ms/step - loss: 0.6489 - accuracy: 0.8397 - val_loss: 0.8158 - val_accuracy: 0.8500\n",
      "Epoch 230/512\n",
      "8/8 [==============================] - 0s 10ms/step - loss: 0.6435 - accuracy: 0.8565 - val_loss: 0.8144 - val_accuracy: 0.8500\n",
      "Epoch 231/512\n",
      "8/8 [==============================] - 0s 11ms/step - loss: 0.6358 - accuracy: 0.8481 - val_loss: 0.8092 - val_accuracy: 0.8500\n",
      "Epoch 232/512\n",
      "8/8 [==============================] - 0s 10ms/step - loss: 0.6364 - accuracy: 0.8397 - val_loss: 0.8053 - val_accuracy: 0.8500\n",
      "Epoch 233/512\n"
     ]
    },
    {
     "name": "stdout",
     "output_type": "stream",
     "text": [
      "8/8 [==============================] - 0s 9ms/step - loss: 0.5783 - accuracy: 0.8439 - val_loss: 0.8048 - val_accuracy: 0.8500\n",
      "Epoch 234/512\n",
      "8/8 [==============================] - 0s 8ms/step - loss: 0.6206 - accuracy: 0.8312 - val_loss: 0.7994 - val_accuracy: 0.8333\n",
      "Epoch 235/512\n",
      "8/8 [==============================] - 0s 7ms/step - loss: 0.6192 - accuracy: 0.8397 - val_loss: 0.7935 - val_accuracy: 0.8333\n",
      "Epoch 236/512\n",
      "8/8 [==============================] - 0s 6ms/step - loss: 0.5482 - accuracy: 0.8439 - val_loss: 0.7890 - val_accuracy: 0.8333\n",
      "Epoch 237/512\n",
      "8/8 [==============================] - 0s 7ms/step - loss: 0.6104 - accuracy: 0.8481 - val_loss: 0.7860 - val_accuracy: 0.8333\n",
      "Epoch 238/512\n",
      "8/8 [==============================] - 0s 6ms/step - loss: 0.6189 - accuracy: 0.8523 - val_loss: 0.7838 - val_accuracy: 0.8500\n",
      "Epoch 239/512\n",
      "8/8 [==============================] - 0s 7ms/step - loss: 0.6104 - accuracy: 0.8481 - val_loss: 0.7815 - val_accuracy: 0.8500\n",
      "Epoch 240/512\n",
      "8/8 [==============================] - 0s 8ms/step - loss: 0.6260 - accuracy: 0.8523 - val_loss: 0.7795 - val_accuracy: 0.8500\n",
      "Epoch 241/512\n",
      "8/8 [==============================] - 0s 7ms/step - loss: 0.6146 - accuracy: 0.8481 - val_loss: 0.7780 - val_accuracy: 0.8500\n",
      "Epoch 242/512\n",
      "8/8 [==============================] - 0s 11ms/step - loss: 0.5966 - accuracy: 0.8439 - val_loss: 0.7751 - val_accuracy: 0.8333\n",
      "Epoch 243/512\n",
      "8/8 [==============================] - 0s 8ms/step - loss: 0.6078 - accuracy: 0.8397 - val_loss: 0.7751 - val_accuracy: 0.8500\n",
      "Epoch 244/512\n",
      "8/8 [==============================] - 0s 6ms/step - loss: 0.6021 - accuracy: 0.8397 - val_loss: 0.7809 - val_accuracy: 0.8500\n",
      "Epoch 245/512\n",
      "8/8 [==============================] - 0s 8ms/step - loss: 0.5691 - accuracy: 0.8312 - val_loss: 0.7771 - val_accuracy: 0.8500\n",
      "Epoch 246/512\n",
      "8/8 [==============================] - 0s 8ms/step - loss: 0.7017 - accuracy: 0.8354 - val_loss: 0.8048 - val_accuracy: 0.7667\n",
      "Epoch 247/512\n",
      "8/8 [==============================] - 0s 5ms/step - loss: 0.7718 - accuracy: 0.7637 - val_loss: 0.7503 - val_accuracy: 0.8000\n",
      "Epoch 248/512\n",
      "8/8 [==============================] - 0s 6ms/step - loss: 0.6937 - accuracy: 0.8270 - val_loss: 0.6975 - val_accuracy: 0.8167\n",
      "Epoch 249/512\n",
      "8/8 [==============================] - 0s 6ms/step - loss: 0.7007 - accuracy: 0.8397 - val_loss: 0.8389 - val_accuracy: 0.8667\n",
      "Epoch 250/512\n",
      "8/8 [==============================] - 0s 8ms/step - loss: 0.6339 - accuracy: 0.8523 - val_loss: 0.8013 - val_accuracy: 0.8667\n",
      "Epoch 251/512\n",
      "8/8 [==============================] - 0s 13ms/step - loss: 0.6285 - accuracy: 0.8397 - val_loss: 0.7810 - val_accuracy: 0.8500\n",
      "Epoch 252/512\n",
      "8/8 [==============================] - 0s 12ms/step - loss: 0.6011 - accuracy: 0.8565 - val_loss: 0.7732 - val_accuracy: 0.8500\n",
      "Epoch 253/512\n",
      "8/8 [==============================] - 0s 6ms/step - loss: 0.5864 - accuracy: 0.8439 - val_loss: 0.7672 - val_accuracy: 0.8500\n",
      "Epoch 254/512\n",
      "8/8 [==============================] - 0s 10ms/step - loss: 0.5851 - accuracy: 0.8523 - val_loss: 0.7618 - val_accuracy: 0.8500\n",
      "Epoch 255/512\n",
      "8/8 [==============================] - 0s 12ms/step - loss: 0.5689 - accuracy: 0.8565 - val_loss: 0.7557 - val_accuracy: 0.8500\n",
      "Epoch 256/512\n",
      "8/8 [==============================] - 0s 11ms/step - loss: 0.5850 - accuracy: 0.8354 - val_loss: 0.7521 - val_accuracy: 0.8500\n",
      "Epoch 257/512\n",
      "8/8 [==============================] - 0s 6ms/step - loss: 0.5806 - accuracy: 0.8523 - val_loss: 0.7508 - val_accuracy: 0.8333\n",
      "Epoch 258/512\n",
      "8/8 [==============================] - 0s 6ms/step - loss: 0.5812 - accuracy: 0.8397 - val_loss: 0.7498 - val_accuracy: 0.8333\n",
      "Epoch 259/512\n",
      "8/8 [==============================] - 0s 6ms/step - loss: 0.5774 - accuracy: 0.8481 - val_loss: 0.7442 - val_accuracy: 0.8500\n",
      "Epoch 260/512\n",
      "8/8 [==============================] - 0s 11ms/step - loss: 0.5161 - accuracy: 0.8312 - val_loss: 0.7395 - val_accuracy: 0.8500\n",
      "Epoch 261/512\n",
      "8/8 [==============================] - 0s 15ms/step - loss: 0.5762 - accuracy: 0.8312 - val_loss: 0.7380 - val_accuracy: 0.8500\n",
      "Epoch 262/512\n",
      "8/8 [==============================] - 0s 9ms/step - loss: 0.5675 - accuracy: 0.8397 - val_loss: 0.7353 - val_accuracy: 0.8500\n",
      "Epoch 263/512\n",
      "8/8 [==============================] - 0s 6ms/step - loss: 0.5831 - accuracy: 0.8397 - val_loss: 0.7349 - val_accuracy: 0.8500\n",
      "Epoch 264/512\n",
      "8/8 [==============================] - 0s 6ms/step - loss: 0.5658 - accuracy: 0.8439 - val_loss: 0.7345 - val_accuracy: 0.8500\n",
      "Epoch 265/512\n",
      "8/8 [==============================] - 0s 8ms/step - loss: 0.5666 - accuracy: 0.8523 - val_loss: 0.7331 - val_accuracy: 0.8500\n",
      "Epoch 266/512\n",
      "8/8 [==============================] - 0s 12ms/step - loss: 0.5663 - accuracy: 0.8481 - val_loss: 0.7358 - val_accuracy: 0.8500\n",
      "Epoch 267/512\n",
      "8/8 [==============================] - 0s 15ms/step - loss: 0.4978 - accuracy: 0.8439 - val_loss: 0.7337 - val_accuracy: 0.8167\n",
      "Epoch 268/512\n",
      "8/8 [==============================] - 0s 12ms/step - loss: 0.5695 - accuracy: 0.8397 - val_loss: 0.7301 - val_accuracy: 0.8167\n",
      "Epoch 269/512\n",
      "8/8 [==============================] - 0s 7ms/step - loss: 0.5704 - accuracy: 0.8354 - val_loss: 0.7275 - val_accuracy: 0.8167\n",
      "Epoch 270/512\n",
      "8/8 [==============================] - 0s 6ms/step - loss: 0.5212 - accuracy: 0.8481 - val_loss: 0.7411 - val_accuracy: 0.8500\n",
      "Epoch 271/512\n",
      "8/8 [==============================] - 0s 7ms/step - loss: 0.5586 - accuracy: 0.8397 - val_loss: 0.7376 - val_accuracy: 0.8500\n",
      "Epoch 272/512\n",
      "8/8 [==============================] - 0s 10ms/step - loss: 0.5489 - accuracy: 0.8397 - val_loss: 0.7317 - val_accuracy: 0.8500\n",
      "Epoch 273/512\n",
      "8/8 [==============================] - 0s 10ms/step - loss: 0.5499 - accuracy: 0.8439 - val_loss: 0.7259 - val_accuracy: 0.8500\n",
      "Epoch 274/512\n",
      "8/8 [==============================] - 0s 7ms/step - loss: 0.5255 - accuracy: 0.8650 - val_loss: 0.7277 - val_accuracy: 0.8500\n",
      "Epoch 275/512\n",
      "8/8 [==============================] - 0s 8ms/step - loss: 0.5425 - accuracy: 0.8523 - val_loss: 0.7251 - val_accuracy: 0.8500\n",
      "Epoch 276/512\n",
      "8/8 [==============================] - 0s 6ms/step - loss: 0.5394 - accuracy: 0.8481 - val_loss: 0.7222 - val_accuracy: 0.8500\n",
      "Epoch 277/512\n",
      "8/8 [==============================] - 0s 7ms/step - loss: 0.5484 - accuracy: 0.8523 - val_loss: 0.7219 - val_accuracy: 0.8333\n",
      "Epoch 278/512\n",
      "8/8 [==============================] - 0s 7ms/step - loss: 0.5719 - accuracy: 0.8439 - val_loss: 0.7205 - val_accuracy: 0.8500\n",
      "Epoch 279/512\n",
      "8/8 [==============================] - 0s 6ms/step - loss: 0.5646 - accuracy: 0.8565 - val_loss: 0.7184 - val_accuracy: 0.8500\n",
      "Epoch 280/512\n",
      "8/8 [==============================] - 0s 7ms/step - loss: 0.5401 - accuracy: 0.8608 - val_loss: 0.7169 - val_accuracy: 0.8500\n",
      "Epoch 281/512\n",
      "8/8 [==============================] - 0s 6ms/step - loss: 0.5592 - accuracy: 0.8481 - val_loss: 0.7158 - val_accuracy: 0.8500\n",
      "Epoch 282/512\n",
      "8/8 [==============================] - ETA: 0s - loss: 0.5831 - accuracy: 0.81 - 0s 6ms/step - loss: 0.4967 - accuracy: 0.8481 - val_loss: 0.7149 - val_accuracy: 0.8500\n",
      "Epoch 283/512\n",
      "8/8 [==============================] - 0s 6ms/step - loss: 0.5417 - accuracy: 0.8481 - val_loss: 0.7124 - val_accuracy: 0.8500\n",
      "Epoch 284/512\n",
      "8/8 [==============================] - 0s 6ms/step - loss: 0.5471 - accuracy: 0.8523 - val_loss: 0.7252 - val_accuracy: 0.8500\n",
      "Epoch 285/512\n",
      "8/8 [==============================] - 0s 6ms/step - loss: 0.5892 - accuracy: 0.8439 - val_loss: 0.7641 - val_accuracy: 0.8500\n",
      "Epoch 286/512\n",
      "8/8 [==============================] - 0s 7ms/step - loss: 0.5840 - accuracy: 0.8354 - val_loss: 0.7482 - val_accuracy: 0.8333\n",
      "Epoch 287/512\n",
      "8/8 [==============================] - 0s 6ms/step - loss: 0.5636 - accuracy: 0.8312 - val_loss: 0.7331 - val_accuracy: 0.8333\n",
      "Epoch 288/512\n",
      "8/8 [==============================] - 0s 6ms/step - loss: 0.5487 - accuracy: 0.8439 - val_loss: 0.7234 - val_accuracy: 0.8500\n",
      "Epoch 289/512\n",
      "8/8 [==============================] - 0s 6ms/step - loss: 0.5560 - accuracy: 0.8397 - val_loss: 0.7195 - val_accuracy: 0.8500\n",
      "Epoch 290/512\n",
      "8/8 [==============================] - 0s 6ms/step - loss: 0.5344 - accuracy: 0.8354 - val_loss: 0.7155 - val_accuracy: 0.8500\n"
     ]
    },
    {
     "name": "stdout",
     "output_type": "stream",
     "text": [
      "Epoch 291/512\n",
      "8/8 [==============================] - 0s 6ms/step - loss: 0.5442 - accuracy: 0.8439 - val_loss: 0.7108 - val_accuracy: 0.8500\n",
      "Epoch 292/512\n",
      "8/8 [==============================] - 0s 6ms/step - loss: 0.5346 - accuracy: 0.8397 - val_loss: 0.7061 - val_accuracy: 0.8500\n",
      "Epoch 293/512\n",
      "8/8 [==============================] - 0s 6ms/step - loss: 0.5403 - accuracy: 0.8481 - val_loss: 0.7027 - val_accuracy: 0.8500\n",
      "Epoch 294/512\n",
      "8/8 [==============================] - 0s 7ms/step - loss: 0.5766 - accuracy: 0.8565 - val_loss: 0.7009 - val_accuracy: 0.8500\n",
      "Epoch 295/512\n",
      "8/8 [==============================] - 0s 6ms/step - loss: 0.5504 - accuracy: 0.8481 - val_loss: 0.7039 - val_accuracy: 0.8500\n",
      "Epoch 296/512\n",
      "8/8 [==============================] - 0s 7ms/step - loss: 0.5466 - accuracy: 0.8397 - val_loss: 0.7016 - val_accuracy: 0.8500\n",
      "Epoch 297/512\n",
      "8/8 [==============================] - 0s 8ms/step - loss: 0.5277 - accuracy: 0.8523 - val_loss: 0.7009 - val_accuracy: 0.8500\n",
      "Epoch 298/512\n",
      "8/8 [==============================] - 0s 7ms/step - loss: 0.5336 - accuracy: 0.8439 - val_loss: 0.7036 - val_accuracy: 0.8500\n",
      "Epoch 299/512\n",
      "8/8 [==============================] - 0s 7ms/step - loss: 0.5379 - accuracy: 0.8439 - val_loss: 0.7049 - val_accuracy: 0.8500\n",
      "Epoch 300/512\n",
      "8/8 [==============================] - 0s 6ms/step - loss: 0.5018 - accuracy: 0.8354 - val_loss: 0.7162 - val_accuracy: 0.8500\n",
      "Epoch 301/512\n",
      "8/8 [==============================] - 0s 5ms/step - loss: 0.5463 - accuracy: 0.8523 - val_loss: 0.7124 - val_accuracy: 0.8500\n",
      "Epoch 302/512\n",
      "8/8 [==============================] - 0s 6ms/step - loss: 0.5447 - accuracy: 0.8481 - val_loss: 0.7094 - val_accuracy: 0.8500\n",
      "Epoch 303/512\n",
      "8/8 [==============================] - 0s 11ms/step - loss: 0.5332 - accuracy: 0.8565 - val_loss: 0.7041 - val_accuracy: 0.8500\n",
      "Epoch 304/512\n",
      "8/8 [==============================] - 0s 13ms/step - loss: 0.5146 - accuracy: 0.8481 - val_loss: 0.7006 - val_accuracy: 0.8500\n",
      "Epoch 305/512\n",
      "8/8 [==============================] - 0s 7ms/step - loss: 0.4742 - accuracy: 0.8523 - val_loss: 0.7001 - val_accuracy: 0.8500\n",
      "Epoch 306/512\n",
      "8/8 [==============================] - 0s 6ms/step - loss: 0.5325 - accuracy: 0.8439 - val_loss: 0.7000 - val_accuracy: 0.8500\n",
      "Epoch 307/512\n",
      "8/8 [==============================] - 0s 6ms/step - loss: 0.5435 - accuracy: 0.8481 - val_loss: 0.6996 - val_accuracy: 0.8500\n",
      "Epoch 308/512\n",
      "8/8 [==============================] - 0s 7ms/step - loss: 0.4806 - accuracy: 0.8481 - val_loss: 0.6993 - val_accuracy: 0.8500\n",
      "Epoch 309/512\n",
      "8/8 [==============================] - 0s 8ms/step - loss: 0.4902 - accuracy: 0.8523 - val_loss: 0.7031 - val_accuracy: 0.8333\n",
      "Epoch 310/512\n",
      "8/8 [==============================] - 0s 8ms/step - loss: 0.5398 - accuracy: 0.8481 - val_loss: 0.7053 - val_accuracy: 0.8333\n",
      "Epoch 311/512\n",
      "8/8 [==============================] - 0s 6ms/step - loss: 0.5421 - accuracy: 0.8481 - val_loss: 0.7034 - val_accuracy: 0.8500\n",
      "Epoch 312/512\n",
      "8/8 [==============================] - 0s 6ms/step - loss: 0.4892 - accuracy: 0.8523 - val_loss: 0.7075 - val_accuracy: 0.8500\n",
      "Epoch 313/512\n",
      "8/8 [==============================] - 0s 6ms/step - loss: 0.5316 - accuracy: 0.8439 - val_loss: 0.7156 - val_accuracy: 0.8667\n",
      "Epoch 314/512\n",
      "8/8 [==============================] - 0s 6ms/step - loss: 0.5442 - accuracy: 0.8354 - val_loss: 0.7078 - val_accuracy: 0.8500\n",
      "Epoch 315/512\n",
      "8/8 [==============================] - 0s 6ms/step - loss: 0.5464 - accuracy: 0.8397 - val_loss: 0.7083 - val_accuracy: 0.8500\n",
      "Epoch 316/512\n",
      "8/8 [==============================] - 0s 7ms/step - loss: 0.5378 - accuracy: 0.8397 - val_loss: 0.7012 - val_accuracy: 0.8500\n",
      "Epoch 317/512\n",
      "8/8 [==============================] - 0s 7ms/step - loss: 0.5305 - accuracy: 0.8397 - val_loss: 0.6997 - val_accuracy: 0.8500\n",
      "Epoch 318/512\n",
      "8/8 [==============================] - 0s 6ms/step - loss: 0.5271 - accuracy: 0.8312 - val_loss: 0.6995 - val_accuracy: 0.8167\n",
      "Epoch 319/512\n",
      "8/8 [==============================] - 0s 6ms/step - loss: 0.5344 - accuracy: 0.8397 - val_loss: 0.6964 - val_accuracy: 0.8333\n",
      "Epoch 320/512\n",
      "8/8 [==============================] - 0s 5ms/step - loss: 0.5306 - accuracy: 0.8397 - val_loss: 0.6944 - val_accuracy: 0.8167\n",
      "Epoch 321/512\n",
      "8/8 [==============================] - 0s 6ms/step - loss: 0.4747 - accuracy: 0.8439 - val_loss: 0.6938 - val_accuracy: 0.8167\n",
      "Epoch 322/512\n",
      "8/8 [==============================] - 0s 7ms/step - loss: 0.5251 - accuracy: 0.8354 - val_loss: 0.6911 - val_accuracy: 0.8500\n",
      "Epoch 323/512\n",
      "8/8 [==============================] - 0s 6ms/step - loss: 0.4726 - accuracy: 0.8312 - val_loss: 0.6997 - val_accuracy: 0.8167\n",
      "Epoch 324/512\n",
      "8/8 [==============================] - 0s 6ms/step - loss: 0.5321 - accuracy: 0.8439 - val_loss: 0.6955 - val_accuracy: 0.8333\n",
      "Epoch 325/512\n",
      "8/8 [==============================] - 0s 6ms/step - loss: 0.4733 - accuracy: 0.8397 - val_loss: 0.6940 - val_accuracy: 0.8500\n",
      "Epoch 326/512\n",
      "8/8 [==============================] - 0s 6ms/step - loss: 0.5244 - accuracy: 0.8481 - val_loss: 0.6950 - val_accuracy: 0.8500\n",
      "Epoch 327/512\n",
      "8/8 [==============================] - 0s 6ms/step - loss: 0.4704 - accuracy: 0.8481 - val_loss: 0.6957 - val_accuracy: 0.8500\n",
      "Epoch 328/512\n",
      "8/8 [==============================] - 0s 6ms/step - loss: 0.5178 - accuracy: 0.8481 - val_loss: 0.6980 - val_accuracy: 0.8333\n",
      "Epoch 329/512\n",
      "8/8 [==============================] - 0s 6ms/step - loss: 0.5157 - accuracy: 0.8397 - val_loss: 0.6961 - val_accuracy: 0.8333\n",
      "Epoch 330/512\n",
      "8/8 [==============================] - 0s 6ms/step - loss: 0.5013 - accuracy: 0.8481 - val_loss: 0.6946 - val_accuracy: 0.8333\n",
      "Epoch 331/512\n",
      "8/8 [==============================] - 0s 6ms/step - loss: 0.5331 - accuracy: 0.8481 - val_loss: 0.6923 - val_accuracy: 0.8500\n",
      "Epoch 332/512\n",
      "8/8 [==============================] - 0s 5ms/step - loss: 0.5332 - accuracy: 0.8312 - val_loss: 0.6969 - val_accuracy: 0.8500\n",
      "Epoch 333/512\n",
      "8/8 [==============================] - 0s 6ms/step - loss: 0.5405 - accuracy: 0.8397 - val_loss: 0.6959 - val_accuracy: 0.8500\n",
      "Epoch 334/512\n",
      "8/8 [==============================] - 0s 6ms/step - loss: 0.4560 - accuracy: 0.8397 - val_loss: 0.6940 - val_accuracy: 0.8500\n",
      "Epoch 335/512\n",
      "8/8 [==============================] - 0s 5ms/step - loss: 0.5200 - accuracy: 0.8439 - val_loss: 0.6917 - val_accuracy: 0.8500\n",
      "Epoch 336/512\n",
      "8/8 [==============================] - 0s 6ms/step - loss: 0.4671 - accuracy: 0.8439 - val_loss: 0.6921 - val_accuracy: 0.8500\n",
      "Epoch 337/512\n",
      "8/8 [==============================] - 0s 6ms/step - loss: 0.5340 - accuracy: 0.8523 - val_loss: 0.6980 - val_accuracy: 0.8333\n",
      "Epoch 338/512\n",
      "8/8 [==============================] - 0s 6ms/step - loss: 0.5350 - accuracy: 0.8397 - val_loss: 0.6950 - val_accuracy: 0.8500\n",
      "Epoch 339/512\n",
      "8/8 [==============================] - 0s 6ms/step - loss: 0.5347 - accuracy: 0.8354 - val_loss: 0.6949 - val_accuracy: 0.8333\n",
      "Epoch 340/512\n",
      "8/8 [==============================] - 0s 6ms/step - loss: 0.4655 - accuracy: 0.8397 - val_loss: 0.6931 - val_accuracy: 0.8500\n",
      "Epoch 341/512\n",
      "8/8 [==============================] - 0s 6ms/step - loss: 0.5301 - accuracy: 0.8481 - val_loss: 0.6909 - val_accuracy: 0.8500\n",
      "Epoch 342/512\n",
      "8/8 [==============================] - 0s 6ms/step - loss: 0.5080 - accuracy: 0.8481 - val_loss: 0.6883 - val_accuracy: 0.8500\n",
      "Epoch 343/512\n",
      "8/8 [==============================] - 0s 7ms/step - loss: 0.5175 - accuracy: 0.8481 - val_loss: 0.6897 - val_accuracy: 0.8500\n",
      "Epoch 344/512\n",
      "8/8 [==============================] - 0s 5ms/step - loss: 0.5141 - accuracy: 0.8481 - val_loss: 0.6965 - val_accuracy: 0.8500\n",
      "Epoch 345/512\n",
      "8/8 [==============================] - 0s 6ms/step - loss: 0.5088 - accuracy: 0.8397 - val_loss: 0.6934 - val_accuracy: 0.8500\n",
      "Epoch 346/512\n",
      "8/8 [==============================] - 0s 6ms/step - loss: 0.5107 - accuracy: 0.8481 - val_loss: 0.6908 - val_accuracy: 0.8500\n",
      "Epoch 347/512\n",
      "8/8 [==============================] - 0s 5ms/step - loss: 0.5260 - accuracy: 0.8397 - val_loss: 0.6875 - val_accuracy: 0.8500\n",
      "Epoch 348/512\n",
      "8/8 [==============================] - 0s 9ms/step - loss: 0.5175 - accuracy: 0.8439 - val_loss: 0.6876 - val_accuracy: 0.8500\n",
      "Epoch 349/512\n"
     ]
    },
    {
     "name": "stdout",
     "output_type": "stream",
     "text": [
      "8/8 [==============================] - 0s 6ms/step - loss: 0.5280 - accuracy: 0.8439 - val_loss: 0.6852 - val_accuracy: 0.8500\n",
      "Epoch 350/512\n",
      "8/8 [==============================] - 0s 6ms/step - loss: 0.4597 - accuracy: 0.8481 - val_loss: 0.6860 - val_accuracy: 0.8500\n",
      "Epoch 351/512\n",
      "8/8 [==============================] - 0s 6ms/step - loss: 0.4979 - accuracy: 0.8565 - val_loss: 0.6838 - val_accuracy: 0.8333\n",
      "Epoch 352/512\n",
      "8/8 [==============================] - 0s 5ms/step - loss: 0.4925 - accuracy: 0.8354 - val_loss: 0.7126 - val_accuracy: 0.8000\n",
      "Epoch 353/512\n",
      "8/8 [==============================] - 0s 5ms/step - loss: 0.5839 - accuracy: 0.8481 - val_loss: 0.7011 - val_accuracy: 0.8333\n",
      "Epoch 354/512\n",
      "8/8 [==============================] - 0s 5ms/step - loss: 0.5312 - accuracy: 0.8439 - val_loss: 0.7022 - val_accuracy: 0.8500\n",
      "Epoch 355/512\n",
      "8/8 [==============================] - 0s 6ms/step - loss: 0.5396 - accuracy: 0.8439 - val_loss: 0.7054 - val_accuracy: 0.8500\n",
      "Epoch 356/512\n",
      "8/8 [==============================] - 0s 6ms/step - loss: 0.5238 - accuracy: 0.8397 - val_loss: 0.7004 - val_accuracy: 0.8500\n",
      "Epoch 357/512\n",
      "8/8 [==============================] - 0s 5ms/step - loss: 0.5267 - accuracy: 0.8481 - val_loss: 0.6961 - val_accuracy: 0.8500\n",
      "Epoch 358/512\n",
      "8/8 [==============================] - 0s 6ms/step - loss: 0.4688 - accuracy: 0.8397 - val_loss: 0.6922 - val_accuracy: 0.8500\n",
      "Epoch 359/512\n",
      "8/8 [==============================] - 0s 6ms/step - loss: 0.5231 - accuracy: 0.8565 - val_loss: 0.6888 - val_accuracy: 0.8500\n",
      "Epoch 360/512\n",
      "8/8 [==============================] - 0s 7ms/step - loss: 0.5244 - accuracy: 0.8523 - val_loss: 0.6880 - val_accuracy: 0.8500\n",
      "Epoch 361/512\n",
      "8/8 [==============================] - 0s 6ms/step - loss: 0.4938 - accuracy: 0.8397 - val_loss: 0.6858 - val_accuracy: 0.8500\n",
      "Epoch 362/512\n",
      "8/8 [==============================] - 0s 7ms/step - loss: 0.5137 - accuracy: 0.8397 - val_loss: 0.6893 - val_accuracy: 0.8500\n",
      "Epoch 363/512\n",
      "8/8 [==============================] - 0s 6ms/step - loss: 0.5000 - accuracy: 0.8439 - val_loss: 0.6876 - val_accuracy: 0.8500\n",
      "Epoch 364/512\n",
      "8/8 [==============================] - 0s 7ms/step - loss: 0.6208 - accuracy: 0.8523 - val_loss: 0.6875 - val_accuracy: 0.8500\n",
      "Epoch 365/512\n",
      "8/8 [==============================] - 0s 7ms/step - loss: 0.5103 - accuracy: 0.8565 - val_loss: 0.6872 - val_accuracy: 0.8500\n",
      "Epoch 366/512\n",
      "8/8 [==============================] - 0s 7ms/step - loss: 0.5139 - accuracy: 0.8481 - val_loss: 0.6831 - val_accuracy: 0.8500\n",
      "Epoch 367/512\n",
      "8/8 [==============================] - 0s 7ms/step - loss: 0.4574 - accuracy: 0.8354 - val_loss: 0.6834 - val_accuracy: 0.8500\n",
      "Epoch 368/512\n",
      "8/8 [==============================] - 0s 6ms/step - loss: 0.4900 - accuracy: 0.8439 - val_loss: 0.6857 - val_accuracy: 0.8500\n",
      "Epoch 369/512\n",
      "8/8 [==============================] - 0s 7ms/step - loss: 0.5018 - accuracy: 0.8397 - val_loss: 0.6875 - val_accuracy: 0.8500\n",
      "Epoch 370/512\n",
      "8/8 [==============================] - 0s 6ms/step - loss: 0.5026 - accuracy: 0.8439 - val_loss: 0.6879 - val_accuracy: 0.8500\n",
      "Epoch 371/512\n",
      "8/8 [==============================] - 0s 7ms/step - loss: 0.5180 - accuracy: 0.8565 - val_loss: 0.6904 - val_accuracy: 0.8500\n",
      "Epoch 372/512\n",
      "8/8 [==============================] - 0s 7ms/step - loss: 0.5167 - accuracy: 0.8523 - val_loss: 0.6868 - val_accuracy: 0.8500\n",
      "Epoch 373/512\n",
      "8/8 [==============================] - 0s 10ms/step - loss: 0.5097 - accuracy: 0.8481 - val_loss: 0.6842 - val_accuracy: 0.8500\n",
      "Epoch 374/512\n",
      "8/8 [==============================] - 0s 13ms/step - loss: 0.5190 - accuracy: 0.8439 - val_loss: 0.6838 - val_accuracy: 0.8500\n",
      "Epoch 375/512\n",
      "8/8 [==============================] - 0s 14ms/step - loss: 0.5160 - accuracy: 0.8439 - val_loss: 0.6834 - val_accuracy: 0.8500\n",
      "Epoch 376/512\n",
      "8/8 [==============================] - 0s 10ms/step - loss: 0.5117 - accuracy: 0.8565 - val_loss: 0.6801 - val_accuracy: 0.8500\n",
      "Epoch 377/512\n",
      "8/8 [==============================] - 0s 6ms/step - loss: 0.5378 - accuracy: 0.8354 - val_loss: 0.7705 - val_accuracy: 0.8333\n",
      "Epoch 378/512\n",
      "8/8 [==============================] - 0s 6ms/step - loss: 0.6264 - accuracy: 0.8228 - val_loss: 0.7966 - val_accuracy: 0.8500\n",
      "Epoch 379/512\n",
      "8/8 [==============================] - 0s 6ms/step - loss: 0.5644 - accuracy: 0.8565 - val_loss: 0.7986 - val_accuracy: 0.8167\n",
      "Epoch 380/512\n",
      "8/8 [==============================] - 0s 6ms/step - loss: 0.5370 - accuracy: 0.8523 - val_loss: 0.7658 - val_accuracy: 0.8167\n",
      "Epoch 381/512\n",
      "8/8 [==============================] - 0s 6ms/step - loss: 0.5662 - accuracy: 0.8354 - val_loss: 0.7313 - val_accuracy: 0.8333\n",
      "Epoch 382/512\n",
      "8/8 [==============================] - 0s 6ms/step - loss: 0.5409 - accuracy: 0.8354 - val_loss: 0.7145 - val_accuracy: 0.8333\n",
      "Epoch 383/512\n",
      "8/8 [==============================] - 0s 6ms/step - loss: 0.5313 - accuracy: 0.8523 - val_loss: 0.7036 - val_accuracy: 0.8333\n",
      "Epoch 384/512\n",
      "8/8 [==============================] - 0s 7ms/step - loss: 0.5182 - accuracy: 0.8439 - val_loss: 0.6987 - val_accuracy: 0.8333\n",
      "Epoch 385/512\n",
      "8/8 [==============================] - 0s 6ms/step - loss: 0.5211 - accuracy: 0.8439 - val_loss: 0.6952 - val_accuracy: 0.8333\n",
      "Epoch 386/512\n",
      "8/8 [==============================] - 0s 6ms/step - loss: 0.5218 - accuracy: 0.8523 - val_loss: 0.6956 - val_accuracy: 0.8333\n",
      "Epoch 387/512\n",
      "8/8 [==============================] - 0s 7ms/step - loss: 0.5194 - accuracy: 0.8439 - val_loss: 0.6925 - val_accuracy: 0.8500\n",
      "Epoch 388/512\n",
      "8/8 [==============================] - 0s 6ms/step - loss: 0.4999 - accuracy: 0.8481 - val_loss: 0.6887 - val_accuracy: 0.8500\n",
      "Epoch 389/512\n",
      "8/8 [==============================] - 0s 6ms/step - loss: 0.5791 - accuracy: 0.8354 - val_loss: 0.6878 - val_accuracy: 0.8500\n",
      "Epoch 390/512\n",
      "8/8 [==============================] - 0s 7ms/step - loss: 0.4510 - accuracy: 0.8439 - val_loss: 0.6894 - val_accuracy: 0.8500\n",
      "Epoch 391/512\n",
      "8/8 [==============================] - 0s 6ms/step - loss: 0.4966 - accuracy: 0.8397 - val_loss: 0.6893 - val_accuracy: 0.8500\n",
      "Epoch 392/512\n",
      "8/8 [==============================] - 0s 6ms/step - loss: 0.5043 - accuracy: 0.8481 - val_loss: 0.6863 - val_accuracy: 0.8500\n",
      "Epoch 393/512\n",
      "8/8 [==============================] - 0s 6ms/step - loss: 0.4955 - accuracy: 0.8439 - val_loss: 0.6842 - val_accuracy: 0.8500\n",
      "Epoch 394/512\n",
      "8/8 [==============================] - 0s 6ms/step - loss: 0.5196 - accuracy: 0.8439 - val_loss: 0.6856 - val_accuracy: 0.8500\n",
      "Epoch 395/512\n",
      "8/8 [==============================] - 0s 6ms/step - loss: 0.5317 - accuracy: 0.8397 - val_loss: 0.6841 - val_accuracy: 0.8500\n",
      "Epoch 396/512\n",
      "8/8 [==============================] - 0s 7ms/step - loss: 0.6015 - accuracy: 0.8017 - val_loss: 0.9290 - val_accuracy: 0.7167\n",
      "Epoch 397/512\n",
      "8/8 [==============================] - 0s 6ms/step - loss: 0.7300 - accuracy: 0.7426 - val_loss: 0.6893 - val_accuracy: 0.7667\n",
      "Epoch 398/512\n",
      "8/8 [==============================] - 0s 7ms/step - loss: 0.6128 - accuracy: 0.7932 - val_loss: 0.6179 - val_accuracy: 0.7833\n",
      "Epoch 399/512\n",
      "8/8 [==============================] - 0s 6ms/step - loss: 0.5492 - accuracy: 0.8565 - val_loss: 0.5926 - val_accuracy: 0.8333\n",
      "Epoch 400/512\n",
      "8/8 [==============================] - 0s 6ms/step - loss: 0.5750 - accuracy: 0.8481 - val_loss: 0.7379 - val_accuracy: 0.8500\n",
      "Epoch 401/512\n",
      "8/8 [==============================] - 0s 6ms/step - loss: 0.6020 - accuracy: 0.8523 - val_loss: 0.7171 - val_accuracy: 0.8500\n",
      "Epoch 402/512\n",
      "8/8 [==============================] - 0s 6ms/step - loss: 0.5258 - accuracy: 0.8481 - val_loss: 0.7048 - val_accuracy: 0.8500\n",
      "Epoch 403/512\n",
      "8/8 [==============================] - 0s 7ms/step - loss: 0.4614 - accuracy: 0.8481 - val_loss: 0.6959 - val_accuracy: 0.8500\n",
      "Epoch 404/512\n",
      "8/8 [==============================] - 0s 6ms/step - loss: 0.5026 - accuracy: 0.8481 - val_loss: 0.6918 - val_accuracy: 0.8500\n",
      "Epoch 405/512\n",
      "8/8 [==============================] - 0s 7ms/step - loss: 0.5693 - accuracy: 0.8565 - val_loss: 0.6873 - val_accuracy: 0.8500\n",
      "Epoch 406/512\n",
      "8/8 [==============================] - 0s 6ms/step - loss: 0.5811 - accuracy: 0.8397 - val_loss: 0.6845 - val_accuracy: 0.8333\n",
      "Epoch 407/512\n"
     ]
    },
    {
     "name": "stdout",
     "output_type": "stream",
     "text": [
      "8/8 [==============================] - 0s 7ms/step - loss: 0.5170 - accuracy: 0.8608 - val_loss: 0.6811 - val_accuracy: 0.8500\n",
      "Epoch 408/512\n",
      "8/8 [==============================] - 0s 6ms/step - loss: 0.5254 - accuracy: 0.8312 - val_loss: 0.6813 - val_accuracy: 0.8500\n",
      "Epoch 409/512\n",
      "8/8 [==============================] - 0s 6ms/step - loss: 0.4649 - accuracy: 0.8523 - val_loss: 0.6839 - val_accuracy: 0.8500\n",
      "Epoch 410/512\n",
      "8/8 [==============================] - 0s 6ms/step - loss: 0.5220 - accuracy: 0.8481 - val_loss: 0.6790 - val_accuracy: 0.8500\n",
      "Epoch 411/512\n",
      "8/8 [==============================] - 0s 6ms/step - loss: 0.4451 - accuracy: 0.8523 - val_loss: 0.6792 - val_accuracy: 0.8500\n",
      "Epoch 412/512\n",
      "8/8 [==============================] - 0s 6ms/step - loss: 0.5050 - accuracy: 0.8439 - val_loss: 0.6780 - val_accuracy: 0.8500\n",
      "Epoch 413/512\n",
      "8/8 [==============================] - 0s 6ms/step - loss: 0.5240 - accuracy: 0.8523 - val_loss: 0.6751 - val_accuracy: 0.8500\n",
      "Epoch 414/512\n",
      "8/8 [==============================] - 0s 6ms/step - loss: 0.5027 - accuracy: 0.8354 - val_loss: 0.6728 - val_accuracy: 0.8500\n",
      "Epoch 415/512\n",
      "8/8 [==============================] - 0s 7ms/step - loss: 0.4981 - accuracy: 0.8354 - val_loss: 0.6736 - val_accuracy: 0.8500\n",
      "Epoch 416/512\n",
      "8/8 [==============================] - 0s 6ms/step - loss: 0.5091 - accuracy: 0.8397 - val_loss: 0.6750 - val_accuracy: 0.8500\n",
      "Epoch 417/512\n",
      "8/8 [==============================] - 0s 6ms/step - loss: 0.5115 - accuracy: 0.8523 - val_loss: 0.6749 - val_accuracy: 0.8500\n",
      "Epoch 418/512\n",
      "8/8 [==============================] - 0s 5ms/step - loss: 0.5080 - accuracy: 0.8397 - val_loss: 0.6738 - val_accuracy: 0.8500\n",
      "Epoch 419/512\n",
      "8/8 [==============================] - 0s 6ms/step - loss: 0.5027 - accuracy: 0.8565 - val_loss: 0.6769 - val_accuracy: 0.8500\n",
      "Epoch 420/512\n",
      "8/8 [==============================] - 0s 6ms/step - loss: 0.4611 - accuracy: 0.8397 - val_loss: 0.6802 - val_accuracy: 0.8500\n",
      "Epoch 421/512\n",
      "8/8 [==============================] - 0s 6ms/step - loss: 0.5180 - accuracy: 0.8565 - val_loss: 0.6877 - val_accuracy: 0.8333\n",
      "Epoch 422/512\n",
      "8/8 [==============================] - 0s 10ms/step - loss: 0.5059 - accuracy: 0.8481 - val_loss: 0.6833 - val_accuracy: 0.8500\n",
      "Epoch 423/512\n",
      "8/8 [==============================] - 0s 11ms/step - loss: 0.4923 - accuracy: 0.8523 - val_loss: 0.7089 - val_accuracy: 0.8167\n",
      "Epoch 424/512\n",
      "8/8 [==============================] - 0s 14ms/step - loss: 0.4756 - accuracy: 0.8481 - val_loss: 0.7012 - val_accuracy: 0.8167\n",
      "Epoch 425/512\n",
      "8/8 [==============================] - 0s 9ms/step - loss: 0.4648 - accuracy: 0.8481 - val_loss: 0.6915 - val_accuracy: 0.8333\n",
      "Epoch 426/512\n",
      "8/8 [==============================] - 0s 6ms/step - loss: 0.5244 - accuracy: 0.8481 - val_loss: 0.6851 - val_accuracy: 0.8500\n",
      "Epoch 427/512\n",
      "8/8 [==============================] - 0s 7ms/step - loss: 0.5197 - accuracy: 0.8439 - val_loss: 0.6802 - val_accuracy: 0.8500\n",
      "Epoch 428/512\n",
      "8/8 [==============================] - 0s 6ms/step - loss: 0.5064 - accuracy: 0.8565 - val_loss: 0.6756 - val_accuracy: 0.8500\n",
      "Epoch 429/512\n",
      "8/8 [==============================] - 0s 6ms/step - loss: 0.5198 - accuracy: 0.8523 - val_loss: 0.6712 - val_accuracy: 0.8500\n",
      "Epoch 430/512\n",
      "8/8 [==============================] - 0s 6ms/step - loss: 0.5017 - accuracy: 0.8439 - val_loss: 0.6709 - val_accuracy: 0.8500\n",
      "Epoch 431/512\n",
      "8/8 [==============================] - 0s 7ms/step - loss: 0.5126 - accuracy: 0.8439 - val_loss: 0.6704 - val_accuracy: 0.8500\n",
      "Epoch 432/512\n",
      "8/8 [==============================] - 0s 5ms/step - loss: 0.4700 - accuracy: 0.8439 - val_loss: 0.6756 - val_accuracy: 0.8500\n",
      "Epoch 433/512\n",
      "8/8 [==============================] - 0s 6ms/step - loss: 0.5066 - accuracy: 0.8439 - val_loss: 0.6802 - val_accuracy: 0.8500\n",
      "Epoch 434/512\n",
      "8/8 [==============================] - 0s 6ms/step - loss: 0.5071 - accuracy: 0.8270 - val_loss: 0.6796 - val_accuracy: 0.8500\n",
      "Epoch 435/512\n",
      "8/8 [==============================] - 0s 6ms/step - loss: 0.4723 - accuracy: 0.8397 - val_loss: 0.6814 - val_accuracy: 0.8500\n",
      "Epoch 436/512\n",
      "8/8 [==============================] - 0s 6ms/step - loss: 0.5065 - accuracy: 0.8397 - val_loss: 0.6781 - val_accuracy: 0.8500\n",
      "Epoch 437/512\n",
      "8/8 [==============================] - 0s 6ms/step - loss: 0.4534 - accuracy: 0.8439 - val_loss: 0.6814 - val_accuracy: 0.8500\n",
      "Epoch 438/512\n",
      "8/8 [==============================] - 0s 6ms/step - loss: 0.5257 - accuracy: 0.8397 - val_loss: 0.6808 - val_accuracy: 0.8500\n",
      "Epoch 439/512\n",
      "8/8 [==============================] - 0s 6ms/step - loss: 0.5199 - accuracy: 0.8354 - val_loss: 0.6829 - val_accuracy: 0.8167\n",
      "Epoch 440/512\n",
      "8/8 [==============================] - 0s 7ms/step - loss: 0.5010 - accuracy: 0.8397 - val_loss: 0.6768 - val_accuracy: 0.8500\n",
      "Epoch 441/512\n",
      "8/8 [==============================] - 0s 6ms/step - loss: 0.4503 - accuracy: 0.8354 - val_loss: 0.6736 - val_accuracy: 0.8500\n",
      "Epoch 442/512\n",
      "8/8 [==============================] - 0s 6ms/step - loss: 0.5101 - accuracy: 0.8354 - val_loss: 0.6753 - val_accuracy: 0.8500\n",
      "Epoch 443/512\n",
      "8/8 [==============================] - 0s 6ms/step - loss: 0.5092 - accuracy: 0.8439 - val_loss: 0.6732 - val_accuracy: 0.8500\n",
      "Epoch 444/512\n",
      "8/8 [==============================] - 0s 6ms/step - loss: 0.5138 - accuracy: 0.8523 - val_loss: 0.6738 - val_accuracy: 0.8500\n",
      "Epoch 445/512\n",
      "8/8 [==============================] - 0s 6ms/step - loss: 0.5023 - accuracy: 0.8439 - val_loss: 0.6739 - val_accuracy: 0.8500\n",
      "Epoch 446/512\n",
      "8/8 [==============================] - 0s 6ms/step - loss: 0.5411 - accuracy: 0.8481 - val_loss: 0.7042 - val_accuracy: 0.8333\n",
      "Epoch 447/512\n",
      "8/8 [==============================] - 0s 6ms/step - loss: 0.5358 - accuracy: 0.8270 - val_loss: 0.6949 - val_accuracy: 0.8500\n",
      "Epoch 448/512\n",
      "8/8 [==============================] - 0s 6ms/step - loss: 0.5303 - accuracy: 0.8354 - val_loss: 0.6878 - val_accuracy: 0.8500\n",
      "Epoch 449/512\n",
      "8/8 [==============================] - 0s 7ms/step - loss: 0.5374 - accuracy: 0.8312 - val_loss: 0.6867 - val_accuracy: 0.8167\n",
      "Epoch 450/512\n",
      "8/8 [==============================] - 0s 6ms/step - loss: 0.5212 - accuracy: 0.8143 - val_loss: 0.6785 - val_accuracy: 0.8167\n",
      "Epoch 451/512\n",
      "8/8 [==============================] - 0s 6ms/step - loss: 0.5152 - accuracy: 0.8228 - val_loss: 0.6741 - val_accuracy: 0.8500\n",
      "Epoch 452/512\n",
      "8/8 [==============================] - 0s 6ms/step - loss: 0.5078 - accuracy: 0.8397 - val_loss: 0.6729 - val_accuracy: 0.8333\n",
      "Epoch 453/512\n",
      "8/8 [==============================] - 0s 9ms/step - loss: 0.5142 - accuracy: 0.8354 - val_loss: 0.6743 - val_accuracy: 0.8333\n",
      "Epoch 454/512\n",
      "8/8 [==============================] - 0s 7ms/step - loss: 0.4239 - accuracy: 0.8354 - val_loss: 0.6731 - val_accuracy: 0.8333\n",
      "Epoch 455/512\n",
      "8/8 [==============================] - 0s 6ms/step - loss: 0.4908 - accuracy: 0.8354 - val_loss: 0.6722 - val_accuracy: 0.8500\n",
      "Epoch 456/512\n",
      "8/8 [==============================] - 0s 6ms/step - loss: 0.4985 - accuracy: 0.8523 - val_loss: 0.6745 - val_accuracy: 0.8500\n",
      "Epoch 457/512\n",
      "8/8 [==============================] - 0s 6ms/step - loss: 0.5095 - accuracy: 0.8481 - val_loss: 0.6771 - val_accuracy: 0.8500\n",
      "Epoch 458/512\n",
      "8/8 [==============================] - 0s 6ms/step - loss: 0.5030 - accuracy: 0.8312 - val_loss: 0.6823 - val_accuracy: 0.8167\n",
      "Epoch 459/512\n",
      "8/8 [==============================] - 0s 7ms/step - loss: 0.5269 - accuracy: 0.8312 - val_loss: 0.6831 - val_accuracy: 0.8333\n",
      "Epoch 460/512\n",
      "8/8 [==============================] - 0s 7ms/step - loss: 0.4534 - accuracy: 0.8397 - val_loss: 0.6825 - val_accuracy: 0.8500\n",
      "Epoch 461/512\n",
      "8/8 [==============================] - 0s 6ms/step - loss: 0.5166 - accuracy: 0.8523 - val_loss: 0.6775 - val_accuracy: 0.8500\n",
      "Epoch 462/512\n",
      "8/8 [==============================] - 0s 6ms/step - loss: 0.5007 - accuracy: 0.8439 - val_loss: 0.6725 - val_accuracy: 0.8500\n",
      "Epoch 463/512\n",
      "8/8 [==============================] - 0s 6ms/step - loss: 0.4547 - accuracy: 0.8481 - val_loss: 0.6718 - val_accuracy: 0.8333\n",
      "Epoch 464/512\n",
      "8/8 [==============================] - 0s 6ms/step - loss: 0.5117 - accuracy: 0.8354 - val_loss: 0.6709 - val_accuracy: 0.8167\n",
      "Epoch 465/512\n"
     ]
    },
    {
     "name": "stdout",
     "output_type": "stream",
     "text": [
      "8/8 [==============================] - 0s 7ms/step - loss: 0.5005 - accuracy: 0.8523 - val_loss: 0.6691 - val_accuracy: 0.8500\n",
      "Epoch 466/512\n",
      "8/8 [==============================] - 0s 8ms/step - loss: 0.5019 - accuracy: 0.8565 - val_loss: 0.6696 - val_accuracy: 0.8500\n",
      "Epoch 467/512\n",
      "8/8 [==============================] - 0s 11ms/step - loss: 0.5056 - accuracy: 0.8439 - val_loss: 0.6719 - val_accuracy: 0.8500\n",
      "Epoch 468/512\n",
      "8/8 [==============================] - 0s 13ms/step - loss: 0.4542 - accuracy: 0.8481 - val_loss: 0.6735 - val_accuracy: 0.8333\n",
      "Epoch 469/512\n",
      "8/8 [==============================] - 0s 11ms/step - loss: 0.5078 - accuracy: 0.8354 - val_loss: 0.6721 - val_accuracy: 0.8333\n",
      "Epoch 470/512\n",
      "8/8 [==============================] - 0s 8ms/step - loss: 0.4934 - accuracy: 0.8523 - val_loss: 0.6689 - val_accuracy: 0.8500\n",
      "Epoch 471/512\n",
      "8/8 [==============================] - 0s 8ms/step - loss: 0.5136 - accuracy: 0.8439 - val_loss: 0.6656 - val_accuracy: 0.8500\n",
      "Epoch 472/512\n",
      "8/8 [==============================] - 0s 12ms/step - loss: 0.4876 - accuracy: 0.8439 - val_loss: 0.6658 - val_accuracy: 0.8333\n",
      "Epoch 473/512\n",
      "8/8 [==============================] - 0s 13ms/step - loss: 0.5071 - accuracy: 0.8397 - val_loss: 0.6626 - val_accuracy: 0.8333\n",
      "Epoch 474/512\n",
      "8/8 [==============================] - 0s 7ms/step - loss: 0.5184 - accuracy: 0.8354 - val_loss: 0.6695 - val_accuracy: 0.8500\n",
      "Epoch 475/512\n",
      "8/8 [==============================] - 0s 7ms/step - loss: 0.5081 - accuracy: 0.8397 - val_loss: 0.6708 - val_accuracy: 0.8500\n",
      "Epoch 476/512\n",
      "8/8 [==============================] - 0s 8ms/step - loss: 0.5044 - accuracy: 0.8481 - val_loss: 0.6696 - val_accuracy: 0.8500\n",
      "Epoch 477/512\n",
      "8/8 [==============================] - 0s 9ms/step - loss: 0.4901 - accuracy: 0.8439 - val_loss: 0.6680 - val_accuracy: 0.8500\n",
      "Epoch 478/512\n",
      "8/8 [==============================] - 0s 10ms/step - loss: 0.4991 - accuracy: 0.8354 - val_loss: 0.6675 - val_accuracy: 0.8500\n",
      "Epoch 479/512\n",
      "8/8 [==============================] - 0s 13ms/step - loss: 0.4415 - accuracy: 0.8439 - val_loss: 0.6678 - val_accuracy: 0.8500\n",
      "Epoch 480/512\n",
      "8/8 [==============================] - 0s 13ms/step - loss: 0.4994 - accuracy: 0.8354 - val_loss: 0.6703 - val_accuracy: 0.8500\n",
      "Epoch 481/512\n",
      "8/8 [==============================] - 0s 12ms/step - loss: 0.5104 - accuracy: 0.8439 - val_loss: 0.6728 - val_accuracy: 0.8500\n",
      "Epoch 482/512\n",
      "8/8 [==============================] - 0s 6ms/step - loss: 0.4383 - accuracy: 0.8565 - val_loss: 0.6746 - val_accuracy: 0.8500\n",
      "Epoch 483/512\n",
      "8/8 [==============================] - 0s 9ms/step - loss: 0.5032 - accuracy: 0.8439 - val_loss: 0.6759 - val_accuracy: 0.8500\n",
      "Epoch 484/512\n",
      "8/8 [==============================] - 0s 13ms/step - loss: 0.5122 - accuracy: 0.8481 - val_loss: 0.6726 - val_accuracy: 0.8333\n",
      "Epoch 485/512\n",
      "8/8 [==============================] - 0s 12ms/step - loss: 0.5198 - accuracy: 0.8354 - val_loss: 0.6717 - val_accuracy: 0.8500\n",
      "Epoch 486/512\n",
      "8/8 [==============================] - 0s 8ms/step - loss: 0.5075 - accuracy: 0.8481 - val_loss: 0.6688 - val_accuracy: 0.8500\n",
      "Epoch 487/512\n",
      "8/8 [==============================] - 0s 7ms/step - loss: 0.5073 - accuracy: 0.8397 - val_loss: 0.6681 - val_accuracy: 0.8500\n",
      "Epoch 488/512\n",
      "8/8 [==============================] - 0s 6ms/step - loss: 0.5106 - accuracy: 0.8397 - val_loss: 0.6661 - val_accuracy: 0.8500\n",
      "Epoch 489/512\n",
      "8/8 [==============================] - 0s 6ms/step - loss: 0.4996 - accuracy: 0.8439 - val_loss: 0.6634 - val_accuracy: 0.8500\n",
      "Epoch 490/512\n",
      "8/8 [==============================] - 0s 7ms/step - loss: 0.4999 - accuracy: 0.8439 - val_loss: 0.6640 - val_accuracy: 0.8500\n",
      "Epoch 491/512\n",
      "8/8 [==============================] - 0s 6ms/step - loss: 0.4921 - accuracy: 0.8523 - val_loss: 0.6664 - val_accuracy: 0.8500\n",
      "Epoch 492/512\n",
      "8/8 [==============================] - 0s 7ms/step - loss: 0.4417 - accuracy: 0.8523 - val_loss: 0.6692 - val_accuracy: 0.8500\n",
      "Epoch 493/512\n",
      "8/8 [==============================] - 0s 6ms/step - loss: 0.4891 - accuracy: 0.8481 - val_loss: 0.6687 - val_accuracy: 0.8333\n",
      "Epoch 494/512\n",
      "8/8 [==============================] - 0s 7ms/step - loss: 0.4954 - accuracy: 0.8481 - val_loss: 0.6743 - val_accuracy: 0.8333\n",
      "Epoch 495/512\n",
      "8/8 [==============================] - 0s 6ms/step - loss: 0.4546 - accuracy: 0.8439 - val_loss: 0.6908 - val_accuracy: 0.8000\n",
      "Epoch 496/512\n",
      "8/8 [==============================] - 0s 7ms/step - loss: 0.5046 - accuracy: 0.8312 - val_loss: 0.6730 - val_accuracy: 0.8167\n",
      "Epoch 497/512\n",
      "8/8 [==============================] - 0s 6ms/step - loss: 0.5045 - accuracy: 0.8228 - val_loss: 0.6641 - val_accuracy: 0.8500\n",
      "Epoch 498/512\n",
      "8/8 [==============================] - 0s 6ms/step - loss: 0.5177 - accuracy: 0.8397 - val_loss: 0.7209 - val_accuracy: 0.8333\n",
      "Epoch 499/512\n",
      "8/8 [==============================] - 0s 8ms/step - loss: 0.5745 - accuracy: 0.8143 - val_loss: 0.7674 - val_accuracy: 0.8167\n",
      "Epoch 500/512\n",
      "8/8 [==============================] - 0s 8ms/step - loss: 0.6012 - accuracy: 0.7932 - val_loss: 0.6126 - val_accuracy: 0.8333\n",
      "Epoch 501/512\n",
      "8/8 [==============================] - 0s 6ms/step - loss: 0.6903 - accuracy: 0.7679 - val_loss: 0.8110 - val_accuracy: 0.6000\n",
      "Epoch 502/512\n",
      "8/8 [==============================] - 0s 7ms/step - loss: 0.7823 - accuracy: 0.6667 - val_loss: 0.7271 - val_accuracy: 0.7167\n",
      "Epoch 503/512\n",
      "8/8 [==============================] - 0s 6ms/step - loss: 0.7001 - accuracy: 0.7637 - val_loss: 0.6657 - val_accuracy: 0.7833\n",
      "Epoch 504/512\n",
      "8/8 [==============================] - 0s 6ms/step - loss: 0.6343 - accuracy: 0.8228 - val_loss: 0.6106 - val_accuracy: 0.8667\n",
      "Epoch 505/512\n",
      "8/8 [==============================] - 0s 6ms/step - loss: 0.6382 - accuracy: 0.8143 - val_loss: 0.5674 - val_accuracy: 0.8333\n",
      "Epoch 506/512\n",
      "8/8 [==============================] - 0s 6ms/step - loss: 0.6154 - accuracy: 0.8186 - val_loss: 0.5573 - val_accuracy: 0.8333\n",
      "Epoch 507/512\n",
      "8/8 [==============================] - 0s 7ms/step - loss: 0.5286 - accuracy: 0.8270 - val_loss: 0.7121 - val_accuracy: 0.8500\n",
      "Epoch 508/512\n",
      "8/8 [==============================] - 0s 5ms/step - loss: 0.5467 - accuracy: 0.8228 - val_loss: 0.6940 - val_accuracy: 0.8667\n",
      "Epoch 509/512\n",
      "8/8 [==============================] - 0s 6ms/step - loss: 0.5424 - accuracy: 0.8143 - val_loss: 0.6817 - val_accuracy: 0.8667\n",
      "Epoch 510/512\n",
      "8/8 [==============================] - 0s 6ms/step - loss: 0.5162 - accuracy: 0.8228 - val_loss: 0.6770 - val_accuracy: 0.8667\n",
      "Epoch 511/512\n",
      "8/8 [==============================] - 0s 6ms/step - loss: 0.5281 - accuracy: 0.8312 - val_loss: 0.6756 - val_accuracy: 0.8667\n",
      "Epoch 512/512\n",
      "8/8 [==============================] - 0s 5ms/step - loss: 0.5148 - accuracy: 0.8186 - val_loss: 0.6729 - val_accuracy: 0.8667\n"
     ]
    },
    {
     "data": {
      "text/plain": [
       "<keras.callbacks.History at 0x7f23e6e78f70>"
      ]
     },
     "execution_count": 63,
     "metadata": {},
     "output_type": "execute_result"
    }
   ],
   "source": [
    "best_model.fit(X_train, y_train, validation_data=(X_test,y_test), epochs=512)"
   ]
  },
  {
   "cell_type": "code",
   "execution_count": 64,
   "metadata": {
    "scrolled": true
   },
   "outputs": [],
   "source": [
    "pred = best_model.predict(X_test)\n",
    "pred = np.where(pred < .5, 0, 1)"
   ]
  },
  {
   "cell_type": "markdown",
   "metadata": {},
   "source": [
    "# Plotting the Results"
   ]
  },
  {
   "cell_type": "code",
   "execution_count": 65,
   "metadata": {},
   "outputs": [
    {
     "data": {
      "image/png": "[encoded data removed]",
      "text/plain": [
       "<Figure size 432x288 with 2 Axes>"
      ]
     },
     "metadata": {
      "needs_background": "light"
     },
     "output_type": "display_data"
    }
   ],
   "source": [
    "cm = confusion_matrix(y_test, pred)\n",
    "disp = ConfusionMatrixDisplay(confusion_matrix=cm)\n",
    "disp.plot()\n",
    "plt.show()"
   ]
  },
  {
   "cell_type": "code",
   "execution_count": 66,
   "metadata": {},
   "outputs": [
    {
     "data": {
      "image/png": "[encoded data removed]",
      "text/plain": [
       "<Figure size 432x288 with 1 Axes>"
      ]
     },
     "metadata": {
      "needs_background": "light"
     },
     "output_type": "display_data"
    }
   ],
   "source": [
    "fpr, tpr, thresholds = roc_curve(y_test, pred)\n",
    "roc_auc = auc(fpr, tpr)\n",
    "rocDisplay = RocCurveDisplay(fpr=fpr, tpr=tpr, roc_auc=roc_auc,\n",
    "                                  estimator_name='Deep Learning Classifier')\n",
    "rocDisplay.plot()\n",
    "\n",
    "plt.show()"
   ]
  },
  {
   "cell_type": "code",
   "execution_count": null,
   "metadata": {},
   "outputs": [],
   "source": []
  }
 ],
 "metadata": {
  "colab": {
   "collapsed_sections": [
    "x-3MdyKPWiyW",
    "AXtlQ7H1Wlrw",
    "y96IVYrVW8Dj",
    "hcnwaFEVXAEY",
    "w1F-0lQEXMWT",
    "Z6xqB_iLXUN-",
    "b0j6qqPrXbNi",
    "sPOBbmF8XftQ",
    "1IyDD4RFXlTg",
    "rxCucU3WXsWa",
    "9tydTlrRXwF_",
    "Hzq3pTuDX2VY",
    "rKofKjTEX5-S",
    "KvdjptWKYGhd"
   ],
   "name": "heart_attack_prediction-ANN.ipynb",
   "provenance": []
  },
  "kernelspec": {
   "display_name": "Python 3 (ipykernel)",
   "language": "python",
   "name": "python3"
  },
  "language_info": {
   "codemirror_mode": {
    "name": "ipython",
    "version": 3
   },
   "file_extension": ".py",
   "mimetype": "text/x-python",
   "name": "python",
   "nbconvert_exporter": "python",
   "pygments_lexer": "ipython3",
   "version": "3.8.10"
  }
 },
 "nbformat": 4,
 "nbformat_minor": 1
}
